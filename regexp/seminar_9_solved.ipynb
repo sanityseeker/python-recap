{
 "cells": [
  {
   "cell_type": "markdown",
   "id": "0bf66930",
   "metadata": {},
   "source": [
    "# Регулярные выражения"
   ]
  },
  {
   "cell_type": "markdown",
   "id": "3af43d64",
   "metadata": {
    "ExecuteTime": {
     "end_time": "2021-11-17T02:56:48.721812Z",
     "start_time": "2021-11-17T02:56:48.718678Z"
    }
   },
   "source": [
    "Полезные ссылки:\n",
    "\n",
    "https://habr.com/ru/post/349860/\n",
    "\n",
    "https://uneex.org/HSE/ProgrammingOS/15_Regexp\n",
    "    \n",
    "https://regexone.com/    \n",
    "    \n",
    "https://ravesli.com/regulyarnye-vyrazheniya-osnovy/\n",
    "    \n",
    "https://regex101.com/"
   ]
  },
  {
   "cell_type": "markdown",
   "id": "aa5bf2f9",
   "metadata": {},
   "source": [
    "## Fun regexp tasks"
   ]
  },
  {
   "cell_type": "markdown",
   "id": "6b3e6879",
   "metadata": {},
   "source": [
    "Пример с логом apache\n",
    "\n",
    "`cat error.log.14 | grep -P '[A-Z0-9]+: .*restart'`"
   ]
  },
  {
   "cell_type": "markdown",
   "id": "0439d49b",
   "metadata": {},
   "source": [
    "### E-mails\n",
    "\n",
    "Вы забеспокоились о приватности данных ваших однокурсников и преподавателей и решили тайком удалить все их личные почты из общего файла. При этом, вы хотите, чтобы с ними можно было связаться, поэтому университетские почты вы в файле оставляете.\n",
    "\n",
    "Вывести все упомянутые почты. Все почты, не отсносящиеся к @hse.ru или @edu.hse.ru, заменить на фразу \"Pr1v@cY REstorED\"\n",
    "\n",
    "PS Попробуйте сделать это в командной строчке линукса. Вам поможет команда sed"
   ]
  },
  {
   "cell_type": "markdown",
   "id": "b3489154",
   "metadata": {},
   "source": [
    "### Погенерируем пароли\n",
    "\n",
    "Вы наконец-то обеспокоились своей безопасностью в сети и решили обновить все свои пароли. Однако придумывать все самим для всех ваших сайтов вам, конечно, лень. Поэтому вы решили написать программу, которая это сделает за вас!\n",
    "\n",
    "Сгенерируйте случайный пароль длины N. Убедитесь, что получившийся пароль на самом деле хороший. В нашем случае это:\n",
    "1. Содержит хотя бы две заглавные буквы подряд\n",
    "2. Содержит хотя бы две строчные буквы подряд\n",
    "3. Не содержит пробельные спецсимволы (\\t, \\n и подобные)\n",
    "4. Не содержит трех цифр подряд\n",
    "5. Содержит и русские, и английские буквы \n",
    "\n",
    "Ваш код должен генерировать пароли, пока они не удовлетворят заданным условиям."
   ]
  },
  {
   "cell_type": "code",
   "execution_count": null,
   "id": "53ddf344",
   "metadata": {},
   "outputs": [],
   "source": []
  },
  {
   "cell_type": "markdown",
   "id": "de637172",
   "metadata": {},
   "source": [
    "### Как там героев Федора Михайловича перевели?\n",
    "\n",
    "1. Вычлените из текста цельные предложения, в которых упоминаются герои по их `Имени Отчеству` (примерно)\n",
    "2. Отфильтруйте только вопросительные предложения\n",
    "3. Предложения должны начинаться с `Имени Отчества` (вам поможет positive look-behind)"
   ]
  },
  {
   "cell_type": "code",
   "execution_count": null,
   "id": "ad4b4725",
   "metadata": {},
   "outputs": [],
   "source": []
  },
  {
   "cell_type": "markdown",
   "id": "b8c364ad",
   "metadata": {},
   "source": [
    "### Ошибся со временем\n",
    "\n",
    "Вы написали длинное письмо, где описали свои планы на день с указанием конкретных временных промежутков. Однако позже вы осознали, что на самом деле забыли об одном важном деле, и теперь все даты в вашем письме неверные. Напишите программу, которая заменяет все временные указания на строчку TBD\n",
    "\n",
    "*Пример:*\n",
    "\n",
    "`Уважаемый Д.! Если вы к 12:00 вторника не подготовите свой семинар, то уже в 12:00:01 я за себя не отвечаю. \n",
    "Нужно нагененировать хотя бы 6 задач и успеть разобрать в идеале 80:100 из них` \n",
    "\n",
    "->\n",
    "\n",
    "`Уважаемый Д.! Если вы к (TBD) вторника не подготовите свой семинар, то уже в (TBD) я за себя не отвечаю. \n",
    "Нужно нагененировать хотя бы 6 задач и успеть разобрать в идеале 80:100 из них` "
   ]
  },
  {
   "cell_type": "code",
   "execution_count": null,
   "id": "eae0b7bf",
   "metadata": {},
   "outputs": [],
   "source": []
  },
  {
   "cell_type": "markdown",
   "id": "0202431c-c53d-410b-b3e8-d772380c3c05",
   "metadata": {},
   "source": [
    "---"
   ]
  },
  {
   "cell_type": "markdown",
   "id": "323afced-07a5-40a0-b8dd-8337467eb58b",
   "metadata": {},
   "source": [
    "# **Solutions**"
   ]
  },
  {
   "cell_type": "markdown",
   "id": "9bd63162-c37d-4a87-83d3-a3fe1686325d",
   "metadata": {},
   "source": [
    "## E-mails\n",
    "\n",
    "Вы забеспокоились о приватности данных ваших однокурсников и преподавателей и решили тайком удалить все их личные почты из общего файла. При этом, вы хотите, чтобы с ними можно было связаться, поэтому университетские почты вы в файле оставляете.\n",
    "\n",
    "Вывести все упомянутые почты. Все почты, не отсносящиеся к @hse.ru или @edu.hse.ru, заменить на фразу \"Pr1v@cY REstorED\"\n",
    "\n",
    "PS Попробуйте сделать это в командной строчке линукса. Вам поможет команда ssed"
   ]
  },
  {
   "cell_type": "markdown",
   "id": "67e05d9d-33a2-48cd-aaa2-01e3cb3f76d7",
   "metadata": {},
   "source": [
    "Одно из предложенных решений: `ssed -R 's/[-0-9a-zA-Z\\._]+@[^(edu.hse)(hse)][a-z.]*/Pr1v@acY REstorED/g'`"
   ]
  },
  {
   "cell_type": "code",
   "execution_count": 480,
   "id": "c305eae4",
   "metadata": {
    "ExecuteTime": {
     "end_time": "2021-12-08T10:04:00.886925Z",
     "start_time": "2021-12-08T10:04:00.718612Z"
    }
   },
   "outputs": [
    {
     "name": "stdout",
     "output_type": "stream",
     "text": [
      "ФИО полностью\tРоль\tГруппы\tyandex.ru\tТелеграм\t\n",
      "Вознесенская Тамара Васильевна\tЛектор и семинарист\tИАД-9; ИАД-11; ИАД-12\tPr1v@acY REstorED\t\thead@hse.ru\n",
      "Василиса Серякова\tСеминарист\tИАД-1\tPr1v@acY REstorED\t@vasilisa_seryakova\tguy1@hse.ru\n",
      "Денис Беляков\tСеминарист\tИАД-2\tPr1v@acY REstorED\t@el_loco\tdobelyakov@hse.ru\n",
      "Дмитрий Третьяков\tСеминарист\tИАД-3, ИАД-6\tPr1v@acY REstorED\t@tfdino\tguy3@hse.ru\n",
      "Иоанн Довгополый\tСеминарист\tИАД-4\tPr1v@acY REstorED\t@TriariiMisha\tguy4@hse.ru\n",
      "Алексадра Краснокутская\tСеминарист\tИАД-5\tPr1v@acY REstorED\t@alexandrakras\tguy5@hse.ru\n",
      "Юрий Дубнов\tСеминарист\tИАД-7\tPr1v@acY REstorED\t@ydubn\tguy6@hse.ru\n",
      "Илья Косарев\tСеминарист\tИАД-8\tPr1v@acY REstorED\t@purePers\tguy7@hse.ru\n",
      "Буланбаев Артур\tСеминарист\t\tPr1v@acY REstorED\t@oortur\tguy8@hse.ru\n",
      "Семенов Дмитрий \tСеминарист\tИАД-13, ИАД-18\tPr1v@acY REstorED\t@dimsem\tguy9@hse.ru\n",
      "Вадим Альперович\tСеминарист\tИАД-14, ИАД-15\tPr1v@acY REstorED\t@vadik_alp\tguy10@hse.ru\n",
      "Кирилл Прокофьев\tСеминарист\t\tPr1v@acY REstorED\t\tguy11@hse.ru\n",
      "Сулейманов Руслан\tАссистент\tИАД-15\tPr1v@acY REstorED\t@rus_slm\tassist1@edu.hse.ru\n",
      "Кострыкина Екатерина\tАссистент\tИАД-7\tPr1v@acY REstorED\t@ekostrykina\tassist2@edu.hse.ru\n",
      "Ахмедова Лаура \tАссистент\tИАД-9\tPr1v@acY REstorED\t@laurakhmedova\tassist3@edu.hse.ru\n",
      "Анджушева Манца \tАссистент\tИАД-18\tPr1v@acY REstorED\t@amantsa\tassist4@edu.hse.ru\n",
      "Баранова Валерия \tАссистент\tИАД-1\tPr1v@acY REstorED\t@vabaranova\tassist5@edu.hse.ru\n",
      "Червяков Артем \tАссистент\tИАД-12\tPr1v@acY REstorED\t@arorlov\tassist6@edu.hse.ru\n",
      "Черкашин Павел \tАссистент\tИАД-14\tPr1v@acY REstorED\t@vodochnyy\tassist7@edu.hse.ru\n",
      "Пескова Мария\tАссистент\tИАД-6\tPr1v@acY REstorED\t@mariabaskia\tassist8@edu.hse.ru\n",
      "Мусина Алина \tАссистент\tИАД-5\tPr1v@acY REstorED\t@spakt26\tassist9@edu.hse.ru\n",
      "Аксенов Никита \tАссистент\tИАД-13\tPr1v@acY REstorED\t@naketo\tassist10@edu.hse.ru\n",
      "Щетинина Алиса \tАссистент\tИАД-4\tPr1v@acY REstorED\t@alisa_shc\tassist11@edu.hse.ru\n",
      "Косовская Арина \tАссистент\tИАД-16\tPr1v@acY REstorED\t@arinakosovskaia\tassist12@edu.hse.ru\n",
      "Никифоров Михаил \tАссистент\tИАД-8\tPr1v@acY REstorED\t@caesiummm\tassist13@edu.hse.ru\n",
      "Макаров Антон \tАссистент\tИАД-17\tPr1v@acY REstorED\t@tylerten\tassist14@edu.hse.ru\n",
      "Смоленчук Иван \tАссистент\tИАД-10\tPr1v@acY REstorED\t@ongalek\tassist15@edu.hse.ru\n",
      "Сухоруков Георгий \tАссистент\tИАД-11\tPr1v@acY REstorED\t@georgiysukhorukov\tassist16@edu.hse.ru\n",
      "Беленко Алёна \tАссистент\tИАД-2\tPr1v@acY REstorED\t@alyonabelenko\tassist17@edu.hse.ru\n",
      "Косовская Анна\tАссистент\tИАД-3\tPr1v@acY REstorED\t@a_dtc\tassist18@edu.hse.ru"
     ]
    }
   ],
   "source": [
    "! cat staff.tsv | ssed -R 's/[-0-9a-zA-Z\\._]+@[^(edu.hse)(hse)][a-z.]*/Pr1v@acY REstorED/g'"
   ]
  },
  {
   "cell_type": "markdown",
   "id": "2100b09f-cbf8-4af3-85ec-b026f40cf3f6",
   "metadata": {},
   "source": [
    "В чем тут проблема?"
   ]
  },
  {
   "cell_type": "code",
   "execution_count": 481,
   "id": "4d0d839a",
   "metadata": {
    "ExecuteTime": {
     "end_time": "2021-12-08T10:05:21.806943Z",
     "start_time": "2021-12-08T10:05:21.687431Z"
    }
   },
   "outputs": [
    {
     "name": "stdout",
     "output_type": "stream",
     "text": [
      "ФИО полностью\tРоль\tГруппы\tyandex.ru\tТелеграм\t\n",
      "Вознесенская Тамара Васильевна\tЛектор и семинарист\tИАД-9; ИАД-11; ИАД-12\tPr1v@acY REstorED\t\thead@hse.ru\n",
      "Василиса Серякова\tСеминарист\tИАД-1\tPr1v@acY REstorED\t@vasilisa_seryakova\tguy1@hse.ru\n",
      "Денис Беляков\tСеминарист\tИАД-2\tPr1v@acY REstorED\t@el_loco\tdobelyakov@hse.ru\n",
      "Дмитрий Третьяков\tСеминарист\tИАД-3, ИАД-6\tPr1v@acY REstorED\t@tfdino\tguy3@hse.ru\n",
      "Иоанн Довгополый\tСеминарист\tИАД-4\tPr1v@acY REstorED\t@TriariiMisha\tguy4@hse.ru\n",
      "Алексадра Краснокутская\tСеминарист\tИАД-5\tPr1v@acY REstorED\t@alexandrakras\tguy5@hse.ru\n",
      "Юрий Дубнов\tСеминарист\tИАД-7\tPr1v@acY REstorED\t@ydubn\tguy6@hse.ru\n",
      "Илья Косарев\tСеминарист\tИАД-8\tPr1v@acY REstorED\t@purePers\tguy7@hse.ru\n",
      "Буланбаев Артур\tСеминарист\t\tPr1v@acY REstorED\t@oortur\tguy8@hse.ru\n",
      "Семенов Дмитрий \tСеминарист\tИАД-13, ИАД-18\tPr1v@acY REstorED\t@dimsem\tguy9@hse.ru\n",
      "Вадим Альперович\tСеминарист\tИАД-14, ИАД-15\tPr1v@acY REstorED\t@vadik_alp\tguy10@hse.ru\n",
      "Кирилл Прокофьев\tСеминарист\t\tPr1v@acY REstorED\t\tguy11@hse.ru\n",
      "Сулейманов Руслан\tАссистент\tИАД-15\tPr1v@acY REstorED\t@rus_slm\tassist1@edu.hse.ru\n",
      "Кострыкина Екатерина\tАссистент\tИАД-7\tPr1v@acY REstorED\t@ekostrykina\tassist2@edu.hse.ru\n",
      "Ахмедова Лаура \tАссистент\tИАД-9\tPr1v@acY REstorED\t@laurakhmedova\tassist3@edu.hse.ru\n",
      "Анджушева Манца \tАссистент\tИАД-18\tPr1v@acY REstorED\t@amantsa\tassist4@edu.hse.ru\n",
      "Баранова Валерия \tАссистент\tИАД-1\tPr1v@acY REstorED\t@vabaranova\tassist5@edu.hse.ru\n",
      "Червяков Артем \tАссистент\tИАД-12\tPr1v@acY REstorED\t@arorlov\tassist6@edu.hse.ru\n",
      "Черкашин Павел \tАссистент\tИАД-14\tPr1v@acY REstorED\t@vodochnyy\tassist7@edu.hse.ru\n",
      "Пескова Мария\tАссистент\tИАД-6\tPr1v@acY REstorED\t@mariabaskia\tassist8@edu.hse.ru\n",
      "Мусина Алина \tАссистент\tИАД-5\tPr1v@acY REstorED\t@spakt26\tassist9@edu.hse.ru\n",
      "Аксенов Никита \tАссистент\tИАД-13\tPr1v@acY REstorED\t@naketo\tassist10@edu.hse.ru\n",
      "Щетинина Алиса \tАссистент\tИАД-4\tPr1v@acY REstorED\t@alisa_shc\tassist11@edu.hse.ru\n",
      "Косовская Арина \tАссистент\tИАД-16\tPr1v@acY REstorED\t@arinakosovskaia\tassist12@edu.hse.ru\n",
      "Никифоров Михаил \tАссистент\tИАД-8\tPr1v@acY REstorED\t@caesiummm\tassist13@edu.hse.ru\n",
      "Макаров Антон \tАссистент\tИАД-17\tPr1v@acY REstorED\t@tylerten\tassist14@edu.hse.ru\n",
      "Смоленчук Иван \tАссистент\tИАД-10\tPr1v@acY REstorED\t@ongalek\tassist15@edu.hse.ru\n",
      "Сухоруков Георгий \tАссистент\tИАД-11\tPr1v@acY REstorED\t@georgiysukhorukov\tassist16@edu.hse.ru\n",
      "Беленко Алёна \tАссистент\tИАД-2\tPr1v@acY REstorED\t@alyonabelenko\tassist17@edu.hse.ru\n",
      "Косовская Анна\tАссистент\tИАД-3\tPr1v@acY REstorED\t@a_dtc\tassist18@edu.hse.ru"
     ]
    }
   ],
   "source": [
    "! cat staff.tsv | ssed -R 's/[\\w\\._-]+@(?!((edu\\.hse\\.ru)|(hse\\.ru)))[A-z\\._-]+/Pr1v@acY REstorED/g'"
   ]
  },
  {
   "cell_type": "markdown",
   "id": "14ca08d1-6174-4ae3-8082-c861a313c05e",
   "metadata": {},
   "source": [
    "## Погенерируем пароли\n",
    "\n",
    "Вы наконец-то обеспокоились своей безопасностью в сети и решили обновить все свои пароли. Однако придумывать все самим для всех ваших сайтов вам, конечно, лень. Поэтому вы решили написать программу, которая это сделает за вас!\n",
    "\n",
    "Сгенерируйте случайный пароль длины N. Убедитесь, что получившийся пароль на самом деле хороший. В нашем случае это:\n",
    "1. Содержит хотя бы две заглавные буквы подряд\n",
    "2. Содержит хотя бы две строчные буквы подряд\n",
    "3. Не содержит пробельные спецсимволы (\\t, \\n и подобные)\n",
    "4. Не содержит трех цифр подряд\n",
    "5. Содержит и русские, и английские буквы \n",
    "\n",
    "Ваш код должен генерировать пароли, пока они не удовлетворят заданным условиям."
   ]
  },
  {
   "cell_type": "code",
   "execution_count": 482,
   "id": "8af5d487",
   "metadata": {
    "ExecuteTime": {
     "end_time": "2021-12-08T10:06:10.565264Z",
     "start_time": "2021-12-08T10:06:10.557164Z"
    }
   },
   "outputs": [],
   "source": [
    "import re\n",
    "\n",
    "n_letters = 2\n",
    "n_numbers = 3 \n",
    "\n",
    "n_big_letters = fr'[A-ZA-ЯЁ]{{{n_letters},}}'\n",
    "n_small_letters = fr'[a-zа-яё]{{{n_letters},}}'\n",
    "n_numbers = fr'[0-9]{{{n_numbers},}}'\n",
    "spaces = r'[\\s]'\n",
    "ru_letters = r'[А-Яа-яЁё]'\n",
    "en_letters = r'[A-z]'"
   ]
  },
  {
   "cell_type": "code",
   "execution_count": 484,
   "id": "8dc80988",
   "metadata": {
    "ExecuteTime": {
     "end_time": "2021-12-08T10:07:21.431745Z",
     "start_time": "2021-12-08T10:07:21.421615Z"
    }
   },
   "outputs": [],
   "source": [
    "def is_password_good(pswd: str, n_letters:int=2, n_numbers:int=3, verbose=False) -> bool:\n",
    "    n_big_letters = fr'[A-ZA-ЯЁ]{{{n_letters},}}'\n",
    "    n_small_letters = fr'[a-zа-яё]{{{n_letters},}}'\n",
    "    n_row_numbers = fr'[0-9]{{{n_numbers},}}'\n",
    "    spaces = r'[\\s]'\n",
    "    ru_letters = r'[А-Яа-яЁё]'\n",
    "    en_letters = r'[A-z]'\n",
    "    \n",
    "    if not re.findall(n_big_letters, pswd):\n",
    "        if verbose:\n",
    "            print('big letters test failed')\n",
    "        return False\n",
    "    if not re.findall(n_small_letters, pswd):\n",
    "        if verbose:\n",
    "            print('small letters test failed')\n",
    "        return False\n",
    "    if re.findall(n_row_numbers, pswd):\n",
    "        if verbose:\n",
    "            print('numbers test failed')\n",
    "        return False\n",
    "    if re.findall(spaces, pswd):\n",
    "        if verbose:\n",
    "            print('spaces test failed')\n",
    "        return False\n",
    "    if not re.findall(ru_letters, pswd):\n",
    "        if verbose:\n",
    "            print('RU letters test failed')\n",
    "        return False\n",
    "    if not re.findall(en_letters, pswd):\n",
    "        if verbose:\n",
    "            print('EN letters test failed')\n",
    "        return False\n",
    "        \n",
    "    return True"
   ]
  },
  {
   "cell_type": "markdown",
   "id": "3b7b3479-f574-4ca2-af00-9ddc2a6e60f1",
   "metadata": {
    "ExecuteTime": {
     "end_time": "2021-12-07T23:47:41.739335Z",
     "start_time": "2021-12-07T23:47:41.736726Z"
    }
   },
   "source": [
    "Вроде работает, идем дальше"
   ]
  },
  {
   "cell_type": "code",
   "execution_count": 489,
   "id": "ecc6584f",
   "metadata": {
    "ExecuteTime": {
     "end_time": "2021-12-08T10:08:31.387841Z",
     "start_time": "2021-12-08T10:08:31.370588Z"
    }
   },
   "outputs": [],
   "source": [
    "import string\n",
    "russian_letters = 'АаБбВвГгДдЕеЁёЖжЗзИиЙйКкЛлМмНнОоПпСсТтУуФфХхЦцЧчШшЩщЪъЫыЬьЭэЮюЯя'\n",
    "\n",
    "SYMBOLS = tuple(set(string.ascii_letters).union(set(string.digits)).union(set(string.punctuation)).union(set(russian_letters)))"
   ]
  },
  {
   "cell_type": "code",
   "execution_count": 490,
   "id": "fc489369",
   "metadata": {
    "ExecuteTime": {
     "end_time": "2021-12-08T10:08:33.576147Z",
     "start_time": "2021-12-08T10:08:33.569365Z"
    }
   },
   "outputs": [
    {
     "data": {
      "text/plain": [
       "['8']"
      ]
     },
     "execution_count": 490,
     "metadata": {},
     "output_type": "execute_result"
    }
   ],
   "source": [
    "import random\n",
    "random.choices(symbols, k=1)  # choices делает семплирование с возвращением, что для нас важно"
   ]
  },
  {
   "cell_type": "code",
   "execution_count": 491,
   "id": "0490865c",
   "metadata": {
    "ExecuteTime": {
     "end_time": "2021-12-08T10:09:05.655916Z",
     "start_time": "2021-12-08T10:09:05.643094Z"
    }
   },
   "outputs": [],
   "source": [
    "def generate_random_password(length: int = 15) -> str:\n",
    "    return ''.join(random.sample(SYMBOLS, k=length))"
   ]
  },
  {
   "cell_type": "code",
   "execution_count": 492,
   "id": "ccda54fe",
   "metadata": {
    "ExecuteTime": {
     "end_time": "2021-12-08T10:09:14.020267Z",
     "start_time": "2021-12-08T10:09:14.004831Z"
    }
   },
   "outputs": [
    {
     "name": "stdout",
     "output_type": "stream",
     "text": [
      "уДС5#аТ^оvф{,ЛoУтqsl2[jЬuж|)*я$ь8вЧ\n"
     ]
    }
   ],
   "source": [
    "pswd_length = 35\n",
    "while True:\n",
    "    curr_pswd = generate_random_password(pswd_length)\n",
    "    if is_password_good(curr_pswd, n_letters=3):\n",
    "        print(curr_pswd)\n",
    "        break"
   ]
  },
  {
   "cell_type": "markdown",
   "id": "54915ee9-002d-4826-b432-72e7f62a850e",
   "metadata": {},
   "source": [
    "## Ошибся со временем\n",
    "\n",
    "Вы написали длинное письмо, где описали свои планы на день с указанием конкретных временных промежутков. Однако позже вы осознали, что на самом деле забыли об одном важном деле, и теперь все даты в вашем письме неверные. Напишите программу, которая заменяет все временные указания на строчку TBD\n",
    "\n",
    "*Пример:*\n",
    "\n",
    "`Уважаемый Д.! Если вы к 12:00 вторника не подготовите свой семинар, то уже в 12:00:01 я за себя не отвечаю. \n",
    "Нужно нагененировать хотя бы 6 задач и успеть разобрать в идеале 80:100 из них` \n",
    "\n",
    "->\n",
    "\n",
    "`Уважаемый Д.! Если вы к (TBD) вторника не подготовите свой семинар, то уже в (TBD) я за себя не отвечаю. \n",
    "Нужно нагененировать хотя бы 6 задач и успеть разобрать в идеале 80:100 из них` "
   ]
  },
  {
   "cell_type": "markdown",
   "id": "7d4caac6-5627-40d5-a434-b1adde53cdfd",
   "metadata": {
    "ExecuteTime": {
     "end_time": "2021-12-06T16:41:03.529214Z",
     "start_time": "2021-12-06T16:41:03.524623Z"
    }
   },
   "source": [
    "Одно из решений в командной строке: \n",
    "\n",
    "`ssed -R 's/\\b[12]?[0-9]:([0-5][0-9])(:[0-5][0-9])?\\b/(TBD)/g' ErrorTime.txt`"
   ]
  },
  {
   "cell_type": "code",
   "execution_count": 497,
   "id": "0d3c57d9",
   "metadata": {
    "ExecuteTime": {
     "end_time": "2021-12-08T10:10:07.057582Z",
     "start_time": "2021-12-08T10:10:06.929707Z"
    }
   },
   "outputs": [],
   "source": [
    "! echo 'Уважаемый Д.! Если вы к 13:00 вторника не подготовите свой семинар, то уже в 12:00:01 я за себя не отвечаю. Нужно нагененировать хотя бы 6 задач и успеть разобрать в идеале 80:100 из них' > ErrorTime.txt"
   ]
  },
  {
   "cell_type": "code",
   "execution_count": 498,
   "id": "8e327bc4",
   "metadata": {
    "ExecuteTime": {
     "end_time": "2021-12-08T10:10:07.949621Z",
     "start_time": "2021-12-08T10:10:07.830300Z"
    }
   },
   "outputs": [
    {
     "name": "stdout",
     "output_type": "stream",
     "text": [
      "Уважаемый Д.! Если вы к (TBD) вторника не подготовите свой семинар, то уже в (TBD) я за себя не отвечаю. Нужно нагененировать хотя бы 6 задач и успеть разобрать в идеале 80:100 из них\n"
     ]
    }
   ],
   "source": [
    "! ssed -R 's/\\b[12]?[0-9]:([0-5][0-9])(:[0-5][0-9])?\\b/(TBD)/g' ErrorTime.txt"
   ]
  },
  {
   "cell_type": "markdown",
   "id": "85073bc5-d37c-4e1d-b7dd-ddf47ca86ca0",
   "metadata": {},
   "source": [
    "Решение в Python"
   ]
  },
  {
   "cell_type": "code",
   "execution_count": 61,
   "id": "ac059bed",
   "metadata": {
    "ExecuteTime": {
     "end_time": "2021-12-07T22:35:13.179527Z",
     "start_time": "2021-12-07T22:35:13.176567Z"
    }
   },
   "outputs": [],
   "source": [
    "import re"
   ]
  },
  {
   "cell_type": "code",
   "execution_count": 499,
   "id": "a6b94f2f",
   "metadata": {
    "ExecuteTime": {
     "end_time": "2021-12-08T10:10:23.973155Z",
     "start_time": "2021-12-08T10:10:23.968997Z"
    }
   },
   "outputs": [],
   "source": [
    "letter = 'Уважаемый Д.! Если вы к 12:00 вторника не подготовите свой семинар, то уже в 12:00:01 я за себя не отвечаю. Нужно нагененировать хотя бы 6 задач и успеть разобрать в идеале 80:100 из них'"
   ]
  },
  {
   "cell_type": "code",
   "execution_count": 500,
   "id": "684bf100",
   "metadata": {
    "ExecuteTime": {
     "end_time": "2021-12-08T10:10:37.494823Z",
     "start_time": "2021-12-08T10:10:37.479964Z"
    }
   },
   "outputs": [
    {
     "data": {
      "text/plain": [
       "'Уважаемый Д.! Если вы к (TBD) вторника не подготовите свой семинар, то уже в (TBD) я за себя не отвечаю. Нужно нагененировать хотя бы 6 задач и успеть разобрать в идеале 80:100 из них'"
      ]
     },
     "execution_count": 500,
     "metadata": {},
     "output_type": "execute_result"
    }
   ],
   "source": [
    "new_let = re.sub('(?<=\\s)([01][0-9]|2[012])(:[0-5][0-9](:[0-5][0-9])?)?(?=[\\s\\.\\,])', '(TBD)', letter)\n",
    "new_let"
   ]
  },
  {
   "cell_type": "markdown",
   "id": "1a741690-23f2-42e3-84d1-82cdceb78c24",
   "metadata": {},
   "source": [
    "## Как там героев Федора Михайловича перевели?\n",
    "\n",
    "1. Вычлените из текста цельные предложения, в которых упоминаются герои по их `Имени Отчеству` (примерно)"
   ]
  },
  {
   "cell_type": "markdown",
   "id": "96c5a1e7-0346-4218-b2b0-ce2a9281d38a",
   "metadata": {},
   "source": [
    "2. Отфильтруйте только вопросительные предложения"
   ]
  },
  {
   "cell_type": "markdown",
   "id": "5b9067c9-2733-4b1d-96dc-0a91aba38604",
   "metadata": {},
   "source": [
    "3. Предложения должны начинаться с `Имени Отчества` (вам поможет positive look-behind)"
   ]
  },
  {
   "cell_type": "markdown",
   "id": "df0a4ccd-cc7a-488c-a000-5a54df82ae13",
   "metadata": {},
   "source": [
    "Я предполагал решать как-то так:"
   ]
  },
  {
   "cell_type": "code",
   "execution_count": 503,
   "id": "8bd7be34",
   "metadata": {
    "ExecuteTime": {
     "end_time": "2021-12-08T10:13:42.776537Z",
     "start_time": "2021-12-08T10:13:42.653292Z"
    }
   },
   "outputs": [
    {
     "name": "stdout",
     "output_type": "stream",
     "text": [
      "“Praskovya Pavlovna means to complain to the police about you,” she\n",
      "with servants. Marfa Petrovna was completely taken aback, and ‘again\n",
      "thick voice, “Hey, Alyona Ivanovna, old witch! Lizaveta Ivanovna, hey,\n",
      "“Luise Ivanovna, you can sit down,” he said casually to the\n",
      "the district himself, Nikodim Fomitch. Luise Ivanovna made haste\n",
      "he stood still, rooted to the spot. Nikodim Fomitch was talking eagerly\n",
      "am fond of him. Porfiry Petrovitch, the head of the Investigation\n",
      "“Rodion Romanovitch Raskolnikov, a student, or formerly a student?”\n",
      "“Pyotr Petrovitch Luzhin. I believe I have reason to hope that my name\n",
      "the stylish new round hat had the same significance. Pyotr Petrovitch\n",
      "some excitement. Pyotr Petrovitch paused, waited, but as nothing\n",
      "Raskolnikov did not even turn his head. Pyotr Petrovitch began getting\n",
      "consumptive woman. Katerina Ivanovna seemed to have grown even thinner\n",
      "articulated with effort.) “Prince Schegolskoy, a kammerjunker, had just\n",
      "afterwards they overflowed into the room. Katerina Ivanovna flew into a\n",
      "“Amalia Ludwigovna, I beg you to recollect what you are saying,”\n",
      "deny herself this satisfaction). “Amalia Ludwigovna...”\n",
      "Raskolnikov, he began looking round uneasily. Katerina Ivanovna looked\n",
      "seemed to afford him especial satisfaction. Katerina Ivanovna bit her\n",
      "The service was over. Katerina Ivanovna went up to her husband again.\n",
      "“Katerina Ivanovna,” he began, “last week your husband told me all his\n",
      "insane. Pulcheria Alexandrovna began to cry.\n",
      "turned to the wall, utterly exhausted. Avdotya Romanovna looked with\n",
      "in their service. Though Pulcheria Alexandrovna felt that the young man\n",
      "fro with folded arms, pensive and melancholy. Avdotya Romanovna was\n",
      "Avdotya Romanovna on his account. Although Pulcheria Alexandrovna was\n",
      "“Dmitri Prokofitch.”\n",
      "looked away again at once. Avdotya Romanovna sat at the table, listening\n",
      "He crimsoned and ceased speaking. Avdotya Romanovna flushed, but did not\n",
      "an instant, however. Pulcheria Alexandrovna began at once thanking\n",
      "confusion, and he got up from his chair. Pulcheria Alexandrovna smiled\n",
      "“Pyotr Petrovitch makes no secret of the fact that he had a cheap\n",
      "send. Katerina Ivanovna told me to beg you... to be at the service... in\n",
      "it won’t cost much. Katerina Ivanovna and I have reckoned it all out, so\n",
      "“Sofya Semyonovna,” corrected Raskolnikov. “Sofya Semyonovna, this is my\n",
      "The last words were uttered in the passage. Porfiry Petrovitch saw them\n",
      "oddly, laughing calmly. “Arkady Ivanovitch Svidrigaïlov, allow me to\n",
      "what happened in the garden. Marfa Petrovna...”\n",
      "didn’t want to go anywhere else. Marfa Petrovna herself invited me to go\n",
      "neighbourhood. I ordered books, too. Marfa Petrovna at first approved,\n",
      "“Marfa Petrovna is pleased to visit me,” he said, twisting his mouth\n",
      "certain. Marfa Petrovna arranged it a week before her death, and it was\n",
      "done in my presence. Avdotya Romanovna will be able to receive the money\n",
      "little in the passage, taking off his coat. Pulcheria Alexandrovna came\n",
      "brother. Pyotr Petrovitch walked in and quite amiably, though with\n",
      "A moment’s silence followed. Pyotr Petrovitch deliberately drew out a\n",
      "we should have been utterly lost. Here, he is! Dmitri Prokofitch\n",
      "“Marfa Petrovna is dead, have you heard?” she began having recourse to\n",
      "“Pyotr Petrovitch, I beg you,” said Dounia, “say no more of Mr.\n",
      "“Avdotya Romanovna,” Luzhin declared huffily, “your words are of too\n",
      "“Pyotr Petrovitch,” Pulcheria Alexandrovna declared with dignity, “the\n",
      "“I am ashamed, Rodya,” said Dounia. “Pyotr Petrovitch, go away,” she\n",
      "“Avdotya Romanovna, if I go out of this door now, after such a\n",
      "the point of fatuity. Pyotr Petrovitch, who had made his way up from\n",
      "leave her face. Pulcheria Alexandrovna gazed at her timidly, but the\n",
      "consciousness. Suddenly Razumihin started. Something strange, as it\n",
      "“Katerina Ivanovna used to beat you, I dare say?”\n",
      "“Katerina Ivanovna is in consumption, rapid consumption; she will soon\n",
      "“Porfiry Petrovitch,” he began resolutely, though with considerable\n",
      "“Porfiry Petrovitch,” he began, speaking loudly and distinctly, though\n",
      "quite frightened. “Rodion Romanovitch, my dear fellow, what is the\n",
      "“Rodion Romanovitch, my dear fellow, you’ll drive yourself out of your\n",
      "take more care of yourself! Dmitri Prokofitch was here, came to see me\n",
      "“Alyona Ivanovna and her sister Lizaveta Ivanovna, I... killed... with\n",
      "He still remained on his knees. Porfiry Petrovitch stood for some\n",
      "important of the lodgers. Amalia Ivanovna herself had been invited with\n",
      "not get drunk and paid regularly for his lodgings. Andrey Semyonovitch\n",
      "month after marriage, and so on. Pyotr Petrovitch so enjoyed hearing\n",
      "bundles of notes. Andrey Semyonovitch who hardly ever had any money\n",
      "a child and was even more so now.... Pyotr Petrovitch met her “politely\n",
      "respected mamma.... That’s right, isn’t it? Katerina Ivanovna stands\n",
      "and began taking leave. Pyotr Petrovitch accompanied her ceremoniously\n",
      "even Lebeziatnikov at last noticed it. Pyotr Petrovitch seemed excited\n",
      "funeral, were wasted upon it. Possibly Katerina Ivanovna felt obliged to\n",
      "Fancy that! Katerina Ivanovna’s father who had been a colonel and almost\n",
      "fancying herself. Katerina Ivanovna was irritated too by the fact that\n",
      "back drunk. Katerina Ivanovna heard this from Amalia Ivanovna who,\n",
      "cemetery. Katerina Ivanovna was greatly delighted to see him, in the\n",
      "for our landlady’s silver spoons... Amalia Ivanovna!” she addressed her\n",
      "you should be so unpunctual. Rodion Romanovitch, make room for her\n",
      "pierced with an arrow, cut out of black bread. Katerina Ivanovna flushed\n",
      "what made one really a lady. Amalia Ivanovna at once declared that her\n",
      "been a cook and probably something worse. Amalia Ivanovna turned as red\n",
      "eyes. Katerina Ivanovna rushed to him.\n",
      "“Pyotr Petrovitch,” she cried, “protect me... you at least! Make this\n",
      "attention to what I have to say to Sofya Ivanovna. Sofya Ivanovna,”\n",
      "“Amalia Ivanovna, we shall have to send word to the police and therefore\n",
      "on the ground. Amalia Ivanovna hastened to pick it up. Pyotr Petrovitch\n",
      "cried out. Pyotr Petrovitch stooped down, picked up the paper in two\n",
      "hundred-rouble note folded in eight. Pyotr Petrovitch held up the note\n",
      "were so piteous that everyone seemed to feel for her. Pyotr Petrovitch\n",
      "crowded round Pyotr Petrovitch. Katerina Ivanovna flew to Lebeziatnikov.\n",
      "conviction that everyone obviously believed him. Pyotr Petrovitch felt\n",
      "fell heavily under the table. Pyotr Petrovitch made his way to his room\n",
      "floor. Katerina Ivanovna, pale, almost fainting, and gasping for breath,\n",
      "“But... Katerina Ivanovna?”\n",
      "“Sofya Semyonovna, may I come in?” they heard in a very familiar and\n",
      "“Brother, now I know all, _all_. Dmitri Prokofitch has explained and\n",
      "stupid and contemptible suspicion.... Dmitri Prokofitch told me that\n",
      "carried out her plan, and taken away the children. Sofya Semyonovna and\n",
      "likely to attract a street crowd. Katerina Ivanovna in her old dress\n",
      "a look of genuine sympathy. Katerina Ivanovna took it and gave him a\n",
      "“Rodion Romanovitch, I must have two words with you,” said Svidrigaïlov,\n",
      "struggle again! Better Porfiry again... or Svidrigaïlov.... Better some\n",
      "had been suffocating, penned in without hope of escape. After Nikolay’s\n",
      "through his hair. Porfiry Petrovitch sat quietly waiting. Suddenly\n",
      "is a good thing. Suffer! Maybe Nikolay is right in wanting to suffer.\n",
      "Raskolnikov got up and took his cap. Porfiry Petrovitch also rose.\n",
      "“Porfiry Petrovitch, please don’t take up the notion that I have\n",
      "my side with a most irresistible physical desire. Avdotya Romanovna is\n",
      "But I was stupid and impatient and spoiled it all. Avdotya Romanovna had\n",
      "me, didn’t you? Here we are. Madame Resslich’s not at home. She is a\n",
      "you like. This is my flat. These are my two rooms. Madame Resslich,\n",
      "“Sofya Semyonovna will not be back till night, at least I believe not.\n",
      "“Avdotya Romanovna, what is it? Control yourself! Here is some water.\n",
      "“Avdotya Romanovna, calm yourself! Believe me, he has friends. We will\n",
      "may be sure I’ve taken measures. Sofya Semyonovna is not at home. The\n",
      "over it. I haven’t time for it. You will want it. Rodion Romanovitch\n",
      "He ground his teeth and sank into silence again. Again Dounia’s image\n",
      "article in the magazine for the third time, Rodya. Dmitri Prokofitch\n",
      "her as a daughter even... Dmitri Prokofitch will help us to go together.\n",
      "“Rodion Romanovitch.”\n",
      "to see Avdotya Romanovna as often as possible. Pulcheria Alexandrovna’s\n",
      "and speaking of the recent trial. Pulcheria Alexandrovna found out the\n",
      "concept and trademark. Project Gutenberg is a registered trademark,\n",
      "1.F.1. Project Gutenberg volunteers and employees expend considerable\n",
      "Section 5. General Information About Project Gutenberg-tm electronic works\n"
     ]
    }
   ],
   "source": [
    "! cat crime-punishment.txt | grep -P '(([\\.\\?\\!]\\s?)|([“”]))([A-Z][a-z]{4,})\\s([A-Z][a-z]{5,})[\\s\\w{\\,\\;\\:}]*' # \\?"
   ]
  },
  {
   "cell_type": "markdown",
   "id": "634d4161-2935-4512-9010-5753fd9097ba",
   "metadata": {},
   "source": [
    "**Решение на Python**"
   ]
  },
  {
   "cell_type": "code",
   "execution_count": 506,
   "id": "4810e575",
   "metadata": {
    "ExecuteTime": {
     "end_time": "2021-12-08T10:15:39.013118Z",
     "start_time": "2021-12-08T10:15:39.005117Z"
    }
   },
   "outputs": [],
   "source": [
    "def get_content() -> tuple:\n",
    "    \"\"\"\n",
    "    return:\n",
    "        content : str - контент книги\n",
    "        sentences : list - предложения\n",
    "    \"\"\"\n",
    "    with open('crime-punishment.txt', 'r', encoding='utf-8') as f:\n",
    "        content = []\n",
    "\n",
    "        # именно с этой строки начинается сама книга\n",
    "        for line in f.readlines()[128:]:\n",
    "            new_line = line.rstrip()\n",
    "            if (new_line and\n",
    "                    not re.match('(PART|CHAPTER) [IV]+', new_line)):\n",
    "                # я посмотрела файл, там максимум 9 глав\\частей\n",
    "                content.append(new_line)\n",
    "\n",
    "        content = \" \".join(content)\n",
    "        sentences = re.split(\n",
    "            r'\\. |! |\\? |\\.” |\\?”|!”|\\?’ |!’ |\\?” |!” ', content)\n",
    "    return content, sentences\n",
    "\n",
    "\n",
    "def get_sent_with_names(sentences: list) -> list:\n",
    "    \"\"\"\n",
    "    return:\n",
    "        sent_with_names : list - предложения включающие Имя Отчество \n",
    "    \"\"\"\n",
    "    sent_with_names = []\n",
    "\n",
    "    for sentence in sentences:\n",
    "        if re.search('[A-Z]\\w+\\s[A-Z]\\w+', sentence):  # имя отчество\n",
    "            sent_with_names.append(sentence)\n",
    "    return sent_with_names\n",
    "\n",
    "\n",
    "def get_start_with_names(sentences) -> list:\n",
    "    \"\"\"\n",
    "    return:\n",
    "        with_names : list - предложения, начинающиеся с Имени Отчества\n",
    "    \"\"\"\n",
    "    with_names = []\n",
    "    for sentence in sentences:\n",
    "        if re.match(r'[A-Z]\\w+\\s[A-Z]\\w+.[\\w{\\,\\;\\:}\\s]+', sentence):\n",
    "            with_names.append(sentence)\n",
    "    return with_names"
   ]
  },
  {
   "cell_type": "code",
   "execution_count": 507,
   "id": "f16732ce",
   "metadata": {
    "ExecuteTime": {
     "end_time": "2021-12-08T10:15:40.556749Z",
     "start_time": "2021-12-08T10:15:40.490281Z"
    }
   },
   "outputs": [],
   "source": [
    "content, sentences = get_content()\n",
    "# print(content)"
   ]
  },
  {
   "cell_type": "code",
   "execution_count": 508,
   "id": "08fb18eb",
   "metadata": {
    "ExecuteTime": {
     "end_time": "2021-12-08T10:15:42.399291Z",
     "start_time": "2021-12-08T10:15:42.366598Z"
    }
   },
   "outputs": [
    {
     "name": "stdout",
     "output_type": "stream",
     "text": [
      "['Why am I going there now?', 'Am I capable of _that_?', 'Is _that_ serious?', 'If I am so scared now, what would it be if it somehow came to pass that I were really going to do it?', 'What do you want?']\n"
     ]
    }
   ],
   "source": [
    "only_questions = re.findall(r'[A-Z]+[\\w{\\,\\:\\;}\\s]*\\?', content)\n",
    "print(only_questions[:5])"
   ]
  },
  {
   "cell_type": "code",
   "execution_count": 509,
   "id": "c3b995f6",
   "metadata": {
    "ExecuteTime": {
     "end_time": "2021-12-08T10:15:46.449708Z",
     "start_time": "2021-12-08T10:15:46.441607Z"
    }
   },
   "outputs": [
    {
     "name": "stdout",
     "output_type": "stream",
     "text": [
      "['How much will you give me for the watch, Alyona Ivanovna?', 'Katerina Ivanovna, am I really to do a thing like that?', 'His excellency Ivan Afanasyvitch, do you know him?', 'Oh Lord, why dost Thou receive these men?', 'How are you going to save them from Svidrigaïlovs, from Afanasy Ivanovitch Vahrushin, oh, future millionaire Zeus who would arrange their lives for them?', 'Good God, can it be?', 'Good God, am I going out of my senses?', 'Nastasya Nikiforovna?', 'And that promise of marriage when her daughter, Natalya Yegorovna, was alive?', 'But, talking of foolishness, do you know Praskovya Pavlovna is not nearly so foolish as you would think at first sight?']\n"
     ]
    }
   ],
   "source": [
    "sent_with_names = get_sent_with_names(only_questions)\n",
    "print(sent_with_names[:10])"
   ]
  },
  {
   "cell_type": "code",
   "execution_count": 510,
   "id": "d818e514",
   "metadata": {
    "ExecuteTime": {
     "end_time": "2021-12-08T10:15:55.687182Z",
     "start_time": "2021-12-08T10:15:55.678105Z"
    }
   },
   "outputs": [
    {
     "data": {
      "text/plain": [
       "['Marfa Petrovna?',\n",
       " 'What Marfa Petrovna?',\n",
       " 'Porfiry Petrovitch?',\n",
       " 'Nikodim Fomitch about me?',\n",
       " 'Did Porfiry wink at me just now?',\n",
       " 'Is Zametov rude?',\n",
       " 'Marfa Petrovna is dead, have you heard?',\n",
       " 'To Petersburg?',\n",
       " 'Katerina Ivanovna used to beat you, I dare say?',\n",
       " 'Rodion Romanovitch?']"
      ]
     },
     "execution_count": 510,
     "metadata": {},
     "output_type": "execute_result"
    }
   ],
   "source": [
    "sent_start_names = get_start_with_names(sent_with_names)\n",
    "sent_start_names[10:20]"
   ]
  },
  {
   "cell_type": "code",
   "execution_count": null,
   "id": "795fb521-bfd8-45e4-a451-8cdfd32531f5",
   "metadata": {},
   "outputs": [],
   "source": []
  }
 ],
 "metadata": {
  "kernelspec": {
   "display_name": "Python 3 (ipykernel)",
   "language": "python",
   "name": "python3"
  },
  "language_info": {
   "codemirror_mode": {
    "name": "ipython",
    "version": 3
   },
   "file_extension": ".py",
   "mimetype": "text/x-python",
   "name": "python",
   "nbconvert_exporter": "python",
   "pygments_lexer": "ipython3",
   "version": "3.9.7"
  },
  "toc": {
   "base_numbering": 1,
   "nav_menu": {},
   "number_sections": true,
   "sideBar": true,
   "skip_h1_title": false,
   "title_cell": "Table of Contents",
   "title_sidebar": "Contents",
   "toc_cell": false,
   "toc_position": {},
   "toc_section_display": true,
   "toc_window_display": true
  }
 },
 "nbformat": 4,
 "nbformat_minor": 5
}
