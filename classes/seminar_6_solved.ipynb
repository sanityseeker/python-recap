{
 "cells": [
  {
   "cell_type": "markdown",
   "id": "5007d3dd",
   "metadata": {},
   "source": [
    "# Итак, ООП"
   ]
  },
  {
   "cell_type": "markdown",
   "id": "45aa4ad2",
   "metadata": {},
   "source": [
    "## Основные принципы"
   ]
  },
  {
   "cell_type": "markdown",
   "id": "64002a0e",
   "metadata": {},
   "source": [
    "- **Абстракция**. \n",
    "\n",
    "Выделение значимой информации и использование наиболее важных характеристик объекта.\n",
    "Абстракция от общего к частному. Класс -> экземпляр класса, Базовый класс -> производный класс.\n",
    "\n",
    "- **Инкапсуляция**\n",
    "\n",
    "Логическое объединение данных и функций для работы с ними. Инструмент, который позволяет разделить действия, необходмые для разного уровня абстракций. \n",
    "\n",
    "\n",
    "- **Наследование**\n",
    "\n",
    "Повторное использование свойств объектов с описанием различий.\n",
    "\n",
    "\n",
    "- **Полиморфизм**\n",
    "\n",
    "Предоставление одинаковых средств взаимодействия с объектами разной природы. Возможность для одного и того же кода обрабатывать данные разных типов. Duck typing в Python"
   ]
  },
  {
   "cell_type": "markdown",
   "id": "28971977",
   "metadata": {},
   "source": [
    "Также *классы в Python -- это способ организации пространств имен*"
   ]
  },
  {
   "cell_type": "markdown",
   "id": "39f58b55",
   "metadata": {},
   "source": [
    "## Начнем с простых примеров"
   ]
  },
  {
   "cell_type": "markdown",
   "id": "22bdfa18",
   "metadata": {},
   "source": [
    "### Создание и поля"
   ]
  },
  {
   "cell_type": "markdown",
   "id": "27bfdda8",
   "metadata": {},
   "source": [
    "Мы уже знакомы с функцией **dir**"
   ]
  },
  {
   "cell_type": "code",
   "execution_count": 71,
   "id": "61cc56f8",
   "metadata": {},
   "outputs": [
    {
     "data": {
      "text/plain": [
       "['__add__',\n",
       " '__class__',\n",
       " '__contains__',\n",
       " '__delattr__',\n",
       " '__delitem__',\n",
       " '__dir__',\n",
       " '__doc__',\n",
       " '__eq__',\n",
       " '__format__',\n",
       " '__ge__',\n",
       " '__getattribute__',\n",
       " '__getitem__',\n",
       " '__gt__',\n",
       " '__hash__',\n",
       " '__iadd__',\n",
       " '__imul__',\n",
       " '__init__',\n",
       " '__init_subclass__',\n",
       " '__iter__',\n",
       " '__le__',\n",
       " '__len__',\n",
       " '__lt__',\n",
       " '__mul__',\n",
       " '__ne__',\n",
       " '__new__',\n",
       " '__reduce__',\n",
       " '__reduce_ex__',\n",
       " '__repr__',\n",
       " '__reversed__',\n",
       " '__rmul__',\n",
       " '__setattr__',\n",
       " '__setitem__',\n",
       " '__sizeof__',\n",
       " '__str__',\n",
       " '__subclasshook__',\n",
       " 'append',\n",
       " 'clear',\n",
       " 'copy',\n",
       " 'count',\n",
       " 'extend',\n",
       " 'index',\n",
       " 'insert',\n",
       " 'pop',\n",
       " 'remove',\n",
       " 'reverse',\n",
       " 'sort']"
      ]
     },
     "execution_count": 71,
     "metadata": {},
     "output_type": "execute_result"
    }
   ],
   "source": [
    "a = []\n",
    "\n",
    "dir(a)"
   ]
  },
  {
   "cell_type": "code",
   "execution_count": 72,
   "id": "0e072a73",
   "metadata": {},
   "outputs": [
    {
     "ename": "AttributeError",
     "evalue": "'list' object has no attribute 'my_spec_name'",
     "output_type": "error",
     "traceback": [
      "\u001b[0;31m---------------------------------------------------------------------------\u001b[0m",
      "\u001b[0;31mAttributeError\u001b[0m                            Traceback (most recent call last)",
      "\u001b[0;32m/tmp/ipykernel_13492/659855875.py\u001b[0m in \u001b[0;36m<module>\u001b[0;34m\u001b[0m\n\u001b[0;32m----> 1\u001b[0;31m \u001b[0ma\u001b[0m\u001b[0;34m.\u001b[0m\u001b[0mmy_spec_name\u001b[0m \u001b[0;34m=\u001b[0m \u001b[0;34m'my_list'\u001b[0m\u001b[0;34m\u001b[0m\u001b[0;34m\u001b[0m\u001b[0m\n\u001b[0m",
      "\u001b[0;31mAttributeError\u001b[0m: 'list' object has no attribute 'my_spec_name'"
     ]
    }
   ],
   "source": [
    "a.my_spec_name = 'my_list'"
   ]
  },
  {
   "cell_type": "markdown",
   "id": "cddbd273",
   "metadata": {},
   "source": [
    "Мы не можем добавлять новые поля. Но если вдруг хотим сделать такую структуру, то можем создать класс"
   ]
  },
  {
   "cell_type": "code",
   "execution_count": 74,
   "id": "575c3e8f",
   "metadata": {},
   "outputs": [
    {
     "data": {
      "text/plain": [
       "['__class__',\n",
       " '__delattr__',\n",
       " '__dict__',\n",
       " '__dir__',\n",
       " '__doc__',\n",
       " '__eq__',\n",
       " '__format__',\n",
       " '__ge__',\n",
       " '__getattribute__',\n",
       " '__gt__',\n",
       " '__hash__',\n",
       " '__init__',\n",
       " '__init_subclass__',\n",
       " '__le__',\n",
       " '__lt__',\n",
       " '__module__',\n",
       " '__ne__',\n",
       " '__new__',\n",
       " '__reduce__',\n",
       " '__reduce_ex__',\n",
       " '__repr__',\n",
       " '__setattr__',\n",
       " '__sizeof__',\n",
       " '__str__',\n",
       " '__subclasshook__',\n",
       " '__weakref__']"
      ]
     },
     "execution_count": 74,
     "metadata": {},
     "output_type": "execute_result"
    }
   ],
   "source": [
    "class C:\n",
    "    pass\n",
    "\n",
    "dir(C)"
   ]
  },
  {
   "cell_type": "code",
   "execution_count": 202,
   "id": "0d29d429",
   "metadata": {},
   "outputs": [],
   "source": [
    "c_inst = C()\n",
    "\n",
    "c_inst.my_name = 'my_name'"
   ]
  },
  {
   "cell_type": "code",
   "execution_count": 203,
   "id": "2eefdf03",
   "metadata": {},
   "outputs": [
    {
     "data": {
      "text/plain": [
       "['__class__',\n",
       " '__delattr__',\n",
       " '__dict__',\n",
       " '__dir__',\n",
       " '__doc__',\n",
       " '__eq__',\n",
       " '__format__',\n",
       " '__ge__',\n",
       " '__getattribute__',\n",
       " '__gt__',\n",
       " '__hash__',\n",
       " '__init__',\n",
       " '__init_subclass__',\n",
       " '__le__',\n",
       " '__lt__',\n",
       " '__module__',\n",
       " '__ne__',\n",
       " '__new__',\n",
       " '__reduce__',\n",
       " '__reduce_ex__',\n",
       " '__repr__',\n",
       " '__setattr__',\n",
       " '__sizeof__',\n",
       " '__str__',\n",
       " '__subclasshook__',\n",
       " '__weakref__',\n",
       " 'my_name']"
      ]
     },
     "execution_count": 203,
     "metadata": {},
     "output_type": "execute_result"
    }
   ],
   "source": [
    "dir(c_inst)"
   ]
  },
  {
   "cell_type": "code",
   "execution_count": 204,
   "id": "d7df5341",
   "metadata": {},
   "outputs": [
    {
     "data": {
      "text/plain": [
       "True"
      ]
     },
     "execution_count": 204,
     "metadata": {},
     "output_type": "execute_result"
    }
   ],
   "source": [
    "'my_name' in dir(c_inst)"
   ]
  },
  {
   "cell_type": "code",
   "execution_count": 205,
   "id": "8d36ba95",
   "metadata": {},
   "outputs": [
    {
     "data": {
      "text/plain": [
       "True"
      ]
     },
     "execution_count": 205,
     "metadata": {},
     "output_type": "execute_result"
    }
   ],
   "source": [
    "'my_name' in dir(C)"
   ]
  },
  {
   "cell_type": "markdown",
   "id": "fd9fcd0c",
   "metadata": {},
   "source": [
    "Поле не добавляется в сам класс"
   ]
  },
  {
   "cell_type": "code",
   "execution_count": 206,
   "id": "83aa1266",
   "metadata": {},
   "outputs": [],
   "source": [
    "C.my_name = \"class_name\""
   ]
  },
  {
   "cell_type": "code",
   "execution_count": 208,
   "id": "e3931a42",
   "metadata": {},
   "outputs": [],
   "source": [
    "new_c_inst = C()"
   ]
  },
  {
   "cell_type": "code",
   "execution_count": 209,
   "id": "b69f5bbf",
   "metadata": {},
   "outputs": [
    {
     "data": {
      "text/plain": [
       "'class_name'"
      ]
     },
     "execution_count": 209,
     "metadata": {},
     "output_type": "execute_result"
    }
   ],
   "source": [
    "new_c_inst.my_name"
   ]
  },
  {
   "cell_type": "code",
   "execution_count": 210,
   "id": "4914a94f",
   "metadata": {},
   "outputs": [
    {
     "data": {
      "text/plain": [
       "'new'"
      ]
     },
     "execution_count": 210,
     "metadata": {},
     "output_type": "execute_result"
    }
   ],
   "source": [
    "new_c_inst.my_name = 'new'\n",
    "new_c_inst.my_name"
   ]
  },
  {
   "cell_type": "code",
   "execution_count": 211,
   "id": "8036e02c",
   "metadata": {},
   "outputs": [],
   "source": [
    "del new_c_inst.my_name"
   ]
  },
  {
   "cell_type": "code",
   "execution_count": 212,
   "id": "74d622f2",
   "metadata": {},
   "outputs": [
    {
     "data": {
      "text/plain": [
       "'class_name'"
      ]
     },
     "execution_count": 212,
     "metadata": {},
     "output_type": "execute_result"
    }
   ],
   "source": [
    "new_c_inst.my_name"
   ]
  },
  {
   "cell_type": "code",
   "execution_count": 90,
   "id": "1cb3f77e",
   "metadata": {},
   "outputs": [
    {
     "data": {
      "text/plain": [
       "139855608728752"
      ]
     },
     "execution_count": 90,
     "metadata": {},
     "output_type": "execute_result"
    }
   ],
   "source": [
    "id(C.my_name)"
   ]
  },
  {
   "cell_type": "code",
   "execution_count": 93,
   "id": "ecc56d22",
   "metadata": {},
   "outputs": [
    {
     "data": {
      "text/plain": [
       "139855608728752"
      ]
     },
     "execution_count": 93,
     "metadata": {},
     "output_type": "execute_result"
    }
   ],
   "source": [
    "id(new_c_inst.my_name)"
   ]
  },
  {
   "cell_type": "markdown",
   "id": "70b631ee",
   "metadata": {},
   "source": [
    "Задание полей в конструкторе"
   ]
  },
  {
   "cell_type": "code",
   "execution_count": 94,
   "id": "ee7c9e31",
   "metadata": {},
   "outputs": [
    {
     "data": {
      "text/plain": [
       "(1.0, 2.0)"
      ]
     },
     "execution_count": 94,
     "metadata": {},
     "output_type": "execute_result"
    }
   ],
   "source": [
    "class Point:\n",
    "    x=1.\n",
    "    y=2.\n",
    "\n",
    "p = Point()\n",
    "p.x, p.y"
   ]
  },
  {
   "cell_type": "markdown",
   "id": "1849da18",
   "metadata": {},
   "source": [
    "Поля в объекте класса -- это ссылки"
   ]
  },
  {
   "cell_type": "code",
   "execution_count": 95,
   "id": "ccd53547",
   "metadata": {},
   "outputs": [
    {
     "data": {
      "text/plain": [
       "(139855544529776, 139855544529776)"
      ]
     },
     "execution_count": 95,
     "metadata": {},
     "output_type": "execute_result"
    }
   ],
   "source": [
    "id(Point.x), id(p.x)"
   ]
  },
  {
   "cell_type": "markdown",
   "id": "dead494a",
   "metadata": {},
   "source": [
    "### Методы"
   ]
  },
  {
   "cell_type": "code",
   "execution_count": 97,
   "id": "3e67ba4f",
   "metadata": {},
   "outputs": [
    {
     "name": "stdout",
     "output_type": "stream",
     "text": [
      "oh, yes\n"
     ]
    }
   ],
   "source": [
    "fun()"
   ]
  },
  {
   "cell_type": "code",
   "execution_count": 98,
   "id": "4434ad81",
   "metadata": {},
   "outputs": [
    {
     "name": "stdout",
     "output_type": "stream",
     "text": [
      "oh, yes\n"
     ]
    }
   ],
   "source": [
    "class F:\n",
    "    data = 'oh, yes'\n",
    "\n",
    "def fun():\n",
    "    print(F.data)\n",
    "    \n",
    "f = F()\n",
    "f.pri = fun\n",
    "f.pri()"
   ]
  },
  {
   "cell_type": "code",
   "execution_count": 100,
   "id": "b0acdce4",
   "metadata": {},
   "outputs": [
    {
     "name": "stdout",
     "output_type": "stream",
     "text": [
      "oh, yes\n"
     ]
    }
   ],
   "source": [
    "f.data = 'oh, no'\n",
    "f.pri()"
   ]
  },
  {
   "cell_type": "markdown",
   "id": "789d7ae4",
   "metadata": {},
   "source": [
    "Что-то не то. Может, объявить функцию прямо в инициализации?"
   ]
  },
  {
   "cell_type": "code",
   "execution_count": 113,
   "id": "695d33a0",
   "metadata": {},
   "outputs": [
    {
     "ename": "TypeError",
     "evalue": "fun() takes 1 positional argument but 2 were given",
     "output_type": "error",
     "traceback": [
      "\u001b[0;31m---------------------------------------------------------------------------\u001b[0m",
      "\u001b[0;31mTypeError\u001b[0m                                 Traceback (most recent call last)",
      "\u001b[0;32m/tmp/ipykernel_13492/3496505927.py\u001b[0m in \u001b[0;36m<module>\u001b[0;34m\u001b[0m\n\u001b[1;32m      5\u001b[0m \u001b[0;34m\u001b[0m\u001b[0m\n\u001b[1;32m      6\u001b[0m \u001b[0mg\u001b[0m \u001b[0;34m=\u001b[0m \u001b[0mG\u001b[0m\u001b[0;34m(\u001b[0m\u001b[0;34m)\u001b[0m\u001b[0;34m\u001b[0m\u001b[0;34m\u001b[0m\u001b[0m\n\u001b[0;32m----> 7\u001b[0;31m \u001b[0mg\u001b[0m\u001b[0;34m.\u001b[0m\u001b[0mfun\u001b[0m\u001b[0;34m(\u001b[0m\u001b[0mg\u001b[0m\u001b[0;34m)\u001b[0m\u001b[0;34m\u001b[0m\u001b[0;34m\u001b[0m\u001b[0m\n\u001b[0m",
      "\u001b[0;31mTypeError\u001b[0m: fun() takes 1 positional argument but 2 were given"
     ]
    }
   ],
   "source": [
    "class G:\n",
    "    data = 'oh, yes'\n",
    "    def fun(obj):\n",
    "        print(obj.data)\n",
    "    \n",
    "g = G()\n",
    "g.fun(g)"
   ]
  },
  {
   "cell_type": "markdown",
   "id": "9026b1a9",
   "metadata": {},
   "source": [
    "What?"
   ]
  },
  {
   "cell_type": "code",
   "execution_count": 116,
   "id": "837ee4cf",
   "metadata": {},
   "outputs": [],
   "source": [
    "class Info:\n",
    "    default_info = 'class info'\n",
    "    def fun_info(self):\n",
    "        print(self.default_info)"
   ]
  },
  {
   "cell_type": "code",
   "execution_count": 117,
   "id": "98fcd39c",
   "metadata": {},
   "outputs": [
    {
     "name": "stdout",
     "output_type": "stream",
     "text": [
      "class info\n"
     ]
    }
   ],
   "source": [
    "h = Info()\n",
    "\n",
    "h.fun_info()"
   ]
  },
  {
   "cell_type": "code",
   "execution_count": 118,
   "id": "3a8b17cb",
   "metadata": {},
   "outputs": [],
   "source": [
    "h.default_info = 'new info'"
   ]
  },
  {
   "cell_type": "code",
   "execution_count": 119,
   "id": "78b5febd",
   "metadata": {},
   "outputs": [
    {
     "name": "stdout",
     "output_type": "stream",
     "text": [
      "new info\n"
     ]
    }
   ],
   "source": [
    "h.fun_info()"
   ]
  },
  {
   "cell_type": "markdown",
   "id": "a150134c",
   "metadata": {},
   "source": [
    "**класс.метод(объект, параметр1, …)**"
   ]
  },
  {
   "cell_type": "markdown",
   "id": "3bbf2e6d",
   "metadata": {},
   "source": [
    "## Инициализация"
   ]
  },
  {
   "cell_type": "code",
   "execution_count": 120,
   "id": "a180ad9c",
   "metadata": {},
   "outputs": [
    {
     "data": {
      "text/plain": [
       "['__class__',\n",
       " '__delattr__',\n",
       " '__dict__',\n",
       " '__dir__',\n",
       " '__doc__',\n",
       " '__eq__',\n",
       " '__format__',\n",
       " '__ge__',\n",
       " '__getattribute__',\n",
       " '__gt__',\n",
       " '__hash__',\n",
       " '__init__',\n",
       " '__init_subclass__',\n",
       " '__le__',\n",
       " '__lt__',\n",
       " '__module__',\n",
       " '__ne__',\n",
       " '__new__',\n",
       " '__reduce__',\n",
       " '__reduce_ex__',\n",
       " '__repr__',\n",
       " '__setattr__',\n",
       " '__sizeof__',\n",
       " '__str__',\n",
       " '__subclasshook__',\n",
       " '__weakref__',\n",
       " 'h',\n",
       " 'square',\n",
       " 'w']"
      ]
     },
     "execution_count": 120,
     "metadata": {},
     "output_type": "execute_result"
    }
   ],
   "source": [
    "class K:\n",
    "    def __init__(self, w, h):\n",
    "        self.w = w\n",
    "        self.h = h\n",
    "    \n",
    "    def __str__(self):\n",
    "        return f'({self.w}, {self.h})'\n",
    "    \n",
    "    def square(self):\n",
    "        return self.w * self.h\n",
    "    \n",
    "p = K(10., 15.)\n",
    "\n",
    "dir(p)"
   ]
  },
  {
   "cell_type": "code",
   "execution_count": 121,
   "id": "6ad07f34",
   "metadata": {},
   "outputs": [
    {
     "data": {
      "text/plain": [
       "150.0"
      ]
     },
     "execution_count": 121,
     "metadata": {},
     "output_type": "execute_result"
    }
   ],
   "source": [
    "p.square()"
   ]
  },
  {
   "cell_type": "markdown",
   "id": "fd6ff173",
   "metadata": {},
   "source": [
    "**Итого:**\n",
    "\n",
    "- Класс — это пространство имён \n",
    "- Класс -- изготовитель объекта-экземпляра\n",
    "- Все поля класса видны в объекте, пока не загорожены одноименными полями\n",
    "- __init__ нужен описания логики создания полей объекта, но это НЕ конструктор\n"
   ]
  },
  {
   "cell_type": "markdown",
   "id": "1e6458cd",
   "metadata": {},
   "source": [
    "Источник: http://uneex.org/LecturesCMC/PythonIntro2020/08_ObjectModel"
   ]
  },
  {
   "cell_type": "markdown",
   "id": "cda106f1",
   "metadata": {},
   "source": [
    "## Magics"
   ]
  },
  {
   "cell_type": "markdown",
   "id": "e0590a01",
   "metadata": {},
   "source": [
    "Есть некоторый питонячий сахар, который позволяет перегружать стандартные функции"
   ]
  },
  {
   "cell_type": "markdown",
   "id": "9c266ae2",
   "metadata": {},
   "source": [
    "https://docs.python.org/3/reference/datamodel.html#special-method-names"
   ]
  },
  {
   "cell_type": "markdown",
   "id": "ee424aaf",
   "metadata": {},
   "source": [
    "\n",
    "У классов могут быть так называемые магические методы. Это методы, которые может определить класс, которые позволяют ему действовать определённым образом. Обычно они не вызываются напрямую.\n",
    "\n",
    "Все магические методы отличаются тем, что их названия начинаются и заканчиваются на двойные подчёркивания (`__method__`). С одним таким мы уже познакомились — это метод `__init__`, который вызывается при создании объекта класса. Давайте посмотрим, какие ещё бывают магические методы:\n"
   ]
  },
  {
   "cell_type": "markdown",
   "id": "fad4102f",
   "metadata": {},
   "source": [
    "* секция позаимствована из [семинаров](https://github.com/PersDep/python-intro-2021) группы ИАД-8"
   ]
  },
  {
   "cell_type": "code",
   "execution_count": 124,
   "id": "c100dcb9",
   "metadata": {},
   "outputs": [
    {
     "name": "stdout",
     "output_type": "stream",
     "text": [
      "(3, 5)\n"
     ]
    }
   ],
   "source": [
    "class Point2D:\n",
    "    \"\"\"\n",
    "    A point in 2D space\n",
    "    :param x: x coordinate\n",
    "    :param y: y coordinate\n",
    "    \"\"\"\n",
    "    def __init__(self, x: int, y: int) -> None:\n",
    "        # Создаём атрибуты и присваиваем им переданные значения координат\n",
    "        self.x = x\n",
    "        self.y = y\n",
    "\n",
    "    def print_coords(self) -> None:\n",
    "        # Выводим координаты, обращаясь к ним через self с точкой\n",
    "        print(f\"({self.x}, {self.y})\")\n",
    "\n",
    "    def first_coord(self) -> int:\n",
    "        return self.x\n",
    "\n",
    "\n",
    "point = Point2D(3, 5)\n",
    "point.print_coords()"
   ]
  },
  {
   "cell_type": "markdown",
   "id": "df6754c9",
   "metadata": {},
   "source": [
    "Вспомним, что мы с вами уже разбирали методы `__str__` и `__repr__`"
   ]
  },
  {
   "cell_type": "code",
   "execution_count": 135,
   "id": "84a0af6d",
   "metadata": {},
   "outputs": [
    {
     "data": {
      "text/plain": [
       "'(3, 5)'"
      ]
     },
     "execution_count": 135,
     "metadata": {},
     "output_type": "execute_result"
    }
   ],
   "source": [
    "class Point2D:\n",
    "    \"\"\"\n",
    "    A point in 2D space\n",
    "    :param x: x coordinate\n",
    "    :param y: y coordinate\n",
    "    \"\"\"\n",
    "    def __init__(self, x: int, y: int) -> None:\n",
    "        # Создаём атрибуты и присваиваем им переданные значения координат\n",
    "        self.x = x\n",
    "        self.y = y\n",
    "\n",
    "    def print_coords(self):\n",
    "        # Выводим координаты, обращаясь к ним через self с точкой\n",
    "        return f\"({self.x}, {self.y})\"\n",
    "\n",
    "    def first_coord(self) -> int:\n",
    "        return self.x\n",
    "    \n",
    "#     def __str__(self) -> str:\n",
    "#         return self.print_coords()\n",
    "    \n",
    "    __str__ = print_coords\n",
    "\n",
    "\n",
    "point = Point2D(3, 5)\n",
    "point.print_coords()"
   ]
  },
  {
   "cell_type": "code",
   "execution_count": 136,
   "id": "9c5dbdfe",
   "metadata": {},
   "outputs": [
    {
     "name": "stdout",
     "output_type": "stream",
     "text": [
      "(3, 5)\n"
     ]
    }
   ],
   "source": [
    "print(point)"
   ]
  },
  {
   "cell_type": "markdown",
   "id": "1a0dccc8",
   "metadata": {},
   "source": [
    "**Сложение, вычитание, умножение и пр.**"
   ]
  },
  {
   "cell_type": "markdown",
   "id": "882edaee",
   "metadata": {},
   "source": [
    "Добавляем классу работу с операторами +, -, * etc.\n",
    "\n",
    "Вызываются от левого операнда и применяются к правому"
   ]
  },
  {
   "cell_type": "code",
   "execution_count": 137,
   "id": "9d431fdb",
   "metadata": {},
   "outputs": [
    {
     "name": "stdout",
     "output_type": "stream",
     "text": [
      "A 2D point with coordinates (7, 12)\n",
      "A 2D point with coordinates (-1, -2)\n"
     ]
    }
   ],
   "source": [
    "class Point2D:\n",
    "    \"\"\"\n",
    "    A point in 2D space\n",
    "    :param x: x coordinate\n",
    "    :param y: y coordinate\n",
    "    \"\"\"\n",
    "    def __init__(self, x: int, y: int) -> None:\n",
    "        # Создаём атрибуты и присваиваем им переданные значения координат\n",
    "        self.x = x\n",
    "        self.y = y\n",
    "\n",
    "    def __repr__(self) -> str:\n",
    "        return f\"Point2D({self.x}, {self.y})\"\n",
    "\n",
    "    def __str__(self) -> str:\n",
    "        return f\"A 2D point with coordinates ({self.x}, {self.y})\"\n",
    "\n",
    "    def __add__(self, other: Point2D) -> Point2D:\n",
    "        return Point2D(self.x + other.x, self.y + other.y)\n",
    "\n",
    "    def __sub__(self, other: Point2D) -> Point2D:\n",
    "        return Point2D(self.x - other.x, self.y - other.y)\n",
    "\n",
    "\n",
    "print(Point2D(3, 5) + Point2D(4, 7))\n",
    "print(Point2D(3, 5) - Point2D(4, 7))"
   ]
  },
  {
   "cell_type": "code",
   "execution_count": 140,
   "id": "21e5c863",
   "metadata": {},
   "outputs": [
    {
     "name": "stdout",
     "output_type": "stream",
     "text": [
      "139854976191952\n",
      "139854976191376\n",
      "139854987793552\n"
     ]
    }
   ],
   "source": [
    "a = Point2D(3, 5)\n",
    "b = Point2D(4, 7)\n",
    "\n",
    "print(id(a))\n",
    "print(id(b))\n",
    "\n",
    "a += b\n",
    "print(id(a))"
   ]
  },
  {
   "cell_type": "markdown",
   "id": "c536154d",
   "metadata": {},
   "source": [
    "У методов выже есть версии с \"i\" в начале, отвечающая за операции с присвоением"
   ]
  },
  {
   "cell_type": "code",
   "execution_count": 141,
   "id": "3ade4d7a",
   "metadata": {},
   "outputs": [
    {
     "name": "stdout",
     "output_type": "stream",
     "text": [
      "A 2D point with coordinates (7, 12)\n",
      "A 2D point with coordinates (-1, -2)\n"
     ]
    }
   ],
   "source": [
    "class Point2D:\n",
    "    \"\"\"\n",
    "    A point in 2D space\n",
    "    :param x: x coordinate\n",
    "    :param y: y coordinate\n",
    "    \"\"\"\n",
    "    def __init__(self, x: int, y: int) -> None:\n",
    "        # Создаём атрибуты и присваиваем им переданные значения координат\n",
    "        self.x = x\n",
    "        self.y = y\n",
    "\n",
    "    def __repr__(self) -> str:\n",
    "        return f\"Point2D({self.x}, {self.y})\"\n",
    "\n",
    "    def __str__(self) -> str:\n",
    "        return f\"A 2D point with coordinates ({self.x}, {self.y})\"\n",
    "\n",
    "    def __add__(self, other: Point2D) -> Point2D:\n",
    "        return Point2D(self.x + other.x, self.y + other.y)\n",
    "    \n",
    "    def __iadd__(self, other: Point2D) -> Point2D:\n",
    "        self.x = self.x + other.x\n",
    "        self.y = self.y + other.y\n",
    "        return self\n",
    "\n",
    "    def __sub__(self, other: Point2D) -> Point2D:\n",
    "        return Point2D(self.x - other.x, self.y - other.y)\n",
    "\n",
    "\n",
    "print(Point2D(3, 5) + Point2D(4, 7))\n",
    "print(Point2D(3, 5) - Point2D(4, 7))"
   ]
  },
  {
   "cell_type": "code",
   "execution_count": 142,
   "id": "1f0da103",
   "metadata": {},
   "outputs": [
    {
     "name": "stdout",
     "output_type": "stream",
     "text": [
      "139854987646352\n",
      "139854987647760\n",
      "139854987646352\n"
     ]
    }
   ],
   "source": [
    "a = Point2D(3, 5)\n",
    "b = Point2D(4, 7)\n",
    "\n",
    "print(id(a))\n",
    "print(id(b))\n",
    "\n",
    "a += b\n",
    "print(id(a))"
   ]
  },
  {
   "cell_type": "markdown",
   "id": "dfbe17ef",
   "metadata": {},
   "source": [
    "**сравнения**"
   ]
  },
  {
   "cell_type": "markdown",
   "id": "10a4e40c",
   "metadata": {},
   "source": [
    "По умолчанию есть одна операция -- is"
   ]
  },
  {
   "cell_type": "code",
   "execution_count": 143,
   "id": "d0ad0adc",
   "metadata": {},
   "outputs": [
    {
     "data": {
      "text/plain": [
       "False"
      ]
     },
     "execution_count": 143,
     "metadata": {},
     "output_type": "execute_result"
    }
   ],
   "source": [
    "# пример\n",
    "a is b"
   ]
  },
  {
   "cell_type": "code",
   "execution_count": 144,
   "id": "5ac0c52d",
   "metadata": {},
   "outputs": [
    {
     "data": {
      "text/plain": [
       "True"
      ]
     },
     "execution_count": 144,
     "metadata": {},
     "output_type": "execute_result"
    }
   ],
   "source": [
    "a is a"
   ]
  },
  {
   "cell_type": "code",
   "execution_count": 145,
   "id": "479c7ae6",
   "metadata": {},
   "outputs": [],
   "source": [
    "class Point2D:\n",
    "    \"\"\"\n",
    "    A point in 2D space\n",
    "    :param x: x coordinate\n",
    "    :param y: y coordinate\n",
    "    \"\"\"\n",
    "    def __init__(self, x: int, y: int) -> None:\n",
    "        # Создаём атрибуты и присваиваем им переданные значения координат\n",
    "        self.x = x\n",
    "        self.y = y\n",
    "\n",
    "    def __repr__(self) -> str:\n",
    "        return f\"Point2D({self.x}, {self.y})\"\n",
    "\n",
    "    def __str__(self) -> str:\n",
    "        return f\"A 2D point with coordinates ({self.x}, {self.y})\"\n",
    "\n",
    "    def __add__(self, other: Point2D) -> Point2D:\n",
    "        return Point2D(self.x + other.x, self.y + other.y)\n",
    "\n",
    "    def __sub__(self, other: Point2D) -> Point2D:\n",
    "        return Point2D(self.x - other.x, self.y - other.y)\n",
    "\n",
    "    def __iadd__(self, other: Point2D) -> Point2D:\n",
    "        self.x += other.x\n",
    "        self.y += other.y\n",
    "        return self\n",
    "\n",
    "    def __isub__(self, other: Point2D) -> Point2D:\n",
    "        self.x -= other.x\n",
    "        self.y -= other.y\n",
    "        return self\n",
    "\n",
    "    def __eq__(self, other: Point2D) -> Point2D:\n",
    "        return self.x == other.x and self.y == other.y\n",
    "\n",
    "#     def __del__(self):\n",
    "#         print('delete', end=' ')\n",
    "#         print(self)"
   ]
  },
  {
   "cell_type": "code",
   "execution_count": 146,
   "id": "23cf29c6",
   "metadata": {},
   "outputs": [
    {
     "name": "stdout",
     "output_type": "stream",
     "text": [
      "True\n",
      "False\n",
      "False\n",
      "True\n"
     ]
    }
   ],
   "source": [
    "print(Point2D(1, 1) == Point2D(1, 1))\n",
    "print(Point2D(1, 1) != Point2D(1, 1))\n",
    "print(Point2D(1, 1) == Point2D(1, 2))\n",
    "print(Point2D(1, 1) != Point2D(1, 2))"
   ]
  },
  {
   "cell_type": "markdown",
   "id": "97d2dfcb",
   "metadata": {},
   "source": [
    "Обратите внимание, что когда мы определили __eq__ (==) для сравнения, __ne__ (!=) вывелся автоматически. Однако, это исключение. Если мы, например, определим ещё и __gt__ (>), операция __le__ (<=) сама не выведется."
   ]
  },
  {
   "cell_type": "markdown",
   "id": "5413d340",
   "metadata": {},
   "source": [
    "## Немного про представление переменных и копирование"
   ]
  },
  {
   "cell_type": "markdown",
   "id": "350dea46",
   "metadata": {},
   "source": [
    "Переменные в питоне стоит воспринимать как имена для ссылки, а не как контейнер, который хранит в себе что-то"
   ]
  },
  {
   "cell_type": "markdown",
   "id": "5f4852d6",
   "metadata": {},
   "source": [
    "### Классический пример"
   ]
  },
  {
   "cell_type": "code",
   "execution_count": 147,
   "id": "dd1e28b1",
   "metadata": {},
   "outputs": [
    {
     "data": {
      "text/plain": [
       "[1, 2, 3, 4]"
      ]
     },
     "execution_count": 147,
     "metadata": {},
     "output_type": "execute_result"
    }
   ],
   "source": [
    "a = [1, 2, 3]\n",
    "\n",
    "b = a\n",
    "a.append(4)\n",
    "\n",
    "b"
   ]
  },
  {
   "cell_type": "code",
   "execution_count": 148,
   "id": "d150103c",
   "metadata": {},
   "outputs": [
    {
     "data": {
      "text/plain": [
       "True"
      ]
     },
     "execution_count": 148,
     "metadata": {},
     "output_type": "execute_result"
    }
   ],
   "source": [
    "a is b"
   ]
  },
  {
   "cell_type": "code",
   "execution_count": 25,
   "id": "bed71bdc",
   "metadata": {},
   "outputs": [
    {
     "data": {
      "text/plain": [
       "True"
      ]
     },
     "execution_count": 25,
     "metadata": {},
     "output_type": "execute_result"
    }
   ],
   "source": [
    "id(a) == id(b)"
   ]
  },
  {
   "cell_type": "markdown",
   "id": "95ec9e4e",
   "metadata": {},
   "source": [
    "### Переменные приклеиваются к объектам только после их создания"
   ]
  },
  {
   "cell_type": "code",
   "execution_count": 26,
   "id": "21355ca7",
   "metadata": {},
   "outputs": [],
   "source": [
    "class Dummy:\n",
    "    def __init__(self):\n",
    "        print(f'Dummy id: {id(self)}')"
   ]
  },
  {
   "cell_type": "code",
   "execution_count": 214,
   "id": "28e83a12",
   "metadata": {},
   "outputs": [
    {
     "name": "stdout",
     "output_type": "stream",
     "text": [
      "Dummy id: 139854992273232\n",
      "Dummy id: 139854992270608\n"
     ]
    },
    {
     "ename": "TypeError",
     "evalue": "unsupported operand type(s) for *: 'Dummy' and 'int'",
     "output_type": "error",
     "traceback": [
      "\u001b[0;31m---------------------------------------------------------------------------\u001b[0m",
      "\u001b[0;31mTypeError\u001b[0m                                 Traceback (most recent call last)",
      "\u001b[0;32m/tmp/ipykernel_13492/2542050879.py\u001b[0m in \u001b[0;36m<module>\u001b[0;34m\u001b[0m\n\u001b[1;32m      1\u001b[0m \u001b[0mx\u001b[0m \u001b[0;34m=\u001b[0m \u001b[0mDummy\u001b[0m\u001b[0;34m(\u001b[0m\u001b[0;34m)\u001b[0m\u001b[0;34m\u001b[0m\u001b[0;34m\u001b[0m\u001b[0m\n\u001b[1;32m      2\u001b[0m \u001b[0;34m\u001b[0m\u001b[0m\n\u001b[0;32m----> 3\u001b[0;31m \u001b[0my\u001b[0m \u001b[0;34m=\u001b[0m \u001b[0mDummy\u001b[0m\u001b[0;34m(\u001b[0m\u001b[0;34m)\u001b[0m \u001b[0;34m*\u001b[0m \u001b[0;36m42\u001b[0m\u001b[0;34m\u001b[0m\u001b[0;34m\u001b[0m\u001b[0m\n\u001b[0m",
      "\u001b[0;31mTypeError\u001b[0m: unsupported operand type(s) for *: 'Dummy' and 'int'"
     ]
    }
   ],
   "source": [
    "x = Dummy()\n",
    "\n",
    "y = Dummy() * 42"
   ]
  },
  {
   "cell_type": "markdown",
   "id": "8663de92",
   "metadata": {},
   "source": [
    "Что с y?"
   ]
  },
  {
   "cell_type": "code",
   "execution_count": 150,
   "id": "e29da430",
   "metadata": {},
   "outputs": [
    {
     "ename": "NameError",
     "evalue": "name 'y' is not defined",
     "output_type": "error",
     "traceback": [
      "\u001b[0;31m---------------------------------------------------------------------------\u001b[0m",
      "\u001b[0;31mNameError\u001b[0m                                 Traceback (most recent call last)",
      "\u001b[0;32m/tmp/ipykernel_13492/3563912222.py\u001b[0m in \u001b[0;36m<module>\u001b[0;34m\u001b[0m\n\u001b[0;32m----> 1\u001b[0;31m \u001b[0my\u001b[0m\u001b[0;34m\u001b[0m\u001b[0;34m\u001b[0m\u001b[0m\n\u001b[0m",
      "\u001b[0;31mNameError\u001b[0m: name 'y' is not defined"
     ]
    }
   ],
   "source": [
    "y"
   ]
  },
  {
   "cell_type": "markdown",
   "id": "c2d5a2d4",
   "metadata": {},
   "source": [
    "## Копирование"
   ]
  },
  {
   "cell_type": "code",
   "execution_count": 156,
   "id": "ddcbec13",
   "metadata": {},
   "outputs": [
    {
     "name": "stdout",
     "output_type": "stream",
     "text": [
      "A 2D point with coordinates (3, 4)\n",
      "A 2D point with coordinates (-1, 4)\n",
      "139854984802064 139854984802064\n"
     ]
    }
   ],
   "source": [
    "a = Point2D(3, 4)\n",
    "print(a)\n",
    "\n",
    "b = a\n",
    "b.x = -1\n",
    "\n",
    "print(a)\n",
    "\n",
    "print(id(a), id(b))"
   ]
  },
  {
   "cell_type": "code",
   "execution_count": 157,
   "id": "97bbdeb0",
   "metadata": {},
   "outputs": [
    {
     "data": {
      "text/plain": [
       "True"
      ]
     },
     "execution_count": 157,
     "metadata": {},
     "output_type": "execute_result"
    }
   ],
   "source": [
    "a is b"
   ]
  },
  {
   "cell_type": "code",
   "execution_count": 158,
   "id": "ee490b78",
   "metadata": {},
   "outputs": [
    {
     "data": {
      "text/plain": [
       "True"
      ]
     },
     "execution_count": 158,
     "metadata": {},
     "output_type": "execute_result"
    }
   ],
   "source": [
    "id(a.x) == id(b.x)"
   ]
  },
  {
   "cell_type": "code",
   "execution_count": 154,
   "id": "6acdda29",
   "metadata": {},
   "outputs": [
    {
     "name": "stdout",
     "output_type": "stream",
     "text": [
      "A 2D point with coordinates (3, 4)\n",
      "A 2D point with coordinates (3, 4)\n",
      "A 2D point with coordinates (-1, 4)\n"
     ]
    }
   ],
   "source": [
    "import copy\n",
    "\n",
    "a = Point2D(3, 4)\n",
    "print(a)\n",
    "\n",
    "b = copy.copy(a)\n",
    "b.x = -1\n",
    "\n",
    "print(a)\n",
    "print(b)"
   ]
  },
  {
   "cell_type": "code",
   "execution_count": 153,
   "id": "60bda264",
   "metadata": {},
   "outputs": [
    {
     "data": {
      "text/plain": [
       "False"
      ]
     },
     "execution_count": 153,
     "metadata": {},
     "output_type": "execute_result"
    }
   ],
   "source": [
    "a is b"
   ]
  },
  {
   "cell_type": "code",
   "execution_count": 155,
   "id": "84187018",
   "metadata": {},
   "outputs": [
    {
     "data": {
      "text/plain": [
       "(94050341462848, 94050341462720)"
      ]
     },
     "execution_count": 155,
     "metadata": {},
     "output_type": "execute_result"
    }
   ],
   "source": [
    "id(a.x), id(b.x)"
   ]
  },
  {
   "cell_type": "markdown",
   "id": "7380826d",
   "metadata": {},
   "source": [
    "Но достаточно ли этого?"
   ]
  },
  {
   "cell_type": "code",
   "execution_count": 199,
   "id": "2fb707d1",
   "metadata": {},
   "outputs": [],
   "source": [
    "class Bus:\n",
    "    \n",
    "    def __init__(self, passengers=None):\n",
    "        if passengers is None:\n",
    "            self.passengers = []\n",
    "        else:\n",
    "            self.passengers = list(passengers)\n",
    "            \n",
    "    def pick(self, name):\n",
    "        self.passengers.append(name)\n",
    "    \n",
    "    def drop(self, name):\n",
    "        self.passengers.remove(name)"
   ]
  },
  {
   "cell_type": "code",
   "execution_count": 200,
   "id": "b86cdad3",
   "metadata": {},
   "outputs": [
    {
     "data": {
      "text/plain": [
       "(139854975838736, 139854988282640, 139854988282384)"
      ]
     },
     "execution_count": 200,
     "metadata": {},
     "output_type": "execute_result"
    }
   ],
   "source": [
    "bus1 = Bus(['Alice', 'Bob', 'Dad'])\n",
    "bus2 = copy.copy(bus1)\n",
    "bus3 = copy.deepcopy(bus1)\n",
    "\n",
    "id(bus1), id(bus2), id(bus3)"
   ]
  },
  {
   "cell_type": "code",
   "execution_count": 167,
   "id": "44e519f4",
   "metadata": {},
   "outputs": [
    {
     "data": {
      "text/plain": [
       "(['Alice', 'Bob', 'Dad'], ['Alice', 'Bob', 'Dad'])"
      ]
     },
     "execution_count": 167,
     "metadata": {},
     "output_type": "execute_result"
    }
   ],
   "source": [
    "bus1.passengers, bus2.passengers"
   ]
  },
  {
   "cell_type": "code",
   "execution_count": 168,
   "id": "770c6ed7",
   "metadata": {},
   "outputs": [],
   "source": [
    "bus2.drop('Bob')"
   ]
  },
  {
   "cell_type": "code",
   "execution_count": 173,
   "id": "47dbff8f",
   "metadata": {},
   "outputs": [
    {
     "data": {
      "text/plain": [
       "False"
      ]
     },
     "execution_count": 173,
     "metadata": {},
     "output_type": "execute_result"
    }
   ],
   "source": [
    "bus1 is bus2"
   ]
  },
  {
   "cell_type": "code",
   "execution_count": 171,
   "id": "ac88b60f",
   "metadata": {},
   "outputs": [
    {
     "data": {
      "text/plain": [
       "True"
      ]
     },
     "execution_count": 171,
     "metadata": {},
     "output_type": "execute_result"
    }
   ],
   "source": [
    "bus1.passengers is bus2.passengers"
   ]
  },
  {
   "cell_type": "code",
   "execution_count": 172,
   "id": "54b8a29f",
   "metadata": {},
   "outputs": [
    {
     "data": {
      "text/plain": [
       "False"
      ]
     },
     "execution_count": 172,
     "metadata": {},
     "output_type": "execute_result"
    }
   ],
   "source": [
    "bus3.passengers is bus1.passengers"
   ]
  },
  {
   "cell_type": "code",
   "execution_count": 170,
   "id": "89fae4b3",
   "metadata": {},
   "outputs": [
    {
     "data": {
      "text/plain": [
       "['Alice', 'Dad']"
      ]
     },
     "execution_count": 170,
     "metadata": {},
     "output_type": "execute_result"
    }
   ],
   "source": [
    "bus2.passengers"
   ]
  },
  {
   "cell_type": "code",
   "execution_count": 165,
   "id": "846539ba",
   "metadata": {},
   "outputs": [
    {
     "data": {
      "text/plain": [
       "['Alice', 'Bob', 'Dad']"
      ]
     },
     "execution_count": 165,
     "metadata": {},
     "output_type": "execute_result"
    }
   ],
   "source": [
    "bus3.passengers"
   ]
  },
  {
   "cell_type": "markdown",
   "id": "e36ac310",
   "metadata": {},
   "source": [
    "`__copy__, __deepcopy__`"
   ]
  },
  {
   "cell_type": "markdown",
   "id": "afec7d9c",
   "metadata": {},
   "source": [
    "## staticmethods"
   ]
  },
  {
   "cell_type": "code",
   "execution_count": 188,
   "id": "9d9591a8",
   "metadata": {},
   "outputs": [],
   "source": [
    "class Bus:\n",
    "    \n",
    "    def __init__(self, passengers=None):\n",
    "        if passengers is None:\n",
    "            self.passengers = []\n",
    "        else:\n",
    "            self.passengers = list(passengers)\n",
    "            \n",
    "    def pick(self, name):\n",
    "        self.passengers.append(name)\n",
    "    \n",
    "    def drop(self, name):\n",
    "        self.passengers.remove(name)\n",
    "    \n",
    "    @staticmethod\n",
    "    def greet_passengers(greeting='Hello, guys!'):\n",
    "        return greeting"
   ]
  },
  {
   "cell_type": "code",
   "execution_count": 183,
   "id": "296024b3",
   "metadata": {},
   "outputs": [],
   "source": [
    "bus = Bus(['Alice', 'Bob'])"
   ]
  },
  {
   "cell_type": "code",
   "execution_count": 184,
   "id": "87f28fe6",
   "metadata": {},
   "outputs": [
    {
     "data": {
      "text/plain": [
       "'Hello, guys!'"
      ]
     },
     "execution_count": 184,
     "metadata": {},
     "output_type": "execute_result"
    }
   ],
   "source": [
    "bus.greet_passengers()"
   ]
  },
  {
   "cell_type": "code",
   "execution_count": 185,
   "id": "e66f1348",
   "metadata": {},
   "outputs": [
    {
     "data": {
      "text/plain": [
       "'Hello, guys!'"
      ]
     },
     "execution_count": 185,
     "metadata": {},
     "output_type": "execute_result"
    }
   ],
   "source": [
    "long_bus = Bus(['Alice', 'Bob', 'Ed'])\n",
    "\n",
    "long_bus.greet_passengers()"
   ]
  },
  {
   "cell_type": "code",
   "execution_count": 189,
   "id": "ab61f57a",
   "metadata": {},
   "outputs": [
    {
     "data": {
      "text/plain": [
       "'Hello, guys!'"
      ]
     },
     "execution_count": 189,
     "metadata": {},
     "output_type": "execute_result"
    }
   ],
   "source": [
    "Bus.greet_passengers()"
   ]
  },
  {
   "cell_type": "markdown",
   "id": "217ad64e",
   "metadata": {},
   "source": [
    "## classmethod"
   ]
  },
  {
   "cell_type": "code",
   "execution_count": 217,
   "id": "cd024f08",
   "metadata": {},
   "outputs": [],
   "source": [
    "class Bus:\n",
    "    \n",
    "    NAME = 'Morning bus'\n",
    "    \n",
    "    def __init__(self, passengers=None):\n",
    "        if passengers is None:\n",
    "            self.passengers = []\n",
    "        else:\n",
    "            self.passengers = list(passengers)\n",
    "            \n",
    "    def pick(self, name):\n",
    "        self.passengers.append(name)\n",
    "    \n",
    "    def drop(self, name):\n",
    "        self.passengers.remove(name)\n",
    "    \n",
    "    @staticmethod\n",
    "    def greet_passengers(greeting='Hello, guys!'):\n",
    "        return greeting\n",
    "    \n",
    "    @classmethod\n",
    "    def greet_bus_passengers(cls, greeting='Hello, morning guys!'):\n",
    "        return f'{greeting} You are in our {cls.NAME}'"
   ]
  },
  {
   "cell_type": "code",
   "execution_count": 218,
   "id": "0b559631",
   "metadata": {},
   "outputs": [
    {
     "data": {
      "text/plain": [
       "'Hello, guys!'"
      ]
     },
     "execution_count": 218,
     "metadata": {},
     "output_type": "execute_result"
    }
   ],
   "source": [
    "Bus.greet_passengers()"
   ]
  },
  {
   "cell_type": "code",
   "execution_count": 219,
   "id": "f8180d0f",
   "metadata": {},
   "outputs": [
    {
     "data": {
      "text/plain": [
       "'Hello, morning guys! You are in our Morning bus'"
      ]
     },
     "execution_count": 219,
     "metadata": {},
     "output_type": "execute_result"
    }
   ],
   "source": [
    "Bus.greet_bus_passengers()"
   ]
  },
  {
   "cell_type": "markdown",
   "id": "63eba865",
   "metadata": {},
   "source": [
    "Заметим, что мы не можем получить доступ к переменным класса из статического метода"
   ]
  },
  {
   "cell_type": "code",
   "execution_count": 220,
   "id": "b3cad443",
   "metadata": {},
   "outputs": [],
   "source": [
    "class Bus:\n",
    "    \n",
    "    NAME = 'Morning bus'\n",
    "    \n",
    "    def __init__(self, passengers=None):\n",
    "        if passengers is None:\n",
    "            self.passengers = []\n",
    "        else:\n",
    "            self.passengers = list(passengers)\n",
    "            \n",
    "    def pick(self, name):\n",
    "        self.passengers.append(name)\n",
    "    \n",
    "    def drop(self, name):\n",
    "        self.passengers.remove(name)\n",
    "    \n",
    "    @staticmethod\n",
    "    def greet_passengers(greeting='Hello, guys!'):\n",
    "        return  greeting + NAME"
   ]
  },
  {
   "cell_type": "code",
   "execution_count": 221,
   "id": "c1b6d1aa",
   "metadata": {},
   "outputs": [
    {
     "ename": "NameError",
     "evalue": "name 'NAME' is not defined",
     "output_type": "error",
     "traceback": [
      "\u001b[0;31m---------------------------------------------------------------------------\u001b[0m",
      "\u001b[0;31mNameError\u001b[0m                                 Traceback (most recent call last)",
      "\u001b[0;32m/tmp/ipykernel_13492/3106773468.py\u001b[0m in \u001b[0;36m<module>\u001b[0;34m\u001b[0m\n\u001b[0;32m----> 1\u001b[0;31m \u001b[0mBus\u001b[0m\u001b[0;34m.\u001b[0m\u001b[0mgreet_passengers\u001b[0m\u001b[0;34m(\u001b[0m\u001b[0;34m)\u001b[0m\u001b[0;34m\u001b[0m\u001b[0;34m\u001b[0m\u001b[0m\n\u001b[0m",
      "\u001b[0;32m/tmp/ipykernel_13492/1757355532.py\u001b[0m in \u001b[0;36mgreet_passengers\u001b[0;34m(greeting)\u001b[0m\n\u001b[1;32m     17\u001b[0m     \u001b[0;34m@\u001b[0m\u001b[0mstaticmethod\u001b[0m\u001b[0;34m\u001b[0m\u001b[0;34m\u001b[0m\u001b[0m\n\u001b[1;32m     18\u001b[0m     \u001b[0;32mdef\u001b[0m \u001b[0mgreet_passengers\u001b[0m\u001b[0;34m(\u001b[0m\u001b[0mgreeting\u001b[0m\u001b[0;34m=\u001b[0m\u001b[0;34m'Hello, guys!'\u001b[0m\u001b[0;34m)\u001b[0m\u001b[0;34m:\u001b[0m\u001b[0;34m\u001b[0m\u001b[0;34m\u001b[0m\u001b[0m\n\u001b[0;32m---> 19\u001b[0;31m         \u001b[0;32mreturn\u001b[0m  \u001b[0mgreeting\u001b[0m \u001b[0;34m+\u001b[0m \u001b[0mNAME\u001b[0m\u001b[0;34m\u001b[0m\u001b[0;34m\u001b[0m\u001b[0m\n\u001b[0m",
      "\u001b[0;31mNameError\u001b[0m: name 'NAME' is not defined"
     ]
    }
   ],
   "source": [
    "Bus.greet_passengers()"
   ]
  },
  {
   "cell_type": "markdown",
   "id": "b5d80a2c",
   "metadata": {},
   "source": [
    "## Tasks, Bonus HW"
   ]
  },
  {
   "cell_type": "markdown",
   "id": "02e506e6-625d-4b62-bb58-453d3fbff51d",
   "metadata": {},
   "source": [
    "**Bonus HW**.\n",
    "\n",
    "1. Реализуйте **\"сумасшедший класс\"**. А именно класс Nuts, экземпляр которого:\n",
    "\n",
    "- можно конструировать из чего угодно (в т. ч. из ничего)\n",
    "\n",
    "- можно индексировать по чему угодно (возвращается объект, который использовался в индексе)\n",
    "\n",
    "- позволяет присваивать и удалять по индексу (ничего не происходит) \n",
    "\n",
    "- содержит любое поле (возвращается имя этого поля)\n",
    "\n",
    "- позволяет присваивать и удалять поля (ничего не происходит) \n",
    "\n",
    "- поддерживает итерирование (последовательность пуста)\n",
    "\n",
    "- в виде строки представляется как \"Hello, I'm Nuts!\" и также поддерживает формальное строковое представление"
   ]
  },
  {
   "cell_type": "code",
   "execution_count": 441,
   "id": "2bd2e8a4-3df4-4931-ae0e-bd61b3a35312",
   "metadata": {
    "ExecuteTime": {
     "end_time": "2021-12-08T09:52:15.864214Z",
     "start_time": "2021-12-08T09:52:15.836609Z"
    }
   },
   "outputs": [],
   "source": [
    "class Nuts:\n",
    "    def __init__(self, *args, **kwargs):\n",
    "         pass\n",
    "\n",
    "    def __str__(self) -> str:\n",
    "        return \"Hello, I'm Nuts!\"\n",
    "\n",
    "    def __repr__(self) -> str:\n",
    "        return \"Nuts()\"\n",
    "\n",
    "    def __getattr__(self, item):\n",
    "        return item\n",
    "\n",
    "    def __setattr__(self, key, value):\n",
    "        pass\n",
    "\n",
    "    def __delattr__(self, key):\n",
    "        pass\n",
    "\n",
    "    def __iter__(self):\n",
    "        return self\n",
    "\n",
    "    def __next__(self):\n",
    "        raise StopIteration()\n",
    "\n",
    "    def __getitem__(self, key):\n",
    "        return key\n",
    "\n",
    "    def __setitem__(self, item, key):\n",
    "        pass\n",
    "\n",
    "    def __delitem__(self, key):\n",
    "        pass"
   ]
  },
  {
   "cell_type": "code",
   "execution_count": 442,
   "id": "f86521c0-6ddc-4ae8-9045-b91f74f8898a",
   "metadata": {
    "ExecuteTime": {
     "end_time": "2021-12-08T09:52:19.924777Z",
     "start_time": "2021-12-08T09:52:19.911127Z"
    }
   },
   "outputs": [],
   "source": [
    "nuts = Nuts()\n",
    "nuts = Nuts(1, 2, 3)\n",
    "nuts = Nuts([])\n",
    "nuts = Nuts((1, 2))"
   ]
  },
  {
   "cell_type": "code",
   "execution_count": 443,
   "id": "b9a3cf52-b1a9-4bf5-a468-a0fe654e96ef",
   "metadata": {
    "ExecuteTime": {
     "end_time": "2021-12-08T09:52:22.312208Z",
     "start_time": "2021-12-08T09:52:22.299951Z"
    }
   },
   "outputs": [],
   "source": [
    "del nuts.x"
   ]
  },
  {
   "cell_type": "code",
   "execution_count": 444,
   "id": "fc56ef89-25fa-4fd6-89d9-efc312884b5b",
   "metadata": {
    "ExecuteTime": {
     "end_time": "2021-12-08T09:52:33.101144Z",
     "start_time": "2021-12-08T09:52:33.086180Z"
    }
   },
   "outputs": [
    {
     "data": {
      "text/plain": [
       "0"
      ]
     },
     "execution_count": 444,
     "metadata": {},
     "output_type": "execute_result"
    }
   ],
   "source": [
    "nuts[0]"
   ]
  },
  {
   "cell_type": "code",
   "execution_count": 445,
   "id": "1da16846-e4c2-4c5e-97f7-64f6678f331d",
   "metadata": {
    "ExecuteTime": {
     "end_time": "2021-12-08T09:52:36.907120Z",
     "start_time": "2021-12-08T09:52:36.898990Z"
    }
   },
   "outputs": [
    {
     "data": {
      "text/plain": [
       "(1, 2)"
      ]
     },
     "execution_count": 445,
     "metadata": {},
     "output_type": "execute_result"
    }
   ],
   "source": [
    "nuts[1, 2]"
   ]
  },
  {
   "cell_type": "code",
   "execution_count": 446,
   "id": "bd502384-12bb-4224-bcd8-be4462b5997d",
   "metadata": {
    "ExecuteTime": {
     "end_time": "2021-12-08T09:52:38.080173Z",
     "start_time": "2021-12-08T09:52:38.074747Z"
    }
   },
   "outputs": [
    {
     "data": {
      "text/plain": [
       "slice(1, None, -1)"
      ]
     },
     "execution_count": 446,
     "metadata": {},
     "output_type": "execute_result"
    }
   ],
   "source": [
    "nuts[1::-1]"
   ]
  },
  {
   "cell_type": "code",
   "execution_count": 447,
   "id": "b24f6d31-96ff-4e1f-aa8c-230c25c5b3b0",
   "metadata": {
    "ExecuteTime": {
     "end_time": "2021-12-08T09:52:51.527070Z",
     "start_time": "2021-12-08T09:52:51.523546Z"
    }
   },
   "outputs": [
    {
     "name": "stdout",
     "output_type": "stream",
     "text": [
      "Hello, I'm Nuts!\n"
     ]
    }
   ],
   "source": [
    "print(nuts)"
   ]
  },
  {
   "cell_type": "code",
   "execution_count": 448,
   "id": "a69da3cb-6bf4-4564-8753-de7326b0d9f4",
   "metadata": {
    "ExecuteTime": {
     "end_time": "2021-12-08T09:53:07.316382Z",
     "start_time": "2021-12-08T09:53:07.311393Z"
    }
   },
   "outputs": [
    {
     "data": {
      "text/plain": [
       "Nuts()"
      ]
     },
     "execution_count": 448,
     "metadata": {},
     "output_type": "execute_result"
    }
   ],
   "source": [
    "nuts"
   ]
  },
  {
   "cell_type": "markdown",
   "id": "516c597c-dc91-4855-b55c-d10608eca3bf",
   "metadata": {
    "ExecuteTime": {
     "end_time": "2021-12-06T15:47:42.548089Z",
     "start_time": "2021-12-06T15:47:42.543793Z"
    }
   },
   "source": [
    "##  Реализуйте **класс Complex** для работы с комплексными числами\n",
    "\n",
    "Реализуйте:\n",
    "- операции сравнения, сложения, умножения, вычитания и их inplace версии\n",
    "- строковые представления"
   ]
  },
  {
   "cell_type": "code",
   "execution_count": 449,
   "id": "929a4f64-1f0d-4788-a233-59136fc6ee11",
   "metadata": {
    "ExecuteTime": {
     "end_time": "2021-12-08T09:54:49.075139Z",
     "start_time": "2021-12-08T09:54:48.948714Z"
    }
   },
   "outputs": [],
   "source": [
    "class Complex:\n",
    "    def __init__(self, a=0, b=0):\n",
    "        self.a = a\n",
    "        self.b = b\n",
    "\n",
    "    def __add__(self, other):\n",
    "        if isinstance(other, Complex):\n",
    "            return Complex(self.a + other.a, self.b + other.b)\n",
    "\n",
    "        elif isinstance(other, (float, int)):\n",
    "            return Complex(self.a + other, self.b)\n",
    "\n",
    "    def __radd__(self, other):\n",
    "        return self + other\n",
    "\n",
    "    def __iadd__(self, other):\n",
    "        if isinstance(other, Complex):\n",
    "            self.a += other.a\n",
    "            self.b += other.b\n",
    "\n",
    "        elif isinstance(other, (float, int)):\n",
    "            self.a += other\n",
    "\n",
    "        return self\n",
    "\n",
    "    def __sub__(self, other):\n",
    "        if isinstance(other, Complex):\n",
    "            return Complex(self.a - other.a, self.b - other.b)\n",
    "\n",
    "        elif isinstance(other, (float, int)):\n",
    "            return Complex(self.a - other, self.b)\n",
    "\n",
    "    def __isub__(self, other):\n",
    "        if isinstance(other, Complex):\n",
    "            self.a -= other.a\n",
    "            self.b -= other.b\n",
    "\n",
    "        elif isinstance(other, (float, int)):\n",
    "            self.a -= other\n",
    "\n",
    "        return self\n",
    "\n",
    "    def __rsub__(self, other):\n",
    "        if isinstance(other, Complex):\n",
    "            return Complex(other.a - self.a, other.b - self.b)\n",
    "\n",
    "        elif isinstance(other, (float, int)):\n",
    "            return Complex(other - self.a, self.b)\n",
    "\n",
    "    def __mul__(self, other):\n",
    "        if isinstance(other, Complex):\n",
    "            new_a = self.a * other.a - self.b * other.b\n",
    "            new_b = self.a * other.b + self.b * other.a\n",
    "\n",
    "        elif isinstance(other, (float, int)):\n",
    "            new_a = self.a * other\n",
    "            new_b = self.b * other\n",
    "\n",
    "        return Complex(new_a, new_b)\n",
    "\n",
    "    def __imul__(self, other):\n",
    "        if isinstance(other, Complex):\n",
    "            external = self * other\n",
    "            self.a = external.a\n",
    "            self.b = external.b\n",
    "\n",
    "        elif isinstance(other, (float, int)):\n",
    "            self.a *= other\n",
    "            self.b *= other\n",
    "\n",
    "        return self\n",
    "\n",
    "    def __rmul__(self, other):\n",
    "        if isinstance(other, Complex):\n",
    "            return self * other\n",
    "\n",
    "        elif isinstance(other, (float, int)):\n",
    "            self.a *= other\n",
    "            self.b *= other\n",
    "\n",
    "        return self\n",
    "\n",
    "    def div(self, lcomp, rcomp):\n",
    "        external = Complex(rcomp.a, -rcomp.b)\n",
    "        numerator = lcomp * external\n",
    "        denominator = (rcomp * external).a    # b = 0\n",
    "\n",
    "        return numerator, denominator\n",
    "\n",
    "    def __truediv__(self, other):\n",
    "        if isinstance(other, Complex):\n",
    "            numerator, denominator = self.div(self, other)\n",
    "\n",
    "        elif isinstance(other, (int, float)):\n",
    "            numerator = self\n",
    "            denominator = other\n",
    "\n",
    "        return Complex(\n",
    "            numerator.a / denominator,\n",
    "            numerator.b / denominator\n",
    "        )\n",
    "\n",
    "    def __idiv__(self, other):\n",
    "        external = self / other\n",
    "\n",
    "        self.a = external.a\n",
    "        self.b = external.b\n",
    "        return self\n",
    "\n",
    "    def __rtruediv__(self, other):\n",
    "        if isinstance(other, Complex):\n",
    "            return other / self\n",
    "\n",
    "        elif isinstance(other, (float, int)):\n",
    "            numerator, denominator = self.div(other, self)\n",
    "\n",
    "            return Complex(\n",
    "                numerator.a / denominator,\n",
    "                numerator.b / denominator\n",
    "            )\n",
    "\n",
    "    def __floordiv__(self, other):\n",
    "        if isinstance(other, Complex):\n",
    "            numerator, denominator = self.div(self, other)\n",
    "\n",
    "        elif isinstance(other, (int, float)):\n",
    "            numerator = self\n",
    "            denominator = other\n",
    "\n",
    "        return Complex(\n",
    "            numerator.a // denominator,\n",
    "            numerator.b // denominator\n",
    "        )\n",
    "\n",
    "    def __ifloordiv__(self, other):\n",
    "        external = self // other\n",
    "\n",
    "        self.a = external.a\n",
    "        self.b = external.b\n",
    "        return self\n",
    "\n",
    "    def __rfloordiv__(self, other):\n",
    "        if isinstance(other, Complex):\n",
    "            return other // self\n",
    "\n",
    "        elif isinstance(other, (float, int)):\n",
    "            numerator, denominator = self.div(other, self)\n",
    "\n",
    "            return Complex(\n",
    "                numerator.a // denominator,\n",
    "                numerator.b // denominator\n",
    "            )\n",
    "\n",
    "    def __pow__(self, extent):\n",
    "        if extent >= 0:\n",
    "            return self.power(self, extent)\n",
    "        return 1 / (self.power(self, -extent))\n",
    "\n",
    "    def __int__(self):\n",
    "        return int(self.a)\n",
    "\n",
    "    def __float__(self):\n",
    "        return float(self.a)\n",
    "\n",
    "    def __neg__(self):\n",
    "        return Complex(-self.a, -self.b)\n",
    "\n",
    "    def __pos__(self):\n",
    "        return self\n",
    "\n",
    "    def __repr__(self):\n",
    "        return f\"Complex({self.a}, {self.b})\"\n",
    "\n",
    "    def __str__(self):\n",
    "        if self.b >= 0:\n",
    "            return f\"{self.a} + {self.b}i\"\n",
    "        else:\n",
    "            return f\"{self.a} - {-self.b}i\"\n",
    "\n",
    "    @staticmethod\n",
    "    def power(a, n):\n",
    "        if n == 0:\n",
    "            return 1\n",
    "        if n % 2 == 0:\n",
    "            return Complex.power(a * a, n // 2)\n",
    "        else:\n",
    "            return a * Complex.power(a, n - 1)"
   ]
  },
  {
   "cell_type": "code",
   "execution_count": 450,
   "id": "e7dc6479-01e3-486f-8190-bfe949df3d98",
   "metadata": {
    "ExecuteTime": {
     "end_time": "2021-12-08T09:54:50.882913Z",
     "start_time": "2021-12-08T09:54:50.873044Z"
    }
   },
   "outputs": [],
   "source": [
    "complex1 = Complex(1, 3)\n",
    "complex2 = Complex(4, -5)"
   ]
  },
  {
   "cell_type": "code",
   "execution_count": 451,
   "id": "cf9b0e31-b0db-4576-97b6-27d7179ecc06",
   "metadata": {
    "ExecuteTime": {
     "end_time": "2021-12-08T09:54:55.316203Z",
     "start_time": "2021-12-08T09:54:55.310043Z"
    }
   },
   "outputs": [],
   "source": [
    "complex_ref1 = complex(1, 3)\n",
    "complex_ref2 = complex(4, -5)"
   ]
  },
  {
   "cell_type": "code",
   "execution_count": 452,
   "id": "343fe223-f800-4623-a169-df9675093d93",
   "metadata": {
    "ExecuteTime": {
     "end_time": "2021-12-08T09:54:57.128618Z",
     "start_time": "2021-12-08T09:54:57.122373Z"
    }
   },
   "outputs": [
    {
     "data": {
      "text/plain": [
       "Complex(5, -2)"
      ]
     },
     "execution_count": 452,
     "metadata": {},
     "output_type": "execute_result"
    }
   ],
   "source": [
    "complex1 + complex2"
   ]
  },
  {
   "cell_type": "code",
   "execution_count": 453,
   "id": "14b9d303-e1b6-49f3-8644-4f142feff4e9",
   "metadata": {
    "ExecuteTime": {
     "end_time": "2021-12-08T09:55:01.898776Z",
     "start_time": "2021-12-08T09:55:01.885126Z"
    }
   },
   "outputs": [
    {
     "data": {
      "text/plain": [
       "True"
      ]
     },
     "execution_count": 453,
     "metadata": {},
     "output_type": "execute_result"
    }
   ],
   "source": [
    "complex1 == complex1"
   ]
  },
  {
   "cell_type": "code",
   "execution_count": 454,
   "id": "0817189c-9623-46d5-bcbd-67de25dffbf2",
   "metadata": {
    "ExecuteTime": {
     "end_time": "2021-12-08T09:55:03.877105Z",
     "start_time": "2021-12-08T09:55:03.873407Z"
    }
   },
   "outputs": [
    {
     "data": {
      "text/plain": [
       "False"
      ]
     },
     "execution_count": 454,
     "metadata": {},
     "output_type": "execute_result"
    }
   ],
   "source": [
    "complex1 == complex2"
   ]
  },
  {
   "cell_type": "code",
   "execution_count": 455,
   "id": "c319e9ce-0864-48c8-bfa5-b4dfa3cfa5d6",
   "metadata": {
    "ExecuteTime": {
     "end_time": "2021-12-08T09:55:05.315632Z",
     "start_time": "2021-12-08T09:55:05.311244Z"
    }
   },
   "outputs": [
    {
     "data": {
      "text/plain": [
       "True"
      ]
     },
     "execution_count": 455,
     "metadata": {},
     "output_type": "execute_result"
    }
   ],
   "source": [
    "complex1 != complex2"
   ]
  },
  {
   "cell_type": "code",
   "execution_count": 456,
   "id": "474e1ddb-ad47-45fa-9d33-5d17b932fd53",
   "metadata": {
    "ExecuteTime": {
     "end_time": "2021-12-08T09:55:07.654964Z",
     "start_time": "2021-12-08T09:55:07.648817Z"
    }
   },
   "outputs": [
    {
     "name": "stdout",
     "output_type": "stream",
     "text": [
      "19 + 7i\n"
     ]
    }
   ],
   "source": [
    "print(complex1 * complex2)"
   ]
  },
  {
   "cell_type": "code",
   "execution_count": 457,
   "id": "a8c2e5c9-e098-4a9e-99a0-01f6ab6be9e1",
   "metadata": {
    "ExecuteTime": {
     "end_time": "2021-12-08T09:55:09.325830Z",
     "start_time": "2021-12-08T09:55:09.322577Z"
    }
   },
   "outputs": [
    {
     "name": "stdout",
     "output_type": "stream",
     "text": [
      "(19+7j)\n"
     ]
    }
   ],
   "source": [
    "print(complex_ref1 * complex_ref2)"
   ]
  },
  {
   "cell_type": "code",
   "execution_count": 458,
   "id": "5743dc50-c453-4281-991f-66a1e3b9de28",
   "metadata": {
    "ExecuteTime": {
     "end_time": "2021-12-08T09:55:10.600250Z",
     "start_time": "2021-12-08T09:55:10.597536Z"
    }
   },
   "outputs": [],
   "source": [
    "complex1 *= complex2"
   ]
  },
  {
   "cell_type": "code",
   "execution_count": 459,
   "id": "d21e6edb-76f6-46e5-b6ba-5bfb19acf131",
   "metadata": {
    "ExecuteTime": {
     "end_time": "2021-12-08T09:55:11.064356Z",
     "start_time": "2021-12-08T09:55:11.059700Z"
    }
   },
   "outputs": [
    {
     "name": "stdout",
     "output_type": "stream",
     "text": [
      "19 + 7i\n"
     ]
    }
   ],
   "source": [
    "print(complex1)"
   ]
  },
  {
   "cell_type": "code",
   "execution_count": 460,
   "id": "abd00ea3-9b7e-4d00-af2a-add20d04ddd6",
   "metadata": {
    "ExecuteTime": {
     "end_time": "2021-12-08T09:55:18.489740Z",
     "start_time": "2021-12-08T09:55:18.485038Z"
    }
   },
   "outputs": [],
   "source": [
    "complex_ref1 *= complex_ref2"
   ]
  },
  {
   "cell_type": "code",
   "execution_count": 462,
   "id": "b52285c3-a04c-4d36-8c98-47fd95f7491d",
   "metadata": {
    "ExecuteTime": {
     "end_time": "2021-12-08T09:55:26.450812Z",
     "start_time": "2021-12-08T09:55:26.447240Z"
    }
   },
   "outputs": [
    {
     "name": "stdout",
     "output_type": "stream",
     "text": [
      "(19+7j)\n"
     ]
    }
   ],
   "source": [
    "print(complex_ref1)"
   ]
  },
  {
   "cell_type": "code",
   "execution_count": 463,
   "id": "67980fda-5951-4524-978d-aedc7526fe19",
   "metadata": {
    "ExecuteTime": {
     "end_time": "2021-12-08T09:55:26.985821Z",
     "start_time": "2021-12-08T09:55:26.973272Z"
    }
   },
   "outputs": [
    {
     "data": {
      "text/plain": [
       "(95+35j)"
      ]
     },
     "execution_count": 463,
     "metadata": {},
     "output_type": "execute_result"
    }
   ],
   "source": [
    "complex_ref1 * 5"
   ]
  },
  {
   "cell_type": "code",
   "execution_count": 464,
   "id": "32768061-f875-4b10-b944-8c379f5e8d1d",
   "metadata": {
    "ExecuteTime": {
     "end_time": "2021-12-08T09:55:31.355158Z",
     "start_time": "2021-12-08T09:55:31.347308Z"
    }
   },
   "outputs": [
    {
     "data": {
      "text/plain": [
       "Complex(95, 35)"
      ]
     },
     "execution_count": 464,
     "metadata": {},
     "output_type": "execute_result"
    }
   ],
   "source": [
    "complex1 * 5"
   ]
  },
  {
   "cell_type": "code",
   "execution_count": 465,
   "id": "9cd4c4f7-d5fc-4942-b789-4901c7b7edd9",
   "metadata": {
    "ExecuteTime": {
     "end_time": "2021-12-08T09:55:36.967886Z",
     "start_time": "2021-12-08T09:55:36.963201Z"
    }
   },
   "outputs": [
    {
     "data": {
      "text/plain": [
       "Complex(199.5, 73.5)"
      ]
     },
     "execution_count": 465,
     "metadata": {},
     "output_type": "execute_result"
    }
   ],
   "source": [
    "complex1 * 10.5"
   ]
  },
  {
   "cell_type": "code",
   "execution_count": 466,
   "id": "b477743d-8223-4dde-9e99-7b5f3fcb1f1f",
   "metadata": {
    "ExecuteTime": {
     "end_time": "2021-12-08T09:55:40.427478Z",
     "start_time": "2021-12-08T09:55:40.422087Z"
    }
   },
   "outputs": [
    {
     "data": {
      "text/plain": [
       "(95+35j)"
      ]
     },
     "execution_count": 466,
     "metadata": {},
     "output_type": "execute_result"
    }
   ],
   "source": [
    "5 * complex_ref1"
   ]
  },
  {
   "cell_type": "code",
   "execution_count": 467,
   "id": "568b21ba-60a7-4182-856b-170e5bb51a71",
   "metadata": {
    "ExecuteTime": {
     "end_time": "2021-12-08T09:55:40.917529Z",
     "start_time": "2021-12-08T09:55:40.909576Z"
    }
   },
   "outputs": [
    {
     "data": {
      "text/plain": [
       "Complex(95, 35)"
      ]
     },
     "execution_count": 467,
     "metadata": {},
     "output_type": "execute_result"
    }
   ],
   "source": [
    "5 * complex1"
   ]
  },
  {
   "cell_type": "code",
   "execution_count": 468,
   "id": "9b8e10c3-1684-4d9a-a9cc-4fb15659c3d4",
   "metadata": {
    "ExecuteTime": {
     "end_time": "2021-12-08T09:55:43.161103Z",
     "start_time": "2021-12-08T09:55:43.147977Z"
    }
   },
   "outputs": [
    {
     "data": {
      "text/plain": [
       "Complex(-95, -35)"
      ]
     },
     "execution_count": 468,
     "metadata": {},
     "output_type": "execute_result"
    }
   ],
   "source": [
    "-complex1"
   ]
  },
  {
   "cell_type": "code",
   "execution_count": null,
   "id": "180b8343-ed22-49c8-a7ac-f6f98e354e30",
   "metadata": {},
   "outputs": [],
   "source": []
  },
  {
   "cell_type": "code",
   "execution_count": null,
   "id": "f95289b2-de20-4ad5-861b-a6a682af91b6",
   "metadata": {},
   "outputs": [],
   "source": []
  }
 ],
 "metadata": {
  "kernelspec": {
   "display_name": "Python 3 (ipykernel)",
   "language": "python",
   "name": "python3"
  },
  "language_info": {
   "codemirror_mode": {
    "name": "ipython",
    "version": 3
   },
   "file_extension": ".py",
   "mimetype": "text/x-python",
   "name": "python",
   "nbconvert_exporter": "python",
   "pygments_lexer": "ipython3",
   "version": "3.9.7"
  },
  "latex_envs": {
   "LaTeX_envs_menu_present": true,
   "autoclose": false,
   "autocomplete": true,
   "bibliofile": "biblio.bib",
   "cite_by": "apalike",
   "current_citInitial": 1,
   "eqLabelWithNumbers": true,
   "eqNumInitial": 1,
   "hotkeys": {
    "equation": "Ctrl-E",
    "itemize": "Ctrl-I"
   },
   "labels_anchors": false,
   "latex_user_defs": false,
   "report_style_numbering": false,
   "user_envs_cfg": false
  },
  "toc": {
   "base_numbering": 1,
   "nav_menu": {},
   "number_sections": true,
   "sideBar": true,
   "skip_h1_title": false,
   "title_cell": "Table of Contents",
   "title_sidebar": "Contents",
   "toc_cell": false,
   "toc_position": {
    "height": "calc(100% - 180px)",
    "left": "10px",
    "top": "150px",
    "width": "330px"
   },
   "toc_section_display": true,
   "toc_window_display": true
  }
 },
 "nbformat": 4,
 "nbformat_minor": 5
}
