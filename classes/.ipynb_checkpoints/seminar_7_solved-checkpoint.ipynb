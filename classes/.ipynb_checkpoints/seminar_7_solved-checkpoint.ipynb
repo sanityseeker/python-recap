{
 "cells": [
  {
   "cell_type": "markdown",
   "id": "8531578a",
   "metadata": {},
   "source": [
    "# Useful decorators"
   ]
  },
  {
   "cell_type": "markdown",
   "id": "ff91d86a",
   "metadata": {},
   "source": [
    "## classmethod / staticmethod"
   ]
  },
  {
   "cell_type": "markdown",
   "id": "f01de1db",
   "metadata": {},
   "source": [
    "**@classmethod** заставляет декорируемую функцию оперировать самим классом, а не конкретным его инстансом (не требует создания объекта-инстанса класса) "
   ]
  },
  {
   "cell_type": "markdown",
   "id": "809bcab2",
   "metadata": {},
   "source": [
    "**@staticmethod** \"отвязывает\" декорируемую функцию от ее класса в том смысле, что функция теряет доступ к полям класса и полям инстанса класса. Но зато и не требует создания инстанса для своей работы"
   ]
  },
  {
   "cell_type": "code",
   "execution_count": 29,
   "id": "6a6c4dca",
   "metadata": {},
   "outputs": [],
   "source": [
    "class MethodsDemo:\n",
    "    \"\"\"\n",
    "    A sample class for classmethods and staticmethods\n",
    "    \"\"\"\n",
    "    NAME = 'methods_demo'\n",
    "    \n",
    "    def __init__(self, nickname='default', *args):\n",
    "        self.nickname = nickname\n",
    "        \n",
    "    def do(self, *args):\n",
    "#         print('self is', self)\n",
    "#         print(args)\n",
    "        return args\n",
    "    \n",
    "    def access_fields(self, *args):\n",
    "        return self.NAME, self.nickname\n",
    "    \n",
    "    @classmethod\n",
    "    def do_classmethod(*args):\n",
    "        return args\n",
    "    \n",
    "    @classmethod\n",
    "    def access_fields_cls(cls, *args):\n",
    "        return cls.NAME\n",
    "    \n",
    "    @classmethod\n",
    "    def generate_cls(cls, *args):\n",
    "        return cls(*args)\n",
    "    \n",
    "    @staticmethod\n",
    "    def do_staticmethod(*args):\n",
    "        return args"
   ]
  },
  {
   "cell_type": "code",
   "execution_count": 30,
   "id": "10bf78fd",
   "metadata": {},
   "outputs": [
    {
     "data": {
      "text/plain": [
       "['NAME',\n",
       " '__class__',\n",
       " '__delattr__',\n",
       " '__dict__',\n",
       " '__dir__',\n",
       " '__doc__',\n",
       " '__eq__',\n",
       " '__format__',\n",
       " '__ge__',\n",
       " '__getattribute__',\n",
       " '__gt__',\n",
       " '__hash__',\n",
       " '__init__',\n",
       " '__init_subclass__',\n",
       " '__le__',\n",
       " '__lt__',\n",
       " '__module__',\n",
       " '__ne__',\n",
       " '__new__',\n",
       " '__reduce__',\n",
       " '__reduce_ex__',\n",
       " '__repr__',\n",
       " '__setattr__',\n",
       " '__sizeof__',\n",
       " '__str__',\n",
       " '__subclasshook__',\n",
       " '__weakref__',\n",
       " 'access_fields',\n",
       " 'access_fields_cls',\n",
       " 'do',\n",
       " 'do_classmethod',\n",
       " 'do_staticmethod',\n",
       " 'generate_cls']"
      ]
     },
     "execution_count": 30,
     "metadata": {},
     "output_type": "execute_result"
    }
   ],
   "source": [
    "dir(MethodsDemo)"
   ]
  },
  {
   "cell_type": "markdown",
   "id": "5aeecf83",
   "metadata": {},
   "source": [
    "### Вызовы"
   ]
  },
  {
   "cell_type": "code",
   "execution_count": 4,
   "id": "1dc75885",
   "metadata": {},
   "outputs": [
    {
     "data": {
      "text/plain": [
       "(__main__.MethodsDemo, 'param')"
      ]
     },
     "execution_count": 4,
     "metadata": {},
     "output_type": "execute_result"
    }
   ],
   "source": [
    "MethodsDemo.do_classmethod('param')"
   ]
  },
  {
   "cell_type": "code",
   "execution_count": 5,
   "id": "7008a1dd",
   "metadata": {},
   "outputs": [
    {
     "data": {
      "text/plain": [
       "('param',)"
      ]
     },
     "execution_count": 5,
     "metadata": {},
     "output_type": "execute_result"
    }
   ],
   "source": [
    "MethodsDemo.do_staticmethod('param')"
   ]
  },
  {
   "cell_type": "code",
   "execution_count": 13,
   "id": "441a87b4",
   "metadata": {},
   "outputs": [
    {
     "data": {
      "text/plain": [
       "('param',)"
      ]
     },
     "execution_count": 13,
     "metadata": {},
     "output_type": "execute_result"
    }
   ],
   "source": [
    "MethodsDemo().do('param')"
   ]
  },
  {
   "cell_type": "markdown",
   "id": "728e9284",
   "metadata": {},
   "source": [
    "### Доступы к полям"
   ]
  },
  {
   "cell_type": "code",
   "execution_count": 15,
   "id": "9e0f56a6",
   "metadata": {},
   "outputs": [
    {
     "ename": "TypeError",
     "evalue": "access_fields() missing 1 required positional argument: 'self'",
     "output_type": "error",
     "traceback": [
      "\u001b[0;31m---------------------------------------------------------------------------\u001b[0m",
      "\u001b[0;31mTypeError\u001b[0m                                 Traceback (most recent call last)",
      "\u001b[0;32m/tmp/ipykernel_971357/3918477518.py\u001b[0m in \u001b[0;36m<module>\u001b[0;34m\u001b[0m\n\u001b[0;32m----> 1\u001b[0;31m \u001b[0mMethodsDemo\u001b[0m\u001b[0;34m.\u001b[0m\u001b[0maccess_fields\u001b[0m\u001b[0;34m(\u001b[0m\u001b[0;34m)\u001b[0m\u001b[0;34m\u001b[0m\u001b[0;34m\u001b[0m\u001b[0m\n\u001b[0m",
      "\u001b[0;31mTypeError\u001b[0m: access_fields() missing 1 required positional argument: 'self'"
     ]
    }
   ],
   "source": [
    "MethodsDemo.access_fields()"
   ]
  },
  {
   "cell_type": "code",
   "execution_count": 19,
   "id": "f3ccd1bb",
   "metadata": {},
   "outputs": [
    {
     "data": {
      "text/plain": [
       "('methods_demo', 'default')"
      ]
     },
     "execution_count": 19,
     "metadata": {},
     "output_type": "execute_result"
    }
   ],
   "source": [
    "MethodsDemo().access_fields()"
   ]
  },
  {
   "cell_type": "code",
   "execution_count": 23,
   "id": "b571d887",
   "metadata": {},
   "outputs": [
    {
     "data": {
      "text/plain": [
       "'methods_demo'"
      ]
     },
     "execution_count": 23,
     "metadata": {},
     "output_type": "execute_result"
    }
   ],
   "source": [
    "MethodsDemo.access_fields_cls()"
   ]
  },
  {
   "cell_type": "markdown",
   "id": "394981b6",
   "metadata": {},
   "source": [
    "staticmethod не имеет доступов к полям, classmethod имеет доступ только к полям класса"
   ]
  },
  {
   "cell_type": "code",
   "execution_count": 26,
   "id": "08d2dced",
   "metadata": {},
   "outputs": [
    {
     "data": {
      "text/plain": [
       "('methods_demo', 'new_nick')"
      ]
     },
     "execution_count": 26,
     "metadata": {},
     "output_type": "execute_result"
    }
   ],
   "source": [
    "MethodsDemo.generate_cls('new_nick').access_fields()"
   ]
  },
  {
   "cell_type": "code",
   "execution_count": 33,
   "id": "0c91e50f",
   "metadata": {},
   "outputs": [
    {
     "data": {
      "text/plain": [
       "mappingproxy({'__module__': '__main__',\n",
       "              '__doc__': '\\n    A sample class for classmethods and staticmethods\\n    ',\n",
       "              'NAME': 'methods_demo',\n",
       "              '__init__': <function __main__.MethodsDemo.__init__(self, nickname='default', *args)>,\n",
       "              'do': <function __main__.MethodsDemo.do(self, *args)>,\n",
       "              'access_fields': <function __main__.MethodsDemo.access_fields(self, *args)>,\n",
       "              'do_classmethod': <classmethod at 0x7f7e50533510>,\n",
       "              'access_fields_cls': <classmethod at 0x7f7e505335d0>,\n",
       "              'generate_cls': <classmethod at 0x7f7e50533690>,\n",
       "              'do_staticmethod': <staticmethod at 0x7f7e505336d0>,\n",
       "              '__dict__': <attribute '__dict__' of 'MethodsDemo' objects>,\n",
       "              '__weakref__': <attribute '__weakref__' of 'MethodsDemo' objects>})"
      ]
     },
     "execution_count": 33,
     "metadata": {},
     "output_type": "execute_result"
    }
   ],
   "source": [
    "MethodsDemo.__dict__"
   ]
  },
  {
   "cell_type": "code",
   "execution_count": 34,
   "id": "0107a92d",
   "metadata": {},
   "outputs": [
    {
     "data": {
      "text/plain": [
       "{'nickname': 'default'}"
      ]
     },
     "execution_count": 34,
     "metadata": {},
     "output_type": "execute_result"
    }
   ],
   "source": [
    "MethodsDemo().__dict__"
   ]
  },
  {
   "cell_type": "markdown",
   "id": "7cd38aee",
   "metadata": {},
   "source": [
    "## property"
   ]
  },
  {
   "cell_type": "code",
   "execution_count": 41,
   "id": "94d68e38",
   "metadata": {},
   "outputs": [],
   "source": [
    "class PropertyShow:\n",
    "    def __init__(self, var):\n",
    "        self._var = var\n",
    "    \n",
    "    @property\n",
    "    def x(self):\n",
    "        return self._var"
   ]
  },
  {
   "cell_type": "code",
   "execution_count": 42,
   "id": "b2661f72",
   "metadata": {},
   "outputs": [],
   "source": [
    "cls = PropertyShow(42)"
   ]
  },
  {
   "cell_type": "code",
   "execution_count": 47,
   "id": "e87b2734",
   "metadata": {},
   "outputs": [
    {
     "data": {
      "text/plain": [
       "42"
      ]
     },
     "execution_count": 47,
     "metadata": {},
     "output_type": "execute_result"
    }
   ],
   "source": [
    "cls.x"
   ]
  },
  {
   "cell_type": "code",
   "execution_count": 45,
   "id": "af198e3b",
   "metadata": {},
   "outputs": [
    {
     "data": {
      "text/plain": [
       "42"
      ]
     },
     "execution_count": 45,
     "metadata": {},
     "output_type": "execute_result"
    }
   ],
   "source": [
    "cls._var"
   ]
  },
  {
   "cell_type": "code",
   "execution_count": 49,
   "id": "6fa735d4",
   "metadata": {},
   "outputs": [],
   "source": [
    "class NotPropertyShow:\n",
    "    def __init__(self, var):\n",
    "        self._var = var\n",
    "    \n",
    "    def x(self):\n",
    "        return self._var"
   ]
  },
  {
   "cell_type": "code",
   "execution_count": 50,
   "id": "de291d52",
   "metadata": {},
   "outputs": [],
   "source": [
    "cls = NotPropertyShow(42)"
   ]
  },
  {
   "cell_type": "code",
   "execution_count": 51,
   "id": "2ba53b41",
   "metadata": {},
   "outputs": [
    {
     "data": {
      "text/plain": [
       "42"
      ]
     },
     "execution_count": 51,
     "metadata": {},
     "output_type": "execute_result"
    }
   ],
   "source": [
    "cls.x()"
   ]
  },
  {
   "cell_type": "code",
   "execution_count": 53,
   "id": "62ff25f0",
   "metadata": {},
   "outputs": [
    {
     "data": {
      "text/plain": [
       "42"
      ]
     },
     "execution_count": 53,
     "metadata": {},
     "output_type": "execute_result"
    }
   ],
   "source": [
    "cls._var"
   ]
  },
  {
   "cell_type": "markdown",
   "id": "acb946e8",
   "metadata": {},
   "source": [
    "To understand what's going on, read great SO answer [here](https://stackoverflow.com/questions/17330160/how-does-the-property-decorator-work-in-python)"
   ]
  },
  {
   "cell_type": "markdown",
   "id": "a6a05461",
   "metadata": {},
   "source": [
    "## class as a decorator"
   ]
  },
  {
   "cell_type": "markdown",
   "id": "ceb65b85",
   "metadata": {},
   "source": [
    "Экземпляры класса могут быть callable. А если функция может быть декоратором, то что мешает тогда классу? Должен быть определен magic метод `__call__`"
   ]
  },
  {
   "cell_type": "code",
   "execution_count": 54,
   "id": "92446db3",
   "metadata": {},
   "outputs": [],
   "source": [
    "class ClassDecorator:\n",
    "    def __init__(self, func):\n",
    "        self.entry_str = '[decorating inner func]'\n",
    "        self.function = func\n",
    "        self.close_str = '[letting the song flow]'\n",
    "\n",
    "     \n",
    "    def __call__(self):\n",
    "        print(self.entry_str)\n",
    "        self.function()\n",
    "        print(self.close_str)\n",
    "\n",
    " \n",
    " \n",
    "@ClassDecorator\n",
    "def function():\n",
    "    print('Vanderlyle crybaby cry...')"
   ]
  },
  {
   "cell_type": "code",
   "execution_count": 56,
   "id": "4c204065",
   "metadata": {},
   "outputs": [
    {
     "name": "stdout",
     "output_type": "stream",
     "text": [
      "[decorating inner func]\n",
      "Vanderlyle crybaby cry...\n",
      "[letting the song flow]\n"
     ]
    }
   ],
   "source": [
    "function()"
   ]
  },
  {
   "cell_type": "markdown",
   "id": "cf870a4f",
   "metadata": {},
   "source": [
    "Как и в декораторах-функциях, мы тоже можем возвращать значения (а не только использовать print) и делать параметры"
   ]
  },
  {
   "cell_type": "markdown",
   "id": "f32762db",
   "metadata": {},
   "source": [
    "Сделаем таймер"
   ]
  },
  {
   "cell_type": "code",
   "execution_count": 60,
   "id": "0003e077",
   "metadata": {},
   "outputs": [],
   "source": [
    "import time\n",
    "\n",
    "class Timer:\n",
    "    def __init__(self, func):\n",
    "        self.func = func\n",
    "    \n",
    "    def __call__(self, *args):\n",
    "        t_start = time.time()\n",
    "        res = self.func(*args)\n",
    "        total_time = time.time() - t_start\n",
    "        print(f'{self.func.__name__}({args}) -> {res} executed in {total_time:.2f}s')\n",
    "        return res"
   ]
  },
  {
   "cell_type": "code",
   "execution_count": 61,
   "id": "48658a66",
   "metadata": {},
   "outputs": [],
   "source": [
    "@Timer\n",
    "def slow_func(seconds_to_sleep):\n",
    "    time.sleep(seconds_to_sleep)\n",
    "    return 73"
   ]
  },
  {
   "cell_type": "code",
   "execution_count": 62,
   "id": "a86e77a6",
   "metadata": {},
   "outputs": [
    {
     "name": "stdout",
     "output_type": "stream",
     "text": [
      "slow_func((3,)) -> 73 executed in 3.00s\n"
     ]
    },
    {
     "data": {
      "text/plain": [
       "73"
      ]
     },
     "execution_count": 62,
     "metadata": {},
     "output_type": "execute_result"
    }
   ],
   "source": [
    "slow_func(3)"
   ]
  },
  {
   "cell_type": "markdown",
   "id": "6039aa2e",
   "metadata": {},
   "source": [
    "## class as decorated"
   ]
  },
  {
   "cell_type": "markdown",
   "id": "9347aeef",
   "metadata": {},
   "source": [
    "Класс может быть тоже декорирован функцией или классом"
   ]
  },
  {
   "cell_type": "code",
   "execution_count": 70,
   "id": "9878f6c1",
   "metadata": {},
   "outputs": [
    {
     "name": "stdout",
     "output_type": "stream",
     "text": [
      "Target running\n"
     ]
    },
    {
     "data": {
      "text/plain": [
       "{'arg_list': ('one', 1)}"
      ]
     },
     "execution_count": 70,
     "metadata": {},
     "output_type": "execute_result"
    }
   ],
   "source": [
    "def decorator_function(target):\n",
    "\n",
    "    def decorator_init(self, *args):\n",
    "        print(\"Decorator running\")\n",
    "    \n",
    "    print('I changed __init__ in class')\n",
    "    target.__init__ = decorator_init\n",
    "\n",
    "    return target\n",
    "\n",
    "\n",
    "class Target:\n",
    "\n",
    "    def __init__(self, *args):\n",
    "        self.arg_list = args\n",
    "        print(\"Target running\")\n",
    "\n",
    "\n",
    "t = Target('one', 1)\n",
    "t.__dict__"
   ]
  },
  {
   "cell_type": "code",
   "execution_count": 71,
   "id": "79d5aaf9",
   "metadata": {},
   "outputs": [
    {
     "name": "stdout",
     "output_type": "stream",
     "text": [
      "I changed __init__ in class\n"
     ]
    }
   ],
   "source": [
    "@decorator_function\n",
    "class Target:\n",
    "\n",
    "    def __init__(self, *args):\n",
    "        self.arg_list = args\n",
    "        print(\"Target running\")"
   ]
  },
  {
   "cell_type": "code",
   "execution_count": 72,
   "id": "96c3df79",
   "metadata": {},
   "outputs": [
    {
     "name": "stdout",
     "output_type": "stream",
     "text": [
      "Decorator running\n"
     ]
    },
    {
     "data": {
      "text/plain": [
       "{}"
      ]
     },
     "execution_count": 72,
     "metadata": {},
     "output_type": "execute_result"
    }
   ],
   "source": [
    "dt = Target('one', 1)\n",
    "dt.__dict__"
   ]
  },
  {
   "cell_type": "markdown",
   "id": "6a150370",
   "metadata": {},
   "source": [
    "# Descriptors"
   ]
  },
  {
   "cell_type": "markdown",
   "id": "b96e01ed",
   "metadata": {},
   "source": [
    "Короткое описание в [доке](https://docs.python.org/3/reference/datamodel.html#invoking-descriptors)"
   ]
  },
  {
   "cell_type": "markdown",
   "id": "23b5fb6e",
   "metadata": {},
   "source": [
    "Мы самом деле, мы с вами уже выше познакомились с частным примером такой сущности."
   ]
  },
  {
   "cell_type": "markdown",
   "id": "44dab0c8",
   "metadata": {},
   "source": [
    "Дескриптор -- это объект с определенными методами `__get__()`, `__set__()` и `__delete__()`"
   ]
  },
  {
   "cell_type": "markdown",
   "id": "56db4f0a",
   "metadata": {},
   "source": [
    "Обычно когда в Python мы хотим получить доступ к атрибуту класса, то сначала мы ищем его в `__dict__` инстанса класса, потом в классе, и далее выше по цепочке наследования."
   ]
  },
  {
   "cell_type": "markdown",
   "id": "ad1cab6f",
   "metadata": {},
   "source": [
    "## Basics"
   ]
  },
  {
   "cell_type": "code",
   "execution_count": 74,
   "id": "9d194198",
   "metadata": {},
   "outputs": [],
   "source": [
    "class BestConstant:\n",
    "    def __get__(self, obj, objtype=None):\n",
    "        print('Using descriptor')\n",
    "        return 73\n",
    "\n",
    "class Number:\n",
    "    x = 10\n",
    "    y = BestConstant()  # наш дескриптор"
   ]
  },
  {
   "cell_type": "code",
   "execution_count": 79,
   "id": "43e4590f",
   "metadata": {},
   "outputs": [],
   "source": [
    "num = Number()"
   ]
  },
  {
   "cell_type": "code",
   "execution_count": 80,
   "id": "10edb3e6",
   "metadata": {},
   "outputs": [
    {
     "name": "stdout",
     "output_type": "stream",
     "text": [
      "Using descriptor\n"
     ]
    },
    {
     "data": {
      "text/plain": [
       "(10, 73)"
      ]
     },
     "execution_count": 80,
     "metadata": {},
     "output_type": "execute_result"
    }
   ],
   "source": [
    "num.x, num.y"
   ]
  },
  {
   "cell_type": "code",
   "execution_count": 81,
   "id": "3309948b",
   "metadata": {},
   "outputs": [
    {
     "data": {
      "text/plain": [
       "({},\n",
       " mappingproxy({'__module__': '__main__',\n",
       "               'x': 10,\n",
       "               'y': <__main__.BestConstant at 0x7f7e2f2de190>,\n",
       "               '__dict__': <attribute '__dict__' of 'Number' objects>,\n",
       "               '__weakref__': <attribute '__weakref__' of 'Number' objects>,\n",
       "               '__doc__': None}))"
      ]
     },
     "execution_count": 81,
     "metadata": {},
     "output_type": "execute_result"
    }
   ],
   "source": [
    "num.__dict__, Number.__dict__"
   ]
  },
  {
   "cell_type": "code",
   "execution_count": 82,
   "id": "12a48fa8",
   "metadata": {},
   "outputs": [],
   "source": [
    "num.__dict__['y'] = 42"
   ]
  },
  {
   "cell_type": "code",
   "execution_count": 83,
   "id": "0976da7c",
   "metadata": {},
   "outputs": [
    {
     "data": {
      "text/plain": [
       "42"
      ]
     },
     "execution_count": 83,
     "metadata": {},
     "output_type": "execute_result"
    }
   ],
   "source": [
    "num.y"
   ]
  },
  {
   "cell_type": "code",
   "execution_count": 84,
   "id": "f2d68e02",
   "metadata": {},
   "outputs": [
    {
     "data": {
      "text/plain": [
       "{'y': 42}"
      ]
     },
     "execution_count": 84,
     "metadata": {},
     "output_type": "execute_result"
    }
   ],
   "source": [
    "num.__dict__"
   ]
  },
  {
   "cell_type": "markdown",
   "id": "0041d25c",
   "metadata": {},
   "source": [
    "Видим, что мы переписали значение. Дескриптор, у которого определен только get, называется non-data дескриптором"
   ]
  },
  {
   "cell_type": "code",
   "execution_count": 85,
   "id": "6b84154b",
   "metadata": {},
   "outputs": [],
   "source": [
    "class BestConstantComplete:\n",
    "    def __get__(self, obj, objtype=None):\n",
    "        print('using descriptor')\n",
    "        return obj._y\n",
    "    \n",
    "    def __set__(self, obj, value):\n",
    "        obj._y = value\n",
    "        \n",
    "    def __delete__(self, obj):\n",
    "        del obj._y\n",
    "\n",
    "class Number:\n",
    "    y = BestConstantComplete()  # наш дескриптор\n",
    "    \n",
    "    def __init__(self, x=10, y=42):\n",
    "        self.x = x\n",
    "        self.y = y"
   ]
  },
  {
   "cell_type": "code",
   "execution_count": 86,
   "id": "27fdf9bf",
   "metadata": {},
   "outputs": [],
   "source": [
    "num = Number()"
   ]
  },
  {
   "cell_type": "code",
   "execution_count": 87,
   "id": "ae0aabdb",
   "metadata": {},
   "outputs": [
    {
     "data": {
      "text/plain": [
       "{'x': 10, '_y': 42}"
      ]
     },
     "execution_count": 87,
     "metadata": {},
     "output_type": "execute_result"
    }
   ],
   "source": [
    "num.__dict__"
   ]
  },
  {
   "cell_type": "code",
   "execution_count": 89,
   "id": "966d9ec1",
   "metadata": {},
   "outputs": [
    {
     "name": "stdout",
     "output_type": "stream",
     "text": [
      "using descriptor\n"
     ]
    },
    {
     "data": {
      "text/plain": [
       "42"
      ]
     },
     "execution_count": 89,
     "metadata": {},
     "output_type": "execute_result"
    }
   ],
   "source": [
    "num.y"
   ]
  },
  {
   "cell_type": "code",
   "execution_count": 90,
   "id": "c7a2adf4",
   "metadata": {},
   "outputs": [],
   "source": [
    "num.y = 73"
   ]
  },
  {
   "cell_type": "code",
   "execution_count": 92,
   "id": "a8aef4bb",
   "metadata": {},
   "outputs": [
    {
     "name": "stdout",
     "output_type": "stream",
     "text": [
      "using descriptor\n"
     ]
    },
    {
     "data": {
      "text/plain": [
       "73"
      ]
     },
     "execution_count": 92,
     "metadata": {},
     "output_type": "execute_result"
    }
   ],
   "source": [
    "num.y"
   ]
  },
  {
   "cell_type": "code",
   "execution_count": 93,
   "id": "d50be6cf",
   "metadata": {},
   "outputs": [
    {
     "data": {
      "text/plain": [
       "{'x': 10, '_y': 73}"
      ]
     },
     "execution_count": 93,
     "metadata": {},
     "output_type": "execute_result"
    }
   ],
   "source": [
    "num.__dict__"
   ]
  },
  {
   "cell_type": "code",
   "execution_count": 94,
   "id": "32c11407",
   "metadata": {},
   "outputs": [],
   "source": [
    "num.__dict__['y'] = 100"
   ]
  },
  {
   "cell_type": "code",
   "execution_count": 95,
   "id": "14562dee",
   "metadata": {},
   "outputs": [
    {
     "data": {
      "text/plain": [
       "{'x': 10, '_y': 73, 'y': 100}"
      ]
     },
     "execution_count": 95,
     "metadata": {},
     "output_type": "execute_result"
    }
   ],
   "source": [
    "num.__dict__"
   ]
  },
  {
   "cell_type": "code",
   "execution_count": 97,
   "id": "15294cda",
   "metadata": {},
   "outputs": [
    {
     "name": "stdout",
     "output_type": "stream",
     "text": [
      "using descriptor\n"
     ]
    },
    {
     "data": {
      "text/plain": [
       "73"
      ]
     },
     "execution_count": 97,
     "metadata": {},
     "output_type": "execute_result"
    }
   ],
   "source": [
    "num.y"
   ]
  },
  {
   "cell_type": "markdown",
   "id": "f228ecc7",
   "metadata": {},
   "source": [
    "Если у дескриптора определен `__set__`, то Python при попытке достать атрибут по названию, будет доставать сначала дескриптор, даже если в `__dict__` объекта лежит что-то одноименное "
   ]
  },
  {
   "cell_type": "markdown",
   "id": "78aa857c",
   "metadata": {},
   "source": [
    "## Closer to Real world"
   ]
  },
  {
   "cell_type": "markdown",
   "id": "ca0b8ea7",
   "metadata": {},
   "source": [
    "Например, с помощью дескрипторов можно написать логгер запросов к полю класса.\n",
    "\n",
    "Пример из документации:"
   ]
  },
  {
   "cell_type": "code",
   "execution_count": 98,
   "id": "852feae9",
   "metadata": {},
   "outputs": [],
   "source": [
    "import logging\n",
    "\n",
    "logging.basicConfig(level=logging.INFO)\n",
    "\n",
    "class LoggedAgeAccess:\n",
    "\n",
    "    def __get__(self, obj, objtype=None):\n",
    "        value = obj._age\n",
    "        logging.info(f'Accessing \"age\" giving {value}')\n",
    "        return value\n",
    "\n",
    "    def __set__(self, obj, value):\n",
    "        logging.info(f'Updating age to {value}')\n",
    "        obj._age = value\n",
    "\n",
    "class Person:\n",
    "\n",
    "    age = LoggedAgeAccess()             # Descriptor instance\n",
    "\n",
    "    def __init__(self, name, age):\n",
    "        self.name = name                # Regular instance attribute\n",
    "        self.age = age                  # Calls __set__()\n",
    "\n",
    "    def birthday(self):\n",
    "        self.age += 1"
   ]
  },
  {
   "cell_type": "code",
   "execution_count": 99,
   "id": "d857145b",
   "metadata": {},
   "outputs": [
    {
     "name": "stderr",
     "output_type": "stream",
     "text": [
      "INFO:root:Updating age to 23\n"
     ]
    }
   ],
   "source": [
    "denis = Person('Denis Belyakov', 23)"
   ]
  },
  {
   "cell_type": "code",
   "execution_count": 100,
   "id": "fb8f8a9d",
   "metadata": {},
   "outputs": [
    {
     "data": {
      "text/plain": [
       "{'name': 'Denis Belyakov', '_age': 23}"
      ]
     },
     "execution_count": 100,
     "metadata": {},
     "output_type": "execute_result"
    }
   ],
   "source": [
    "vars(denis)"
   ]
  },
  {
   "cell_type": "code",
   "execution_count": 101,
   "id": "ee9be8c1",
   "metadata": {},
   "outputs": [
    {
     "data": {
      "text/plain": [
       "{'name': 'Denis Belyakov', '_age': 23}"
      ]
     },
     "execution_count": 101,
     "metadata": {},
     "output_type": "execute_result"
    }
   ],
   "source": [
    "denis.__dict__"
   ]
  },
  {
   "cell_type": "code",
   "execution_count": 102,
   "id": "e9c067bc",
   "metadata": {},
   "outputs": [
    {
     "name": "stderr",
     "output_type": "stream",
     "text": [
      "INFO:root:Accessing \"age\" giving 23\n"
     ]
    },
    {
     "data": {
      "text/plain": [
       "23"
      ]
     },
     "execution_count": 102,
     "metadata": {},
     "output_type": "execute_result"
    }
   ],
   "source": [
    "denis.age"
   ]
  },
  {
   "cell_type": "code",
   "execution_count": 103,
   "id": "a7bf4375",
   "metadata": {},
   "outputs": [
    {
     "data": {
      "text/plain": [
       "'Denis Belyakov'"
      ]
     },
     "execution_count": 103,
     "metadata": {},
     "output_type": "execute_result"
    }
   ],
   "source": [
    "denis.name"
   ]
  },
  {
   "cell_type": "code",
   "execution_count": 105,
   "id": "b622f18f",
   "metadata": {},
   "outputs": [
    {
     "data": {
      "text/plain": [
       "23"
      ]
     },
     "execution_count": 105,
     "metadata": {},
     "output_type": "execute_result"
    }
   ],
   "source": [
    "denis._age"
   ]
  },
  {
   "cell_type": "markdown",
   "id": "b15eb35e",
   "metadata": {},
   "source": [
    "## And yes, property"
   ]
  },
  {
   "cell_type": "code",
   "execution_count": 106,
   "id": "3a307949",
   "metadata": {},
   "outputs": [
    {
     "data": {
      "text/plain": [
       "mappingproxy({'__getattribute__': <slot wrapper '__getattribute__' of 'property' objects>,\n",
       "              '__get__': <slot wrapper '__get__' of 'property' objects>,\n",
       "              '__set__': <slot wrapper '__set__' of 'property' objects>,\n",
       "              '__delete__': <slot wrapper '__delete__' of 'property' objects>,\n",
       "              '__init__': <slot wrapper '__init__' of 'property' objects>,\n",
       "              '__new__': <function property.__new__(*args, **kwargs)>,\n",
       "              'getter': <method 'getter' of 'property' objects>,\n",
       "              'setter': <method 'setter' of 'property' objects>,\n",
       "              'deleter': <method 'deleter' of 'property' objects>,\n",
       "              'fget': <member 'fget' of 'property' objects>,\n",
       "              'fset': <member 'fset' of 'property' objects>,\n",
       "              'fdel': <member 'fdel' of 'property' objects>,\n",
       "              '__doc__': <member '__doc__' of 'property' objects>,\n",
       "              '__isabstractmethod__': <attribute '__isabstractmethod__' of 'property' objects>})"
      ]
     },
     "execution_count": 106,
     "metadata": {},
     "output_type": "execute_result"
    }
   ],
   "source": [
    "property.__dict__"
   ]
  },
  {
   "cell_type": "markdown",
   "id": "1098a34b",
   "metadata": {},
   "source": [
    "    The main motivation for descriptors is to provide a hook allowing objects stored in class variables to control what happens during attribute lookup."
   ]
  },
  {
   "cell_type": "markdown",
   "id": "0b83d560",
   "metadata": {},
   "source": [
    "Хорошая [лекция](http://uneex.org/LecturesCMC/PythonIntro2020/11_MiscOOP) на тему"
   ]
  },
  {
   "cell_type": "markdown",
   "id": "a93ca0a0",
   "metadata": {},
   "source": [
    "Развернутый [док](https://docs.python.org/3/howto/descriptor.html)"
   ]
  },
  {
   "cell_type": "markdown",
   "id": "50c5ae49",
   "metadata": {},
   "source": [
    "# Inheritance"
   ]
  },
  {
   "cell_type": "markdown",
   "id": "7e89371f",
   "metadata": {},
   "source": [
    "## Basics"
   ]
  },
  {
   "cell_type": "markdown",
   "id": "4f3173f7",
   "metadata": {},
   "source": [
    "Синтаксис простой"
   ]
  },
  {
   "cell_type": "code",
   "execution_count": 107,
   "id": "befb7987",
   "metadata": {},
   "outputs": [],
   "source": [
    "class BetterList(list):\n",
    "    # поля и методы\n",
    "    pass"
   ]
  },
  {
   "cell_type": "markdown",
   "id": "6daeeea3",
   "metadata": {},
   "source": [
    "Порядок видимости снизу вверх: объект -> класс -> родительский класс"
   ]
  },
  {
   "cell_type": "markdown",
   "id": "8963eefd",
   "metadata": {},
   "source": [
    "Для доступа к полям родителя используется `super()`"
   ]
  },
  {
   "cell_type": "code",
   "execution_count": 108,
   "id": "a30c7cfe",
   "metadata": {},
   "outputs": [],
   "source": [
    "class Parent:\n",
    "    def letter(self):\n",
    "        return 'D'\n",
    "    \n",
    "class Child(Parent):\n",
    "    def letter(self):\n",
    "        return super().letter() + 'B'"
   ]
  },
  {
   "cell_type": "code",
   "execution_count": 109,
   "id": "7c06072f",
   "metadata": {},
   "outputs": [],
   "source": [
    "a = Parent()\n",
    "b = Child()"
   ]
  },
  {
   "cell_type": "code",
   "execution_count": 110,
   "id": "6a3d0489",
   "metadata": {},
   "outputs": [
    {
     "data": {
      "text/plain": [
       "'D'"
      ]
     },
     "execution_count": 110,
     "metadata": {},
     "output_type": "execute_result"
    }
   ],
   "source": [
    "a.letter()"
   ]
  },
  {
   "cell_type": "code",
   "execution_count": 111,
   "id": "03669171",
   "metadata": {},
   "outputs": [
    {
     "data": {
      "text/plain": [
       "'DB'"
      ]
     },
     "execution_count": 111,
     "metadata": {},
     "output_type": "execute_result"
    }
   ],
   "source": [
    "b.letter()"
   ]
  },
  {
   "cell_type": "code",
   "execution_count": 112,
   "id": "fecb6854",
   "metadata": {},
   "outputs": [],
   "source": [
    "class Parent:\n",
    "    def __init__(self, letter='D'):\n",
    "        self._letter = letter\n",
    "        \n",
    "    def get_letter(self):\n",
    "        return self._letter\n",
    "    \n",
    "class Child(Parent):\n",
    "    def __init__(self, parent_letter='D', child_letter='B'):\n",
    "        super().__init__(parent_letter)\n",
    "        print(f'parent inited {self._letter}')\n",
    "        self.new_letter = child_letter\n",
    "        \n",
    "    def get_child_letter(self):\n",
    "        return self.new_letter"
   ]
  },
  {
   "cell_type": "code",
   "execution_count": 113,
   "id": "7e0184cd",
   "metadata": {},
   "outputs": [
    {
     "name": "stdout",
     "output_type": "stream",
     "text": [
      "parent inited D\n"
     ]
    }
   ],
   "source": [
    "a = Child()"
   ]
  },
  {
   "cell_type": "code",
   "execution_count": 114,
   "id": "6b0a41d0",
   "metadata": {},
   "outputs": [
    {
     "data": {
      "text/plain": [
       "'D'"
      ]
     },
     "execution_count": 114,
     "metadata": {},
     "output_type": "execute_result"
    }
   ],
   "source": [
    "a.get_letter()"
   ]
  },
  {
   "cell_type": "code",
   "execution_count": 115,
   "id": "95ecd2b4",
   "metadata": {},
   "outputs": [
    {
     "data": {
      "text/plain": [
       "'B'"
      ]
     },
     "execution_count": 115,
     "metadata": {},
     "output_type": "execute_result"
    }
   ],
   "source": [
    "a.get_child_letter()"
   ]
  },
  {
   "cell_type": "code",
   "execution_count": 116,
   "id": "930bc406",
   "metadata": {},
   "outputs": [
    {
     "data": {
      "text/plain": [
       "{'_letter': 'D', 'new_letter': 'B'}"
      ]
     },
     "execution_count": 116,
     "metadata": {},
     "output_type": "execute_result"
    }
   ],
   "source": [
    "a.__dict__"
   ]
  },
  {
   "cell_type": "markdown",
   "id": "e9163979",
   "metadata": {},
   "source": [
    "## Protecting names"
   ]
  },
  {
   "cell_type": "markdown",
   "id": "a7cd07d8",
   "metadata": {},
   "source": [
    "Фичи наследования в доопределении пространства имен и в возможности их перегрузки  "
   ]
  },
  {
   "cell_type": "markdown",
   "id": "48cb11e6",
   "metadata": {},
   "source": [
    "Предполагается, что если пользователь переопредляет имя, значит он этого хочет "
   ]
  },
  {
   "cell_type": "markdown",
   "id": "49f768b0",
   "metadata": {},
   "source": [
    "Если создатель класса не хочет, чтобы какое-то поле было явно перегружено, то можно, например, использовать дескрипторы или особый нейминг"
   ]
  },
  {
   "cell_type": "markdown",
   "id": "4f52e4e1",
   "metadata": {},
   "source": [
    "Есть общее соглашение, что переменные, названные с `_` не надо трогать вне класса, в котором они объявлены"
   ]
  },
  {
   "cell_type": "markdown",
   "id": "740372e4",
   "metadata": {},
   "source": [
    "Также в Python предусмотрен механизм с названием, начинающися с `__`"
   ]
  },
  {
   "cell_type": "code",
   "execution_count": 125,
   "id": "7c4c2b3a",
   "metadata": {},
   "outputs": [],
   "source": [
    "class StrictParent:\n",
    "    def __init__(self):\n",
    "        self.__letter = 'D'\n",
    "\n",
    "class Child(StrictParent):\n",
    "    def __init__(self):\n",
    "        super().__init__()\n",
    "        self._letter = 'B'"
   ]
  },
  {
   "cell_type": "code",
   "execution_count": 126,
   "id": "04aee0fc",
   "metadata": {},
   "outputs": [],
   "source": [
    "a = Child()"
   ]
  },
  {
   "cell_type": "code",
   "execution_count": 127,
   "id": "a9d22988",
   "metadata": {},
   "outputs": [
    {
     "data": {
      "text/plain": [
       "{'_StrictParent__letter': 'D', '_letter': 'B'}"
      ]
     },
     "execution_count": 127,
     "metadata": {},
     "output_type": "execute_result"
    }
   ],
   "source": [
    "a.__dict__"
   ]
  },
  {
   "cell_type": "markdown",
   "id": "fc3a47e2-b6d3-473e-b484-a9adf5941492",
   "metadata": {},
   "source": [
    "## Тонкости"
   ]
  },
  {
   "cell_type": "markdown",
   "id": "c19fef8d-c412-450c-af71-08120a3528f3",
   "metadata": {
    "ExecuteTime": {
     "end_time": "2021-11-17T01:15:44.393221Z",
     "start_time": "2021-11-17T01:15:44.388618Z"
    }
   },
   "source": [
    "Вспомним игрушечный пример"
   ]
  },
  {
   "cell_type": "code",
   "execution_count": 2,
   "id": "a06de565-86cc-4ffa-a276-d89a2249eb02",
   "metadata": {
    "ExecuteTime": {
     "end_time": "2021-11-17T01:15:50.014764Z",
     "start_time": "2021-11-17T01:15:50.011636Z"
    }
   },
   "outputs": [],
   "source": [
    "class Parent:\n",
    "    def __init__(self, letter='D'):\n",
    "        self._letter = letter\n",
    "        \n",
    "    def get_letter(self):\n",
    "        return self._letter\n",
    "    \n",
    "class Child(Parent):\n",
    "    def __init__(self, parent_letter='D', child_letter='B'):\n",
    "        super().__init__(parent_letter)\n",
    "        print(f'parent inited {self._letter}')\n",
    "        self.new_letter = child_letter\n",
    "        \n",
    "    def get_child_letter(self):\n",
    "        return self.new_letter"
   ]
  },
  {
   "cell_type": "markdown",
   "id": "4ec8e094-95f8-450e-80e6-0761d3bda2b3",
   "metadata": {},
   "source": [
    "### Предположим, вы хотите отнаследоваться от стандартного типа. Что может пойти не так"
   ]
  },
  {
   "cell_type": "code",
   "execution_count": 3,
   "id": "a52bbb9a-f136-4d32-8805-002a8be378f2",
   "metadata": {
    "ExecuteTime": {
     "end_time": "2021-11-17T01:28:48.101146Z",
     "start_time": "2021-11-17T01:28:48.098261Z"
    }
   },
   "outputs": [],
   "source": [
    "class DoubleTroubleDict(dict):\n",
    "    def __setitem__(self, key, value):\n",
    "        super().__setitem__(key, [value] * 2)"
   ]
  },
  {
   "cell_type": "code",
   "execution_count": 5,
   "id": "33b57da0-93a9-41aa-b32b-ff86f6b8edc5",
   "metadata": {
    "ExecuteTime": {
     "end_time": "2021-11-17T01:29:06.342867Z",
     "start_time": "2021-11-17T01:29:06.336093Z"
    }
   },
   "outputs": [
    {
     "data": {
      "text/plain": [
       "{'one': 1}"
      ]
     },
     "execution_count": 5,
     "metadata": {},
     "output_type": "execute_result"
    }
   ],
   "source": [
    "dd = DoubleTroubleDict(one=1)\n",
    "dd"
   ]
  },
  {
   "cell_type": "code",
   "execution_count": 7,
   "id": "0d9b58f5-f683-4ac9-be2b-6bbbdf3b3b2b",
   "metadata": {
    "ExecuteTime": {
     "end_time": "2021-11-17T01:29:18.148042Z",
     "start_time": "2021-11-17T01:29:18.144400Z"
    }
   },
   "outputs": [
    {
     "data": {
      "text/plain": [
       "{'one': 1, 'two': [2, 2]}"
      ]
     },
     "execution_count": 7,
     "metadata": {},
     "output_type": "execute_result"
    }
   ],
   "source": [
    "dd['two'] = 2\n",
    "dd"
   ]
  },
  {
   "cell_type": "code",
   "execution_count": 9,
   "id": "c00c8c47-0684-4127-82b3-8d0cd09f23a1",
   "metadata": {
    "ExecuteTime": {
     "end_time": "2021-11-17T01:29:29.461395Z",
     "start_time": "2021-11-17T01:29:29.457726Z"
    }
   },
   "outputs": [
    {
     "data": {
      "text/plain": [
       "{'one': 1, 'two': [2, 2], 'three': 3}"
      ]
     },
     "execution_count": 9,
     "metadata": {},
     "output_type": "execute_result"
    }
   ],
   "source": [
    "dd.update(three=3)\n",
    "dd"
   ]
  },
  {
   "cell_type": "markdown",
   "id": "80696b66-3744-492d-bed0-e351a43fc92a",
   "metadata": {},
   "source": [
    "У нас нет никакой гарантии, что `__setitem__` наследника вызывается при обновлении словаря!"
   ]
  },
  {
   "cell_type": "code",
   "execution_count": 21,
   "id": "714e656c-0b21-47b2-bd1d-c2de9a4dbb32",
   "metadata": {
    "ExecuteTime": {
     "end_time": "2021-11-17T01:37:14.435402Z",
     "start_time": "2021-11-17T01:37:14.430678Z"
    }
   },
   "outputs": [
    {
     "data": {
      "text/plain": [
       "42"
      ]
     },
     "execution_count": 21,
     "metadata": {},
     "output_type": "execute_result"
    }
   ],
   "source": [
    "class TroubleAnswerDict(dict):\n",
    "    def __getitem__(self, key):\n",
    "        return 42\n",
    "    \n",
    "bd = TroubleAnswerDict(a='answer')\n",
    "bd['a']"
   ]
  },
  {
   "cell_type": "code",
   "execution_count": 22,
   "id": "f1a3926d-b70d-4c20-928d-3725d5cbbfba",
   "metadata": {
    "ExecuteTime": {
     "end_time": "2021-11-17T01:37:15.203493Z",
     "start_time": "2021-11-17T01:37:15.198619Z"
    }
   },
   "outputs": [
    {
     "data": {
      "text/plain": [
       "{'a': 'answer'}"
      ]
     },
     "execution_count": 22,
     "metadata": {},
     "output_type": "execute_result"
    }
   ],
   "source": [
    "ordinary_d = {}\n",
    "ordinary_d.update(bd)\n",
    "ordinary_d"
   ]
  },
  {
   "cell_type": "markdown",
   "id": "29daf3f3-7f72-44cd-ade5-ec7ecb4ec6c2",
   "metadata": {},
   "source": [
    "Наш `__getitem__` проигнорировали.."
   ]
  },
  {
   "cell_type": "markdown",
   "id": "78c716a4-b6c0-497b-84a3-6fcc16614cda",
   "metadata": {},
   "source": [
    "### Как надо?"
   ]
  },
  {
   "cell_type": "code",
   "execution_count": 12,
   "id": "b217b9df-b549-49c4-a635-2b4f635814f3",
   "metadata": {
    "ExecuteTime": {
     "end_time": "2021-11-17T01:35:38.667037Z",
     "start_time": "2021-11-17T01:35:38.664279Z"
    }
   },
   "outputs": [],
   "source": [
    "from collections import UserDict"
   ]
  },
  {
   "cell_type": "code",
   "execution_count": 17,
   "id": "7092a2d3-1bad-4768-b173-75e7c5be0e92",
   "metadata": {
    "ExecuteTime": {
     "end_time": "2021-11-17T01:36:40.466037Z",
     "start_time": "2021-11-17T01:36:40.462947Z"
    }
   },
   "outputs": [],
   "source": [
    "class DoubleDict(UserDict):\n",
    "    def __setitem__(self, key, value):\n",
    "        super().__setitem__(key, [value] * 2)"
   ]
  },
  {
   "cell_type": "code",
   "execution_count": 18,
   "id": "1b338000-e40c-4efe-8b51-89017dd01e62",
   "metadata": {
    "ExecuteTime": {
     "end_time": "2021-11-17T01:36:40.978374Z",
     "start_time": "2021-11-17T01:36:40.974691Z"
    }
   },
   "outputs": [
    {
     "data": {
      "text/plain": [
       "{'one': [1, 1]}"
      ]
     },
     "execution_count": 18,
     "metadata": {},
     "output_type": "execute_result"
    }
   ],
   "source": [
    "dd = DoubleDict(one=1)\n",
    "dd"
   ]
  },
  {
   "cell_type": "code",
   "execution_count": 19,
   "id": "1e8538e5-2782-40f7-801d-8e9fb37d1d4c",
   "metadata": {
    "ExecuteTime": {
     "end_time": "2021-11-17T01:36:41.387478Z",
     "start_time": "2021-11-17T01:36:41.383111Z"
    }
   },
   "outputs": [
    {
     "data": {
      "text/plain": [
       "{'one': [1, 1], 'two': [2, 2]}"
      ]
     },
     "execution_count": 19,
     "metadata": {},
     "output_type": "execute_result"
    }
   ],
   "source": [
    "dd['two'] = 2\n",
    "dd"
   ]
  },
  {
   "cell_type": "code",
   "execution_count": 20,
   "id": "cf238e64-fd1f-48da-b376-5a3a4f976780",
   "metadata": {
    "ExecuteTime": {
     "end_time": "2021-11-17T01:36:41.794025Z",
     "start_time": "2021-11-17T01:36:41.790462Z"
    }
   },
   "outputs": [
    {
     "data": {
      "text/plain": [
       "{'one': [1, 1], 'two': [2, 2], 'three': [3, 3]}"
      ]
     },
     "execution_count": 20,
     "metadata": {},
     "output_type": "execute_result"
    }
   ],
   "source": [
    "dd.update(three=3)\n",
    "dd"
   ]
  },
  {
   "cell_type": "code",
   "execution_count": 28,
   "id": "9e0ad5af-aa0c-42f9-ae6b-412888d5f506",
   "metadata": {
    "ExecuteTime": {
     "end_time": "2021-11-17T01:37:55.627607Z",
     "start_time": "2021-11-17T01:37:55.623525Z"
    }
   },
   "outputs": [
    {
     "data": {
      "text/plain": [
       "42"
      ]
     },
     "execution_count": 28,
     "metadata": {},
     "output_type": "execute_result"
    }
   ],
   "source": [
    "class AnswerDict(UserDict):\n",
    "    def __getitem__(self, key):\n",
    "        return 42\n",
    "    \n",
    "bd = AnswerDict(a='answer')\n",
    "bd['a']"
   ]
  },
  {
   "cell_type": "code",
   "execution_count": 30,
   "id": "257b8970-82d4-428b-81e2-70607cd5c07f",
   "metadata": {
    "ExecuteTime": {
     "end_time": "2021-11-17T01:37:58.906849Z",
     "start_time": "2021-11-17T01:37:58.902630Z"
    }
   },
   "outputs": [
    {
     "data": {
      "text/plain": [
       "{'a': 42}"
      ]
     },
     "execution_count": 30,
     "metadata": {},
     "output_type": "execute_result"
    }
   ],
   "source": [
    "ordinary_d = {}\n",
    "ordinary_d.update(bd)\n",
    "ordinary_d"
   ]
  },
  {
   "cell_type": "markdown",
   "id": "8d8ec110-dd97-46d1-98ca-6e11a64e5ccd",
   "metadata": {},
   "source": [
    "## ABC"
   ]
  },
  {
   "cell_type": "markdown",
   "id": "9afb5448-76b6-4fbd-abfe-2be61b13d64f",
   "metadata": {},
   "source": [
    "`Types are defined by their supported operations`"
   ]
  },
  {
   "cell_type": "markdown",
   "id": "bd1acd14-29cb-41ad-889d-ae48b3c4d1f7",
   "metadata": {},
   "source": [
    "Для того, чтобы что-то работало как последовательность, не обязательно определять много методов. Достаточно объявить `__getitem__`"
   ]
  },
  {
   "cell_type": "code",
   "execution_count": 32,
   "id": "21c6f0bf-364f-4d0e-b64b-29df747095a5",
   "metadata": {
    "ExecuteTime": {
     "end_time": "2021-11-17T01:46:49.008877Z",
     "start_time": "2021-11-17T01:46:49.004773Z"
    }
   },
   "outputs": [
    {
     "data": {
      "text/plain": [
       "('A', 'O')"
      ]
     },
     "execution_count": 32,
     "metadata": {},
     "output_type": "execute_result"
    }
   ],
   "source": [
    "class Vovels:\n",
    "    def __getitem__(self, i):\n",
    "        return 'AIEUO'[i]\n",
    "\n",
    "vovels = Vovels()\n",
    "vovels[0], vovels[-1]"
   ]
  },
  {
   "cell_type": "code",
   "execution_count": 33,
   "id": "78da0486-d536-4249-a2b7-713c7d8eda80",
   "metadata": {
    "ExecuteTime": {
     "end_time": "2021-11-17T01:47:01.473119Z",
     "start_time": "2021-11-17T01:47:01.468685Z"
    }
   },
   "outputs": [
    {
     "name": "stdout",
     "output_type": "stream",
     "text": [
      "A\n",
      "I\n",
      "E\n",
      "U\n",
      "O\n"
     ]
    }
   ],
   "source": [
    "for v in vovels: print(v)"
   ]
  },
  {
   "cell_type": "markdown",
   "id": "f668cc09-5eed-43dc-bf0c-8750ea0fd9b3",
   "metadata": {},
   "source": [
    "Однако несмотря на простоту, мы не определили len! Казалось бы, один из базовых методов, но можно и без него"
   ]
  },
  {
   "cell_type": "code",
   "execution_count": 35,
   "id": "b4b4e832-d14c-4458-b780-15dda2c2384a",
   "metadata": {
    "ExecuteTime": {
     "end_time": "2021-11-17T01:47:51.045750Z",
     "start_time": "2021-11-17T01:47:51.036418Z"
    }
   },
   "outputs": [
    {
     "ename": "TypeError",
     "evalue": "object of type 'Vovels' has no len()",
     "output_type": "error",
     "traceback": [
      "\u001b[0;31m---------------------------------------------------------------------------\u001b[0m",
      "\u001b[0;31mTypeError\u001b[0m                                 Traceback (most recent call last)",
      "\u001b[0;32m/tmp/ipykernel_8645/294677619.py\u001b[0m in \u001b[0;36m<module>\u001b[0;34m\u001b[0m\n\u001b[0;32m----> 1\u001b[0;31m \u001b[0mlen\u001b[0m\u001b[0;34m(\u001b[0m\u001b[0mvovels\u001b[0m\u001b[0;34m)\u001b[0m\u001b[0;34m\u001b[0m\u001b[0;34m\u001b[0m\u001b[0m\n\u001b[0m",
      "\u001b[0;31mTypeError\u001b[0m: object of type 'Vovels' has no len()"
     ]
    }
   ],
   "source": [
    "len(vovels)"
   ]
  },
  {
   "cell_type": "markdown",
   "id": "0978fa1a-63c0-408d-924a-c62f1c46d463",
   "metadata": {},
   "source": [
    "Можно сказать, что в данном случае мы реализовали часть *динамического протокола* последовательности, и при этом все равно смогли использовать ее функционал. Однако, в таком случае мы можем столкнуться с проблемами, когда передадим нашу \"последовательность\" куда-то, где от нее будут ожидать реализацию хотя бы метода длины"
   ]
  },
  {
   "cell_type": "markdown",
   "id": "0795d872-a6cb-4a21-a2a1-05913e280321",
   "metadata": {},
   "source": [
    "Это отличный пример **duck typing** -- игнорирование конкретного типа объекта, если он определяет конкретные необходимые методы"
   ]
  },
  {
   "cell_type": "markdown",
   "id": "cae3d1fe-9828-46cc-9a10-87eee93a5d21",
   "metadata": {
    "ExecuteTime": {
     "end_time": "2021-11-17T01:52:09.591583Z",
     "start_time": "2021-11-17T01:52:09.588466Z"
    }
   },
   "source": [
    "Нам не обязательно создавать наследника класса последовательности, чтобы использовать объект так, как мы хотим. Python делает много работы за нас в этом случае"
   ]
  },
  {
   "cell_type": "markdown",
   "id": "8c7af48d-5764-464f-ab3a-40791c4b9413",
   "metadata": {},
   "source": [
    "Но что если мы явно хотим сделать некоторые методы обязательными? Здесь нам на помощь приходят **abstract base classes**\n",
    "https://docs.python.org/3/library/abc.html"
   ]
  },
  {
   "cell_type": "markdown",
   "id": "31565b2c-54d3-42d6-b072-fa8e3908c230",
   "metadata": {},
   "source": [
    "### **Goose typing**:\n",
    "- Наследуемся от ABC чтобы явно продемонстрировать следование объявленному интерфейсу\n",
    "- Проверка типа isinstance и issubclass осуществляется для интерфейса"
   ]
  },
  {
   "cell_type": "code",
   "execution_count": 40,
   "id": "c7450494-da09-48e4-ad67-d46ad387f94b",
   "metadata": {
    "ExecuteTime": {
     "end_time": "2021-11-17T02:14:02.834246Z",
     "start_time": "2021-11-17T02:14:02.831038Z"
    }
   },
   "outputs": [],
   "source": [
    "from collections import namedtuple, abc\n",
    "\n",
    "class SequenceVovels(abc.Sequence):\n",
    "    def __getitem__(self, i):\n",
    "        return 'AIEUO'[i]"
   ]
  },
  {
   "cell_type": "code",
   "execution_count": 41,
   "id": "98a7ebc2-e7a4-480a-bcc4-a3490dd26c16",
   "metadata": {
    "ExecuteTime": {
     "end_time": "2021-11-17T02:14:07.460560Z",
     "start_time": "2021-11-17T02:14:07.447109Z"
    }
   },
   "outputs": [
    {
     "ename": "TypeError",
     "evalue": "Can't instantiate abstract class SequenceVovels with abstract methods __len__",
     "output_type": "error",
     "traceback": [
      "\u001b[0;31m---------------------------------------------------------------------------\u001b[0m",
      "\u001b[0;31mTypeError\u001b[0m                                 Traceback (most recent call last)",
      "\u001b[0;32m/tmp/ipykernel_8645/2429804814.py\u001b[0m in \u001b[0;36m<module>\u001b[0;34m\u001b[0m\n\u001b[0;32m----> 1\u001b[0;31m \u001b[0mvov\u001b[0m \u001b[0;34m=\u001b[0m \u001b[0mSequenceVovels\u001b[0m\u001b[0;34m(\u001b[0m\u001b[0;34m)\u001b[0m\u001b[0;34m\u001b[0m\u001b[0;34m\u001b[0m\u001b[0m\n\u001b[0m",
      "\u001b[0;31mTypeError\u001b[0m: Can't instantiate abstract class SequenceVovels with abstract methods __len__"
     ]
    }
   ],
   "source": [
    "vov = SequenceVovels()"
   ]
  },
  {
   "cell_type": "code",
   "execution_count": 42,
   "id": "6493a2e2-6e56-47fd-b1b2-fafce992052e",
   "metadata": {
    "ExecuteTime": {
     "end_time": "2021-11-17T02:15:05.530256Z",
     "start_time": "2021-11-17T02:15:05.527213Z"
    }
   },
   "outputs": [],
   "source": [
    "class SequenceVovels(abc.Sequence):\n",
    "    \n",
    "    VOVELS = 'AIEUO'\n",
    "    \n",
    "    def __getitem__(self, i):\n",
    "        return VOVELS[i]\n",
    "    \n",
    "    def __len__(self):\n",
    "        return len(self.VOVELS)"
   ]
  },
  {
   "cell_type": "code",
   "execution_count": 43,
   "id": "77834f8d-2da6-4ec2-a59f-1fb83e4539a3",
   "metadata": {
    "ExecuteTime": {
     "end_time": "2021-11-17T02:15:12.025947Z",
     "start_time": "2021-11-17T02:15:12.023105Z"
    }
   },
   "outputs": [],
   "source": [
    "vov = SequenceVovels()"
   ]
  },
  {
   "cell_type": "markdown",
   "id": "08b4e322-7655-452d-b923-631bfb1b2a31",
   "metadata": {},
   "source": [
    "### Можно объявить свой ABC"
   ]
  },
  {
   "cell_type": "code",
   "execution_count": 47,
   "id": "ebb09ee9-9883-49e9-b4a2-120b33a17452",
   "metadata": {
    "ExecuteTime": {
     "end_time": "2021-11-17T02:23:33.776723Z",
     "start_time": "2021-11-17T02:23:33.773251Z"
    }
   },
   "outputs": [],
   "source": [
    "import abc\n",
    "class MyABC(abc.ABC):\n",
    "    \n",
    "    @abc.abstractmethod\n",
    "    def do_smth(self, a):\n",
    "        \"\"\"does something\"\"\"\n",
    "    \n",
    "    @staticmethod\n",
    "    @abc.abstractmethod  # should be inner, order matters\n",
    "    def do_smth_static(a):\n",
    "        \"\"\"a staticmethod that does something\"\"\"\n",
    "        \n",
    "    @classmethod\n",
    "    @abc.abstractmethod  # should be inner, order matters\n",
    "    def do_smth_class(cls, a):\n",
    "        \"\"\"a classmethod that does something\"\"\""
   ]
  },
  {
   "cell_type": "markdown",
   "id": "35bff761-2515-4b8c-9354-46519ddd9ba4",
   "metadata": {},
   "source": [
    "### Варианты проверки типов"
   ]
  },
  {
   "cell_type": "markdown",
   "id": "d8531d07-ac8a-4492-a5a9-39421e4915f6",
   "metadata": {
    "ExecuteTime": {
     "end_time": "2021-11-17T02:28:15.231675Z",
     "start_time": "2021-11-17T02:28:15.228257Z"
    }
   },
   "source": [
    "Предположим, у нас есть некоторый объект `maybe_complex` и мы хотим проверить, можно ли использовать его как Complex number"
   ]
  },
  {
   "cell_type": "markdown",
   "id": "28bd3b96-8117-4b79-a1b4-ae9f28759811",
   "metadata": {},
   "source": [
    "**1 способ**"
   ]
  },
  {
   "cell_type": "markdown",
   "id": "3736e88d-b58d-46e7-a0f7-a8b09c51a8d9",
   "metadata": {},
   "source": [
    "```python\n",
    "from typing import SupportsComplex\n",
    "\n",
    "if isinstance(maybe_comlex, (complex, SupportsComplex)):\n",
    "    # do smth that requires our object to be complex\n",
    "    else:\n",
    "        raise TypeError('maybe_complex should be convertible to complex')\n",
    "```"
   ]
  },
  {
   "cell_type": "markdown",
   "id": "6d43c01c-55b4-40f1-b00a-94953106a7b1",
   "metadata": {},
   "source": [
    "**2 способ**\n",
    "\n",
    "```python\n",
    "\n",
    "import numbers\n",
    "\n",
    "if isinstance(maybe_comlex, (numbers.Complex)):\n",
    "    # do smth that requires our object to be complex\n",
    "    else:\n",
    "        raise TypeError('maybe_complex should be an instance of complex')\n",
    "```"
   ]
  },
  {
   "cell_type": "markdown",
   "id": "47273cfa-a386-46d7-aa31-10a58bd8160f",
   "metadata": {},
   "source": [
    "**3 способ aka Fail Fast or EAFP** *‘Easier to Ask for Forgiveness than Permission’*\n",
    "\n"
   ]
  },
  {
   "cell_type": "markdown",
   "id": "84b1a59d-bacc-481c-8981-7a526028628a",
   "metadata": {},
   "source": [
    "```python\n",
    "\n",
    "try:\n",
    "    c = complex(maybe_complex)\n",
    "except TypeError as e:\n",
    "    raise TypeError('maybe_complex should be convertible to complex')\n",
    "```"
   ]
  },
  {
   "cell_type": "markdown",
   "id": "4b7d750c-8cea-4bd4-a93e-90f80e34cde9",
   "metadata": {},
   "source": [
    "Несколько советов про наследование:\n",
    "\n",
    "1. Не переиспользуйте наследование for fun там, где этого можно избежать\n",
    "2. Понимайте, почему в конкретном месте используется наследование\n",
    "3. Если вам важно соблюдение интерфейса, обозначьте это явно с помощью ABC\n",
    "4. Будьте осторожны с наследованием от стандартных типов. Используйте модуль Collections"
   ]
  },
  {
   "cell_type": "markdown",
   "id": "5536c2b0-e005-48c0-a9b6-036661d94542",
   "metadata": {},
   "source": [
    "# Exceptions"
   ]
  },
  {
   "cell_type": "markdown",
   "id": "b358dab1-91b4-4860-ae13-c1ccb7faa23e",
   "metadata": {},
   "source": [
    "Оператор **try-except-else-finally**"
   ]
  },
  {
   "cell_type": "code",
   "execution_count": 131,
   "id": "736e9c3d",
   "metadata": {},
   "outputs": [
    {
     "name": "stdout",
     "output_type": "stream",
     "text": [
      "impossible to modify object\n"
     ]
    }
   ],
   "source": [
    "a = '123'\n",
    "\n",
    "try:\n",
    "    a[0] = '10'\n",
    "except BaseException:\n",
    "    print('impossible to modify object')"
   ]
  },
  {
   "cell_type": "code",
   "execution_count": 129,
   "id": "c570f468",
   "metadata": {},
   "outputs": [
    {
     "ename": "TypeError",
     "evalue": "'str' object does not support item assignment",
     "output_type": "error",
     "traceback": [
      "\u001b[0;31m---------------------------------------------------------------------------\u001b[0m",
      "\u001b[0;31mTypeError\u001b[0m                                 Traceback (most recent call last)",
      "\u001b[0;32m/tmp/ipykernel_971357/1205832853.py\u001b[0m in \u001b[0;36m<module>\u001b[0;34m\u001b[0m\n\u001b[0;32m----> 1\u001b[0;31m \u001b[0ma\u001b[0m\u001b[0;34m[\u001b[0m\u001b[0;36m0\u001b[0m\u001b[0;34m]\u001b[0m \u001b[0;34m=\u001b[0m \u001b[0;34m'10'\u001b[0m\u001b[0;34m\u001b[0m\u001b[0;34m\u001b[0m\u001b[0m\n\u001b[0m",
      "\u001b[0;31mTypeError\u001b[0m: 'str' object does not support item assignment"
     ]
    }
   ],
   "source": [
    "a[0] = '10'"
   ]
  },
  {
   "cell_type": "code",
   "execution_count": 132,
   "id": "9e55879f",
   "metadata": {},
   "outputs": [
    {
     "data": {
      "text/plain": [
       "[TypeError, Exception, BaseException, object]"
      ]
     },
     "execution_count": 132,
     "metadata": {},
     "output_type": "execute_result"
    }
   ],
   "source": [
    "TypeError.mro()"
   ]
  },
  {
   "cell_type": "code",
   "execution_count": 141,
   "id": "cd7b1950",
   "metadata": {},
   "outputs": [
    {
     "name": "stdout",
     "output_type": "stream",
     "text": [
      "impossible to modify object\n"
     ]
    }
   ],
   "source": [
    "a = [1, 2, 3]\n",
    "a = '123'\n",
    "\n",
    "try:\n",
    "    a[0] = '10'\n",
    "except Exception as e:\n",
    "    print('impossible to modify object')\n",
    "else:\n",
    "    print('possible to modify object', a)"
   ]
  },
  {
   "cell_type": "markdown",
   "id": "5052c646-931e-422c-9666-265c75fb64dc",
   "metadata": {},
   "source": [
    "Исключения — не «ошибки», а способ обработки некоторых условий не там, где они были обнаружены."
   ]
  },
  {
   "cell_type": "code",
   "execution_count": 135,
   "id": "0973e194",
   "metadata": {},
   "outputs": [
    {
     "ename": "TypeError",
     "evalue": "",
     "output_type": "error",
     "traceback": [
      "\u001b[0;31m---------------------------------------------------------------------------\u001b[0m",
      "\u001b[0;31mTypeError\u001b[0m                                 Traceback (most recent call last)",
      "\u001b[0;32m/tmp/ipykernel_971357/2270127484.py\u001b[0m in \u001b[0;36m<module>\u001b[0;34m\u001b[0m\n\u001b[0;32m----> 1\u001b[0;31m \u001b[0;32mraise\u001b[0m \u001b[0mTypeError\u001b[0m\u001b[0;34m\u001b[0m\u001b[0;34m\u001b[0m\u001b[0m\n\u001b[0m",
      "\u001b[0;31mTypeError\u001b[0m: "
     ]
    }
   ],
   "source": [
    "raise TypeError"
   ]
  },
  {
   "cell_type": "code",
   "execution_count": 136,
   "id": "173b837b",
   "metadata": {},
   "outputs": [
    {
     "ename": "TypeError",
     "evalue": "message",
     "output_type": "error",
     "traceback": [
      "\u001b[0;31m---------------------------------------------------------------------------\u001b[0m",
      "\u001b[0;31mTypeError\u001b[0m                                 Traceback (most recent call last)",
      "\u001b[0;32m/tmp/ipykernel_971357/567377029.py\u001b[0m in \u001b[0;36m<module>\u001b[0;34m\u001b[0m\n\u001b[0;32m----> 1\u001b[0;31m \u001b[0;32mraise\u001b[0m \u001b[0mTypeError\u001b[0m\u001b[0;34m(\u001b[0m\u001b[0;34m'message'\u001b[0m\u001b[0;34m)\u001b[0m\u001b[0;34m\u001b[0m\u001b[0;34m\u001b[0m\u001b[0m\n\u001b[0m",
      "\u001b[0;31mTypeError\u001b[0m: message"
     ]
    }
   ],
   "source": [
    "raise TypeError('message')"
   ]
  },
  {
   "cell_type": "markdown",
   "id": "da89ba52-128a-465b-b847-298ad349d055",
   "metadata": {},
   "source": [
    "Хорошая [лекция](http://uneex.org/LecturesCMC/PythonIntro2020/10_Inheritance) по механизму наследования в т.ч. с примерами исключений "
   ]
  },
  {
   "cell_type": "markdown",
   "id": "7f19ea44-f8d2-4f68-bcd8-639513f247d3",
   "metadata": {},
   "source": [
    "---"
   ]
  },
  {
   "cell_type": "markdown",
   "id": "4e3cbcf6",
   "metadata": {},
   "source": [
    "# *Bonus:*\n",
    "\n",
    "Напишите декоратор-класс, который бы:\n",
    "1. Проверял входные аргументы и вывод функции на соответствие типам, указанным в аннотациях \n",
    "2. Проверял, что все численные типы находятся в диапазоне от -1000 до 1000\n",
    "3. Длины типов-последовательностей не превосходят 1000\n",
    "4. В случае ошибок валидации возвращал информативное сообщение об ошибке в виде Exception\n",
    "5. Мог бы быть отключаемым по параметрам\n",
    "\n",
    "Для решения используйте дескрипторы, вам очень помогут упомянутые сегодня ссылки "
   ]
  },
  {
   "cell_type": "code",
   "execution_count": 142,
   "id": "8673237d",
   "metadata": {},
   "outputs": [],
   "source": [
    "def func(a: int, b: str) -> str:\n",
    "    pass"
   ]
  },
  {
   "cell_type": "markdown",
   "id": "fc715c42",
   "metadata": {},
   "source": [
    "---"
   ]
  },
  {
   "cell_type": "markdown",
   "id": "7a654787-b97f-4c98-8881-d577608c22a1",
   "metadata": {},
   "source": [
    "https://docs.python.org/3/howto/descriptor.html#validator-class"
   ]
  },
  {
   "cell_type": "code",
   "execution_count": 1,
   "id": "68285763",
   "metadata": {
    "ExecuteTime": {
     "end_time": "2021-12-08T09:57:54.719278Z",
     "start_time": "2021-12-08T09:57:54.699259Z"
    }
   },
   "outputs": [],
   "source": [
    "import collections.abc\n",
    "\n",
    "from abc import ABC, abstractmethod\n",
    "from functools import wraps\n",
    "from typing import Iterable\n",
    "\n",
    "\n",
    "class Validator(ABC):\n",
    "\n",
    "    def __set_name__(self, owner, name):\n",
    "        self.private_name = '_' + name\n",
    "\n",
    "    def __get__(self, obj, objtype=None):\n",
    "        return getattr(obj, self.private_name)\n",
    "\n",
    "    def __set__(self, obj, value):\n",
    "        self.validate(value)\n",
    "        setattr(obj, self.private_name, value)\n",
    "\n",
    "    @abstractmethod\n",
    "    def validate(self, value):\n",
    "        pass\n",
    "    \n",
    "\n",
    "class NumberValidator(Validator):\n",
    "\n",
    "    def __init__(self, minvalue=None, maxvalue=None):\n",
    "        self.minvalue = minvalue\n",
    "        self.maxvalue = maxvalue\n",
    "\n",
    "    def validate(self, value):\n",
    "        if not isinstance(value, (int, float)):\n",
    "            raise TypeError(f'Expected {value!r} to be an int or float')\n",
    "        if self.minvalue is not None and value < self.minvalue:\n",
    "            raise ValueError(\n",
    "                f'Expected {value!r} to be at least {self.minvalue!r}'\n",
    "            )\n",
    "        if self.maxvalue is not None and value > self.maxvalue:\n",
    "            raise ValueError(\n",
    "                f'Expected {value!r} to be no more than {self.maxvalue!r}'\n",
    "            )\n",
    "\n",
    "class SeqValidator(Validator):\n",
    "    def __init__(self, minlen=None, maxlen=None):\n",
    "        self.minlen = minlen\n",
    "        self.maxlen = maxlen\n",
    "\n",
    "    def validate(self, iterable):\n",
    "        if not isinstance(iterable, collections.abc.Iterable):\n",
    "            raise TypeError(f'Expected {value!r} to be iterable')\n",
    "        \n",
    "        if self.minlen is not None and len(iterable) < self.minlen:\n",
    "            raise ValueError(\n",
    "                f'Expected lenght of sequence = {len(iterable)} to be at least len {self.minlen}'\n",
    "            )\n",
    "        if self.maxlen is not None and len(iterable) > self.maxlen:\n",
    "            raise ValueError(\n",
    "                f'Expected lenght of sequence = {len(iterable)} to be no more than {self.maxlen}'\n",
    "            )"
   ]
  },
  {
   "cell_type": "code",
   "execution_count": 2,
   "id": "64ee0992",
   "metadata": {
    "ExecuteTime": {
     "end_time": "2021-12-08T10:02:29.592307Z",
     "start_time": "2021-12-08T10:02:29.582752Z"
    }
   },
   "outputs": [],
   "source": [
    "class TypeChecker:\n",
    "    \n",
    "    def __init__(self, args_to_check: Iterable[str]):\n",
    "        self.args_to_check = set(args_to_check)\n",
    "        \n",
    "        self.number_value_checker = NumberValidator(minvalue=-1000, maxvalue=1000)\n",
    "        self.seq_len_checker = SeqValidator(maxlen=1000)\n",
    "\n",
    "    def __call__(self, inner_function: callable):\n",
    "        self.inner_func = inner_function\n",
    "\n",
    "        @wraps(inner_function)\n",
    "        def _check(*args):\n",
    "            self.res = self.inner_func(*args)\n",
    "            annotations = self.inner_func.__annotations__\n",
    "            for annot_arg, real_arg in zip(annotations, args):\n",
    "                if annot_arg in self.args_to_check:\n",
    "                    if not isinstance(real_arg, annotations[annot_arg]):\n",
    "                        raise TypeError(f'Argument {annot_arg} is {type(real_arg)} instead of {annotations[annot_arg]}')\n",
    "                    \n",
    "                    try:\n",
    "                        if isinstance(real_arg, (int, float)):\n",
    "                            self.number_value_checker.validate(real_arg)\n",
    "                        elif isinstance(real_arg, collections.abc.Iterable):\n",
    "                            self.seq_len_checker.validate(real_arg)\n",
    "                    except ValueError as e:\n",
    "                        raise ValueError(f'Argument \"{annot_arg}\" has wrong value!', e)\n",
    "            \n",
    "            if 'return' in annotations and not isinstance(self.res, annotations['return']):\n",
    "                raise TypeError(f'Return type is {type(self.res)} instead of {annotations[\"return\"]}')\n",
    "\n",
    "            \n",
    "        return _check\n"
   ]
  },
  {
   "cell_type": "code",
   "execution_count": 475,
   "id": "ad00fc3e",
   "metadata": {
    "ExecuteTime": {
     "end_time": "2021-12-08T10:03:00.140852Z",
     "start_time": "2021-12-08T10:03:00.137428Z"
    }
   },
   "outputs": [],
   "source": [
    "@TypeChecker(['a', 'b', 'return'])\n",
    "def fun(a: int, b: str, c: tuple, d: int) -> str:\n",
    "    return 42"
   ]
  },
  {
   "cell_type": "code",
   "execution_count": 476,
   "id": "89b8e519",
   "metadata": {
    "ExecuteTime": {
     "end_time": "2021-12-08T10:03:00.525878Z",
     "start_time": "2021-12-08T10:03:00.509317Z"
    }
   },
   "outputs": [
    {
     "ename": "TypeError",
     "evalue": "Return type is <class 'int'> instead of <class 'str'>",
     "output_type": "error",
     "traceback": [
      "\u001b[0;31m---------------------------------------------------------------------------\u001b[0m",
      "\u001b[0;31mTypeError\u001b[0m                                 Traceback (most recent call last)",
      "\u001b[0;32m/tmp/ipykernel_93/2833534247.py\u001b[0m in \u001b[0;36m<module>\u001b[0;34m\u001b[0m\n\u001b[0;32m----> 1\u001b[0;31m \u001b[0mfun\u001b[0m\u001b[0;34m(\u001b[0m\u001b[0;36m1000\u001b[0m\u001b[0;34m,\u001b[0m \u001b[0;34m'1'\u001b[0m\u001b[0;34m,\u001b[0m \u001b[0mtuple\u001b[0m\u001b[0;34m(\u001b[0m\u001b[0mlist\u001b[0m\u001b[0;34m(\u001b[0m\u001b[0mrange\u001b[0m\u001b[0;34m(\u001b[0m\u001b[0;36m10000\u001b[0m\u001b[0;34m)\u001b[0m\u001b[0;34m)\u001b[0m\u001b[0;34m)\u001b[0m\u001b[0;34m,\u001b[0m \u001b[0;36m10\u001b[0m\u001b[0;34m)\u001b[0m\u001b[0;34m\u001b[0m\u001b[0;34m\u001b[0m\u001b[0m\n\u001b[0m",
      "\u001b[0;32m/tmp/ipykernel_93/1298787745.py\u001b[0m in \u001b[0;36m_check\u001b[0;34m(*args)\u001b[0m\n\u001b[1;32m     32\u001b[0m \u001b[0;34m\u001b[0m\u001b[0m\n\u001b[1;32m     33\u001b[0m             \u001b[0;32mif\u001b[0m \u001b[0;34m'return'\u001b[0m \u001b[0;32min\u001b[0m \u001b[0mannotations\u001b[0m \u001b[0;32mand\u001b[0m \u001b[0;32mnot\u001b[0m \u001b[0misinstance\u001b[0m\u001b[0;34m(\u001b[0m\u001b[0mself\u001b[0m\u001b[0;34m.\u001b[0m\u001b[0mres\u001b[0m\u001b[0;34m,\u001b[0m \u001b[0mannotations\u001b[0m\u001b[0;34m[\u001b[0m\u001b[0;34m'return'\u001b[0m\u001b[0;34m]\u001b[0m\u001b[0;34m)\u001b[0m\u001b[0;34m:\u001b[0m\u001b[0;34m\u001b[0m\u001b[0;34m\u001b[0m\u001b[0m\n\u001b[0;32m---> 34\u001b[0;31m                 \u001b[0;32mraise\u001b[0m \u001b[0mTypeError\u001b[0m\u001b[0;34m(\u001b[0m\u001b[0;34mf'Return type is {type(self.res)} instead of {annotations[\"return\"]}'\u001b[0m\u001b[0;34m)\u001b[0m\u001b[0;34m\u001b[0m\u001b[0;34m\u001b[0m\u001b[0m\n\u001b[0m\u001b[1;32m     35\u001b[0m \u001b[0;34m\u001b[0m\u001b[0m\n\u001b[1;32m     36\u001b[0m \u001b[0;34m\u001b[0m\u001b[0m\n",
      "\u001b[0;31mTypeError\u001b[0m: Return type is <class 'int'> instead of <class 'str'>"
     ]
    }
   ],
   "source": [
    "fun(1000, '1', tuple(list(range(10000))), 10)"
   ]
  },
  {
   "cell_type": "code",
   "execution_count": 477,
   "id": "4a635028",
   "metadata": {
    "ExecuteTime": {
     "end_time": "2021-12-08T10:03:20.506966Z",
     "start_time": "2021-12-08T10:03:20.484505Z"
    }
   },
   "outputs": [
    {
     "ename": "TypeError",
     "evalue": "Argument a is <class 'str'> instead of <class 'int'>",
     "output_type": "error",
     "traceback": [
      "\u001b[0;31m---------------------------------------------------------------------------\u001b[0m",
      "\u001b[0;31mTypeError\u001b[0m                                 Traceback (most recent call last)",
      "\u001b[0;32m/tmp/ipykernel_93/2135835385.py\u001b[0m in \u001b[0;36m<module>\u001b[0;34m\u001b[0m\n\u001b[0;32m----> 1\u001b[0;31m \u001b[0mfun\u001b[0m\u001b[0;34m(\u001b[0m\u001b[0;34m'10'\u001b[0m\u001b[0;34m,\u001b[0m \u001b[0;34m'1'\u001b[0m\u001b[0;34m,\u001b[0m \u001b[0mtuple\u001b[0m\u001b[0;34m(\u001b[0m\u001b[0mlist\u001b[0m\u001b[0;34m(\u001b[0m\u001b[0mrange\u001b[0m\u001b[0;34m(\u001b[0m\u001b[0;36m10000\u001b[0m\u001b[0;34m)\u001b[0m\u001b[0;34m)\u001b[0m\u001b[0;34m)\u001b[0m\u001b[0;34m,\u001b[0m \u001b[0;36m10\u001b[0m\u001b[0;34m)\u001b[0m\u001b[0;34m\u001b[0m\u001b[0;34m\u001b[0m\u001b[0m\n\u001b[0m",
      "\u001b[0;32m/tmp/ipykernel_93/1298787745.py\u001b[0m in \u001b[0;36m_check\u001b[0;34m(*args)\u001b[0m\n\u001b[1;32m     21\u001b[0m                 \u001b[0;32mif\u001b[0m \u001b[0mannot_arg\u001b[0m \u001b[0;32min\u001b[0m \u001b[0mself\u001b[0m\u001b[0;34m.\u001b[0m\u001b[0margs_to_check\u001b[0m\u001b[0;34m:\u001b[0m\u001b[0;34m\u001b[0m\u001b[0;34m\u001b[0m\u001b[0m\n\u001b[1;32m     22\u001b[0m                     \u001b[0;32mif\u001b[0m \u001b[0;32mnot\u001b[0m \u001b[0misinstance\u001b[0m\u001b[0;34m(\u001b[0m\u001b[0mreal_arg\u001b[0m\u001b[0;34m,\u001b[0m \u001b[0mannotations\u001b[0m\u001b[0;34m[\u001b[0m\u001b[0mannot_arg\u001b[0m\u001b[0;34m]\u001b[0m\u001b[0;34m)\u001b[0m\u001b[0;34m:\u001b[0m\u001b[0;34m\u001b[0m\u001b[0;34m\u001b[0m\u001b[0m\n\u001b[0;32m---> 23\u001b[0;31m                         \u001b[0;32mraise\u001b[0m \u001b[0mTypeError\u001b[0m\u001b[0;34m(\u001b[0m\u001b[0;34mf'Argument {annot_arg} is {type(real_arg)} instead of {annotations[annot_arg]}'\u001b[0m\u001b[0;34m)\u001b[0m\u001b[0;34m\u001b[0m\u001b[0;34m\u001b[0m\u001b[0m\n\u001b[0m\u001b[1;32m     24\u001b[0m \u001b[0;34m\u001b[0m\u001b[0m\n\u001b[1;32m     25\u001b[0m                     \u001b[0;32mtry\u001b[0m\u001b[0;34m:\u001b[0m\u001b[0;34m\u001b[0m\u001b[0;34m\u001b[0m\u001b[0m\n",
      "\u001b[0;31mTypeError\u001b[0m: Argument a is <class 'str'> instead of <class 'int'>"
     ]
    }
   ],
   "source": [
    "fun('10', '1', tuple(list(range(10000))), 10)"
   ]
  },
  {
   "cell_type": "code",
   "execution_count": 478,
   "id": "ad8dd1d2",
   "metadata": {
    "ExecuteTime": {
     "end_time": "2021-12-08T10:03:30.095975Z",
     "start_time": "2021-12-08T10:03:30.056688Z"
    }
   },
   "outputs": [
    {
     "ename": "ValueError",
     "evalue": "('Argument \"a\" has wrong value!', ValueError('Expected 2000 to be no more than 1000'))",
     "output_type": "error",
     "traceback": [
      "\u001b[0;31m---------------------------------------------------------------------------\u001b[0m",
      "\u001b[0;31mValueError\u001b[0m                                Traceback (most recent call last)",
      "\u001b[0;32m/tmp/ipykernel_93/1298787745.py\u001b[0m in \u001b[0;36m_check\u001b[0;34m(*args)\u001b[0m\n\u001b[1;32m     26\u001b[0m                         \u001b[0;32mif\u001b[0m \u001b[0misinstance\u001b[0m\u001b[0;34m(\u001b[0m\u001b[0mreal_arg\u001b[0m\u001b[0;34m,\u001b[0m \u001b[0;34m(\u001b[0m\u001b[0mint\u001b[0m\u001b[0;34m,\u001b[0m \u001b[0mfloat\u001b[0m\u001b[0;34m)\u001b[0m\u001b[0;34m)\u001b[0m\u001b[0;34m:\u001b[0m\u001b[0;34m\u001b[0m\u001b[0;34m\u001b[0m\u001b[0m\n\u001b[0;32m---> 27\u001b[0;31m                             \u001b[0mself\u001b[0m\u001b[0;34m.\u001b[0m\u001b[0mnumber_value_checker\u001b[0m\u001b[0;34m.\u001b[0m\u001b[0mvalidate\u001b[0m\u001b[0;34m(\u001b[0m\u001b[0mreal_arg\u001b[0m\u001b[0;34m)\u001b[0m\u001b[0;34m\u001b[0m\u001b[0;34m\u001b[0m\u001b[0m\n\u001b[0m\u001b[1;32m     28\u001b[0m                         \u001b[0;32melif\u001b[0m \u001b[0misinstance\u001b[0m\u001b[0;34m(\u001b[0m\u001b[0mreal_arg\u001b[0m\u001b[0;34m,\u001b[0m \u001b[0mcollections\u001b[0m\u001b[0;34m.\u001b[0m\u001b[0mabc\u001b[0m\u001b[0;34m.\u001b[0m\u001b[0mIterable\u001b[0m\u001b[0;34m)\u001b[0m\u001b[0;34m:\u001b[0m\u001b[0;34m\u001b[0m\u001b[0;34m\u001b[0m\u001b[0m\n",
      "\u001b[0;32m/tmp/ipykernel_93/3184779394.py\u001b[0m in \u001b[0;36mvalidate\u001b[0;34m(self, value)\u001b[0m\n\u001b[1;32m     35\u001b[0m         \u001b[0;32mif\u001b[0m \u001b[0mself\u001b[0m\u001b[0;34m.\u001b[0m\u001b[0mmaxvalue\u001b[0m \u001b[0;32mis\u001b[0m \u001b[0;32mnot\u001b[0m \u001b[0;32mNone\u001b[0m \u001b[0;32mand\u001b[0m \u001b[0mvalue\u001b[0m \u001b[0;34m>\u001b[0m \u001b[0mself\u001b[0m\u001b[0;34m.\u001b[0m\u001b[0mmaxvalue\u001b[0m\u001b[0;34m:\u001b[0m\u001b[0;34m\u001b[0m\u001b[0;34m\u001b[0m\u001b[0m\n\u001b[0;32m---> 36\u001b[0;31m             raise ValueError(\n\u001b[0m\u001b[1;32m     37\u001b[0m                 \u001b[0;34mf'Expected {value!r} to be no more than {self.maxvalue!r}'\u001b[0m\u001b[0;34m\u001b[0m\u001b[0;34m\u001b[0m\u001b[0m\n",
      "\u001b[0;31mValueError\u001b[0m: Expected 2000 to be no more than 1000",
      "\nDuring handling of the above exception, another exception occurred:\n",
      "\u001b[0;31mValueError\u001b[0m                                Traceback (most recent call last)",
      "\u001b[0;32m/tmp/ipykernel_93/984631735.py\u001b[0m in \u001b[0;36m<module>\u001b[0;34m\u001b[0m\n\u001b[0;32m----> 1\u001b[0;31m \u001b[0mfun\u001b[0m\u001b[0;34m(\u001b[0m\u001b[0;36m2000\u001b[0m\u001b[0;34m,\u001b[0m \u001b[0;34m'1'\u001b[0m\u001b[0;34m,\u001b[0m \u001b[0mtuple\u001b[0m\u001b[0;34m(\u001b[0m\u001b[0mlist\u001b[0m\u001b[0;34m(\u001b[0m\u001b[0mrange\u001b[0m\u001b[0;34m(\u001b[0m\u001b[0;36m10000\u001b[0m\u001b[0;34m)\u001b[0m\u001b[0;34m)\u001b[0m\u001b[0;34m)\u001b[0m\u001b[0;34m,\u001b[0m \u001b[0;36m10\u001b[0m\u001b[0;34m)\u001b[0m\u001b[0;34m\u001b[0m\u001b[0;34m\u001b[0m\u001b[0m\n\u001b[0m",
      "\u001b[0;32m/tmp/ipykernel_93/1298787745.py\u001b[0m in \u001b[0;36m_check\u001b[0;34m(*args)\u001b[0m\n\u001b[1;32m     29\u001b[0m                             \u001b[0mself\u001b[0m\u001b[0;34m.\u001b[0m\u001b[0mseq_len_checker\u001b[0m\u001b[0;34m.\u001b[0m\u001b[0mvalidate\u001b[0m\u001b[0;34m(\u001b[0m\u001b[0mreal_arg\u001b[0m\u001b[0;34m)\u001b[0m\u001b[0;34m\u001b[0m\u001b[0;34m\u001b[0m\u001b[0m\n\u001b[1;32m     30\u001b[0m                     \u001b[0;32mexcept\u001b[0m \u001b[0mValueError\u001b[0m \u001b[0;32mas\u001b[0m \u001b[0me\u001b[0m\u001b[0;34m:\u001b[0m\u001b[0;34m\u001b[0m\u001b[0;34m\u001b[0m\u001b[0m\n\u001b[0;32m---> 31\u001b[0;31m                         \u001b[0;32mraise\u001b[0m \u001b[0mValueError\u001b[0m\u001b[0;34m(\u001b[0m\u001b[0;34mf'Argument \"{annot_arg}\" has wrong value!'\u001b[0m\u001b[0;34m,\u001b[0m \u001b[0me\u001b[0m\u001b[0;34m)\u001b[0m\u001b[0;34m\u001b[0m\u001b[0;34m\u001b[0m\u001b[0m\n\u001b[0m\u001b[1;32m     32\u001b[0m \u001b[0;34m\u001b[0m\u001b[0m\n\u001b[1;32m     33\u001b[0m             \u001b[0;32mif\u001b[0m \u001b[0;34m'return'\u001b[0m \u001b[0;32min\u001b[0m \u001b[0mannotations\u001b[0m \u001b[0;32mand\u001b[0m \u001b[0;32mnot\u001b[0m \u001b[0misinstance\u001b[0m\u001b[0;34m(\u001b[0m\u001b[0mself\u001b[0m\u001b[0;34m.\u001b[0m\u001b[0mres\u001b[0m\u001b[0;34m,\u001b[0m \u001b[0mannotations\u001b[0m\u001b[0;34m[\u001b[0m\u001b[0;34m'return'\u001b[0m\u001b[0;34m]\u001b[0m\u001b[0;34m)\u001b[0m\u001b[0;34m:\u001b[0m\u001b[0;34m\u001b[0m\u001b[0;34m\u001b[0m\u001b[0m\n",
      "\u001b[0;31mValueError\u001b[0m: ('Argument \"a\" has wrong value!', ValueError('Expected 2000 to be no more than 1000'))"
     ]
    }
   ],
   "source": [
    "fun(2000, '1', tuple(list(range(10000))), 10)"
   ]
  },
  {
   "cell_type": "code",
   "execution_count": 479,
   "id": "31b3ee88",
   "metadata": {
    "ExecuteTime": {
     "end_time": "2021-12-08T10:03:35.833730Z",
     "start_time": "2021-12-08T10:03:35.809506Z"
    }
   },
   "outputs": [
    {
     "ename": "ValueError",
     "evalue": "('Argument \"b\" has wrong value!', ValueError('Expected lenght of sequence = 2000 to be no more than 1000'))",
     "output_type": "error",
     "traceback": [
      "\u001b[0;31m---------------------------------------------------------------------------\u001b[0m",
      "\u001b[0;31mValueError\u001b[0m                                Traceback (most recent call last)",
      "\u001b[0;32m/tmp/ipykernel_93/1298787745.py\u001b[0m in \u001b[0;36m_check\u001b[0;34m(*args)\u001b[0m\n\u001b[1;32m     28\u001b[0m                         \u001b[0;32melif\u001b[0m \u001b[0misinstance\u001b[0m\u001b[0;34m(\u001b[0m\u001b[0mreal_arg\u001b[0m\u001b[0;34m,\u001b[0m \u001b[0mcollections\u001b[0m\u001b[0;34m.\u001b[0m\u001b[0mabc\u001b[0m\u001b[0;34m.\u001b[0m\u001b[0mIterable\u001b[0m\u001b[0;34m)\u001b[0m\u001b[0;34m:\u001b[0m\u001b[0;34m\u001b[0m\u001b[0;34m\u001b[0m\u001b[0m\n\u001b[0;32m---> 29\u001b[0;31m                             \u001b[0mself\u001b[0m\u001b[0;34m.\u001b[0m\u001b[0mseq_len_checker\u001b[0m\u001b[0;34m.\u001b[0m\u001b[0mvalidate\u001b[0m\u001b[0;34m(\u001b[0m\u001b[0mreal_arg\u001b[0m\u001b[0;34m)\u001b[0m\u001b[0;34m\u001b[0m\u001b[0;34m\u001b[0m\u001b[0m\n\u001b[0m\u001b[1;32m     30\u001b[0m                     \u001b[0;32mexcept\u001b[0m \u001b[0mValueError\u001b[0m \u001b[0;32mas\u001b[0m \u001b[0me\u001b[0m\u001b[0;34m:\u001b[0m\u001b[0;34m\u001b[0m\u001b[0;34m\u001b[0m\u001b[0m\n",
      "\u001b[0;32m/tmp/ipykernel_93/3184779394.py\u001b[0m in \u001b[0;36mvalidate\u001b[0;34m(self, iterable)\u001b[0m\n\u001b[1;32m     53\u001b[0m         \u001b[0;32mif\u001b[0m \u001b[0mself\u001b[0m\u001b[0;34m.\u001b[0m\u001b[0mmaxlen\u001b[0m \u001b[0;32mis\u001b[0m \u001b[0;32mnot\u001b[0m \u001b[0;32mNone\u001b[0m \u001b[0;32mand\u001b[0m \u001b[0mlen\u001b[0m\u001b[0;34m(\u001b[0m\u001b[0miterable\u001b[0m\u001b[0;34m)\u001b[0m \u001b[0;34m>\u001b[0m \u001b[0mself\u001b[0m\u001b[0;34m.\u001b[0m\u001b[0mmaxlen\u001b[0m\u001b[0;34m:\u001b[0m\u001b[0;34m\u001b[0m\u001b[0;34m\u001b[0m\u001b[0m\n\u001b[0;32m---> 54\u001b[0;31m             raise ValueError(\n\u001b[0m\u001b[1;32m     55\u001b[0m                 \u001b[0;34mf'Expected lenght of sequence = {len(iterable)} to be no more than {self.maxlen}'\u001b[0m\u001b[0;34m\u001b[0m\u001b[0;34m\u001b[0m\u001b[0m\n",
      "\u001b[0;31mValueError\u001b[0m: Expected lenght of sequence = 2000 to be no more than 1000",
      "\nDuring handling of the above exception, another exception occurred:\n",
      "\u001b[0;31mValueError\u001b[0m                                Traceback (most recent call last)",
      "\u001b[0;32m/tmp/ipykernel_93/1211189860.py\u001b[0m in \u001b[0;36m<module>\u001b[0;34m\u001b[0m\n\u001b[0;32m----> 1\u001b[0;31m \u001b[0mfun\u001b[0m\u001b[0;34m(\u001b[0m\u001b[0;36m500\u001b[0m\u001b[0;34m,\u001b[0m \u001b[0;34m'1'\u001b[0m\u001b[0;34m*\u001b[0m\u001b[0;36m2000\u001b[0m\u001b[0;34m,\u001b[0m \u001b[0;34m(\u001b[0m\u001b[0;36m1\u001b[0m\u001b[0;34m,\u001b[0m \u001b[0;36m2\u001b[0m\u001b[0;34m)\u001b[0m\u001b[0;34m,\u001b[0m \u001b[0;36m10\u001b[0m\u001b[0;34m)\u001b[0m\u001b[0;34m\u001b[0m\u001b[0;34m\u001b[0m\u001b[0m\n\u001b[0m",
      "\u001b[0;32m/tmp/ipykernel_93/1298787745.py\u001b[0m in \u001b[0;36m_check\u001b[0;34m(*args)\u001b[0m\n\u001b[1;32m     29\u001b[0m                             \u001b[0mself\u001b[0m\u001b[0;34m.\u001b[0m\u001b[0mseq_len_checker\u001b[0m\u001b[0;34m.\u001b[0m\u001b[0mvalidate\u001b[0m\u001b[0;34m(\u001b[0m\u001b[0mreal_arg\u001b[0m\u001b[0;34m)\u001b[0m\u001b[0;34m\u001b[0m\u001b[0;34m\u001b[0m\u001b[0m\n\u001b[1;32m     30\u001b[0m                     \u001b[0;32mexcept\u001b[0m \u001b[0mValueError\u001b[0m \u001b[0;32mas\u001b[0m \u001b[0me\u001b[0m\u001b[0;34m:\u001b[0m\u001b[0;34m\u001b[0m\u001b[0;34m\u001b[0m\u001b[0m\n\u001b[0;32m---> 31\u001b[0;31m                         \u001b[0;32mraise\u001b[0m \u001b[0mValueError\u001b[0m\u001b[0;34m(\u001b[0m\u001b[0;34mf'Argument \"{annot_arg}\" has wrong value!'\u001b[0m\u001b[0;34m,\u001b[0m \u001b[0me\u001b[0m\u001b[0;34m)\u001b[0m\u001b[0;34m\u001b[0m\u001b[0;34m\u001b[0m\u001b[0m\n\u001b[0m\u001b[1;32m     32\u001b[0m \u001b[0;34m\u001b[0m\u001b[0m\n\u001b[1;32m     33\u001b[0m             \u001b[0;32mif\u001b[0m \u001b[0;34m'return'\u001b[0m \u001b[0;32min\u001b[0m \u001b[0mannotations\u001b[0m \u001b[0;32mand\u001b[0m \u001b[0;32mnot\u001b[0m \u001b[0misinstance\u001b[0m\u001b[0;34m(\u001b[0m\u001b[0mself\u001b[0m\u001b[0;34m.\u001b[0m\u001b[0mres\u001b[0m\u001b[0;34m,\u001b[0m \u001b[0mannotations\u001b[0m\u001b[0;34m[\u001b[0m\u001b[0;34m'return'\u001b[0m\u001b[0;34m]\u001b[0m\u001b[0;34m)\u001b[0m\u001b[0;34m:\u001b[0m\u001b[0;34m\u001b[0m\u001b[0;34m\u001b[0m\u001b[0m\n",
      "\u001b[0;31mValueError\u001b[0m: ('Argument \"b\" has wrong value!', ValueError('Expected lenght of sequence = 2000 to be no more than 1000'))"
     ]
    }
   ],
   "source": [
    "fun(500, '1'*2000, (1, 2), 10)"
   ]
  }
 ],
 "metadata": {
  "kernelspec": {
   "display_name": "Python 3 (ipykernel)",
   "language": "python",
   "name": "python3"
  },
  "language_info": {
   "codemirror_mode": {
    "name": "ipython",
    "version": 3
   },
   "file_extension": ".py",
   "mimetype": "text/x-python",
   "name": "python",
   "nbconvert_exporter": "python",
   "pygments_lexer": "ipython3",
   "version": "3.9.7"
  },
  "latex_envs": {
   "LaTeX_envs_menu_present": true,
   "autoclose": false,
   "autocomplete": true,
   "bibliofile": "biblio.bib",
   "cite_by": "apalike",
   "current_citInitial": 1,
   "eqLabelWithNumbers": true,
   "eqNumInitial": 1,
   "hotkeys": {
    "equation": "Ctrl-E",
    "itemize": "Ctrl-I"
   },
   "labels_anchors": false,
   "latex_user_defs": false,
   "report_style_numbering": false,
   "user_envs_cfg": false
  },
  "toc": {
   "base_numbering": 1,
   "nav_menu": {},
   "number_sections": true,
   "sideBar": true,
   "skip_h1_title": false,
   "title_cell": "Table of Contents",
   "title_sidebar": "Contents",
   "toc_cell": false,
   "toc_position": {
    "height": "calc(100% - 180px)",
    "left": "10px",
    "top": "150px",
    "width": "330px"
   },
   "toc_section_display": true,
   "toc_window_display": true
  }
 },
 "nbformat": 4,
 "nbformat_minor": 5
}
