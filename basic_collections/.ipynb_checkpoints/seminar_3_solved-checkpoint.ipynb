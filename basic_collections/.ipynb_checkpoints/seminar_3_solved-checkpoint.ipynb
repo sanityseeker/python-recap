{
 "cells": [
  {
   "cell_type": "markdown",
   "metadata": {},
   "source": [
    "## Еще совсем немного о float в Python"
   ]
  },
  {
   "cell_type": "markdown",
   "metadata": {},
   "source": [
    "### Ограничения"
   ]
  },
  {
   "cell_type": "markdown",
   "metadata": {},
   "source": [
    "Мы знаем, что компьютер оперирует числами в двоичной системе. \n",
    "\n",
    "Иногда значения сопоставимы, как, например в случае с дробью 1/8\n",
    "\n",
    "$\\frac{1}{8} = 0.125_{10} = 1 / 10 + 2 / 100 + 5 / 1000$ и $0.001_2 = \\frac{1}{8}$"
   ]
  },
  {
   "cell_type": "markdown",
   "metadata": {},
   "source": [
    "На примере десятичной системы счисления, мы, например, уже никак не можем точно записать дробь $\\frac{1}{3}$:\n",
    "\n",
    "$\\frac{1}{3} \\approx 0.3 \\approx 0.33 \\approx 0.33(3)$"
   ]
  },
  {
   "cell_type": "markdown",
   "metadata": {},
   "source": [
    "Также и в двоичной уже дробь $\\frac{1}{10}$ не представляется точно:\n",
    "\n",
    "0.0001100110011001100110011001100110011001100110011..."
   ]
  },
  {
   "cell_type": "markdown",
   "metadata": {},
   "source": [
    "On most machines, if Python were to print the true decimal value of the binary approximation stored for 0.1, it would have to display"
   ]
  },
  {
   "cell_type": "code",
   "execution_count": 1,
   "metadata": {},
   "outputs": [
    {
     "data": {
      "text/plain": [
       "0.1"
      ]
     },
     "execution_count": 1,
     "metadata": {},
     "output_type": "execute_result"
    }
   ],
   "source": [
    "0.1000000000000000055511151231257827021181583404541015625"
   ]
  },
  {
   "cell_type": "code",
   "execution_count": 2,
   "metadata": {},
   "outputs": [
    {
     "data": {
      "text/plain": [
       "0.1"
      ]
     },
     "execution_count": 2,
     "metadata": {},
     "output_type": "execute_result"
    }
   ],
   "source": [
    "1 / 10 "
   ]
  },
  {
   "cell_type": "code",
   "execution_count": 3,
   "metadata": {},
   "outputs": [
    {
     "data": {
      "text/plain": [
       "'0.100000000000000005551115123125782702118158340454101562500000'"
      ]
     },
     "execution_count": 3,
     "metadata": {},
     "output_type": "execute_result"
    }
   ],
   "source": [
    "f'{1 / 10:.60f}'"
   ]
  },
  {
   "cell_type": "markdown",
   "metadata": {},
   "source": [
    "### Будьте очень аккуратны со сравнениями float"
   ]
  },
  {
   "cell_type": "code",
   "execution_count": 4,
   "metadata": {},
   "outputs": [
    {
     "data": {
      "text/plain": [
       "True"
      ]
     },
     "execution_count": 4,
     "metadata": {},
     "output_type": "execute_result"
    }
   ],
   "source": [
    "1.53 - 1. == 0.53"
   ]
  },
  {
   "cell_type": "markdown",
   "metadata": {},
   "source": [
    "![](img/meme.jpeg)"
   ]
  },
  {
   "cell_type": "code",
   "execution_count": 5,
   "metadata": {},
   "outputs": [
    {
     "data": {
      "text/plain": [
       "False"
      ]
     },
     "execution_count": 5,
     "metadata": {},
     "output_type": "execute_result"
    }
   ],
   "source": [
    ".1 + .1 + .1 == .3"
   ]
  },
  {
   "cell_type": "code",
   "execution_count": 6,
   "metadata": {},
   "outputs": [
    {
     "data": {
      "text/plain": [
       "False"
      ]
     },
     "execution_count": 6,
     "metadata": {},
     "output_type": "execute_result"
    }
   ],
   "source": [
    "round(.1, 1) + round(.1, 1) + round(.1, 1) == round(.3, 1)"
   ]
  },
  {
   "cell_type": "code",
   "execution_count": 7,
   "metadata": {},
   "outputs": [
    {
     "data": {
      "text/plain": [
       "True"
      ]
     },
     "execution_count": 7,
     "metadata": {},
     "output_type": "execute_result"
    }
   ],
   "source": [
    "round(.1 + .1 + .1, 3) == round(.3, 3)"
   ]
  },
  {
   "cell_type": "markdown",
   "metadata": {},
   "source": [
    "Хорошая напоминалка есть во многих источниках и в частности в [официальной документации](https://docs.python.org/3/tutorial/floatingpoint.html)"
   ]
  },
  {
   "cell_type": "markdown",
   "metadata": {},
   "source": [
    "## Строки и разное с ними связанное"
   ]
  },
  {
   "cell_type": "markdown",
   "metadata": {
    "id": "NK6v9ZKnXahZ"
   },
   "source": [
    "### Строки и кавычки"
   ]
  },
  {
   "cell_type": "code",
   "execution_count": 8,
   "metadata": {
    "id": "VW2opF1RXahZ",
    "outputId": "b9a5322e-4802-4cdd-c8e3-89e141cb20f0"
   },
   "outputs": [
    {
     "name": "stdout",
     "output_type": "stream",
     "text": [
      "Hello world!\n"
     ]
    }
   ],
   "source": [
    "print(\"Hello world!\")"
   ]
  },
  {
   "cell_type": "markdown",
   "metadata": {
    "id": "bSM9bdFsXahZ"
   },
   "source": [
    "Строка – это объект, как и число. Строки используются для записи текстовой информации, а также произвольных последовательностей байтов. Чтобы отличать обычную строку от строк кода, её нужно обрамлять либо одинарными, либо двойными кавычками. "
   ]
  },
  {
   "cell_type": "code",
   "execution_count": 9,
   "metadata": {
    "id": "serdUtwgXahZ",
    "outputId": "9b39c286-c47c-4c1f-fefb-2476af84ed0b"
   },
   "outputs": [
    {
     "data": {
      "text/plain": [
       "True"
      ]
     },
     "execution_count": 9,
     "metadata": {},
     "output_type": "execute_result"
    }
   ],
   "source": [
    "#Например:\n",
    "\"Hello world!\" == 'Hello world!'\n"
   ]
  },
  {
   "cell_type": "markdown",
   "metadata": {
    "id": "2InBKkNNXaha"
   },
   "source": [
    "Если текст состоит из нескольких строк, его нужно обрамлять в тройные кавычки"
   ]
  },
  {
   "cell_type": "code",
   "execution_count": 10,
   "metadata": {
    "id": "pslWA72NXaha",
    "outputId": "4e621ae8-82dc-4ac1-ecb7-d5bf0d34587e"
   },
   "outputs": [
    {
     "name": "stdout",
     "output_type": "stream",
     "text": [
      "Hello \n",
      "world!\n"
     ]
    }
   ],
   "source": [
    "print(\"\"\"Hello \n",
    "world!\"\"\")"
   ]
  },
  {
   "cell_type": "markdown",
   "metadata": {},
   "source": [
    "Кавычки в таких случаях также могут быть как одинарными, так и двойными"
   ]
  },
  {
   "cell_type": "code",
   "execution_count": 11,
   "metadata": {},
   "outputs": [
    {
     "name": "stdout",
     "output_type": "stream",
     "text": [
      "Hello \n",
      "world!\n"
     ]
    }
   ],
   "source": [
    "print('''Hello \n",
    "world!''')"
   ]
  },
  {
   "cell_type": "markdown",
   "metadata": {
    "id": "UBDeJYsTXaha"
   },
   "source": [
    "Символы кавычек внутри строк нужно экранировать, то же самое со специсимвлолами. Например, `\\t` (символ вертикальной табуляции) или `\\n` -- символ перевода строки"
   ]
  },
  {
   "cell_type": "markdown",
   "metadata": {},
   "source": [
    "### Что такое строка"
   ]
  },
  {
   "cell_type": "markdown",
   "metadata": {},
   "source": [
    "Строка -- это частный случай последоватьностей в Python, представитель группы `Flat sequences`. То есть, строка -- это последовательность, каждый элемент в которой представляет лишь один тип. Можно сказать, что строка -- это последовательность символов.\n",
    "\n",
    "Также строка -- одна из неизменяемых последовательностей (immutable sequences). Это значит, что мы не можем ее изменить после создания"
   ]
  },
  {
   "cell_type": "code",
   "execution_count": 30,
   "metadata": {},
   "outputs": [],
   "source": [
    "example_str = 'example_str'"
   ]
  },
  {
   "cell_type": "markdown",
   "metadata": {
    "id": "OTGY3U0NXahb"
   },
   "source": [
    "Строка является последовательностью односимвольных строк, к которым можно получить доступ. Строки можно сохранять в переменные и выполнять над ними некоторые операции."
   ]
  },
  {
   "cell_type": "code",
   "execution_count": null,
   "metadata": {
    "id": "mlcKEgOKXahb",
    "outputId": "476d7372-7543-4e70-83bd-eb942fa6cd3e"
   },
   "outputs": [
    {
     "name": "stdout",
     "output_type": "stream",
     "text": [
      "I love Jack Daniels\n",
      "MeowMeowMeow\n",
      "4\n"
     ]
    }
   ],
   "source": [
    "name = \"Jack\"\n",
    "surname = \"Daniels\"\n",
    "print(\"I love \" + name + ' ' + surname) #конкатенация или склейка строк\n",
    "say = \"Meow\"\n",
    "print(say * 3) #повторение строки\n",
    "print(len(say)) #длина строки say\n"
   ]
  },
  {
   "cell_type": "markdown",
   "metadata": {
    "id": "XUdEFbiTXahb"
   },
   "source": [
    "Функция input() считывает строку из консоли, пока не нажат enter"
   ]
  },
  {
   "cell_type": "code",
   "execution_count": null,
   "metadata": {
    "id": "Amw_1yEzXahc",
    "outputId": "bac69506-e19c-4f01-8e01-6e9eb73f7c7e"
   },
   "outputs": [
    {
     "name": "stdout",
     "output_type": "stream",
     "text": [
      "What is your name?\n"
     ]
    }
   ],
   "source": [
    "print(\"What is your name?\")\n",
    "name = input()\n",
    "print(\"Hello,\" + name)\n"
   ]
  },
  {
   "cell_type": "markdown",
   "metadata": {
    "id": "9EWmLishYsG-"
   },
   "source": []
  },
  {
   "cell_type": "markdown",
   "metadata": {
    "id": "jkj44nDKih43"
   },
   "source": [
    "Функция **len()** возвращает длину строки-параметра"
   ]
  },
  {
   "cell_type": "code",
   "execution_count": null,
   "metadata": {
    "id": "a5XuXJN1ih44",
    "outputId": "ec79729e-861c-407c-f9fb-41d451139759"
   },
   "outputs": [
    {
     "name": "stdout",
     "output_type": "stream",
     "text": [
      "hello\n",
      "5\n"
     ]
    }
   ],
   "source": [
    "s = input()\n",
    "print(len(s))"
   ]
  },
  {
   "cell_type": "markdown",
   "metadata": {},
   "source": [
    "### Что происходит, когда мы печатаем на экран?"
   ]
  },
  {
   "cell_type": "markdown",
   "metadata": {},
   "source": [
    "Вам что-то говорят следующие названия?   `__repr__ , __str__`"
   ]
  },
  {
   "cell_type": "code",
   "execution_count": 226,
   "metadata": {},
   "outputs": [],
   "source": [
    "class MyPrettyInt:\n",
    "    def __init__(self, value: int):\n",
    "        self.value = value\n",
    "    \n",
    "    def __repr__(self):\n",
    "        return f'MyPrettyInt({self.value})'\n",
    "    \n",
    "    def __str__(self):\n",
    "        return f'here is my pretty {self.value}'"
   ]
  },
  {
   "cell_type": "markdown",
   "metadata": {},
   "source": [
    "Строка, возвращаемая `__repr__` должна быть однозначной и по возможности совпадать с кодом, требуемым для создания показываемого объекта"
   ]
  },
  {
   "cell_type": "markdown",
   "metadata": {},
   "source": [
    "Если не определить `__repr__`, то"
   ]
  },
  {
   "cell_type": "markdown",
   "metadata": {},
   "source": [
    "Строка, возвращаемая `__str__`, должна быть понятной конечному пользователю"
   ]
  },
  {
   "cell_type": "markdown",
   "metadata": {},
   "source": [
    "Если не определить `__str__`, то"
   ]
  },
  {
   "cell_type": "markdown",
   "metadata": {
    "id": "tO7OSmduXahc"
   },
   "source": [
    "### Слайсы на примере строк"
   ]
  },
  {
   "cell_type": "markdown",
   "metadata": {},
   "source": [
    "#### Немного общей информации"
   ]
  },
  {
   "cell_type": "markdown",
   "metadata": {},
   "source": [
    "    \"As you may have noticed, several of the operations mentioned work equally for texts, lists and tables. Texts, lists and tables together are called trains. \n",
    "    […] The FOR command also works generically on trains\""
   ]
  },
  {
   "cell_type": "markdown",
   "metadata": {},
   "source": [
    "Мощь Python в том, что для многих схожих классов у нас есть общее множество поддерживаемых операций. Например, strings, lists, byte sequences, arrays и др. поддерживают iteration, slicing, sorting, contactenation и прочие общие операции.\n",
    "\n",
    "Understanding и embracing данного принципа помогает нам не изобретать велосипед, а использовать общий интерфейс, который дает реализуемым классам поддержку уже принятых методов "
   ]
  },
  {
   "cell_type": "markdown",
   "metadata": {},
   "source": [
    "#### Slicing (срезы, слайсы, whatever you call it)"
   ]
  },
  {
   "cell_type": "markdown",
   "metadata": {},
   "source": [
    "**Slicing** -- это общая фича всех последовательностей в Python. Ниже мы рассмотрим ее на примере строк, но помните, что это относится и к другим последовательностям"
   ]
  },
  {
   "cell_type": "markdown",
   "metadata": {},
   "source": [
    "`sequence[start:stop:step]`"
   ]
  },
  {
   "cell_type": "markdown",
   "metadata": {
    "id": "XrLP3Nz7Xahc"
   },
   "source": [
    "Срезы нужны для того, чтобы извлечь подстроки или символы из исходной строки. Таким образом, создаётся новая строка, а исходная остается неизменённой."
   ]
  },
  {
   "cell_type": "markdown",
   "metadata": {},
   "source": [
    "#### Basics"
   ]
  },
  {
   "cell_type": "markdown",
   "metadata": {
    "id": "97VkXV5HXahc"
   },
   "source": [
    "Чтобы обратиться к символу строки, используются две нумерации: неотрицательными и отрицательными числами."
   ]
  },
  {
   "cell_type": "markdown",
   "metadata": {
    "id": "Tx3nFXYaXahc"
   },
   "source": [
    "![alternate text](https://pp.userapi.com/c837320/v837320502/59b9f/c4cTcRUnMWg.jpg)"
   ]
  },
  {
   "cell_type": "markdown",
   "metadata": {
    "id": "x7-PdBfkXahd"
   },
   "source": [
    "Нумерация неотрицательными числами начинается с 0 и идет слева направо. То есть чтобы получить первый символ строки s, нужно написать s[0], второй символ – s[1], и т.д."
   ]
  },
  {
   "cell_type": "markdown",
   "metadata": {
    "id": "Voi41XZDXahd"
   },
   "source": [
    "Нумерация отрицательными числами начинается с -1 и также идет слева направо (справа налево, если смотреть на модуль числа). То есть чтобы получить последний символ строки s, нужно написать s[-1], предпоследний символ – s[-2], и т.д."
   ]
  },
  {
   "cell_type": "code",
   "execution_count": 11,
   "metadata": {
    "id": "fy2k2cfnXahd",
    "outputId": "8dd25f55-abd1-4d04-fa7f-2fb6896b13b2"
   },
   "outputs": [
    {
     "name": "stdout",
     "output_type": "stream",
     "text": [
      "H\n",
      "!\n"
     ]
    },
    {
     "ename": "IndexError",
     "evalue": "string index out of range",
     "output_type": "error",
     "traceback": [
      "\u001b[0;31m---------------------------------------------------------------------------\u001b[0m",
      "\u001b[0;31mIndexError\u001b[0m                                Traceback (most recent call last)",
      "\u001b[0;32m/tmp/ipykernel_1205257/3678429235.py\u001b[0m in \u001b[0;36m<module>\u001b[0;34m\u001b[0m\n\u001b[1;32m      3\u001b[0m \u001b[0mprint\u001b[0m\u001b[0;34m(\u001b[0m\u001b[0ms\u001b[0m\u001b[0;34m[\u001b[0m\u001b[0;36m0\u001b[0m\u001b[0;34m]\u001b[0m\u001b[0;34m)\u001b[0m  \u001b[0;31m# печатает первый символ строки\u001b[0m\u001b[0;34m\u001b[0m\u001b[0;34m\u001b[0m\u001b[0m\n\u001b[1;32m      4\u001b[0m \u001b[0mprint\u001b[0m\u001b[0;34m(\u001b[0m\u001b[0ms\u001b[0m\u001b[0;34m[\u001b[0m\u001b[0;34m-\u001b[0m\u001b[0;36m1\u001b[0m\u001b[0;34m]\u001b[0m\u001b[0;34m)\u001b[0m  \u001b[0;31m# печатает последний символ строки\u001b[0m\u001b[0;34m\u001b[0m\u001b[0;34m\u001b[0m\u001b[0m\n\u001b[0;32m----> 5\u001b[0;31m \u001b[0mprint\u001b[0m\u001b[0;34m(\u001b[0m\u001b[0ms\u001b[0m\u001b[0;34m[\u001b[0m\u001b[0;36m15\u001b[0m\u001b[0;34m]\u001b[0m\u001b[0;34m)\u001b[0m  \u001b[0;31m# выдаст ошибку, так как должна напечатать 16-ый элемент строки, а длина строки s меньше 16 символов\u001b[0m\u001b[0;34m\u001b[0m\u001b[0;34m\u001b[0m\u001b[0m\n\u001b[0m",
      "\u001b[0;31mIndexError\u001b[0m: string index out of range"
     ]
    }
   ],
   "source": [
    "# Например\n",
    "s = \"Hello world!\"  # создали переменную s со содержимым “Hello world!”\n",
    "print(s[0])  # печатает первый символ строки\n",
    "print(s[-1])  # печатает последний символ строки\n",
    "print(s[15])  # выдаст ошибку, так как должна напечатать 16-ый элемент строки, а длина строки s меньше 16 символов"
   ]
  },
  {
   "cell_type": "markdown",
   "metadata": {
    "id": "lhLsG_9WXahe"
   },
   "source": [
    "Следующий вид срезов – с двумя параметрами, между которыми ставится двоеточие. Если нужно получить подстроку строки s с __i__ по __j__ символы включительно, то нужно применить срез __s[i: j+1]__."
   ]
  },
  {
   "cell_type": "markdown",
   "metadata": {},
   "source": [
    "Правая граница не включается"
   ]
  },
  {
   "cell_type": "markdown",
   "metadata": {},
   "source": [
    "..."
   ]
  },
  {
   "cell_type": "markdown",
   "metadata": {},
   "source": [
    "..."
   ]
  },
  {
   "cell_type": "markdown",
   "metadata": {},
   "source": [
    "..."
   ]
  },
  {
   "cell_type": "markdown",
   "metadata": {},
   "source": [
    "![](img/why.png)"
   ]
  },
  {
   "cell_type": "markdown",
   "metadata": {},
   "source": [
    "!"
   ]
  },
  {
   "cell_type": "markdown",
   "metadata": {},
   "source": [
    "![](img/reason.jpg)"
   ]
  },
  {
   "cell_type": "markdown",
   "metadata": {},
   "source": [
    "Это не просто так!"
   ]
  },
  {
   "cell_type": "markdown",
   "metadata": {},
   "source": [
    "#### Правая граница"
   ]
  },
  {
   "cell_type": "markdown",
   "metadata": {},
   "source": [
    "1. Просто сразу видеть длину слайса, если задана только конечная позиция!\n",
    "`my_seq[:3] -- 3 items`"
   ]
  },
  {
   "cell_type": "markdown",
   "metadata": {},
   "source": [
    "2. Просто посчитать длину!\n",
    "`stop - start == length`"
   ]
  },
  {
   "cell_type": "markdown",
   "metadata": {},
   "source": [
    "3. Просто разбирать на две части без пересечения!\n"
   ]
  },
  {
   "cell_type": "code",
   "execution_count": 14,
   "metadata": {},
   "outputs": [
    {
     "name": "stdout",
     "output_type": "stream",
     "text": [
      "123 456789\n"
     ]
    }
   ],
   "source": [
    "my_seq = '123456789'\n",
    "\n",
    "print(my_seq[:3], my_seq[3:])\n",
    "\n",
    "for i in range(len(my_seq)):\n",
    "    assert my_seq[:i] + my_seq[i:] == my_seq"
   ]
  },
  {
   "cell_type": "markdown",
   "metadata": {},
   "source": [
    "#### Step"
   ]
  },
  {
   "cell_type": "code",
   "execution_count": 101,
   "metadata": {},
   "outputs": [
    {
     "data": {
      "text/plain": [
       "'13579'"
      ]
     },
     "execution_count": 101,
     "metadata": {},
     "output_type": "execute_result"
    }
   ],
   "source": [
    "my_seq[::2]"
   ]
  },
  {
   "cell_type": "code",
   "execution_count": 102,
   "metadata": {},
   "outputs": [
    {
     "data": {
      "text/plain": [
       "'987654321'"
      ]
     },
     "execution_count": 102,
     "metadata": {},
     "output_type": "execute_result"
    }
   ],
   "source": [
    "my_seq[::-1]"
   ]
  },
  {
   "cell_type": "markdown",
   "metadata": {},
   "source": [
    "#### Слайсы можно именовать"
   ]
  },
  {
   "cell_type": "markdown",
   "metadata": {},
   "source": [
    "Пусть у нас есть большая строчка"
   ]
  },
  {
   "cell_type": "code",
   "execution_count": 105,
   "metadata": {},
   "outputs": [],
   "source": [
    "invoice = \"\"\"\n",
    "0.....6.................................40........52...55........\n",
    "1909  Pimoroni PiBrella                   $17.50     3    $52.50\n",
    "1489  6mm Tactile Switch x20              $4.95      2    $9.90\n",
    "1510  Panavise Jr. - PV-201               $28.00     1    $28.00\n",
    "1601  PiTFT Mini Kit 320x240              $34.95     1    $34.95\n",
    "\"\"\""
   ]
  },
  {
   "cell_type": "code",
   "execution_count": 109,
   "metadata": {},
   "outputs": [
    {
     "name": "stdout",
     "output_type": "stream",
     "text": [
      "  $17.50     Pimoroni PiBrella                 \n",
      "  $4.95      6mm Tactile Switch x20            \n",
      "  $28.00     Panavise Jr. - PV-201             \n",
      "  $34.95     PiTFT Mini Kit 320x240            \n",
      " \n"
     ]
    }
   ],
   "source": [
    "NUMBER = slice(0, 6)\n",
    "DESC = slice(6, 40)\n",
    "PRICE = slice(40, 52)\n",
    "TOTAL = slice(55, None)\n",
    "\n",
    "for sold_item in invoice.split('\\n')[2:]:\n",
    "    print(sold_item[PRICE], sold_item[DESC])"
   ]
  },
  {
   "cell_type": "markdown",
   "metadata": {
    "id": "utw03SA8Xahf"
   },
   "source": [
    "#### Особые случаи"
   ]
  },
  {
   "cell_type": "markdown",
   "metadata": {
    "id": "IjtwoyI8Xahf"
   },
   "source": [
    "Если взять срез s[:], то получим копию исходной строки"
   ]
  },
  {
   "cell_type": "markdown",
   "metadata": {
    "id": "soE7p36pXahg"
   },
   "source": [
    "Если в качестве второго параметра в срезе взять число, большее или равное данной строке, то будут взять все символы, начиная номера символа первого параметра среза до конца строки"
   ]
  },
  {
   "cell_type": "markdown",
   "metadata": {
    "id": "wauZHYs-Xahg"
   },
   "source": [
    "Если в срезе первый параметр находится правее второго, то будет сгенерирована пустая строка."
   ]
  },
  {
   "cell_type": "markdown",
   "metadata": {
    "id": "t2bCiDxDXahg"
   },
   "source": [
    "И последний вид срезов – срезы с тремя параметрами, где третий параметр задаёт за шаг, с которым берутся символы."
   ]
  },
  {
   "cell_type": "markdown",
   "metadata": {
    "id": "ejREswBsXahg"
   },
   "source": [
    "Например срез s[::2] берет все символы строки s с шагом 2, то есть через один.\n"
   ]
  },
  {
   "cell_type": "markdown",
   "metadata": {
    "id": "Lgxuz-NHXahg"
   },
   "source": [
    "Также шаг может быть отрицательным, в таком случае первый параметр должен находиться правее второго. С помощью среза s[::-1] можно получить развернутую строку s."
   ]
  },
  {
   "cell_type": "markdown",
   "metadata": {
    "id": "Am8SwfSQXahg"
   },
   "source": [
    "### Форматирование (reminder)"
   ]
  },
  {
   "cell_type": "markdown",
   "metadata": {
    "id": "wqHTiuxIXahh"
   },
   "source": [
    "Часто возникают ситуации, когда нужно сделать строку, подставив в неё некоторые данные, полученные в процессе выполнения программы. \n",
    "Форматирование можно сделать с помощью оператора %, format и f-string"
   ]
  },
  {
   "cell_type": "markdown",
   "metadata": {
    "id": "Kf6ZdkMhXahh"
   },
   "source": [
    "Чтобы отформатировать строку  требуется:\n"
   ]
  },
  {
   "cell_type": "markdown",
   "metadata": {
    "id": "8saF7W-iXahh"
   },
   "source": [
    "#### Оператор %.  \n",
    "\n",
    "<Строка формата, содержащая один или более спецификаторов формата(например, %d (digit))> % <объект (или объекты, в виде кортежа),значение которого должно быть подставлено на место спецификатора (или спецификаторов) в левой части выражения>.\n"
   ]
  },
  {
   "cell_type": "code",
   "execution_count": null,
   "metadata": {
    "id": "IqNNt3PWXahh",
    "outputId": "df2c8ced-07dc-4606-af22-aa669154a67f"
   },
   "outputs": [
    {
     "name": "stdout",
     "output_type": "stream",
     "text": [
      "That  is  1  gold  fish!\n"
     ]
    }
   ],
   "source": [
    "print('That  is  %d  %s  fish!' % (1, 'gold')) "
   ]
  },
  {
   "cell_type": "code",
   "execution_count": null,
   "metadata": {
    "id": "n0eJTaSkXahh",
    "outputId": "ee4efac7-13c8-4759-addf-eadc633eaae6"
   },
   "outputs": [
    {
     "name": "stdout",
     "output_type": "stream",
     "text": [
      "1 spam 4 you\n"
     ]
    }
   ],
   "source": [
    "print(\"%d %s %d you\" % (1, 'spam', 4) )"
   ]
  },
  {
   "cell_type": "code",
   "execution_count": null,
   "metadata": {
    "id": "E416PxXSXahi",
    "outputId": "abc8a337-2781-43f5-9fda-94aa928f4681"
   },
   "outputs": [
    {
     "data": {
      "text/plain": [
       "'42 -- 3.14159 -- [1, 2, 3]'"
      ]
     },
     "execution_count": 12,
     "metadata": {},
     "output_type": "execute_result"
    }
   ],
   "source": [
    "\"%s -- %s -- %s\" % (42, 3.14159, [1, 2, 3]) "
   ]
  },
  {
   "cell_type": "markdown",
   "metadata": {},
   "source": [
    "**почему так больше не надо**"
   ]
  },
  {
   "cell_type": "markdown",
   "metadata": {},
   "source": [
    "Хотя бы потому, что это очень длинно и малочитаемо"
   ]
  },
  {
   "cell_type": "code",
   "execution_count": 26,
   "metadata": {},
   "outputs": [
    {
     "data": {
      "text/plain": [
       "'Hello, Eric Idle. You are 74. You are a comedian. You were a member of Monty Python.'"
      ]
     },
     "execution_count": 26,
     "metadata": {},
     "output_type": "execute_result"
    }
   ],
   "source": [
    "first_name = \"Eric\"\n",
    "last_name = \"Idle\"\n",
    "age = 74\n",
    "profession = \"comedian\"\n",
    "affiliation = \"Monty Python\"\n",
    "\n",
    "\"Hello, %s %s. You are %s. You are a %s. You were a member of %s.\" % (first_name, last_name, age, profession, affiliation)"
   ]
  },
  {
   "cell_type": "markdown",
   "metadata": {},
   "source": [
    "#### format"
   ]
  },
  {
   "cell_type": "code",
   "execution_count": 18,
   "metadata": {
    "id": "lDyG-VaoaC0h",
    "outputId": "3d667c41-6df0-4b03-d1da-6ce76c7b03bb"
   },
   "outputs": [
    {
     "name": "stdout",
     "output_type": "stream",
     "text": [
      "One sheep is 23.123 kilos\n"
     ]
    }
   ],
   "source": [
    "weight_of_one_sheep = 23.1234\n",
    "print('One sheep is {:.3f} kilos'.format(weight_of_one_sheep))"
   ]
  },
  {
   "cell_type": "markdown",
   "metadata": {},
   "source": [
    "Удобство *.format* заключается в том, что можно передавать строку с плейсхолдерами, а потом их доопределять. Плейсхолдеры могут быть именованными или нет, в единственном числе или множество. Пример:"
   ]
  },
  {
   "cell_type": "code",
   "execution_count": 13,
   "metadata": {},
   "outputs": [
    {
     "name": "stdout",
     "output_type": "stream",
     "text": [
      "Our brand new estimation of sheeps weight is 42.000 kilos\n",
      "Our brand new estimation of sheeps weight is 42.000 kilos\n",
      "Our brand new estimation of sheeps weight is 42.000 kilos\n"
     ]
    }
   ],
   "source": [
    "new_estimation = 42.\n",
    "\n",
    "future_info_unnamed = 'Our brand new estimation of sheeps weight is {:.3f} kilos'\n",
    "print(future_info_unnamed.format(new_estimation))\n",
    "\n",
    "future_info_named = 'Our brand new estimation of sheeps weight is {new_value:.3f} kilos'\n",
    "print(future_info_named.format(new_value=new_estimation))\n",
    "\n",
    "future_info_named_mult = 'Our brand new estimation of sheeps {item} is {new_value:.3f} kilos'\n",
    "print(future_info_named_mult.format(item='weight', new_value=new_estimation))"
   ]
  },
  {
   "cell_type": "code",
   "execution_count": 19,
   "metadata": {
    "id": "jR5ED0e-Xahi",
    "outputId": "be8872ad-a59a-45f6-8310-4b40dd5f9e50"
   },
   "outputs": [
    {
     "data": {
      "text/plain": [
       "'a, b, c'"
      ]
     },
     "execution_count": 19,
     "metadata": {},
     "output_type": "execute_result"
    }
   ],
   "source": [
    "'{0}, {1}, {2}'.format('a', 'b', 'c')"
   ]
  },
  {
   "cell_type": "code",
   "execution_count": 20,
   "metadata": {
    "id": "kA3uXaTZXahi",
    "outputId": "588374c8-c2c4-4a50-ce89-260a653c750f"
   },
   "outputs": [
    {
     "data": {
      "text/plain": [
       "'a, b, c'"
      ]
     },
     "execution_count": 20,
     "metadata": {},
     "output_type": "execute_result"
    }
   ],
   "source": [
    "'{}, {}, {}'.format('a', 'b', 'c')"
   ]
  },
  {
   "cell_type": "code",
   "execution_count": 21,
   "metadata": {
    "id": "8lSHyNokXahi",
    "outputId": "5468e7c6-d1d7-4f42-fe32-86eff9526692"
   },
   "outputs": [
    {
     "data": {
      "text/plain": [
       "'c, b, a'"
      ]
     },
     "execution_count": 21,
     "metadata": {},
     "output_type": "execute_result"
    }
   ],
   "source": [
    "'{2}, {1}, {0}'.format('a', 'b', 'c')"
   ]
  },
  {
   "cell_type": "markdown",
   "metadata": {},
   "source": [
    "А еще поддерживает задание кастомного форматирования с помощью `__format__()`!"
   ]
  },
  {
   "cell_type": "markdown",
   "metadata": {},
   "source": [
    "Классно, но все еще длинно"
   ]
  },
  {
   "cell_type": "code",
   "execution_count": 54,
   "metadata": {},
   "outputs": [
    {
     "data": {
      "text/plain": [
       "'Hello, Eric Idle. You are 74. You are a comedian. You were a member of Monty Python.'"
      ]
     },
     "execution_count": 54,
     "metadata": {},
     "output_type": "execute_result"
    }
   ],
   "source": [
    "first_name = \"Eric\"\n",
    "last_name = \"Idle\"\n",
    "age = 74\n",
    "profession = \"comedian\"\n",
    "affiliation = \"Monty Python\"\n",
    "\n",
    "pattern_str = \"Hello, {first_name} {last_name}. You are {age}. You are a {profession}. You were a member of {affiliation}.\"\n",
    "\n",
    "pattern_str.format(\n",
    "    first_name=first_name,\n",
    "    last_name=last_name,\n",
    "    age=age,\n",
    "    profession=profession,\n",
    "    affiliation=affiliation,\n",
    ")"
   ]
  },
  {
   "cell_type": "markdown",
   "metadata": {},
   "source": [
    "Можно чуть короче, если есть dict"
   ]
  },
  {
   "cell_type": "code",
   "execution_count": 56,
   "metadata": {},
   "outputs": [
    {
     "data": {
      "text/plain": [
       "'Hello, John Doe. You are 18. You are a seeker. You were a member of humanity.'"
      ]
     },
     "execution_count": 56,
     "metadata": {},
     "output_type": "execute_result"
    }
   ],
   "source": [
    "data = {\n",
    "    'first_name': 'John',\n",
    "    'last_name': 'Doe',\n",
    "    'age': '18',\n",
    "    'profession': 'seeker',\n",
    "    'affiliation': 'humanity'\n",
    "}\n",
    "\n",
    "pattern_str.format(**data)"
   ]
  },
  {
   "cell_type": "markdown",
   "metadata": {},
   "source": [
    "#### f-strings\n",
    "\n",
    "Как format, только чуть короче"
   ]
  },
  {
   "cell_type": "markdown",
   "metadata": {},
   "source": [
    "Можно писать коротко"
   ]
  },
  {
   "cell_type": "code",
   "execution_count": 57,
   "metadata": {},
   "outputs": [
    {
     "data": {
      "text/plain": [
       "'my name is Denis Belyakov'"
      ]
     },
     "execution_count": 57,
     "metadata": {},
     "output_type": "execute_result"
    }
   ],
   "source": [
    "name = 'Denis'\n",
    "surname = 'Belyakov'\n",
    "\n",
    "f'my name is {name} {surname}'"
   ]
  },
  {
   "cell_type": "markdown",
   "metadata": {},
   "source": [
    "И можно использовать выражения!"
   ]
  },
  {
   "cell_type": "code",
   "execution_count": 58,
   "metadata": {},
   "outputs": [
    {
     "data": {
      "text/plain": [
       "'my name is DENIS BelyakovBelyakovBelyakov'"
      ]
     },
     "execution_count": 58,
     "metadata": {},
     "output_type": "execute_result"
    }
   ],
   "source": [
    "f'my name is {name.upper()} {surname*3}'"
   ]
  },
  {
   "cell_type": "markdown",
   "metadata": {},
   "source": [
    "Вспомним наш кастомный класс"
   ]
  },
  {
   "cell_type": "code",
   "execution_count": 59,
   "metadata": {},
   "outputs": [],
   "source": [
    "class MyPrettyInt:\n",
    "    def __init__(self, value: int):\n",
    "        self.value = value\n",
    "    \n",
    "    def __repr__(self):\n",
    "        return f'MyPrettyInt({self.value})'\n",
    "    \n",
    "    def __str__(self):\n",
    "        return f'here is my pretty {self.value}'"
   ]
  },
  {
   "cell_type": "markdown",
   "metadata": {},
   "source": [
    "Вызов `format` для него будет вызывать метод `__str__`, а потом уже `__repr__`"
   ]
  },
  {
   "cell_type": "code",
   "execution_count": 60,
   "metadata": {},
   "outputs": [],
   "source": [
    "pretty_int = MyPrettyInt(4) "
   ]
  },
  {
   "cell_type": "code",
   "execution_count": 61,
   "metadata": {},
   "outputs": [
    {
     "data": {
      "text/plain": [
       "'here is my pretty 4 and it is the prettiest!'"
      ]
     },
     "execution_count": 61,
     "metadata": {},
     "output_type": "execute_result"
    }
   ],
   "source": [
    "f'{pretty_int} and it is the prettiest!'"
   ]
  },
  {
   "cell_type": "markdown",
   "metadata": {},
   "source": [
    "Можно насильно вызвать `__repr__` написав `!r`"
   ]
  },
  {
   "cell_type": "code",
   "execution_count": 63,
   "metadata": {},
   "outputs": [
    {
     "data": {
      "text/plain": [
       "'MyPrettyInt(4) and it is the prettiest!'"
      ]
     },
     "execution_count": 63,
     "metadata": {},
     "output_type": "execute_result"
    }
   ],
   "source": [
    "f'{pretty_int!r} and it is the prettiest!'"
   ]
  },
  {
   "cell_type": "markdown",
   "metadata": {},
   "source": [
    "**Мультистрока**"
   ]
  },
  {
   "cell_type": "code",
   "execution_count": 67,
   "metadata": {},
   "outputs": [
    {
     "name": "stdout",
     "output_type": "stream",
     "text": [
      "\n",
      "My \n",
      "name is Denis\n",
      "and surname is Belyakov\n",
      "\n"
     ]
    }
   ],
   "source": [
    "print(f'''\n",
    "My \n",
    "name is {name}\n",
    "and surname is {surname}\n",
    "''')"
   ]
  },
  {
   "cell_type": "code",
   "execution_count": 74,
   "metadata": {},
   "outputs": [
    {
     "name": "stdout",
     "output_type": "stream",
     "text": [
      "My name is Denis and surname is Belyakov\n"
     ]
    }
   ],
   "source": [
    "sample_str = f'My ' \\\n",
    "             f'name is {name} ' \\\n",
    "             f'and surname is {surname}' \\\n",
    "\n",
    "print(sample_str)"
   ]
  },
  {
   "cell_type": "markdown",
   "metadata": {},
   "source": [
    "**А еще он быстрее**"
   ]
  },
  {
   "cell_type": "code",
   "execution_count": 75,
   "metadata": {},
   "outputs": [],
   "source": [
    "name = 'John'\n",
    "surname = 'Doe'\n",
    "age = 99"
   ]
  },
  {
   "cell_type": "code",
   "execution_count": 86,
   "metadata": {},
   "outputs": [
    {
     "name": "stdout",
     "output_type": "stream",
     "text": [
      "225 ns ± 14.9 ns per loop (mean ± std. dev. of 7 runs, 1000000 loops each)\n"
     ]
    }
   ],
   "source": [
    "%%timeit -n 1000000\n",
    "'name is %s, surname is %s, and age is %d' % (name, surname, age)"
   ]
  },
  {
   "cell_type": "code",
   "execution_count": 87,
   "metadata": {},
   "outputs": [
    {
     "name": "stdout",
     "output_type": "stream",
     "text": [
      "576 ns ± 11.1 ns per loop (mean ± std. dev. of 7 runs, 1000000 loops each)\n"
     ]
    }
   ],
   "source": [
    "%%timeit -n 1000000\n",
    "'name is {name}, surname is {surname}, and age is {age}'.format(name=name, surname=surname, age=age)"
   ]
  },
  {
   "cell_type": "code",
   "execution_count": 88,
   "metadata": {},
   "outputs": [
    {
     "name": "stdout",
     "output_type": "stream",
     "text": [
      "155 ns ± 12.1 ns per loop (mean ± std. dev. of 7 runs, 1000000 loops each)\n"
     ]
    }
   ],
   "source": [
    "%%timeit -n 1000000\n",
    "f'name is {name}, surname is {surname}, and age is {age}'"
   ]
  },
  {
   "cell_type": "markdown",
   "metadata": {},
   "source": [
    "**special cases**"
   ]
  },
  {
   "cell_type": "code",
   "execution_count": 90,
   "metadata": {},
   "outputs": [
    {
     "data": {
      "text/plain": [
       "\"I love 'Nestle' chocolate\""
      ]
     },
     "execution_count": 90,
     "metadata": {},
     "output_type": "execute_result"
    }
   ],
   "source": [
    "f'I love \\'Nestle\\' chocolate' # экранирование"
   ]
  },
  {
   "cell_type": "code",
   "execution_count": 98,
   "metadata": {},
   "outputs": [
    {
     "data": {
      "text/plain": [
       "'Values in braces are the best: {4 + 5}'"
      ]
     },
     "execution_count": 98,
     "metadata": {},
     "output_type": "execute_result"
    }
   ],
   "source": [
    "f'Values in braces are the best: {{4 + 5}}'  # {{}} для показа скобочек"
   ]
  },
  {
   "cell_type": "code",
   "execution_count": 99,
   "metadata": {},
   "outputs": [
    {
     "data": {
      "text/plain": [
       "'Values in braces are the best: {9}'"
      ]
     },
     "execution_count": 99,
     "metadata": {},
     "output_type": "execute_result"
    }
   ],
   "source": [
    "f'Values in braces are the best: {{{4 + 5}}}'  # {{{}}} для показа скобочек и вычисления"
   ]
  },
  {
   "cell_type": "code",
   "execution_count": 100,
   "metadata": {},
   "outputs": [
    {
     "data": {
      "text/plain": [
       "'Values in braces are the best: {{4 + 5}}'"
      ]
     },
     "execution_count": 100,
     "metadata": {},
     "output_type": "execute_result"
    }
   ],
   "source": [
    "f'Values in braces are the best: {{{{4 + 5}}}}'  # {{{}}} для показа скобочек и вычисления"
   ]
  },
  {
   "cell_type": "markdown",
   "metadata": {},
   "source": [
    "Ну, вы поняли"
   ]
  },
  {
   "cell_type": "markdown",
   "metadata": {
    "id": "1s-Zqbl-Xahj"
   },
   "source": [
    "### Дополнительные функции и методы строк"
   ]
  },
  {
   "cell_type": "code",
   "execution_count": null,
   "metadata": {
    "id": "9XqqjYj5Xahj",
    "outputId": "c8c8ebc6-848a-4e43-eb4c-5bbc48cb6ff7"
   },
   "outputs": [
    {
     "name": "stdout",
     "output_type": "stream",
     "text": [
      "eeew\n",
      "eeeweeeweeew\n"
     ]
    }
   ],
   "source": [
    "# Функция input() считывает строку из консоли, пока не нажат enter\n",
    "s = input()\n",
    "print(s*3)"
   ]
  },
  {
   "cell_type": "markdown",
   "metadata": {
    "id": "TutEm3PoXahj",
    "outputId": "fd10b271-6544-47d4-e09b-2f2eef818fce"
   },
   "source": [
    "*Поиск подстроки в строке. Возвращает номер первого вхождения или -1*\n",
    "\n",
    "    s.find(str, [start],[end])\n",
    "    \n",
    "*Поиск подстроки в строке. Возвращает номер последнего вхождения или -1*\n",
    "\n",
    "    s.rfind(str, [start],[end]\n",
    "\n",
    "*Поиск подстроки в строке. Возвращает номер первого вхождения или вызывает ValueError*\n",
    "\n",
    "    s.index(str, [start],[end])\n",
    "\n",
    "*Поиск подстроки в строке. Возвращает номер последнего вхождения или вызывает ValueError*\n",
    "\n",
    "    s.rindex(str, [start],[end])\n",
    "    \n",
    "*Замена шаблона*\n",
    "\n",
    "    s.replace(шаблон, замена)\n",
    "    \n",
    "*Разбиение строки по разделителю*\n",
    "\n",
    "    s.split(символ)\n",
    "    \n",
    "*Состоит ли строка из цифр*\n",
    "\n",
    "    s.isdigit()\n",
    "    \n",
    "*Состоит ли строка из букв*\n",
    "\n",
    "    s.isalpha()"
   ]
  },
  {
   "cell_type": "markdown",
   "metadata": {
    "id": "6t7GW8OTXahj",
    "jupyter": {
     "outputs_hidden": true
    }
   },
   "source": [
    "*Состоит ли строка из цифр или букв*\n",
    "\n",
    "    s.isalnum()\n",
    "\n",
    "*Состоит ли строка из символов в нижнем регистре*\n",
    "\n",
    "    s.islower()\n",
    "    \n",
    "\n",
    "*Состоит ли строка из символов в верхнем регистре*\n",
    "    \n",
    "    s.isupper()\n",
    "\n",
    "*Состоит ли строка из неотображаемых символов (пробел, символ перевода страницы ('\\f'), \"новая строка\" ('\\n'), \"перевод каретки\" ('\\r'), \"горизонтальная табуляция\" ('\\t') и \"вертикальная табуляция\" ('\\v'))*\n",
    "    \n",
    "    s.isspace()\n",
    "\n",
    "*Начинаются ли слова в строке с заглавной буквы*\n",
    "\n",
    "    s.istitle()\n",
    "\n",
    "*Преобразование строки к верхнему регистру*\n",
    "    \n",
    "    s.upper()\n",
    "\n",
    "*Преобразование строки к нижнему регистру*\n",
    "    \n",
    "    s.lower()\n",
    "\n",
    "*Начинается ли строка S с шаблона str*\n",
    "    \n",
    "    s.startswith(str)\n",
    "\n",
    "*Переводит символы нижнего регистра в верхний, а верхнего – в нижний*\n",
    "    \n",
    "    s.swapcase()\n",
    "\n",
    "\n",
    "*Символ в его код ASCII*\n",
    "    \n",
    "    ord(символ)\n",
    "\n",
    "*Код ASCII в символ*\n",
    "    \n",
    "    chr(число)\n",
    "\n",
    "\n",
    "*Возвращает количество непересекающихся вхождений подстроки в диапазоне [начало, конец] (0 и длина строки по умолчанию)*\n",
    "\n",
    "    s.count(str, [start],[end])\n",
    "\n",
    "\n",
    "*Удаление пробельных символов в начале строки*\n",
    "\n",
    "    s.lstrip([chars])\n",
    "\n",
    "*Удаление пробельных символов в конце строки*\n",
    "\n",
    "    s.rstrip([chars])\n",
    "\n",
    "*Удаление пробельных символов в начале и в конце строки*\n",
    "\n",
    "    s.strip([chars])\n",
    "\n",
    "*Первую букву каждого слова переводит в верхний регистр, а все остальные в нижний*\n",
    "    \n",
    "    s.title()"
   ]
  },
  {
   "cell_type": "markdown",
   "metadata": {
    "id": "5BdzMAV4ih5I"
   },
   "source": [
    "### Метод split()"
   ]
  },
  {
   "cell_type": "markdown",
   "metadata": {
    "id": "dBWTdCzBih5K"
   },
   "source": [
    "Метод `split()` разделяет строку на подстроки по указанному разделителю и выдает на выходе другую (уже изменяемую!) последовательность -- `list`"
   ]
  },
  {
   "cell_type": "code",
   "execution_count": null,
   "metadata": {
    "id": "2jylZN-7ih5L",
    "outputId": "f8fd701f-663a-4239-e0d4-01552772595f"
   },
   "outputs": [
    {
     "data": {
      "text/plain": [
       "['mother', 'father', 'sister', 'brother']"
      ]
     },
     "execution_count": 2,
     "metadata": {
      "tags": []
     },
     "output_type": "execute_result"
    }
   ],
   "source": [
    "s = \"mother, father, sister, brother\"\n",
    "s.split(\", \")"
   ]
  },
  {
   "cell_type": "markdown",
   "metadata": {
    "id": "NccVqoytih5S"
   },
   "source": [
    "Если разделитель не указан, что строка разделяется по любому whitespace символу"
   ]
  },
  {
   "cell_type": "code",
   "execution_count": 134,
   "metadata": {
    "id": "i-J5DZXPih5U",
    "outputId": "39a229a0-26b1-468d-f697-f2415456ddff"
   },
   "outputs": [
    {
     "data": {
      "text/plain": [
       "['mother', 'father', 'sister', 'brother', 'me']"
      ]
     },
     "execution_count": 134,
     "metadata": {},
     "output_type": "execute_result"
    }
   ],
   "source": [
    "s = \"mother father \\t sister \\n brother   me\"\n",
    "s.split()"
   ]
  },
  {
   "cell_type": "markdown",
   "metadata": {},
   "source": [
    "### Text Versus Bytes"
   ]
  },
  {
   "cell_type": "markdown",
   "metadata": {},
   "source": [
    "Выше мы дали определение строки как неизменяемая последовательность символов (immutabe sequence of _charachters_). Но что такое _charachter_?"
   ]
  },
  {
   "cell_type": "markdown",
   "metadata": {},
   "source": [
    "в Python3 это символ Unicode. В зависимости от используемого стандарта Unicode, представление кода в байтах может отличаться"
   ]
  },
  {
   "cell_type": "code",
   "execution_count": 138,
   "metadata": {},
   "outputs": [
    {
     "data": {
      "text/plain": [
       "4"
      ]
     },
     "execution_count": 138,
     "metadata": {},
     "output_type": "execute_result"
    }
   ],
   "source": [
    "s = 'café'\n",
    "len(s)  # 4 символа юникода"
   ]
  },
  {
   "cell_type": "code",
   "execution_count": 141,
   "metadata": {},
   "outputs": [
    {
     "data": {
      "text/plain": [
       "b'caf\\xc3\\xa9'"
      ]
     },
     "execution_count": 141,
     "metadata": {},
     "output_type": "execute_result"
    }
   ],
   "source": [
    "b = s.encode('utf8')\n",
    "b  # 5 байт в кодировке, т.к. последний символ занимает 2 байта в UTF-8"
   ]
  },
  {
   "cell_type": "code",
   "execution_count": 140,
   "metadata": {},
   "outputs": [
    {
     "data": {
      "text/plain": [
       "'café'"
      ]
     },
     "execution_count": 140,
     "metadata": {},
     "output_type": "execute_result"
    }
   ],
   "source": [
    "b.decode('utf8')"
   ]
  },
  {
   "cell_type": "markdown",
   "metadata": {},
   "source": [
    "## Bonus: let's have fun"
   ]
  },
  {
   "cell_type": "code",
   "execution_count": 198,
   "metadata": {},
   "outputs": [],
   "source": [
    "bar = 'foo'"
   ]
  },
  {
   "cell_type": "markdown",
   "metadata": {},
   "source": [
    "1. Сделайте удвоение строчки с помощью .format(), чтобы в ней было ровно два упоминания переменной `bar`"
   ]
  },
  {
   "cell_type": "code",
   "execution_count": 173,
   "metadata": {},
   "outputs": [],
   "source": [
    "bar = '{0}:{0}'.format(bar)"
   ]
  },
  {
   "cell_type": "code",
   "execution_count": 206,
   "metadata": {},
   "outputs": [],
   "source": [
    "assert bar == 'foo:foo'"
   ]
  },
  {
   "cell_type": "markdown",
   "metadata": {},
   "source": [
    "2. Сделайте то же самое с использованием format, только совсем без использования символов {}"
   ]
  },
  {
   "cell_type": "code",
   "execution_count": 2,
   "metadata": {},
   "outputs": [],
   "source": [
    "bar = 'foo'"
   ]
  },
  {
   "cell_type": "code",
   "execution_count": 205,
   "metadata": {},
   "outputs": [],
   "source": [
    "bar = str(repr(set([0,]))*2).format(bar)"
   ]
  },
  {
   "cell_type": "code",
   "execution_count": 207,
   "metadata": {},
   "outputs": [],
   "source": [
    "assert bar == 'foofoo'"
   ]
  },
  {
   "cell_type": "markdown",
   "metadata": {},
   "source": [
    "3. Получите строчку 'foofoo' с использованием функции format, без использования {} и без использования каких-либо переменных"
   ]
  },
  {
   "cell_type": "code",
   "execution_count": 224,
   "metadata": {},
   "outputs": [],
   "source": [
    "answer = (str(format).split()[-1][:-1][:2] + str(format).split()[-1][:-1][1]) * 2"
   ]
  },
  {
   "cell_type": "code",
   "execution_count": 225,
   "metadata": {},
   "outputs": [],
   "source": [
    "assert answer == 'foofoo'"
   ]
  }
 ],
 "metadata": {
  "colab": {
   "name": "строки.ipynb",
   "provenance": []
  },
  "kernelspec": {
   "display_name": "Python 3 (ipykernel)",
   "language": "python",
   "name": "python3"
  },
  "language_info": {
   "codemirror_mode": {
    "name": "ipython",
    "version": 3
   },
   "file_extension": ".py",
   "mimetype": "text/x-python",
   "name": "python",
   "nbconvert_exporter": "python",
   "pygments_lexer": "ipython3",
   "version": "3.9.7"
  },
  "latex_envs": {
   "LaTeX_envs_menu_present": true,
   "autoclose": false,
   "autocomplete": true,
   "bibliofile": "biblio.bib",
   "cite_by": "apalike",
   "current_citInitial": 1,
   "eqLabelWithNumbers": true,
   "eqNumInitial": 1,
   "hotkeys": {
    "equation": "Ctrl-E",
    "itemize": "Ctrl-I"
   },
   "labels_anchors": false,
   "latex_user_defs": false,
   "report_style_numbering": false,
   "user_envs_cfg": false
  },
  "toc": {
   "base_numbering": 1,
   "nav_menu": {},
   "number_sections": true,
   "sideBar": true,
   "skip_h1_title": false,
   "title_cell": "Table of Contents",
   "title_sidebar": "Contents",
   "toc_cell": false,
   "toc_position": {},
   "toc_section_display": true,
   "toc_window_display": true
  }
 },
 "nbformat": 4,
 "nbformat_minor": 4
}
