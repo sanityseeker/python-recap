{
 "cells": [
  {
   "cell_type": "markdown",
   "id": "798764bc",
   "metadata": {},
   "source": [
    "# Sequences"
   ]
  },
  {
   "cell_type": "markdown",
   "id": "e9567ec8",
   "metadata": {},
   "source": [
    "    \"As you may have noticed, several of the operations mentioned work equally for texts, lists and tables. Texts, lists and tables together are called trains. \n",
    "    […] The FOR command also works generically on trains\""
   ]
  },
  {
   "cell_type": "markdown",
   "id": "a93ade41",
   "metadata": {},
   "source": [
    "Мощь Python в том, что для многих схожих классов у нас есть общее множество поддерживаемых операций. Например, strings, lists, byte sequences, arrays и др. поддерживают iteration, slicing, sorting, contactenation и прочие общие операции.\n",
    "\n",
    "Understanding и embracing данного принципа помогает нам не изобретать велосипед, а использовать общий интерфейс, который дает реализуемым классам поддержку уже принятых методов "
   ]
  },
  {
   "cell_type": "markdown",
   "id": "53ea5027",
   "metadata": {},
   "source": [
    "Рассмотрим некоторые примеры последовательностей, помимо изученного ранее string"
   ]
  },
  {
   "cell_type": "markdown",
   "id": "f647c569",
   "metadata": {},
   "source": [
    "## List"
   ]
  },
  {
   "cell_type": "markdown",
   "id": "d61ec094",
   "metadata": {},
   "source": [
    "Most fundamental sequence, mutable and mixed-type"
   ]
  },
  {
   "cell_type": "code",
   "execution_count": 292,
   "id": "ded595e3",
   "metadata": {},
   "outputs": [],
   "source": [
    "a = [1, 2, 3]\n",
    "b = ['1', [2], 3, 4.]"
   ]
  },
  {
   "cell_type": "markdown",
   "id": "47743361",
   "metadata": {},
   "source": [
    "### Базовые операции"
   ]
  },
  {
   "cell_type": "code",
   "execution_count": 293,
   "id": "d1f2127c",
   "metadata": {},
   "outputs": [
    {
     "data": {
      "text/plain": [
       "[1, 2, 3, '1', [2], 3, 4.0]"
      ]
     },
     "execution_count": 293,
     "metadata": {},
     "output_type": "execute_result"
    }
   ],
   "source": [
    "a + b"
   ]
  },
  {
   "cell_type": "code",
   "execution_count": 294,
   "id": "112c0232",
   "metadata": {},
   "outputs": [
    {
     "data": {
      "text/plain": [
       "[1, 2, 3, 1, 2, 3, 1, 2, 3]"
      ]
     },
     "execution_count": 294,
     "metadata": {},
     "output_type": "execute_result"
    }
   ],
   "source": [
    "a * 3"
   ]
  },
  {
   "cell_type": "markdown",
   "id": "3b0041a9",
   "metadata": {},
   "source": [
    "`Слайсы!`"
   ]
  },
  {
   "cell_type": "code",
   "execution_count": 295,
   "id": "4083792a",
   "metadata": {},
   "outputs": [
    {
     "data": {
      "text/plain": [
       "[4.0, 3, [2], '1']"
      ]
     },
     "execution_count": 295,
     "metadata": {},
     "output_type": "execute_result"
    }
   ],
   "source": [
    "b[::-1]"
   ]
  },
  {
   "cell_type": "markdown",
   "id": "0dee87fe",
   "metadata": {},
   "source": [
    "Поддержка операций `in (not in), min, max, index (поиск), count`"
   ]
  },
  {
   "cell_type": "code",
   "execution_count": 296,
   "id": "03ec8ee7",
   "metadata": {},
   "outputs": [
    {
     "data": {
      "text/plain": [
       "True"
      ]
     },
     "execution_count": 296,
     "metadata": {},
     "output_type": "execute_result"
    }
   ],
   "source": [
    "'1' not in a"
   ]
  },
  {
   "cell_type": "code",
   "execution_count": 297,
   "id": "9c3eecd4",
   "metadata": {},
   "outputs": [
    {
     "data": {
      "text/plain": [
       "True"
      ]
     },
     "execution_count": 297,
     "metadata": {},
     "output_type": "execute_result"
    }
   ],
   "source": [
    "'1' in a + b"
   ]
  },
  {
   "cell_type": "markdown",
   "id": "95b2df7b",
   "metadata": {},
   "source": [
    "Для коллекций, содержащих разные типы, нужно явно определить компаратор"
   ]
  },
  {
   "cell_type": "code",
   "execution_count": 298,
   "id": "8c56b9c9",
   "metadata": {},
   "outputs": [
    {
     "data": {
      "text/plain": [
       "(1, 3)"
      ]
     },
     "execution_count": 298,
     "metadata": {},
     "output_type": "execute_result"
    }
   ],
   "source": [
    "min(a), max(a)"
   ]
  },
  {
   "cell_type": "code",
   "execution_count": 301,
   "id": "784fa569",
   "metadata": {},
   "outputs": [
    {
     "ename": "ValueError",
     "evalue": "4 is not in list",
     "output_type": "error",
     "traceback": [
      "\u001b[0;31m---------------------------------------------------------------------------\u001b[0m",
      "\u001b[0;31mValueError\u001b[0m                                Traceback (most recent call last)",
      "\u001b[0;32m/tmp/ipykernel_246707/317268405.py\u001b[0m in \u001b[0;36m<module>\u001b[0;34m\u001b[0m\n\u001b[0;32m----> 1\u001b[0;31m \u001b[0ma\u001b[0m\u001b[0;34m.\u001b[0m\u001b[0mindex\u001b[0m\u001b[0;34m(\u001b[0m\u001b[0;36m3\u001b[0m\u001b[0;34m)\u001b[0m\u001b[0;34m,\u001b[0m \u001b[0ma\u001b[0m\u001b[0;34m.\u001b[0m\u001b[0mindex\u001b[0m\u001b[0;34m(\u001b[0m\u001b[0;36m4\u001b[0m\u001b[0;34m)\u001b[0m\u001b[0;34m\u001b[0m\u001b[0;34m\u001b[0m\u001b[0m\n\u001b[0m",
      "\u001b[0;31mValueError\u001b[0m: 4 is not in list"
     ]
    }
   ],
   "source": [
    "a.index(3), a.index(4)"
   ]
  },
  {
   "cell_type": "code",
   "execution_count": 302,
   "id": "76816584",
   "metadata": {},
   "outputs": [
    {
     "data": {
      "text/plain": [
       "(1, 0)"
      ]
     },
     "execution_count": 302,
     "metadata": {},
     "output_type": "execute_result"
    }
   ],
   "source": [
    "a.count(1), a.count(4)"
   ]
  },
  {
   "cell_type": "markdown",
   "id": "70d0eac0",
   "metadata": {},
   "source": [
    "И, конечно же, уже знакомые нам"
   ]
  },
  {
   "cell_type": "code",
   "execution_count": 303,
   "id": "0c8c5616",
   "metadata": {},
   "outputs": [
    {
     "data": {
      "text/plain": [
       "(3, 4)"
      ]
     },
     "execution_count": 303,
     "metadata": {},
     "output_type": "execute_result"
    }
   ],
   "source": [
    "len(a), len(b)"
   ]
  },
  {
   "cell_type": "code",
   "execution_count": 304,
   "id": "4f68c179",
   "metadata": {},
   "outputs": [
    {
     "data": {
      "text/plain": [
       "('[1, 2, 3]', '[1, 2, 3]')"
      ]
     },
     "execution_count": 304,
     "metadata": {},
     "output_type": "execute_result"
    }
   ],
   "source": [
    "repr(a), a.__repr__()"
   ]
  },
  {
   "cell_type": "code",
   "execution_count": 305,
   "id": "0b997d29",
   "metadata": {},
   "outputs": [
    {
     "data": {
      "text/plain": [
       "('[1, 2, 3]', '[1, 2, 3]')"
      ]
     },
     "execution_count": 305,
     "metadata": {},
     "output_type": "execute_result"
    }
   ],
   "source": [
    "str(a), a.__str__()"
   ]
  },
  {
   "cell_type": "markdown",
   "id": "fbeb0b39",
   "metadata": {},
   "source": [
    "**Inplace** изменения в список"
   ]
  },
  {
   "cell_type": "code",
   "execution_count": 306,
   "id": "d7895fe2",
   "metadata": {},
   "outputs": [
    {
     "data": {
      "text/plain": [
       "[1, 2, 3, 4]"
      ]
     },
     "execution_count": 306,
     "metadata": {},
     "output_type": "execute_result"
    }
   ],
   "source": [
    "a.append(4)\n",
    "a"
   ]
  },
  {
   "cell_type": "code",
   "execution_count": 307,
   "id": "a0c063a7",
   "metadata": {},
   "outputs": [
    {
     "data": {
      "text/plain": [
       "[1, 2, 3, 4, '1', [2], 3, 4.0]"
      ]
     },
     "execution_count": 307,
     "metadata": {},
     "output_type": "execute_result"
    }
   ],
   "source": [
    "a.extend(b)\n",
    "a"
   ]
  },
  {
   "cell_type": "code",
   "execution_count": 308,
   "id": "ed910b57",
   "metadata": {},
   "outputs": [
    {
     "data": {
      "text/plain": [
       "[1, 2, 4, '1', [2], 3, 4.0]"
      ]
     },
     "execution_count": 308,
     "metadata": {},
     "output_type": "execute_result"
    }
   ],
   "source": [
    "a.remove(3)\n",
    "a"
   ]
  },
  {
   "cell_type": "code",
   "execution_count": 309,
   "id": "e084ae8f",
   "metadata": {},
   "outputs": [
    {
     "data": {
      "text/plain": [
       "[100, 2, 4, '1', [2], 3, 4.0]"
      ]
     },
     "execution_count": 309,
     "metadata": {},
     "output_type": "execute_result"
    }
   ],
   "source": [
    "a[0] = 100\n",
    "a"
   ]
  },
  {
   "cell_type": "markdown",
   "id": "bdf2e2d0",
   "metadata": {},
   "source": [
    "**+=, *=**"
   ]
  },
  {
   "cell_type": "code",
   "execution_count": 310,
   "id": "d170c486",
   "metadata": {},
   "outputs": [
    {
     "name": "stdout",
     "output_type": "stream",
     "text": [
      "139949830871232\n",
      "139949830871232\n",
      "139949830871232\n"
     ]
    }
   ],
   "source": [
    "a = [1, 2, 3]\n",
    "print(id(a))\n",
    "\n",
    "a *= 3\n",
    "print(id(a))\n",
    "\n",
    "a += [10, 11]\n",
    "print(id(a))"
   ]
  },
  {
   "cell_type": "markdown",
   "id": "7f42e74c",
   "metadata": {},
   "source": [
    "`При использовании inplace операции над изменяемым обектом, адрес не меняется, это все тот же объект`"
   ]
  },
  {
   "cell_type": "markdown",
   "id": "c7b013d8",
   "metadata": {},
   "source": [
    "### Iterating"
   ]
  },
  {
   "cell_type": "code",
   "execution_count": 254,
   "id": "0af5f7a7",
   "metadata": {},
   "outputs": [
    {
     "name": "stdout",
     "output_type": "stream",
     "text": [
      "1\n",
      "[2]\n",
      "3\n",
      "4.0\n"
     ]
    }
   ],
   "source": [
    "for element in b:\n",
    "    print(element)"
   ]
  },
  {
   "cell_type": "markdown",
   "id": "966e7920",
   "metadata": {},
   "source": [
    "Можно итерироваться по нескольким сразу"
   ]
  },
  {
   "cell_type": "code",
   "execution_count": 311,
   "id": "fada7077",
   "metadata": {},
   "outputs": [
    {
     "name": "stdout",
     "output_type": "stream",
     "text": [
      "1 10\n",
      "2 20\n",
      "3 30\n"
     ]
    }
   ],
   "source": [
    "c = [1, 2, 3]\n",
    "d = [10, 20, 30, 40]\n",
    "\n",
    "for val_one, val_two in zip(c, d):\n",
    "    print(val_one, val_two)"
   ]
  },
  {
   "cell_type": "markdown",
   "id": "35315a8b",
   "metadata": {},
   "source": [
    "По значению и индексу"
   ]
  },
  {
   "cell_type": "code",
   "execution_count": 313,
   "id": "8b8a6e7d",
   "metadata": {},
   "outputs": [
    {
     "name": "stdout",
     "output_type": "stream",
     "text": [
      "0 1\n",
      "1 [2]\n",
      "2 3\n",
      "3 4.0\n"
     ]
    }
   ],
   "source": [
    "for index, elem in enumerate(b, start=0):\n",
    "    print(index, elem)"
   ]
  },
  {
   "cell_type": "markdown",
   "id": "530255c0",
   "metadata": {},
   "source": [
    "### Внутреннее устройство"
   ]
  },
  {
   "cell_type": "markdown",
   "id": "5d9de73f",
   "metadata": {},
   "source": [
    "Как ни странно, список в Python -- это на самом деле массив :/\n",
    "\n",
    "То есть, внутри список предаставляется как непрерывный кусок памяти, каждый элемент -- это указатель на объект."
   ]
  },
  {
   "cell_type": "markdown",
   "id": "b340d7ec",
   "metadata": {},
   "source": [
    "![array](https://media.geeksforgeeks.org/wp-content/uploads/array-2.png)"
   ]
  },
  {
   "cell_type": "markdown",
   "id": "b0641652",
   "metadata": {},
   "source": [
    "    The implementation uses a contiguous array of references to other objects, and keeps a pointer to this array and the array’s length in a list head structure.\n",
    "    \n",
    "    When items are appended or inserted, the array of references is resized. Some cleverness is applied to improve the performance of appending items repeatedly; when the array must be grown, some extra space is allocated so the next few times don’t require an actual resize. (Python docs)"
   ]
  },
  {
   "cell_type": "markdown",
   "id": "49d7af22",
   "metadata": {},
   "source": [
    "**Что это дает на практике?**\n",
    "\n",
    "Важно понимать сложность базовых операций с нашей структурой данных. И в зависимости от этого подбирать правильную структуру данных под определенную задачу."
   ]
  },
  {
   "cell_type": "markdown",
   "id": "d16f0eea",
   "metadata": {},
   "source": [
    "Recap:\n",
    "![o](https://wikimedia.org/api/rest_v1/media/math/render/svg/e45ededce98fd7f1d8866cff71d6311e6510e850), если $\\exists M, x_0$:\n",
    "![o_cond](https://wikimedia.org/api/rest_v1/media/math/render/svg/8248f95babb0ee9002984ae877f30dae8d710025)"
   ]
  },
  {
   "cell_type": "markdown",
   "id": "c687172e",
   "metadata": {},
   "source": [
    "Так, основное для list:\n",
    "\n",
    "- Доступ по индексу -- O(1)\n",
    "- Дописывание в конец / удаление с конца -- в среднем O(1)\n",
    "- Вставка / удаление в произвольном месте -- O(n)\n",
    "- min, max -- O(n)\n",
    "\n",
    "O(1) означает выполнение за контантное время, O(n) -- время выполнения зависит от длины массива"
   ]
  },
  {
   "cell_type": "markdown",
   "id": "469fd0ee",
   "metadata": {},
   "source": [
    "### List Comprehensions"
   ]
  },
  {
   "cell_type": "markdown",
   "id": "fa3e5977",
   "metadata": {},
   "source": [
    "**Example**"
   ]
  },
  {
   "cell_type": "code",
   "execution_count": 314,
   "id": "3d64d288",
   "metadata": {},
   "outputs": [],
   "source": [
    "symbols = '$¢£¥€¤'"
   ]
  },
  {
   "cell_type": "code",
   "execution_count": 315,
   "id": "535240e6",
   "metadata": {},
   "outputs": [
    {
     "data": {
      "text/plain": [
       "[36, 162, 163, 165, 8364, 164]"
      ]
     },
     "execution_count": 315,
     "metadata": {},
     "output_type": "execute_result"
    }
   ],
   "source": [
    "codes = []\n",
    "for s in symbols:\n",
    "    codes.append(ord(s))\n",
    "\n",
    "codes"
   ]
  },
  {
   "cell_type": "code",
   "execution_count": 316,
   "id": "7f168d66",
   "metadata": {},
   "outputs": [
    {
     "data": {
      "text/plain": [
       "[36, 162, 163, 165, 8364, 164]"
      ]
     },
     "execution_count": 316,
     "metadata": {},
     "output_type": "execute_result"
    }
   ],
   "source": [
    "codes = [ord(s) for s in symbols]\n",
    "\n",
    "codes"
   ]
  },
  {
   "cell_type": "markdown",
   "id": "4258bc97",
   "metadata": {},
   "source": [
    "Поддерживают условия, а также могут быть вложенными"
   ]
  },
  {
   "cell_type": "code",
   "execution_count": 317,
   "id": "4bacc12a",
   "metadata": {},
   "outputs": [
    {
     "data": {
      "text/plain": [
       "[8364]"
      ]
     },
     "execution_count": 317,
     "metadata": {},
     "output_type": "execute_result"
    }
   ],
   "source": [
    "[ord(s) for s in symbols if ord(s) > 200]"
   ]
  },
  {
   "cell_type": "code",
   "execution_count": 318,
   "id": "177de61c",
   "metadata": {},
   "outputs": [
    {
     "data": {
      "text/plain": [
       "[-1, -1, -1, -1, 8364, -1]"
      ]
     },
     "execution_count": 318,
     "metadata": {},
     "output_type": "execute_result"
    }
   ],
   "source": [
    "[ord(s) if ord(s) > 200 else -1 for s in symbols]"
   ]
  },
  {
   "cell_type": "markdown",
   "id": "d5e87589",
   "metadata": {},
   "source": [
    "**Listcomp для убирания вложенности в списке**"
   ]
  },
  {
   "cell_type": "code",
   "execution_count": 319,
   "id": "6b084571",
   "metadata": {},
   "outputs": [],
   "source": [
    "a = [[1, 2], [3, 4], [5, 6], [7, 8]]\n",
    "\n",
    "b = [item for inner_list in a for item in inner_list]\n",
    "\n",
    "flattened_a = []\n",
    "for inner_list in a:\n",
    "    for item in inner_list:\n",
    "        flattened_a.append(item)\n",
    "\n",
    "assert b == [1, 2, 3, 4, 5, 6, 7, 8] \n",
    "assert flattened_a == [1, 2, 3, 4, 5, 6, 7, 8] "
   ]
  },
  {
   "cell_type": "markdown",
   "id": "858182b2",
   "metadata": {},
   "source": [
    "### Generator expressions"
   ]
  },
  {
   "cell_type": "markdown",
   "id": "b9462ca8",
   "metadata": {},
   "source": [
    "Как list comprehension, только создает и выдает элементы на лету"
   ]
  },
  {
   "cell_type": "code",
   "execution_count": 320,
   "id": "eaeb462f",
   "metadata": {},
   "outputs": [
    {
     "data": {
      "text/plain": [
       "<generator object <genexpr> at 0x7f48a22f26d0>"
      ]
     },
     "execution_count": 320,
     "metadata": {},
     "output_type": "execute_result"
    }
   ],
   "source": [
    "gen = (ord(s) for s in symbols)\n",
    "gen"
   ]
  },
  {
   "cell_type": "code",
   "execution_count": 321,
   "id": "1bc558b6",
   "metadata": {},
   "outputs": [
    {
     "name": "stdout",
     "output_type": "stream",
     "text": [
      "36\n",
      "162\n",
      "163\n",
      "165\n",
      "8364\n",
      "164\n"
     ]
    }
   ],
   "source": [
    "for i in gen:\n",
    "    print(i)"
   ]
  },
  {
   "cell_type": "code",
   "execution_count": 322,
   "id": "95784109",
   "metadata": {},
   "outputs": [],
   "source": [
    "for i in gen:\n",
    "    print(i)"
   ]
  },
  {
   "cell_type": "markdown",
   "id": "b1825bc7",
   "metadata": {},
   "source": [
    "Почему пусто?\n",
    "Генератор \"отдал\" все созданные элементы, больше в нем нет :)"
   ]
  },
  {
   "cell_type": "markdown",
   "id": "15d89eeb",
   "metadata": {},
   "source": [
    "## Range"
   ]
  },
  {
   "cell_type": "markdown",
   "id": "9d99921e",
   "metadata": {},
   "source": [
    "range() function generates the immutable sequence (of type rage) of numbers starting from the given start integer to the stop integer\n",
    "\n",
    "`range(start, stop, step)`"
   ]
  },
  {
   "cell_type": "code",
   "execution_count": 323,
   "id": "8b3ac81e",
   "metadata": {},
   "outputs": [
    {
     "data": {
      "text/plain": [
       "range(0, 10)"
      ]
     },
     "execution_count": 323,
     "metadata": {},
     "output_type": "execute_result"
    }
   ],
   "source": [
    "range(10)"
   ]
  },
  {
   "cell_type": "code",
   "execution_count": 324,
   "id": "eb99afe4",
   "metadata": {},
   "outputs": [
    {
     "data": {
      "text/plain": [
       "[0, 1, 2, 3, 4, 5, 6, 7, 8, 9]"
      ]
     },
     "execution_count": 324,
     "metadata": {},
     "output_type": "execute_result"
    }
   ],
   "source": [
    "list(range(10))"
   ]
  },
  {
   "cell_type": "code",
   "execution_count": 325,
   "id": "fc51d171",
   "metadata": {},
   "outputs": [
    {
     "data": {
      "text/plain": [
       "[1, 3, 5, 7, 9]"
      ]
     },
     "execution_count": 325,
     "metadata": {},
     "output_type": "execute_result"
    }
   ],
   "source": [
    "a = range(1, 10, 2)\n",
    "\n",
    "list(a)"
   ]
  },
  {
   "cell_type": "code",
   "execution_count": 329,
   "id": "ee9b7ac3",
   "metadata": {},
   "outputs": [
    {
     "name": "stdout",
     "output_type": "stream",
     "text": [
      "0\n",
      "1\n",
      "2\n",
      "3\n",
      "4\n",
      "5\n",
      "6\n",
      "7\n",
      "8\n",
      "9\n"
     ]
    }
   ],
   "source": [
    "for i in a:\n",
    "    print(i)"
   ]
  },
  {
   "cell_type": "markdown",
   "id": "95bd7a4f",
   "metadata": {},
   "source": [
    "Поддерживает индексацию"
   ]
  },
  {
   "cell_type": "code",
   "execution_count": 327,
   "id": "304c4d1b",
   "metadata": {},
   "outputs": [],
   "source": [
    "a = range(0, 10)"
   ]
  },
  {
   "cell_type": "code",
   "execution_count": 328,
   "id": "6d6bdfcc",
   "metadata": {},
   "outputs": [
    {
     "data": {
      "text/plain": [
       "(1, 3)"
      ]
     },
     "execution_count": 328,
     "metadata": {},
     "output_type": "execute_result"
    }
   ],
   "source": [
    "a[1], a.index(3)"
   ]
  },
  {
   "cell_type": "markdown",
   "id": "93a994c5",
   "metadata": {},
   "source": [
    "range не генерирует числа сразу же, а делает это one-by-one. Это хорошо для памяти и скорости"
   ]
  },
  {
   "cell_type": "code",
   "execution_count": 330,
   "id": "42b87b4c",
   "metadata": {},
   "outputs": [],
   "source": [
    "a = range(1000000000000000000000000000000000000000000000000000000000000000000000000000000000000000000000000000000000)"
   ]
  },
  {
   "cell_type": "markdown",
   "id": "2af5c97a",
   "metadata": {},
   "source": [
    "## Tuples"
   ]
  },
  {
   "cell_type": "markdown",
   "id": "58b7d261",
   "metadata": {},
   "source": [
    "Очень похоже на списки, только неизменяемые"
   ]
  },
  {
   "cell_type": "code",
   "execution_count": 331,
   "id": "84b77bdf",
   "metadata": {},
   "outputs": [],
   "source": [
    "a = (1, 2, 3,)"
   ]
  },
  {
   "cell_type": "code",
   "execution_count": 332,
   "id": "d41b923a",
   "metadata": {},
   "outputs": [
    {
     "ename": "TypeError",
     "evalue": "'tuple' object does not support item assignment",
     "output_type": "error",
     "traceback": [
      "\u001b[0;31m---------------------------------------------------------------------------\u001b[0m",
      "\u001b[0;31mTypeError\u001b[0m                                 Traceback (most recent call last)",
      "\u001b[0;32m/tmp/ipykernel_246707/2869727665.py\u001b[0m in \u001b[0;36m<module>\u001b[0;34m\u001b[0m\n\u001b[0;32m----> 1\u001b[0;31m \u001b[0ma\u001b[0m\u001b[0;34m[\u001b[0m\u001b[0;36m0\u001b[0m\u001b[0;34m]\u001b[0m \u001b[0;34m=\u001b[0m \u001b[0;36m3\u001b[0m\u001b[0;34m\u001b[0m\u001b[0;34m\u001b[0m\u001b[0m\n\u001b[0m",
      "\u001b[0;31mTypeError\u001b[0m: 'tuple' object does not support item assignment"
     ]
    }
   ],
   "source": [
    "a[0] = 3"
   ]
  },
  {
   "cell_type": "markdown",
   "id": "ddbc8101",
   "metadata": {},
   "source": [
    "**Be careful!**\n",
    "Если внутренний элемент изменяемый, то можно его менять inplace"
   ]
  },
  {
   "cell_type": "code",
   "execution_count": 333,
   "id": "687fa99d",
   "metadata": {},
   "outputs": [],
   "source": [
    "a = (1, [1, 2], 3)\n",
    "a[1].append(4)"
   ]
  },
  {
   "cell_type": "code",
   "execution_count": 334,
   "id": "22280206",
   "metadata": {},
   "outputs": [
    {
     "data": {
      "text/plain": [
       "(1, [1, 2, 4], 3)"
      ]
     },
     "execution_count": 334,
     "metadata": {},
     "output_type": "execute_result"
    }
   ],
   "source": [
    "a"
   ]
  },
  {
   "cell_type": "markdown",
   "id": "169e0efc",
   "metadata": {},
   "source": [
    "**Unpacking**"
   ]
  },
  {
   "cell_type": "markdown",
   "id": "d2586a25",
   "metadata": {},
   "source": [
    "Работает с любым итерируемым объектом в Python"
   ]
  },
  {
   "cell_type": "code",
   "execution_count": 335,
   "id": "e097291f",
   "metadata": {},
   "outputs": [
    {
     "data": {
      "text/plain": [
       "(10.0, -11.0)"
      ]
     },
     "execution_count": 335,
     "metadata": {},
     "output_type": "execute_result"
    }
   ],
   "source": [
    "coordinates = (10., -11.)\n",
    "\n",
    "lat, lon = coordinates\n",
    "\n",
    "lat, lon"
   ]
  },
  {
   "cell_type": "code",
   "execution_count": 336,
   "id": "6a798cc1",
   "metadata": {},
   "outputs": [],
   "source": [
    "lon, lat = lat, lon"
   ]
  },
  {
   "cell_type": "markdown",
   "id": "ffdbeee8",
   "metadata": {},
   "source": [
    "Лишние значения можно свернуть"
   ]
  },
  {
   "cell_type": "code",
   "execution_count": 339,
   "id": "541cfaa9",
   "metadata": {},
   "outputs": [
    {
     "data": {
      "text/plain": [
       "[0, 1, 2, 3, 4, 5, 6, 7, 8, 9]"
      ]
     },
     "execution_count": 339,
     "metadata": {},
     "output_type": "execute_result"
    }
   ],
   "source": [
    "list(range(10))"
   ]
  },
  {
   "cell_type": "code",
   "execution_count": 337,
   "id": "d473bab8",
   "metadata": {},
   "outputs": [],
   "source": [
    "a, b, *rest = range(10)"
   ]
  },
  {
   "cell_type": "code",
   "execution_count": 338,
   "id": "469b26ad",
   "metadata": {},
   "outputs": [
    {
     "data": {
      "text/plain": [
       "(0, 1)"
      ]
     },
     "execution_count": 338,
     "metadata": {},
     "output_type": "execute_result"
    }
   ],
   "source": [
    "a, b"
   ]
  },
  {
   "cell_type": "code",
   "execution_count": 340,
   "id": "51717451",
   "metadata": {},
   "outputs": [
    {
     "data": {
      "text/plain": [
       "[2, 3, 4, 5, 6, 7, 8, 9]"
      ]
     },
     "execution_count": 340,
     "metadata": {},
     "output_type": "execute_result"
    }
   ],
   "source": [
    "rest"
   ]
  },
  {
   "cell_type": "markdown",
   "id": "aac31123",
   "metadata": {},
   "source": [
    "или"
   ]
  },
  {
   "cell_type": "code",
   "execution_count": 341,
   "id": "03be3b9b",
   "metadata": {},
   "outputs": [],
   "source": [
    "first, *rest, last = range(10)"
   ]
  },
  {
   "cell_type": "code",
   "execution_count": 342,
   "id": "2c08335a",
   "metadata": {},
   "outputs": [
    {
     "data": {
      "text/plain": [
       "(0, 9)"
      ]
     },
     "execution_count": 342,
     "metadata": {},
     "output_type": "execute_result"
    }
   ],
   "source": [
    "first, last"
   ]
  },
  {
   "cell_type": "code",
   "execution_count": 343,
   "id": "47babcac",
   "metadata": {},
   "outputs": [
    {
     "data": {
      "text/plain": [
       "[1, 2, 3, 4, 5, 6, 7, 8]"
      ]
     },
     "execution_count": 343,
     "metadata": {},
     "output_type": "execute_result"
    }
   ],
   "source": [
    "rest"
   ]
  },
  {
   "cell_type": "markdown",
   "id": "b4fed9a8",
   "metadata": {},
   "source": [
    "**+=, *=**"
   ]
  },
  {
   "cell_type": "code",
   "execution_count": 344,
   "id": "9345fddd",
   "metadata": {},
   "outputs": [
    {
     "name": "stdout",
     "output_type": "stream",
     "text": [
      "139949831274400\n",
      "139949935372112\n",
      "139949826690656\n"
     ]
    }
   ],
   "source": [
    "a = (1, 2, 3)\n",
    "print(id(a))\n",
    "\n",
    "a *= 3\n",
    "print(id(a))\n",
    "\n",
    "a += (10, 11)\n",
    "print(id(a))"
   ]
  },
  {
   "cell_type": "markdown",
   "id": "060231d4",
   "metadata": {},
   "source": [
    "Tuple (кортеж) -- неизменяемый объект, поэтому каждый раз создается новый"
   ]
  },
  {
   "cell_type": "markdown",
   "id": "c0a36fc7",
   "metadata": {},
   "source": [
    "## Named Tuples"
   ]
  },
  {
   "cell_type": "code",
   "execution_count": 345,
   "id": "eb282e22",
   "metadata": {},
   "outputs": [],
   "source": [
    "from collections import namedtuple"
   ]
  },
  {
   "cell_type": "code",
   "execution_count": 346,
   "id": "b49667b4",
   "metadata": {},
   "outputs": [],
   "source": [
    "Subject = namedtuple('Subject', 'name difficulty')"
   ]
  },
  {
   "cell_type": "code",
   "execution_count": 348,
   "id": "a96e7f5a",
   "metadata": {},
   "outputs": [
    {
     "data": {
      "text/plain": [
       "Subject(name='Python', difficulty=1)"
      ]
     },
     "execution_count": 348,
     "metadata": {},
     "output_type": "execute_result"
    }
   ],
   "source": [
    "python_course = Subject('Python', 1)\n",
    "python_course"
   ]
  },
  {
   "cell_type": "code",
   "execution_count": 349,
   "id": "244e8333",
   "metadata": {},
   "outputs": [
    {
     "data": {
      "text/plain": [
       "('Python', 1)"
      ]
     },
     "execution_count": 349,
     "metadata": {},
     "output_type": "execute_result"
    }
   ],
   "source": [
    "python_course[0], python_course[1]"
   ]
  },
  {
   "cell_type": "code",
   "execution_count": 350,
   "id": "ca47cb30",
   "metadata": {},
   "outputs": [
    {
     "data": {
      "text/plain": [
       "('Python', 1)"
      ]
     },
     "execution_count": 350,
     "metadata": {},
     "output_type": "execute_result"
    }
   ],
   "source": [
    "python_course.name, python_course.difficulty"
   ]
  },
  {
   "cell_type": "markdown",
   "id": "43945692",
   "metadata": {},
   "source": [
    "## Arrays"
   ]
  },
  {
   "cell_type": "markdown",
   "id": "2b8c123b",
   "metadata": {},
   "source": [
    "Если очень хочется скорости для работы с числами, то можно пользоваться почти C-шными массивами"
   ]
  },
  {
   "cell_type": "code",
   "execution_count": 145,
   "id": "67575afd",
   "metadata": {},
   "outputs": [],
   "source": [
    "from array import array"
   ]
  },
  {
   "cell_type": "markdown",
   "id": "75bbb153",
   "metadata": {},
   "source": [
    "'b' -- typecode для типа byte (целые от -128 до 127)"
   ]
  },
  {
   "cell_type": "code",
   "execution_count": 356,
   "id": "8db7a10c",
   "metadata": {},
   "outputs": [],
   "source": [
    "bytes_array = array('b', (i for i in range(120)))"
   ]
  },
  {
   "cell_type": "code",
   "execution_count": 352,
   "id": "56b30ea3",
   "metadata": {},
   "outputs": [
    {
     "data": {
      "text/plain": [
       "array('b', [0, 1, 2, 3, 4, 5, 6, 7, 8, 9, 10, 11, 12, 13, 14, 15, 16, 17, 18, 19, 20, 21, 22, 23, 24, 25, 26, 27, 28, 29, 30, 31, 32, 33, 34, 35, 36, 37, 38, 39, 40, 41, 42, 43, 44, 45, 46, 47, 48, 49, 50, 51, 52, 53, 54, 55, 56, 57, 58, 59, 60, 61, 62, 63, 64, 65, 66, 67, 68, 69, 70, 71, 72, 73, 74, 75, 76, 77, 78, 79, 80, 81, 82, 83, 84, 85, 86, 87, 88, 89, 90, 91, 92, 93, 94, 95, 96, 97, 98, 99, 100, 101, 102, 103, 104, 105, 106, 107, 108, 109, 110, 111, 112, 113, 114, 115, 116, 117, 118, 119])"
      ]
     },
     "execution_count": 352,
     "metadata": {},
     "output_type": "execute_result"
    }
   ],
   "source": [
    "bytes_array"
   ]
  },
  {
   "cell_type": "code",
   "execution_count": 353,
   "id": "0c273b84",
   "metadata": {},
   "outputs": [],
   "source": [
    "bytes_array.append(127)"
   ]
  },
  {
   "cell_type": "markdown",
   "id": "b59e7c2b",
   "metadata": {},
   "source": [
    "Строгость типа не позволяет записать что-то помимо него"
   ]
  },
  {
   "cell_type": "code",
   "execution_count": 354,
   "id": "4a22938b",
   "metadata": {},
   "outputs": [
    {
     "ename": "OverflowError",
     "evalue": "signed char is greater than maximum",
     "output_type": "error",
     "traceback": [
      "\u001b[0;31m---------------------------------------------------------------------------\u001b[0m",
      "\u001b[0;31mOverflowError\u001b[0m                             Traceback (most recent call last)",
      "\u001b[0;32m/tmp/ipykernel_246707/2329984407.py\u001b[0m in \u001b[0;36m<module>\u001b[0;34m\u001b[0m\n\u001b[0;32m----> 1\u001b[0;31m \u001b[0mbytes_array\u001b[0m\u001b[0;34m.\u001b[0m\u001b[0mappend\u001b[0m\u001b[0;34m(\u001b[0m\u001b[0;36m256\u001b[0m\u001b[0;34m)\u001b[0m\u001b[0;34m\u001b[0m\u001b[0;34m\u001b[0m\u001b[0m\n\u001b[0m",
      "\u001b[0;31mOverflowError\u001b[0m: signed char is greater than maximum"
     ]
    }
   ],
   "source": [
    "bytes_array.append(256)"
   ]
  },
  {
   "cell_type": "markdown",
   "id": "3eda8345",
   "metadata": {},
   "source": [
    "есть `array.fromfile() и array.tofile()` для быстрой записи и чтения"
   ]
  },
  {
   "cell_type": "markdown",
   "id": "93d2cd77",
   "metadata": {},
   "source": [
    "## Deques"
   ]
  },
  {
   "cell_type": "markdown",
   "id": "77fec01a",
   "metadata": {},
   "source": [
    "List хорош для доступа к произвольному элементу и для дополнения и удаления с конца. А если нужно сначала, а читать из середины не особо требуется? **deque** как решение"
   ]
  },
  {
   "cell_type": "markdown",
   "id": "f17cde04",
   "metadata": {},
   "source": [
    "**deque** -- двусторонняя очередь, запись и чтения с любых концов O(1)"
   ]
  },
  {
   "cell_type": "code",
   "execution_count": 359,
   "id": "5c5ab0e5",
   "metadata": {},
   "outputs": [
    {
     "data": {
      "text/plain": [
       "deque([])"
      ]
     },
     "execution_count": 359,
     "metadata": {},
     "output_type": "execute_result"
    }
   ],
   "source": [
    "from collections import deque\n",
    "\n",
    "last_seen = deque(maxlen=10)\n",
    "last_seen"
   ]
  },
  {
   "cell_type": "code",
   "execution_count": 361,
   "id": "8dac2f03",
   "metadata": {},
   "outputs": [],
   "source": [
    "for i in range(100):\n",
    "    last_seen.appendleft(i)"
   ]
  },
  {
   "cell_type": "code",
   "execution_count": 362,
   "id": "a9fa916e",
   "metadata": {},
   "outputs": [
    {
     "data": {
      "text/plain": [
       "deque([99, 98, 97, 96, 95, 94, 93, 92, 91, 90])"
      ]
     },
     "execution_count": 362,
     "metadata": {},
     "output_type": "execute_result"
    }
   ],
   "source": [
    "last_seen"
   ]
  },
  {
   "cell_type": "code",
   "execution_count": 363,
   "id": "14f319c6",
   "metadata": {},
   "outputs": [
    {
     "data": {
      "text/plain": [
       "deque([90, 99, 98, 97, 96, 95, 94, 93, 92, 91])"
      ]
     },
     "execution_count": 363,
     "metadata": {},
     "output_type": "execute_result"
    }
   ],
   "source": [
    "last_seen.rotate()\n",
    "last_seen"
   ]
  },
  {
   "cell_type": "markdown",
   "id": "ce0ab696",
   "metadata": {},
   "source": [
    "# Dicts"
   ]
  },
  {
   "cell_type": "markdown",
   "id": "bd126c63",
   "metadata": {},
   "source": [
    "## Creation"
   ]
  },
  {
   "cell_type": "code",
   "execution_count": 406,
   "id": "157e4657",
   "metadata": {},
   "outputs": [
    {
     "name": "stdout",
     "output_type": "stream",
     "text": [
      "{} <class 'dict'>\n"
     ]
    }
   ],
   "source": [
    "some_empty_dict = dict()\n",
    "print(some_empty_dict, type(some_empty_dict))"
   ]
  },
  {
   "cell_type": "markdown",
   "id": "442dc1e0",
   "metadata": {},
   "source": [
    "### Simple example"
   ]
  },
  {
   "cell_type": "code",
   "execution_count": 407,
   "id": "cc2ce912",
   "metadata": {},
   "outputs": [
    {
     "data": {
      "text/plain": [
       "{'name': 'Denis',\n",
       " 'year': 2015,\n",
       " 'core subjects': ('Statistics', 'Algorimthms'),\n",
       " 'optional subjects': ['Urban Studies', 'Basic Physics'],\n",
       " 42: 'always the answer',\n",
       " (42,): 'always the answer'}"
      ]
     },
     "execution_count": 407,
     "metadata": {},
     "output_type": "execute_result"
    }
   ],
   "source": [
    "student_card = {\n",
    "    'name': 'Denis',\n",
    "    'year': 2015,\n",
    "    'core subjects': ('Statistics', 'Algorimthms'),\n",
    "    'optional subjects': ['Urban Studies', 'Basic Physics'],\n",
    "    42: 'always the answer',\n",
    "    (42,): 'always the answer',\n",
    "}\n",
    "\n",
    "student_card"
   ]
  },
  {
   "cell_type": "markdown",
   "id": "8ec20b73",
   "metadata": {},
   "source": [
    "## Внутри"
   ]
  },
  {
   "cell_type": "markdown",
   "id": "0af4eb35",
   "metadata": {},
   "source": [
    "Ключ может быть только hashable"
   ]
  },
  {
   "cell_type": "markdown",
   "id": "f7c07457",
   "metadata": {},
   "source": [
    "    An object is hashable if it has a hash value which never changes during its lifetime (it\n",
    "    needs a __hash__() method), and can be compared to other objects (it needs an\n",
    "    __eq__() method). Hashable objects which compare equal must have the same hash\n",
    "    value. […]"
   ]
  },
  {
   "cell_type": "markdown",
   "id": "6e7627ef",
   "metadata": {},
   "source": [
    "Данное требование существует, потому что внутри dict -- это hash таблица!"
   ]
  },
  {
   "cell_type": "markdown",
   "id": "44cac078",
   "metadata": {},
   "source": [
    "Операции доставания значения по ключу, добавления и проверки нахождения -- в среднем **O(1)**. \n",
    "\n",
    "` Может быть O(n), если у вас отвратительная хеш-функция `"
   ]
  },
  {
   "cell_type": "markdown",
   "id": "a6e29f62",
   "metadata": {},
   "source": [
    "![hashtable](https://upload.wikimedia.org/wikipedia/commons/thumb/7/7d/Hash_table_3_1_1_0_1_0_0_SP.svg/1200px-Hash_table_3_1_1_0_1_0_0_SP.svg.png)"
   ]
  },
  {
   "cell_type": "markdown",
   "id": "35680796",
   "metadata": {},
   "source": [
    "## Basic operations"
   ]
  },
  {
   "cell_type": "markdown",
   "id": "b1162add",
   "metadata": {},
   "source": [
    "### Get values"
   ]
  },
  {
   "cell_type": "code",
   "execution_count": 413,
   "id": "4e79e416",
   "metadata": {},
   "outputs": [
    {
     "data": {
      "text/plain": [
       "'Denis'"
      ]
     },
     "execution_count": 413,
     "metadata": {},
     "output_type": "execute_result"
    }
   ],
   "source": [
    "student_card.get('name', 'key is not there')"
   ]
  },
  {
   "cell_type": "markdown",
   "id": "2e0b6efa",
   "metadata": {},
   "source": [
    "### Remove values"
   ]
  },
  {
   "cell_type": "code",
   "execution_count": 417,
   "id": "b7825737",
   "metadata": {},
   "outputs": [
    {
     "data": {
      "text/plain": [
       "'always the answer'"
      ]
     },
     "execution_count": 417,
     "metadata": {},
     "output_type": "execute_result"
    }
   ],
   "source": [
    "student_card.pop((42,))"
   ]
  },
  {
   "cell_type": "code",
   "execution_count": 418,
   "id": "b3681e1d",
   "metadata": {},
   "outputs": [
    {
     "data": {
      "text/plain": [
       "{'name': 'Denis',\n",
       " 'year': 2015,\n",
       " 'core subjects': ('Statistics', 'Algorimthms'),\n",
       " 'optional subjects': ['Urban Studies', 'Basic Physics'],\n",
       " 42: 'always the answer'}"
      ]
     },
     "execution_count": 418,
     "metadata": {},
     "output_type": "execute_result"
    }
   ],
   "source": [
    "student_card"
   ]
  },
  {
   "cell_type": "markdown",
   "id": "00c71455",
   "metadata": {},
   "source": [
    "### Update with many `key:value` pairs"
   ]
  },
  {
   "cell_type": "code",
   "execution_count": 419,
   "id": "8a038738",
   "metadata": {},
   "outputs": [],
   "source": [
    "student_card.update({'a': 1, 'b': 2})"
   ]
  },
  {
   "cell_type": "code",
   "execution_count": 420,
   "id": "c33f67e2",
   "metadata": {},
   "outputs": [
    {
     "data": {
      "text/plain": [
       "{'name': 'Denis',\n",
       " 'year': 2015,\n",
       " 'core subjects': ('Statistics', 'Algorimthms'),\n",
       " 'optional subjects': ['Urban Studies', 'Basic Physics'],\n",
       " 42: 'always the answer',\n",
       " 'a': 1,\n",
       " 'b': 2}"
      ]
     },
     "execution_count": 420,
     "metadata": {},
     "output_type": "execute_result"
    }
   ],
   "source": [
    "student_card"
   ]
  },
  {
   "cell_type": "markdown",
   "id": "fcdd6263",
   "metadata": {},
   "source": [
    "### Iterate over"
   ]
  },
  {
   "cell_type": "code",
   "execution_count": 421,
   "id": "a517d82f",
   "metadata": {},
   "outputs": [
    {
     "name": "stdout",
     "output_type": "stream",
     "text": [
      "name Denis\n",
      "year 2015\n",
      "core subjects ('Statistics', 'Algorimthms')\n",
      "optional subjects ['Urban Studies', 'Basic Physics']\n",
      "42 always the answer\n",
      "a 1\n",
      "b 2\n"
     ]
    }
   ],
   "source": [
    "for key, value in student_card.items():\n",
    "    print(key, value)"
   ]
  },
  {
   "cell_type": "code",
   "execution_count": 429,
   "id": "9bd592b0",
   "metadata": {},
   "outputs": [
    {
     "data": {
      "text/plain": [
       "dict_values(['Denis', 2015, ('Statistics', 'Algorimthms'), ['Urban Studies', 'Basic Physics'], 'always the answer', 1, 2])"
      ]
     },
     "execution_count": 429,
     "metadata": {},
     "output_type": "execute_result"
    }
   ],
   "source": [
    "student_card.values()"
   ]
  },
  {
   "cell_type": "markdown",
   "id": "c8f8a6b5",
   "metadata": {},
   "source": [
    "### clear"
   ]
  },
  {
   "cell_type": "code",
   "execution_count": 432,
   "id": "a37529b2",
   "metadata": {},
   "outputs": [],
   "source": [
    "student_card.clear()"
   ]
  },
  {
   "cell_type": "code",
   "execution_count": 433,
   "id": "bc082cf8",
   "metadata": {},
   "outputs": [
    {
     "data": {
      "text/plain": [
       "{}"
      ]
     },
     "execution_count": 433,
     "metadata": {},
     "output_type": "execute_result"
    }
   ],
   "source": [
    "student_card"
   ]
  },
  {
   "cell_type": "markdown",
   "id": "9e2dd433",
   "metadata": {},
   "source": [
    "## Sample task\n",
    "\n",
    "### Let's count unique symbols in a string!"
   ]
  },
  {
   "cell_type": "code",
   "execution_count": 1,
   "id": "de0f8733",
   "metadata": {},
   "outputs": [],
   "source": [
    "sample_string = 'Eddie ate dynamite, goodbye Eddie'"
   ]
  },
  {
   "cell_type": "code",
   "execution_count": 464,
   "id": "84901775",
   "metadata": {},
   "outputs": [],
   "source": [
    "symbols = {}\n",
    "\n",
    "# your code\n",
    "symbols = {s.lower(): sample_string.lower().count(s) for s in sample_string}"
   ]
  },
  {
   "cell_type": "code",
   "execution_count": 463,
   "id": "11f442c5",
   "metadata": {},
   "outputs": [
    {
     "data": {
      "text/plain": [
       "{'e': 7,\n",
       " 'd': 6,\n",
       " 'i': 3,\n",
       " ' ': 4,\n",
       " 'a': 2,\n",
       " 't': 2,\n",
       " 'y': 2,\n",
       " 'n': 1,\n",
       " 'm': 1,\n",
       " ',': 1,\n",
       " 'g': 1,\n",
       " 'o': 2,\n",
       " 'b': 1}"
      ]
     },
     "execution_count": 463,
     "metadata": {},
     "output_type": "execute_result"
    }
   ],
   "source": [
    "symbols"
   ]
  },
  {
   "cell_type": "markdown",
   "id": "fa9043db",
   "metadata": {},
   "source": [
    "What can we do to make our solution above better?\n",
    "\n",
    "Bonus: try to use `defaultdict` *(from collections import defaultdict)*"
   ]
  },
  {
   "cell_type": "markdown",
   "id": "01154650",
   "metadata": {},
   "source": [
    "### Count unique words in a sentence.\n",
    "\n",
    "You may want to use:\n",
    "- `re.split` -- split words in string by non-word charachters"
   ]
  },
  {
   "cell_type": "code",
   "execution_count": 2,
   "id": "3d46df96",
   "metadata": {},
   "outputs": [],
   "source": [
    "sample_text = \"The secret menu reveals a business model that goes beyond a right to repair issue, Sullivan argues. It represents, as he describes it, nothing short of a milkshake shakedown: Sell franchisees a complicated and fragile machine. Prevent them from figuring out why it constantly breaks. Take a cut of the distributors’ profit from the repairs. “It’s a huge money maker to have a customer that’s purposefully, intentionally blind and unable to make very fundamental changes to their own equipment,” Sullivan says. And McDonald’s presides over all of it, he says, insisting on loyalty to its longtime supplier. (Resist the McDonald’s monarchy on decisions like equipment, and the corporation can end a restaurant’s lease on the literal ground beneath it, which McDonald's owns under its franchise agreement.)\""
   ]
  },
  {
   "cell_type": "code",
   "execution_count": 8,
   "id": "d63c9b63",
   "metadata": {},
   "outputs": [
    {
     "data": {
      "text/plain": [
       "['the',\n",
       " 'secret',\n",
       " 'menu',\n",
       " 'reveals',\n",
       " 'a',\n",
       " 'business',\n",
       " 'model',\n",
       " 'that',\n",
       " 'goes',\n",
       " 'beyond',\n",
       " 'a',\n",
       " 'right',\n",
       " 'to',\n",
       " 'repair',\n",
       " 'issue',\n",
       " 'sullivan',\n",
       " 'argues',\n",
       " 'it',\n",
       " 'represents',\n",
       " 'as',\n",
       " 'he',\n",
       " 'describes',\n",
       " 'it',\n",
       " 'nothing',\n",
       " 'short',\n",
       " 'of',\n",
       " 'a',\n",
       " 'milkshake',\n",
       " 'shakedown',\n",
       " 'sell',\n",
       " 'franchisees',\n",
       " 'a',\n",
       " 'complicated',\n",
       " 'and',\n",
       " 'fragile',\n",
       " 'machine',\n",
       " 'prevent',\n",
       " 'them',\n",
       " 'from',\n",
       " 'figuring',\n",
       " 'out',\n",
       " 'why',\n",
       " 'it',\n",
       " 'constantly',\n",
       " 'breaks',\n",
       " 'take',\n",
       " 'a',\n",
       " 'cut',\n",
       " 'of',\n",
       " 'the',\n",
       " 'distributors',\n",
       " 'profit',\n",
       " 'from',\n",
       " 'the',\n",
       " 'repairs',\n",
       " 'it’s',\n",
       " 'a',\n",
       " 'huge',\n",
       " 'money',\n",
       " 'maker',\n",
       " 'to',\n",
       " 'have',\n",
       " 'a',\n",
       " 'customer',\n",
       " 'that’s',\n",
       " 'purposefully',\n",
       " 'intentionally',\n",
       " 'blind',\n",
       " 'and',\n",
       " 'unable',\n",
       " 'to',\n",
       " 'make',\n",
       " 'very',\n",
       " 'fundamental',\n",
       " 'changes',\n",
       " 'to',\n",
       " 'their',\n",
       " 'own',\n",
       " 'equipment',\n",
       " 'sullivan',\n",
       " 'says',\n",
       " 'and',\n",
       " 'mcdonald’s',\n",
       " 'presides',\n",
       " 'over',\n",
       " 'all',\n",
       " 'of',\n",
       " 'it',\n",
       " 'he',\n",
       " 'says',\n",
       " 'insisting',\n",
       " 'on',\n",
       " 'loyalty',\n",
       " 'to',\n",
       " 'its',\n",
       " 'longtime',\n",
       " 'supplier',\n",
       " 'resist',\n",
       " 'the',\n",
       " 'mcdonald’s',\n",
       " 'monarchy',\n",
       " 'on',\n",
       " 'decisions',\n",
       " 'like',\n",
       " 'equipment',\n",
       " 'and',\n",
       " 'the',\n",
       " 'corporation',\n",
       " 'can',\n",
       " 'end',\n",
       " 'a',\n",
       " 'restaurant’s',\n",
       " 'lease',\n",
       " 'on',\n",
       " 'the',\n",
       " 'literal',\n",
       " 'ground',\n",
       " 'beneath',\n",
       " 'it',\n",
       " 'which',\n",
       " \"mcdonald's\",\n",
       " 'owns',\n",
       " 'under',\n",
       " 'its',\n",
       " 'franchise',\n",
       " 'agreement']"
      ]
     },
     "execution_count": 8,
     "metadata": {},
     "output_type": "execute_result"
    }
   ],
   "source": [
    "text_new = re.split(\"\\s|\\W{2,}\", sample_text.lower())[:-1]\n",
    "text_new"
   ]
  },
  {
   "cell_type": "code",
   "execution_count": 9,
   "id": "be549838",
   "metadata": {},
   "outputs": [],
   "source": [
    "words = {word : text_new.count(word) for word in text_new}"
   ]
  },
  {
   "cell_type": "code",
   "execution_count": 4,
   "id": "976f5067",
   "metadata": {},
   "outputs": [],
   "source": [
    "import re\n",
    "\n",
    "words = {}\n",
    "\n",
    "# your code\n",
    "for word in re.split('\\W', sample_text):  # split by non-word chars\n",
    "    word = word.lower()\n",
    "    if word.isalnum():\n",
    "        if word in words:\n",
    "            words[word] += 1\n",
    "        else:\n",
    "            words[word] = 1\n",
    "words"
   ]
  },
  {
   "cell_type": "code",
   "execution_count": 168,
   "id": "17b0f6cc",
   "metadata": {},
   "outputs": [
    {
     "data": {
      "text/plain": [
       "{'the': 6,\n",
       " 'secret': 1,\n",
       " 'menu': 1,\n",
       " 'reveals': 1,\n",
       " 'a': 8,\n",
       " 'business': 1,\n",
       " 'model': 1,\n",
       " 'that': 2,\n",
       " 'goes': 1,\n",
       " 'beyond': 1,\n",
       " 'right': 1,\n",
       " 'to': 5,\n",
       " 'repair': 1,\n",
       " 'issue': 1,\n",
       " 'sullivan': 2,\n",
       " 'argues': 1,\n",
       " 'it': 6,\n",
       " 'represents': 1,\n",
       " 'as': 1,\n",
       " 'he': 2,\n",
       " 'describes': 1,\n",
       " 'nothing': 1,\n",
       " 'short': 1,\n",
       " 'of': 3,\n",
       " 'milkshake': 1,\n",
       " 'shakedown': 1,\n",
       " 'sell': 1,\n",
       " 'franchisees': 1,\n",
       " 'complicated': 1,\n",
       " 'and': 4,\n",
       " 'fragile': 1,\n",
       " 'machine': 1,\n",
       " 'prevent': 1,\n",
       " 'them': 1,\n",
       " 'from': 2,\n",
       " 'figuring': 1,\n",
       " 'out': 1,\n",
       " 'why': 1,\n",
       " 'constantly': 1,\n",
       " 'breaks': 1,\n",
       " 'take': 1,\n",
       " 'cut': 1,\n",
       " 'distributors': 1,\n",
       " 'profit': 1,\n",
       " 'repairs': 1,\n",
       " 's': 6,\n",
       " 'huge': 1,\n",
       " 'money': 1,\n",
       " 'maker': 1,\n",
       " 'have': 1,\n",
       " 'customer': 1,\n",
       " 'purposefully': 1,\n",
       " 'intentionally': 1,\n",
       " 'blind': 1,\n",
       " 'unable': 1,\n",
       " 'make': 1,\n",
       " 'very': 1,\n",
       " 'fundamental': 1,\n",
       " 'changes': 1,\n",
       " 'their': 1,\n",
       " 'own': 1,\n",
       " 'equipment': 2,\n",
       " 'says': 2,\n",
       " 'mcdonald': 3,\n",
       " 'presides': 1,\n",
       " 'over': 1,\n",
       " 'all': 1,\n",
       " 'insisting': 1,\n",
       " 'on': 3,\n",
       " 'loyalty': 1,\n",
       " 'its': 2,\n",
       " 'longtime': 1,\n",
       " 'supplier': 1,\n",
       " 'resist': 1,\n",
       " 'monarchy': 1,\n",
       " 'decisions': 1,\n",
       " 'like': 1,\n",
       " 'corporation': 1,\n",
       " 'can': 1,\n",
       " 'end': 1,\n",
       " 'restaurant': 1,\n",
       " 'lease': 1,\n",
       " 'literal': 1,\n",
       " 'ground': 1,\n",
       " 'beneath': 1,\n",
       " 'which': 1,\n",
       " 'owns': 1,\n",
       " 'under': 1,\n",
       " 'franchise': 1,\n",
       " 'agreement': 1}"
      ]
     },
     "execution_count": 168,
     "metadata": {},
     "output_type": "execute_result"
    }
   ],
   "source": [
    "words"
   ]
  },
  {
   "cell_type": "markdown",
   "id": "d1101d46",
   "metadata": {},
   "source": [
    "# Sets"
   ]
  },
  {
   "cell_type": "markdown",
   "id": "f237c19c",
   "metadata": {},
   "source": [
    "Коллекция уникальных объектов"
   ]
  },
  {
   "cell_type": "code",
   "execution_count": 438,
   "id": "3050d765",
   "metadata": {},
   "outputs": [
    {
     "data": {
      "text/plain": [
       "{'one', 'two'}"
      ]
     },
     "execution_count": 438,
     "metadata": {},
     "output_type": "execute_result"
    }
   ],
   "source": [
    "a = ['one', 'two', 'two', 'one']\n",
    "set(a)"
   ]
  },
  {
   "cell_type": "markdown",
   "id": "6354a3c1",
   "metadata": {},
   "source": [
    "set -- mutable, frozenset -- immutable"
   ]
  },
  {
   "cell_type": "code",
   "execution_count": 439,
   "id": "3de613e7",
   "metadata": {},
   "outputs": [],
   "source": [
    "first_set = {1, 2, 3, 4, 5}\n",
    "second_set = {4, 5, 6, 7, 8}"
   ]
  },
  {
   "cell_type": "code",
   "execution_count": 440,
   "id": "3f04a1d8",
   "metadata": {},
   "outputs": [
    {
     "data": {
      "text/plain": [
       "({4, 5}, {4, 5})"
      ]
     },
     "execution_count": 440,
     "metadata": {},
     "output_type": "execute_result"
    }
   ],
   "source": [
    "first_set & second_set, first_set.intersection(second_set)"
   ]
  },
  {
   "cell_type": "code",
   "execution_count": 441,
   "id": "029c0fb6",
   "metadata": {},
   "outputs": [
    {
     "data": {
      "text/plain": [
       "({1, 2, 3, 4, 5, 6, 7, 8}, {1, 2, 3, 4, 5, 6, 7, 8})"
      ]
     },
     "execution_count": 441,
     "metadata": {},
     "output_type": "execute_result"
    }
   ],
   "source": [
    "first_set | second_set, first_set.union(second_set)"
   ]
  },
  {
   "cell_type": "markdown",
   "id": "7eec30ac",
   "metadata": {},
   "source": [
    "Внутри хеш-таблица, что дает нам операцию проверки вхождения за O(1) при хорошей хеш-функции\n",
    "\n",
    "Пример:"
   ]
  },
  {
   "cell_type": "code",
   "execution_count": 442,
   "id": "dea35448",
   "metadata": {},
   "outputs": [],
   "source": [
    "import random"
   ]
  },
  {
   "cell_type": "code",
   "execution_count": 447,
   "id": "3ec4ce04",
   "metadata": {},
   "outputs": [],
   "source": [
    "good_values = set(range(100))\n",
    "\n",
    "filtered_values = []\n",
    "for i in range(100000):\n",
    "    val = random.randint(1, 500)\n",
    "    if val in good_values:\n",
    "        filtered_values.append(val)"
   ]
  },
  {
   "cell_type": "code",
   "execution_count": 448,
   "id": "22d437d0",
   "metadata": {},
   "outputs": [],
   "source": [
    "assert len(list(filter(lambda x: x >= 100, filtered_values))) == 0"
   ]
  }
 ],
 "metadata": {
  "kernelspec": {
   "display_name": "Python 3 (ipykernel)",
   "language": "python",
   "name": "python3"
  },
  "language_info": {
   "codemirror_mode": {
    "name": "ipython",
    "version": 3
   },
   "file_extension": ".py",
   "mimetype": "text/x-python",
   "name": "python",
   "nbconvert_exporter": "python",
   "pygments_lexer": "ipython3",
   "version": "3.9.7"
  },
  "latex_envs": {
   "LaTeX_envs_menu_present": true,
   "autoclose": false,
   "autocomplete": true,
   "bibliofile": "biblio.bib",
   "cite_by": "apalike",
   "current_citInitial": 1,
   "eqLabelWithNumbers": true,
   "eqNumInitial": 1,
   "hotkeys": {
    "equation": "Ctrl-E",
    "itemize": "Ctrl-I"
   },
   "labels_anchors": false,
   "latex_user_defs": false,
   "report_style_numbering": false,
   "user_envs_cfg": false
  },
  "toc": {
   "base_numbering": 1,
   "nav_menu": {},
   "number_sections": true,
   "sideBar": true,
   "skip_h1_title": false,
   "title_cell": "Table of Contents",
   "title_sidebar": "Contents",
   "toc_cell": false,
   "toc_position": {},
   "toc_section_display": true,
   "toc_window_display": true
  }
 },
 "nbformat": 4,
 "nbformat_minor": 5
}
