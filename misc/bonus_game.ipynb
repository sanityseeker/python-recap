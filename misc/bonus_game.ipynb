{
 "cells": [
  {
   "cell_type": "markdown",
   "id": "d1e3bd06",
   "metadata": {},
   "source": [
    "![img](https://c.tenor.com/XHyzk7O2ndIAAAAC/what-meme.gif)"
   ]
  },
  {
   "cell_type": "markdown",
   "id": "40c4794f",
   "metadata": {},
   "source": [
    "# 'Whaaat?!1!' Gaaaame!"
   ]
  },
  {
   "cell_type": "markdown",
   "id": "05d0c675",
   "metadata": {},
   "source": [
    "Правила просты: попробуйте *аргументированно* предсказать вывод ячеек до их запуска. Ради интереса можете заполнить в квадратных скобочках количество ваших верных ответов :)"
   ]
  },
  {
   "cell_type": "markdown",
   "id": "7aebc320",
   "metadata": {},
   "source": [
    "## [n] sorted or not sorted"
   ]
  },
  {
   "cell_type": "code",
   "execution_count": null,
   "id": "5742af70",
   "metadata": {
    "ExecuteTime": {
     "end_time": "2021-12-08T08:17:24.009228Z",
     "start_time": "2021-12-08T08:17:23.997345Z"
    }
   },
   "outputs": [],
   "source": [
    "a = [1, 2, 3, 4]\n",
    "b = [1, 2, 3, 4]"
   ]
  },
  {
   "cell_type": "code",
   "execution_count": null,
   "id": "8f381341",
   "metadata": {
    "ExecuteTime": {
     "end_time": "2021-12-08T08:17:33.117040Z",
     "start_time": "2021-12-08T08:17:33.109679Z"
    }
   },
   "outputs": [],
   "source": [
    "a == sorted(a)"
   ]
  },
  {
   "cell_type": "code",
   "execution_count": null,
   "id": "29700ff7",
   "metadata": {
    "ExecuteTime": {
     "end_time": "2021-12-08T08:17:38.929122Z",
     "start_time": "2021-12-08T08:17:38.921908Z"
    }
   },
   "outputs": [],
   "source": [
    "a == sorted(b)"
   ]
  },
  {
   "cell_type": "code",
   "execution_count": null,
   "id": "4e716960",
   "metadata": {
    "ExecuteTime": {
     "end_time": "2021-12-08T08:17:59.440246Z",
     "start_time": "2021-12-08T08:17:59.435264Z"
    }
   },
   "outputs": [],
   "source": [
    "a == sorted((1, 2, 3, 4))"
   ]
  },
  {
   "cell_type": "code",
   "execution_count": null,
   "id": "3e6cc2b8",
   "metadata": {
    "ExecuteTime": {
     "end_time": "2021-12-08T08:18:10.190148Z",
     "start_time": "2021-12-08T08:18:10.185049Z"
    }
   },
   "outputs": [],
   "source": [
    "(1, 2, 3, 4) == sorted((1, 2, 3, 4))"
   ]
  },
  {
   "cell_type": "code",
   "execution_count": null,
   "id": "df96e259",
   "metadata": {
    "ExecuteTime": {
     "end_time": "2021-12-08T08:18:14.677089Z",
     "start_time": "2021-12-08T08:18:14.672284Z"
    }
   },
   "outputs": [],
   "source": [
    "sorted(a) == sorted(b)"
   ]
  },
  {
   "cell_type": "code",
   "execution_count": null,
   "id": "1f9765ae",
   "metadata": {
    "ExecuteTime": {
     "end_time": "2021-12-08T08:18:20.950270Z",
     "start_time": "2021-12-08T08:18:20.946065Z"
    }
   },
   "outputs": [],
   "source": [
    "reversed(a) == reversed(b)"
   ]
  },
  {
   "cell_type": "code",
   "execution_count": null,
   "id": "5dd30391",
   "metadata": {
    "ExecuteTime": {
     "end_time": "2021-12-08T08:19:23.125233Z",
     "start_time": "2021-12-08T08:19:23.120667Z"
    }
   },
   "outputs": [],
   "source": [
    "reversed(a) == reversed(a)"
   ]
  },
  {
   "cell_type": "code",
   "execution_count": null,
   "id": "d6fee7be",
   "metadata": {
    "ExecuteTime": {
     "end_time": "2021-12-08T08:19:38.937431Z",
     "start_time": "2021-12-08T08:19:38.933134Z"
    }
   },
   "outputs": [],
   "source": [
    "sorted(reversed(a)) == sorted(reversed(b))"
   ]
  },
  {
   "cell_type": "code",
   "execution_count": null,
   "id": "3bd44621",
   "metadata": {
    "ExecuteTime": {
     "end_time": "2021-12-08T08:20:09.762348Z",
     "start_time": "2021-12-08T08:20:09.758377Z"
    }
   },
   "outputs": [],
   "source": [
    "sorted(reversed(a)) == sorted(reversed(a))"
   ]
  },
  {
   "cell_type": "code",
   "execution_count": null,
   "id": "67cb0fb3",
   "metadata": {
    "ExecuteTime": {
     "end_time": "2021-12-08T08:20:56.035167Z",
     "start_time": "2021-12-08T08:20:56.032462Z"
    }
   },
   "outputs": [],
   "source": [
    "a = [1, 2, 3, 4]\n",
    "b = reversed(a)"
   ]
  },
  {
   "cell_type": "code",
   "execution_count": null,
   "id": "28c5eda7",
   "metadata": {
    "ExecuteTime": {
     "end_time": "2021-12-08T08:20:26.601241Z",
     "start_time": "2021-12-08T08:20:26.596715Z"
    }
   },
   "outputs": [],
   "source": [
    "sorted(b) == sorted(b)"
   ]
  },
  {
   "cell_type": "markdown",
   "id": "08f0dfb0",
   "metadata": {},
   "source": [
    "## [n] immutable or not immutable"
   ]
  },
  {
   "cell_type": "code",
   "execution_count": null,
   "id": "ff1fc093",
   "metadata": {
    "ExecuteTime": {
     "end_time": "2021-12-12T14:18:53.802009Z",
     "start_time": "2021-12-12T14:18:53.799611Z"
    }
   },
   "outputs": [],
   "source": [
    "a = (1, [2], 3,)"
   ]
  },
  {
   "cell_type": "code",
   "execution_count": null,
   "id": "1f43e83d",
   "metadata": {
    "ExecuteTime": {
     "end_time": "2021-12-12T14:18:55.840956Z",
     "start_time": "2021-12-12T14:18:54.046970Z"
    }
   },
   "outputs": [],
   "source": [
    "a[2] = 4"
   ]
  },
  {
   "cell_type": "code",
   "execution_count": null,
   "id": "71832dac",
   "metadata": {
    "ExecuteTime": {
     "end_time": "2021-12-12T14:18:55.842750Z",
     "start_time": "2021-12-12T14:18:55.842740Z"
    }
   },
   "outputs": [],
   "source": [
    "a[1] = [3]"
   ]
  },
  {
   "cell_type": "code",
   "execution_count": null,
   "id": "731b136f",
   "metadata": {
    "ExecuteTime": {
     "end_time": "2021-12-12T14:18:57.512802Z",
     "start_time": "2021-12-12T14:18:57.510284Z"
    }
   },
   "outputs": [],
   "source": [
    "a[1].extend([3])"
   ]
  },
  {
   "cell_type": "code",
   "execution_count": null,
   "id": "2fb261ef",
   "metadata": {
    "ExecuteTime": {
     "end_time": "2021-12-12T14:18:58.093265Z",
     "start_time": "2021-12-12T14:18:58.084827Z"
    }
   },
   "outputs": [],
   "source": [
    "# print([id(elem) for elem in a])\n",
    "a[1] += [1, 2, 3]"
   ]
  },
  {
   "cell_type": "code",
   "execution_count": null,
   "id": "c813a852",
   "metadata": {
    "ExecuteTime": {
     "end_time": "2021-12-12T14:19:00.978168Z",
     "start_time": "2021-12-12T14:19:00.971962Z"
    }
   },
   "outputs": [],
   "source": [
    "# print([id(elem) for elem in a])\n",
    "a"
   ]
  },
  {
   "cell_type": "code",
   "execution_count": null,
   "id": "62428233",
   "metadata": {
    "ExecuteTime": {
     "end_time": "2021-12-12T14:19:03.300441Z",
     "start_time": "2021-12-12T14:19:03.297827Z"
    }
   },
   "outputs": [],
   "source": [
    "c = [4, 5]\n",
    "id_c = id(c)\n",
    "\n",
    "c.extend([0, 1])\n",
    "new_id_c = id(c)"
   ]
  },
  {
   "cell_type": "code",
   "execution_count": null,
   "id": "ea50f3c4",
   "metadata": {
    "ExecuteTime": {
     "end_time": "2021-12-12T14:19:06.363170Z",
     "start_time": "2021-12-12T14:19:06.359674Z"
    }
   },
   "outputs": [],
   "source": [
    "id_c == new_id_c"
   ]
  },
  {
   "cell_type": "code",
   "execution_count": null,
   "id": "9ffcfaae",
   "metadata": {
    "ExecuteTime": {
     "end_time": "2021-12-12T14:19:08.240929Z",
     "start_time": "2021-12-12T14:19:08.236638Z"
    }
   },
   "outputs": [],
   "source": [
    "c += [10, 9]\n",
    "\n",
    "inew_id_c = id(c)\n",
    "\n",
    "id_c == inew_id_c"
   ]
  },
  {
   "cell_type": "code",
   "execution_count": null,
   "id": "6371c35c",
   "metadata": {
    "ExecuteTime": {
     "end_time": "2021-12-12T14:19:15.154056Z",
     "start_time": "2021-12-12T14:19:15.150403Z"
    }
   },
   "outputs": [],
   "source": [
    "c = c + [11, 12]\n",
    "new_id_c = id(c)\n",
    "\n",
    "id_c == new_id_c"
   ]
  },
  {
   "cell_type": "markdown",
   "id": "4249f61c",
   "metadata": {
    "ExecuteTime": {
     "end_time": "2021-12-08T02:53:23.232041Z",
     "start_time": "2021-12-08T02:53:23.228366Z"
    }
   },
   "source": [
    "## [n] types or not types"
   ]
  },
  {
   "cell_type": "code",
   "execution_count": null,
   "id": "a60cb052",
   "metadata": {
    "ExecuteTime": {
     "end_time": "2021-12-08T08:33:50.443501Z",
     "start_time": "2021-12-08T08:33:50.440490Z"
    }
   },
   "outputs": [],
   "source": [
    "from collections.abc import Iterable"
   ]
  },
  {
   "cell_type": "code",
   "execution_count": null,
   "id": "4e0617a9",
   "metadata": {
    "ExecuteTime": {
     "end_time": "2021-12-08T08:33:52.518330Z",
     "start_time": "2021-12-08T08:33:52.514971Z"
    }
   },
   "outputs": [],
   "source": [
    "a = [1, 2, 3]"
   ]
  },
  {
   "cell_type": "code",
   "execution_count": null,
   "id": "c0bbe5cd",
   "metadata": {
    "ExecuteTime": {
     "end_time": "2021-12-08T08:33:58.570661Z",
     "start_time": "2021-12-08T08:33:58.566492Z"
    }
   },
   "outputs": [],
   "source": [
    "type(a) == list"
   ]
  },
  {
   "cell_type": "code",
   "execution_count": null,
   "id": "d036ea63",
   "metadata": {
    "ExecuteTime": {
     "end_time": "2021-12-08T08:34:12.918513Z",
     "start_time": "2021-12-08T08:34:12.914784Z"
    }
   },
   "outputs": [],
   "source": [
    "type(a) == Iterable"
   ]
  },
  {
   "cell_type": "code",
   "execution_count": null,
   "id": "0fb2d48c",
   "metadata": {
    "ExecuteTime": {
     "end_time": "2021-12-08T08:34:19.281972Z",
     "start_time": "2021-12-08T08:34:19.277469Z"
    }
   },
   "outputs": [],
   "source": [
    "isinstance(a, Iterable)"
   ]
  },
  {
   "cell_type": "code",
   "execution_count": null,
   "id": "49ad8af5",
   "metadata": {
    "ExecuteTime": {
     "end_time": "2021-12-08T08:34:52.064450Z",
     "start_time": "2021-12-08T08:34:52.056005Z"
    }
   },
   "outputs": [],
   "source": [
    "issubclass(a, Iterable)"
   ]
  },
  {
   "cell_type": "code",
   "execution_count": null,
   "id": "0020a0ed",
   "metadata": {
    "ExecuteTime": {
     "end_time": "2021-12-08T08:35:26.057390Z",
     "start_time": "2021-12-08T08:35:26.053103Z"
    }
   },
   "outputs": [],
   "source": [
    "isinstance(type, type)"
   ]
  },
  {
   "cell_type": "code",
   "execution_count": null,
   "id": "e9e3b59a",
   "metadata": {
    "ExecuteTime": {
     "end_time": "2021-12-08T08:35:54.683211Z",
     "start_time": "2021-12-08T08:35:54.678653Z"
    }
   },
   "outputs": [],
   "source": [
    "?issubclass"
   ]
  },
  {
   "cell_type": "code",
   "execution_count": null,
   "id": "80998f37",
   "metadata": {
    "ExecuteTime": {
     "end_time": "2021-12-08T08:36:06.507323Z",
     "start_time": "2021-12-08T08:36:06.503715Z"
    }
   },
   "outputs": [],
   "source": [
    "issubclass(type, type)"
   ]
  },
  {
   "cell_type": "code",
   "execution_count": null,
   "id": "2f1f9e05",
   "metadata": {
    "ExecuteTime": {
     "end_time": "2021-12-08T08:36:30.948251Z",
     "start_time": "2021-12-08T08:36:30.944752Z"
    }
   },
   "outputs": [],
   "source": [
    "issubclass(object, object)"
   ]
  },
  {
   "cell_type": "code",
   "execution_count": null,
   "id": "af3a9d96",
   "metadata": {
    "ExecuteTime": {
     "end_time": "2021-12-08T08:37:01.444594Z",
     "start_time": "2021-12-08T08:37:01.439611Z"
    }
   },
   "outputs": [],
   "source": [
    "isinstance(type, object)"
   ]
  },
  {
   "cell_type": "code",
   "execution_count": null,
   "id": "c9e8dac3",
   "metadata": {
    "ExecuteTime": {
     "end_time": "2021-12-08T08:37:20.485284Z",
     "start_time": "2021-12-08T08:37:20.479074Z"
    }
   },
   "outputs": [],
   "source": [
    "isinstance(object, type)"
   ]
  },
  {
   "cell_type": "code",
   "execution_count": null,
   "id": "25454e0a",
   "metadata": {
    "ExecuteTime": {
     "end_time": "2021-12-08T08:38:45.380243Z",
     "start_time": "2021-12-08T08:38:45.376255Z"
    }
   },
   "outputs": [],
   "source": [
    "type(type)"
   ]
  },
  {
   "cell_type": "code",
   "execution_count": null,
   "id": "17ba0bd8",
   "metadata": {
    "ExecuteTime": {
     "end_time": "2021-12-08T08:39:10.868336Z",
     "start_time": "2021-12-08T08:39:10.863341Z"
    }
   },
   "outputs": [],
   "source": [
    "type(object)"
   ]
  },
  {
   "cell_type": "markdown",
   "id": "a401585c",
   "metadata": {},
   "source": [
    "https://stackoverflow.com/questions/100003/what-are-metaclasses-in-python/6581949#6581949"
   ]
  },
  {
   "cell_type": "markdown",
   "id": "14dbc898",
   "metadata": {},
   "source": [
    "## [n] bool or not bool"
   ]
  },
  {
   "cell_type": "code",
   "execution_count": null,
   "id": "547130da",
   "metadata": {
    "ExecuteTime": {
     "end_time": "2021-12-08T08:21:54.413008Z",
     "start_time": "2021-12-08T08:21:54.408012Z"
    }
   },
   "outputs": [],
   "source": [
    "bool([])"
   ]
  },
  {
   "cell_type": "code",
   "execution_count": null,
   "id": "f89ebd5d",
   "metadata": {
    "ExecuteTime": {
     "end_time": "2021-12-08T08:22:08.725725Z",
     "start_time": "2021-12-08T08:22:08.721569Z"
    }
   },
   "outputs": [],
   "source": [
    "bool([[]])"
   ]
  },
  {
   "cell_type": "code",
   "execution_count": null,
   "id": "14034aaa",
   "metadata": {
    "ExecuteTime": {
     "end_time": "2021-12-08T08:22:16.074831Z",
     "start_time": "2021-12-08T08:22:16.069795Z"
    }
   },
   "outputs": [],
   "source": [
    "bool([[[]]])"
   ]
  },
  {
   "cell_type": "code",
   "execution_count": null,
   "id": "0c5f6e1e",
   "metadata": {
    "ExecuteTime": {
     "end_time": "2021-12-08T08:22:21.449036Z",
     "start_time": "2021-12-08T08:22:21.431926Z"
    }
   },
   "outputs": [],
   "source": [
    "?all"
   ]
  },
  {
   "cell_type": "code",
   "execution_count": null,
   "id": "6beefdb8",
   "metadata": {
    "ExecuteTime": {
     "end_time": "2021-12-08T08:23:11.260926Z",
     "start_time": "2021-12-08T08:23:11.257514Z"
    }
   },
   "outputs": [],
   "source": [
    "all([])"
   ]
  },
  {
   "cell_type": "code",
   "execution_count": null,
   "id": "3a80ac94",
   "metadata": {
    "ExecuteTime": {
     "end_time": "2021-12-08T08:23:35.124165Z",
     "start_time": "2021-12-08T08:23:35.119205Z"
    }
   },
   "outputs": [],
   "source": [
    "all([[]])"
   ]
  },
  {
   "cell_type": "code",
   "execution_count": null,
   "id": "ba503131",
   "metadata": {
    "ExecuteTime": {
     "end_time": "2021-12-08T08:24:00.185845Z",
     "start_time": "2021-12-08T08:24:00.181692Z"
    }
   },
   "outputs": [],
   "source": [
    "all([[[]]])"
   ]
  },
  {
   "cell_type": "code",
   "execution_count": null,
   "id": "cab7cd3a-c07a-4f83-a591-1d1fad922daf",
   "metadata": {},
   "outputs": [],
   "source": [
    "False == False in [False]"
   ]
  },
  {
   "cell_type": "code",
   "execution_count": null,
   "id": "385adb26-c4d6-477a-b06c-46df1a643026",
   "metadata": {},
   "outputs": [],
   "source": [
    "False is False is False"
   ]
  },
  {
   "cell_type": "code",
   "execution_count": null,
   "id": "fce72be3-32c6-4b0d-9bf4-0713ec0ea53e",
   "metadata": {},
   "outputs": [],
   "source": [
    "1 > 0 < 1"
   ]
  },
  {
   "cell_type": "code",
   "execution_count": null,
   "id": "ad498dd9-10a4-4ac3-bded-90b25371b11c",
   "metadata": {},
   "outputs": [],
   "source": [
    "(False == False) and (False in [False])"
   ]
  },
  {
   "cell_type": "markdown",
   "id": "2c21c4ba",
   "metadata": {},
   "source": [
    "## [n] sum or not sum"
   ]
  },
  {
   "cell_type": "code",
   "execution_count": null,
   "id": "6b40917a",
   "metadata": {
    "ExecuteTime": {
     "end_time": "2021-12-08T08:51:35.425797Z",
     "start_time": "2021-12-08T08:51:35.416744Z"
    }
   },
   "outputs": [],
   "source": [
    "'' + 1"
   ]
  },
  {
   "cell_type": "code",
   "execution_count": null,
   "id": "81fc3c57",
   "metadata": {
    "ExecuteTime": {
     "end_time": "2021-12-08T08:52:16.832622Z",
     "start_time": "2021-12-08T08:52:16.823377Z"
    }
   },
   "outputs": [],
   "source": [
    "' ' + ['']"
   ]
  },
  {
   "cell_type": "code",
   "execution_count": null,
   "id": "40f09883",
   "metadata": {
    "ExecuteTime": {
     "end_time": "2021-12-08T08:52:49.362540Z",
     "start_time": "2021-12-08T08:52:49.358545Z"
    }
   },
   "outputs": [],
   "source": [
    "'1' + '3'"
   ]
  },
  {
   "cell_type": "code",
   "execution_count": null,
   "id": "623433bd",
   "metadata": {
    "ExecuteTime": {
     "end_time": "2021-12-08T08:53:08.478640Z",
     "start_time": "2021-12-08T08:53:08.473046Z"
    }
   },
   "outputs": [],
   "source": [
    "[1] + [3]"
   ]
  },
  {
   "cell_type": "code",
   "execution_count": null,
   "id": "ab8ac14f",
   "metadata": {
    "ExecuteTime": {
     "end_time": "2021-12-08T08:53:18.025114Z",
     "start_time": "2021-12-08T08:53:18.021111Z"
    }
   },
   "outputs": [],
   "source": [
    "(1,) + (3,)"
   ]
  },
  {
   "cell_type": "code",
   "execution_count": null,
   "id": "09b6404f",
   "metadata": {
    "ExecuteTime": {
     "end_time": "2021-12-08T08:53:22.213516Z",
     "start_time": "2021-12-08T08:53:22.208534Z"
    }
   },
   "outputs": [],
   "source": [
    "?sum"
   ]
  },
  {
   "cell_type": "code",
   "execution_count": null,
   "id": "4bab5925",
   "metadata": {
    "ExecuteTime": {
     "end_time": "2021-12-08T08:54:01.226272Z",
     "start_time": "2021-12-08T08:54:01.222126Z"
    }
   },
   "outputs": [],
   "source": [
    "sum([1], 2)"
   ]
  },
  {
   "cell_type": "code",
   "execution_count": null,
   "id": "4fd58eee",
   "metadata": {
    "ExecuteTime": {
     "end_time": "2021-12-08T08:54:08.349817Z",
     "start_time": "2021-12-08T08:54:08.347686Z"
    }
   },
   "outputs": [],
   "source": [
    "a = ''"
   ]
  },
  {
   "cell_type": "code",
   "execution_count": null,
   "id": "3e67496a",
   "metadata": {
    "ExecuteTime": {
     "end_time": "2021-12-08T08:54:38.425973Z",
     "start_time": "2021-12-08T08:54:38.421205Z"
    }
   },
   "outputs": [],
   "source": [
    "sum(a)"
   ]
  },
  {
   "cell_type": "code",
   "execution_count": null,
   "id": "6ac087c1",
   "metadata": {
    "ExecuteTime": {
     "end_time": "2021-12-08T08:55:58.463019Z",
     "start_time": "2021-12-08T08:55:58.457998Z"
    }
   },
   "outputs": [],
   "source": [
    "sum(a, [])"
   ]
  },
  {
   "cell_type": "code",
   "execution_count": null,
   "id": "4a4adbc6",
   "metadata": {
    "ExecuteTime": {
     "end_time": "2021-12-08T08:56:03.575599Z",
     "start_time": "2021-12-08T08:56:03.571694Z"
    }
   },
   "outputs": [],
   "source": [
    "sum(a, ())"
   ]
  },
  {
   "cell_type": "code",
   "execution_count": null,
   "id": "af00bd5c",
   "metadata": {
    "ExecuteTime": {
     "end_time": "2021-12-08T08:56:10.749781Z",
     "start_time": "2021-12-08T08:56:10.745164Z"
    }
   },
   "outputs": [],
   "source": [
    "sum(a, {})"
   ]
  },
  {
   "cell_type": "code",
   "execution_count": null,
   "id": "63ee93a6",
   "metadata": {
    "ExecuteTime": {
     "end_time": "2021-12-08T08:56:21.937441Z",
     "start_time": "2021-12-08T08:56:21.924961Z"
    }
   },
   "outputs": [],
   "source": [
    "sum(a, a)"
   ]
  },
  {
   "cell_type": "markdown",
   "id": "2fe2b58d",
   "metadata": {},
   "source": [
    "## [n] functions"
   ]
  },
  {
   "cell_type": "code",
   "execution_count": null,
   "id": "9c1dcc87",
   "metadata": {
    "ExecuteTime": {
     "end_time": "2021-12-08T08:25:09.498049Z",
     "start_time": "2021-12-08T08:25:09.493784Z"
    }
   },
   "outputs": [],
   "source": [
    "a = 10\n",
    "def foo():\n",
    "    return a\n",
    "\n",
    "foo()"
   ]
  },
  {
   "cell_type": "code",
   "execution_count": null,
   "id": "618019ed",
   "metadata": {
    "ExecuteTime": {
     "end_time": "2021-12-08T08:25:18.148675Z",
     "start_time": "2021-12-08T08:25:18.144180Z"
    }
   },
   "outputs": [],
   "source": [
    "a = 20\n",
    "foo()"
   ]
  },
  {
   "cell_type": "code",
   "execution_count": null,
   "id": "0419aec3",
   "metadata": {
    "ExecuteTime": {
     "end_time": "2021-12-08T08:33:08.448887Z",
     "start_time": "2021-12-08T08:33:08.441278Z"
    }
   },
   "outputs": [],
   "source": [
    "def foo():\n",
    "    a += 20\n",
    "    return a\n",
    "\n",
    "foo()"
   ]
  },
  {
   "cell_type": "code",
   "execution_count": null,
   "id": "44e2dfa7",
   "metadata": {
    "ExecuteTime": {
     "end_time": "2021-12-08T08:28:08.921708Z",
     "start_time": "2021-12-08T08:28:08.908458Z"
    }
   },
   "outputs": [],
   "source": [
    "def foo():\n",
    "    return a\n",
    "    a = 20\n",
    "\n",
    "foo()"
   ]
  },
  {
   "cell_type": "code",
   "execution_count": null,
   "id": "5179d6ce",
   "metadata": {
    "ExecuteTime": {
     "end_time": "2021-12-08T08:29:07.982736Z",
     "start_time": "2021-12-08T08:29:07.979570Z"
    }
   },
   "outputs": [],
   "source": [
    "def foo():\n",
    "    try:\n",
    "        return '1'\n",
    "    finally:\n",
    "        return '3'\n",
    "    \n",
    "foo()"
   ]
  },
  {
   "cell_type": "code",
   "execution_count": null,
   "id": "f3f0048f",
   "metadata": {
    "ExecuteTime": {
     "end_time": "2021-12-08T08:29:37.845672Z",
     "start_time": "2021-12-08T08:29:37.841836Z"
    }
   },
   "outputs": [],
   "source": [
    "def foo():\n",
    "    try:\n",
    "        raise TypeError()\n",
    "        return '1'\n",
    "    except TypeError as e:\n",
    "        return '2'\n",
    "    finally:\n",
    "        return '3'\n",
    "    \n",
    "foo()"
   ]
  },
  {
   "cell_type": "code",
   "execution_count": null,
   "id": "148e025b",
   "metadata": {
    "ExecuteTime": {
     "end_time": "2021-12-08T08:30:21.085385Z",
     "start_time": "2021-12-08T08:30:21.082086Z"
    }
   },
   "outputs": [],
   "source": [
    "def foo():\n",
    "    try:\n",
    "        print('A')\n",
    "        raise TypeError()\n",
    "        print('B')\n",
    "        return '1'\n",
    "    except TypeError as e:\n",
    "        print('C')\n",
    "        return '2'\n",
    "        print('D')\n",
    "        \n",
    "foo()"
   ]
  },
  {
   "cell_type": "code",
   "execution_count": null,
   "id": "04e4cb0a",
   "metadata": {
    "ExecuteTime": {
     "end_time": "2021-12-08T08:31:40.108725Z",
     "start_time": "2021-12-08T08:31:40.104448Z"
    }
   },
   "outputs": [],
   "source": [
    "def foo():\n",
    "    try:\n",
    "        print('A')\n",
    "        raise TypeError()\n",
    "        print('B')\n",
    "        return '1'\n",
    "    except TypeError as e:\n",
    "        print('C')\n",
    "        return '2'\n",
    "        print('D')\n",
    "    finally:\n",
    "        print('E')\n",
    "        return '3'\n",
    "        print('F')\n",
    "\n",
    "foo()"
   ]
  },
  {
   "cell_type": "code",
   "execution_count": null,
   "id": "efa0e227-573a-4252-94f4-a8262748ac0a",
   "metadata": {},
   "outputs": [],
   "source": [
    "def foo():\n",
    "    try:\n",
    "        print('A')\n",
    "        raise TypeError()\n",
    "        print('B')\n",
    "        return '1'\n",
    "    except TypeError as e:\n",
    "        print('C')\n",
    "        return '2'\n",
    "        print('D')\n",
    "    finally:\n",
    "        print('E')\n",
    "        print('F')\n",
    "\n",
    "foo()"
   ]
  },
  {
   "cell_type": "code",
   "execution_count": 73,
   "id": "e9befaa7-ed56-47ba-821b-e5381ac3d1b6",
   "metadata": {},
   "outputs": [
    {
     "name": "stdout",
     "output_type": "stream",
     "text": [
      "yay\n",
      "Finally!\n",
      "Finally!\n",
      "Finally!\n",
      "yay\n",
      "Finally!\n"
     ]
    }
   ],
   "source": [
    "def another_foo(): \n",
    "    for i in range(4):\n",
    "        try:\n",
    "            if i in {1, 2}: \n",
    "                continue\n",
    "            print('yay')\n",
    "        finally:\n",
    "            print(\"Finally!\")\n",
    "            \n",
    "another_foo()"
   ]
  },
  {
   "cell_type": "code",
   "execution_count": 3,
   "id": "800938e2-1c46-4500-add9-59b698cc8518",
   "metadata": {},
   "outputs": [
    {
     "data": {
      "text/plain": [
       "[1]"
      ]
     },
     "execution_count": 3,
     "metadata": {},
     "output_type": "execute_result"
    }
   ],
   "source": [
    "a = []\n",
    "\n",
    "def bar(a):\n",
    "    a.append(1)\n",
    "    \n",
    "bar(a)\n",
    "a"
   ]
  },
  {
   "cell_type": "code",
   "execution_count": 16,
   "id": "8e748092-ec43-4f35-a9e1-c3c12627e68a",
   "metadata": {},
   "outputs": [
    {
     "name": "stdout",
     "output_type": "stream",
     "text": [
      "[1]\n"
     ]
    }
   ],
   "source": [
    "def bar(a=[]):\n",
    "    a.append(1)\n",
    "    print(a)\n",
    "\n",
    "bar()"
   ]
  },
  {
   "cell_type": "code",
   "execution_count": 17,
   "id": "6c9906a0-93bb-42c4-af4a-a8937d2228b0",
   "metadata": {},
   "outputs": [
    {
     "name": "stdout",
     "output_type": "stream",
     "text": [
      "[1, 1]\n",
      "[1, 1, 1]\n",
      "[1, 1, 1, 1]\n"
     ]
    }
   ],
   "source": [
    "bar()\n",
    "bar()\n",
    "bar()"
   ]
  },
  {
   "cell_type": "markdown",
   "id": "37506582",
   "metadata": {},
   "source": [
    "## [n] expressions"
   ]
  },
  {
   "cell_type": "markdown",
   "id": "527df33b",
   "metadata": {},
   "source": [
    "Эта секция немного отличается. Подберите такие значения x,y, чтобы результат ячеек был True"
   ]
  },
  {
   "cell_type": "code",
   "execution_count": null,
   "id": "29224b62",
   "metadata": {
    "ExecuteTime": {
     "end_time": "2021-12-08T08:57:49.126277Z",
     "start_time": "2021-12-08T08:57:49.121395Z"
    }
   },
   "outputs": [],
   "source": [
    "x, y = # your values\n",
    "\n",
    "\n",
    "x + y != y + x  # should be true"
   ]
  },
  {
   "cell_type": "code",
   "execution_count": null,
   "id": "b43990b9",
   "metadata": {
    "ExecuteTime": {
     "end_time": "2021-12-08T09:00:41.748171Z",
     "start_time": "2021-12-08T09:00:41.744149Z"
    }
   },
   "outputs": [],
   "source": [
    "x, y = # your values\n",
    "\n",
    "\n",
    "min(x, y) != min(y, x)  # should be true"
   ]
  },
  {
   "cell_type": "code",
   "execution_count": null,
   "id": "1063631d-91f6-428f-ae5b-373092a25687",
   "metadata": {},
   "outputs": [],
   "source": [
    "x = # your value\n",
    "y = # your value\n",
    "z = # your value\n",
    "\n",
    "print(x == y)  # should be True\n",
    "print(x == z)  # should be True\n",
    "print(y == z)  # should be False"
   ]
  },
  {
   "cell_type": "markdown",
   "id": "095bc32d",
   "metadata": {},
   "source": [
    "## [n] ids are not ids"
   ]
  },
  {
   "cell_type": "code",
   "execution_count": null,
   "id": "c4b9b38d",
   "metadata": {
    "ExecuteTime": {
     "end_time": "2021-12-12T14:21:50.269579Z",
     "start_time": "2021-12-12T14:21:50.265276Z"
    }
   },
   "outputs": [],
   "source": [
    "b = 1\n",
    "\n",
    "id(b) == id(b)"
   ]
  },
  {
   "cell_type": "code",
   "execution_count": null,
   "id": "922d9813",
   "metadata": {
    "ExecuteTime": {
     "end_time": "2021-12-12T14:21:50.724868Z",
     "start_time": "2021-12-12T14:21:50.721353Z"
    }
   },
   "outputs": [],
   "source": [
    "a = [1, 2]\n",
    "c = [3, 4]\n",
    "\n",
    "id(a) == id(c)"
   ]
  },
  {
   "cell_type": "code",
   "execution_count": null,
   "id": "649573a6",
   "metadata": {
    "ExecuteTime": {
     "end_time": "2021-12-12T14:21:51.074303Z",
     "start_time": "2021-12-12T14:21:51.071475Z"
    }
   },
   "outputs": [],
   "source": [
    "a = 1\n",
    "b = -10\n",
    "\n",
    "id(a) == id(b)"
   ]
  },
  {
   "cell_type": "code",
   "execution_count": null,
   "id": "df2c791f",
   "metadata": {
    "ExecuteTime": {
     "end_time": "2021-12-12T14:21:52.736629Z",
     "start_time": "2021-12-12T14:21:52.732726Z"
    }
   },
   "outputs": [],
   "source": [
    "a = 1\n",
    "b = 1\n",
    "\n",
    "id(a) == id(b)"
   ]
  },
  {
   "cell_type": "code",
   "execution_count": null,
   "id": "ead195e3",
   "metadata": {
    "ExecuteTime": {
     "end_time": "2021-12-12T14:21:53.350346Z",
     "start_time": "2021-12-12T14:21:53.346835Z"
    }
   },
   "outputs": [],
   "source": [
    "a = 1000\n",
    "b = 1000\n",
    "\n",
    "id(a) == id(b)"
   ]
  },
  {
   "cell_type": "code",
   "execution_count": null,
   "id": "1a48f407",
   "metadata": {
    "ExecuteTime": {
     "end_time": "2021-12-12T14:23:34.499347Z",
     "start_time": "2021-12-12T14:23:34.495915Z"
    }
   },
   "outputs": [],
   "source": [
    "# Результат этого примера может зависеть от версии интерпретатора\n",
    "a, b = 1000, 1000\n",
    "\n",
    "id(a) == id(b)"
   ]
  },
  {
   "cell_type": "code",
   "execution_count": null,
   "id": "9de0e49f",
   "metadata": {
    "ExecuteTime": {
     "end_time": "2021-12-12T14:22:00.013969Z",
     "start_time": "2021-12-12T14:22:00.009642Z"
    }
   },
   "outputs": [],
   "source": [
    "id_a = id(a)\n",
    "a += 10\n",
    "new_id_a = id(a)\n",
    "\n",
    "id_a == new_id_a"
   ]
  },
  {
   "cell_type": "code",
   "execution_count": null,
   "id": "0473864e",
   "metadata": {
    "ExecuteTime": {
     "end_time": "2021-12-12T14:22:00.862140Z",
     "start_time": "2021-12-12T14:22:00.857804Z"
    }
   },
   "outputs": [],
   "source": [
    "a, b = [1, 2, 3], [1, 2, 3]\n",
    "\n",
    "id(a) == id(b)"
   ]
  },
  {
   "cell_type": "code",
   "execution_count": 25,
   "id": "c75742d6-8d4a-46fd-96b0-bf449d23c143",
   "metadata": {},
   "outputs": [
    {
     "data": {
      "text/plain": [
       "True"
      ]
     },
     "execution_count": 25,
     "metadata": {},
     "output_type": "execute_result"
    }
   ],
   "source": [
    "a, b = 'whaat!', 'whaat!'\n",
    "\n",
    "id(a) == id(b)"
   ]
  },
  {
   "cell_type": "code",
   "execution_count": 29,
   "id": "0773cffd-2867-407c-9870-404340cff4c8",
   "metadata": {},
   "outputs": [
    {
     "data": {
      "text/plain": [
       "True"
      ]
     },
     "execution_count": 29,
     "metadata": {},
     "output_type": "execute_result"
    }
   ],
   "source": [
    "a = 'whaat'\n",
    "b = 'whaat'\n",
    "\n",
    "id(a) == id(b)"
   ]
  },
  {
   "cell_type": "code",
   "execution_count": 30,
   "id": "ba714f06-a85d-46c2-9906-1063481d3393",
   "metadata": {},
   "outputs": [
    {
     "data": {
      "text/plain": [
       "False"
      ]
     },
     "execution_count": 30,
     "metadata": {},
     "output_type": "execute_result"
    }
   ],
   "source": [
    "a = 'whaaat?!'\n",
    "b = 'whaaat?!'\n",
    "\n",
    "id(a) == id(b)"
   ]
  },
  {
   "cell_type": "code",
   "execution_count": 35,
   "id": "bc0af03b-5439-47c3-8f2b-79c23503888a",
   "metadata": {},
   "outputs": [
    {
     "data": {
      "text/plain": [
       "True"
      ]
     },
     "execution_count": 35,
     "metadata": {},
     "output_type": "execute_result"
    }
   ],
   "source": [
    "a = 'what_is_happening'\n",
    "\n",
    "b = 'what_' + 'is' + '_happening'\n",
    "\n",
    "a is b"
   ]
  },
  {
   "cell_type": "code",
   "execution_count": 36,
   "id": "2c34cd99-726b-4cb2-b358-4599e7d9a7f7",
   "metadata": {},
   "outputs": [
    {
     "data": {
      "text/plain": [
       "False"
      ]
     },
     "execution_count": 36,
     "metadata": {},
     "output_type": "execute_result"
    }
   ],
   "source": [
    "a = 'what is happening'\n",
    "\n",
    "b = 'what ' + 'is' + ' happening'\n",
    "\n",
    "a is b"
   ]
  },
  {
   "cell_type": "code",
   "execution_count": 37,
   "id": "85568399-bf2e-4601-bf39-c4ffd7878a43",
   "metadata": {},
   "outputs": [
    {
     "name": "stderr",
     "output_type": "stream",
     "text": [
      "<>:1: SyntaxWarning: \"is\" with a literal. Did you mean \"==\"?\n",
      "<>:1: SyntaxWarning: \"is\" with a literal. Did you mean \"==\"?\n",
      "/tmp/ipykernel_938624/3326505519.py:1: SyntaxWarning: \"is\" with a literal. Did you mean \"==\"?\n",
      "  'w' * 5 is 'wwwww'\n"
     ]
    },
    {
     "data": {
      "text/plain": [
       "True"
      ]
     },
     "execution_count": 37,
     "metadata": {},
     "output_type": "execute_result"
    }
   ],
   "source": [
    "'w' * 5 is 'wwwww'"
   ]
  },
  {
   "cell_type": "markdown",
   "id": "a05ee560",
   "metadata": {},
   "source": [
    "---\n",
    "credits: *[1](https://github.com/cosmologicon/pywat), [2](https://www.youtube.com/watch?v=Mhj8vqVUEhU), [3](https://github.com/satwikkansal/wtfpython/releases/)*"
   ]
  },
  {
   "cell_type": "code",
   "execution_count": null,
   "id": "ac0ea8bd-0fb1-4c00-be68-aba8ee01f6e9",
   "metadata": {},
   "outputs": [],
   "source": []
  }
 ],
 "metadata": {
  "kernelspec": {
   "display_name": "Python 3 (ipykernel)",
   "language": "python",
   "name": "python3"
  },
  "language_info": {
   "codemirror_mode": {
    "name": "ipython",
    "version": 3
   },
   "file_extension": ".py",
   "mimetype": "text/x-python",
   "name": "python",
   "nbconvert_exporter": "python",
   "pygments_lexer": "ipython3",
   "version": "3.9.7"
  },
  "toc": {
   "base_numbering": 1,
   "nav_menu": {},
   "number_sections": true,
   "sideBar": true,
   "skip_h1_title": false,
   "title_cell": "Table of Contents",
   "title_sidebar": "Contents",
   "toc_cell": false,
   "toc_position": {
    "height": "calc(100% - 180px)",
    "left": "10px",
    "top": "150px",
    "width": "278.4px"
   },
   "toc_section_display": true,
   "toc_window_display": true
  }
 },
 "nbformat": 4,
 "nbformat_minor": 5
}
