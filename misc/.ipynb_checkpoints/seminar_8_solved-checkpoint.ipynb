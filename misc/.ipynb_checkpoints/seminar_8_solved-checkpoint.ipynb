{
 "cells": [
  {
   "cell_type": "markdown",
   "metadata": {},
   "source": [
    "# Некоторые моменты по домашкам"
   ]
  },
  {
   "cell_type": "markdown",
   "metadata": {},
   "source": [
    "**Общие комментарии:**\n",
    "\n",
    "- Используйте, пожалуйста, форматтер. В jupyter можно поставить через nbextensions, в тоже должен быть\n",
    "- snake_case, please\n",
    "- **Думайте над сложностью вашего алгоритма по времени и по памяти!** Самое быстрое в написании решение не всегда самое эффективное. Помните о сложностях операций над разными структурами в Python. Ищите крайние случаи\n",
    "- Читайте условия внимательнее, там иногда полезные вещи пишут :)\n",
    "\n",
    "\n",
    "- Если есть желание разобрать задачку, пишите ассистенту или в чат. Можем это сделать либо в конце семинара, либо в виде консультации"
   ]
  },
  {
   "cell_type": "markdown",
   "metadata": {},
   "source": [
    "## **Найти максимальный отрицательный элемент, который не меньше -2000**"
   ]
  },
  {
   "cell_type": "code",
   "execution_count": 251,
   "metadata": {},
   "outputs": [],
   "source": [
    "a = [-1 , 5, 9, -20, -25, -50, 214124]"
   ]
  },
  {
   "cell_type": "code",
   "execution_count": 144,
   "metadata": {},
   "outputs": [],
   "source": [
    "curr_max_value = -2000\n",
    "\n",
    "for elem in a:\n",
    "    if elem < 0 and elem > curr_max_value:\n",
    "        curr_max_value = elem"
   ]
  },
  {
   "cell_type": "code",
   "execution_count": 145,
   "metadata": {},
   "outputs": [
    {
     "data": {
      "text/plain": [
       "-1"
      ]
     },
     "execution_count": 145,
     "metadata": {},
     "output_type": "execute_result"
    }
   ],
   "source": [
    "curr_max_value"
   ]
  },
  {
   "cell_type": "markdown",
   "metadata": {},
   "source": [
    "Не очень удачное решение с точки зрения потребления памяти + лишний проход за линию"
   ]
  },
  {
   "cell_type": "code",
   "execution_count": 146,
   "metadata": {},
   "outputs": [
    {
     "data": {
      "text/plain": [
       "-1"
      ]
     },
     "execution_count": 146,
     "metadata": {},
     "output_type": "execute_result"
    }
   ],
   "source": [
    "b = []\n",
    "\n",
    "for elem in a:\n",
    "    if elem < 0:\n",
    "        b.append(elem)\n",
    "\n",
    "max(b)"
   ]
  },
  {
   "cell_type": "markdown",
   "metadata": {},
   "source": [
    "Красиво, но тоже не самое оптимальное, т.к. кажется есть лишний проход за линию"
   ]
  },
  {
   "cell_type": "code",
   "execution_count": 147,
   "metadata": {},
   "outputs": [
    {
     "data": {
      "text/plain": [
       "-1"
      ]
     },
     "execution_count": 147,
     "metadata": {},
     "output_type": "execute_result"
    }
   ],
   "source": [
    "max(filter(lambda x: x < 0, a))"
   ]
  },
  {
   "cell_type": "markdown",
   "metadata": {},
   "source": [
    "## Список, в котором элементы упорядочены по неубыванию. Сколько в нем различных элементов?"
   ]
  },
  {
   "cell_type": "code",
   "execution_count": 201,
   "metadata": {},
   "outputs": [
    {
     "data": {
      "text/plain": [
       "1000000"
      ]
     },
     "execution_count": 201,
     "metadata": {},
     "output_type": "execute_result"
    }
   ],
   "source": [
    "len_a = 1000000\n",
    "a = [i for i in range(len_a)]\n",
    "len(a)"
   ]
  },
  {
   "cell_type": "code",
   "execution_count": 239,
   "metadata": {},
   "outputs": [],
   "source": [
    "import sys\n",
    "\n",
    "def get_size_in_mb(obj):\n",
    "    return f'{sys.getsizeof(obj) / (1024 * 1024):.2f} Mb'"
   ]
  },
  {
   "cell_type": "markdown",
   "metadata": {},
   "source": [
    "### Хранение истории в списке и взятие его длины"
   ]
  },
  {
   "cell_type": "code",
   "execution_count": 228,
   "metadata": {},
   "outputs": [],
   "source": [
    "len_a = 100000\n",
    "a = [i for i in range(len_a)]"
   ]
  },
  {
   "cell_type": "code",
   "execution_count": 229,
   "metadata": {},
   "outputs": [
    {
     "name": "stdout",
     "output_type": "stream",
     "text": [
      "CPU times: user 50.9 s, sys: 0 ns, total: 50.9 s\n",
      "Wall time: 50.9 s\n"
     ]
    },
    {
     "data": {
      "text/plain": [
       "100000"
      ]
     },
     "execution_count": 229,
     "metadata": {},
     "output_type": "execute_result"
    }
   ],
   "source": [
    "%%time\n",
    "\n",
    "b = []\n",
    "cnt = 0\n",
    "\n",
    "for elem in a:\n",
    "    if elem not in b:\n",
    "        b.append(elem)\n",
    "        \n",
    "len(b)"
   ]
  },
  {
   "cell_type": "markdown",
   "metadata": {},
   "source": [
    "`if elem not in b` -- проход за линию внутри линейного цикла => квадратичная сложность алгоритма от размера входных данных. Если у вас много разных элементов, будет оооочень долго выполняться + лишний оверхед по памяти"
   ]
  },
  {
   "cell_type": "markdown",
   "metadata": {},
   "source": [
    "С такой сложностью на большем количестве данных слишком долго ждать. Для сравнения со следующими примерами по памяти можно ориентироваться на значение:"
   ]
  },
  {
   "cell_type": "code",
   "execution_count": 242,
   "metadata": {},
   "outputs": [
    {
     "name": "stdout",
     "output_type": "stream",
     "text": [
      "8.29 Mb\n"
     ]
    }
   ],
   "source": [
    "len_a = 1000000\n",
    "a = [i for i in range(len_a)]\n",
    "\n",
    "print(get_size_in_mb(a))"
   ]
  },
  {
   "cell_type": "markdown",
   "metadata": {},
   "source": [
    "### Хранение истории в set и взятие его длины"
   ]
  },
  {
   "cell_type": "code",
   "execution_count": 243,
   "metadata": {},
   "outputs": [],
   "source": [
    "len_a = 1000000\n",
    "a = [i for i in range(len_a)]"
   ]
  },
  {
   "cell_type": "code",
   "execution_count": 244,
   "metadata": {},
   "outputs": [
    {
     "name": "stdout",
     "output_type": "stream",
     "text": [
      "CPU times: user 154 ms, sys: 12 ms, total: 166 ms\n",
      "Wall time: 164 ms\n"
     ]
    },
    {
     "data": {
      "text/plain": [
       "1000000"
      ]
     },
     "execution_count": 244,
     "metadata": {},
     "output_type": "execute_result"
    }
   ],
   "source": [
    "%%time\n",
    "\n",
    "b = set()\n",
    "cnt = 0\n",
    "\n",
    "for elem in a:\n",
    "    if elem not in b:\n",
    "        b.add(elem)\n",
    "        \n",
    "len(b)"
   ]
  },
  {
   "cell_type": "markdown",
   "metadata": {},
   "source": [
    "Сильно лучше по времени, но все еще оверхед по памяти"
   ]
  },
  {
   "cell_type": "code",
   "execution_count": 245,
   "metadata": {},
   "outputs": [
    {
     "name": "stdout",
     "output_type": "stream",
     "text": [
      "32.00 Mb\n"
     ]
    }
   ],
   "source": [
    "print(get_size_in_mb(b))"
   ]
  },
  {
   "cell_type": "markdown",
   "metadata": {},
   "source": [
    "### длина множества"
   ]
  },
  {
   "cell_type": "code",
   "execution_count": 246,
   "metadata": {},
   "outputs": [
    {
     "data": {
      "text/plain": [
       "1000000"
      ]
     },
     "execution_count": 246,
     "metadata": {},
     "output_type": "execute_result"
    }
   ],
   "source": [
    "len(set(a))"
   ]
  },
  {
   "cell_type": "code",
   "execution_count": 247,
   "metadata": {},
   "outputs": [
    {
     "name": "stdout",
     "output_type": "stream",
     "text": [
      "32.00 Mb\n"
     ]
    }
   ],
   "source": [
    "print(get_size_in_mb(set(a)))"
   ]
  },
  {
   "cell_type": "markdown",
   "metadata": {},
   "source": [
    "### Проход за линию"
   ]
  },
  {
   "cell_type": "code",
   "execution_count": 249,
   "metadata": {},
   "outputs": [
    {
     "name": "stdout",
     "output_type": "stream",
     "text": [
      "CPU times: user 159 ms, sys: 8 ms, total: 167 ms\n",
      "Wall time: 165 ms\n"
     ]
    },
    {
     "data": {
      "text/plain": [
       "1000000"
      ]
     },
     "execution_count": 249,
     "metadata": {},
     "output_type": "execute_result"
    }
   ],
   "source": [
    "%%time\n",
    "\n",
    "breaks = 0\n",
    "prev = None\n",
    "\n",
    "for elem in a:\n",
    "    if prev is None or elem != prev:\n",
    "        breaks += 1\n",
    "    prev = elem\n",
    "    \n",
    "breaks"
   ]
  },
  {
   "cell_type": "markdown",
   "metadata": {},
   "source": [
    "И без оверхеда по памяти"
   ]
  },
  {
   "cell_type": "markdown",
   "metadata": {},
   "source": [
    "    Конечно, на такой простой задаче все это может казаться немного излишним, но если вы будете работать с реальными большими данными, помнить о костах по памяти и времени нужно"
   ]
  },
  {
   "cell_type": "code",
   "execution_count": null,
   "metadata": {},
   "outputs": [],
   "source": []
  },
  {
   "cell_type": "markdown",
   "metadata": {},
   "source": [
    "# Наибольшее произведение двух чисел"
   ]
  },
  {
   "cell_type": "code",
   "execution_count": 1,
   "metadata": {},
   "outputs": [],
   "source": [
    "a = [-1, -3, -5, 8, 10, 15, -15, -14, 14]"
   ]
  },
  {
   "cell_type": "markdown",
   "metadata": {},
   "source": [
    "Найдите наибольше произведение двух чисел в переданном списке. Постарайтесь сделать эффективное решение"
   ]
  },
  {
   "cell_type": "markdown",
   "metadata": {},
   "source": [
    "Задача сводится к поиску двух наибольших положительных чисел или двух наименьших отрицательных чисел. Отдельный случай, когда в списке 2 элемента"
   ]
  },
  {
   "cell_type": "code",
   "execution_count": 20,
   "metadata": {},
   "outputs": [],
   "source": [
    "def find_max_product(a: list) -> list:\n",
    "    \n",
    "    def update_pos_values(cand_value: int, first_pos: int, second_pos: int):\n",
    "        if cand_value >= first_pos:\n",
    "            first_pos, second_pos = cand_value, first_pos\n",
    "        elif cand_value > second_pos:\n",
    "            second_pos = cand_value\n",
    "        \n",
    "        return first_pos, second_pos\n",
    "            \n",
    "    def update_neg_values(cand_value: int, first_neg: int, second_neg: int):\n",
    "        if cand_value <= first_neg:\n",
    "            first_neg, second_neg = cand_value, first_neg\n",
    "        elif cand_value < second_neg:\n",
    "            second_neg = cand_value\n",
    "        \n",
    "        return first_neg, second_neg\n",
    "    \n",
    "    if len(a) == 2:\n",
    "        return sorted(a)\n",
    "    \n",
    "    first_pos = -1\n",
    "    second_pos = -1\n",
    "    first_neg = 1\n",
    "    second_neg = 1\n",
    "    \n",
    "    for elem in a:\n",
    "        if elem >=0:\n",
    "            first_pos, second_pos = update_pos_values(elem, first_pos, second_pos)\n",
    "        else:\n",
    "            first_neg, second_neg = update_neg_values(elem, first_neg, second_neg)\n",
    "    \n",
    "    if first_pos * second_pos > first_neg * second_neg:\n",
    "        return [second_pos, first_pos]\n",
    "    else:\n",
    "        return [first_neg, second_neg]"
   ]
  },
  {
   "cell_type": "code",
   "execution_count": 21,
   "metadata": {},
   "outputs": [],
   "source": [
    "b = list(map(int, \"12288 -10075 29710 15686 -18900 -17715 15992 24431 6220 28403 -23148 18480 -22905 5411 -7602 15560 -26674 11109 -4323 6146 -1523 4312 10666 -15343 -17679 7284 20709 -7103 24305 14334 -12281 17314 26061 25616 17453 16618 -24230 -19788 21172 11339 2202 -22442 -20997 1879 -8773 -8736 5310 -23372 12621 -25596 -28609 -13309 -13 10336 15812 -21193 21576 -1897 -12311 -6988 -25143 -3501 23231 26610 12618 25834 -29140 21011 23427 1494 15215 23013 -15739 8325 5359 -12932 18111 -72 -12509 20116 24390 1920 17487 25536 24934 -6784 -16417 -2222 -16569 -25594 4491 14249 -28927 27281 3297 5998 6259 4577 12415 3779 -8856 3994 19941 11047 2866 -24443 -17299 -9556 12244 6376 -13694 -14647 -22225 21872 7543 -6935 17736 -2464 9390 1133 18202 -9733 -26011 13474 29793 -26628 -26124 27776 970 14277 -23213 775 -9318 29014 -5645 -27027 -21822 -17450 -5 -655 22807 -20981 16310 27605 -18393 914 7323 599 -12503 -28684 5835 -5627 25891 -11801 21243 -21506 22542 -5097 8115 178 10427 25808 10836 -11213 18488 21293 14652 12260 42 21034 8396 -27956 13670 -296 -757 18076 -15597 4135 -25222 -19603 8007 6012 2704 28935 16188 -20848 13502 -11950 -24466 5440 26348 27378 7990 -11523 -26393\".split()))"
   ]
  },
  {
   "cell_type": "code",
   "execution_count": 22,
   "metadata": {},
   "outputs": [
    {
     "data": {
      "text/plain": [
       "[29710, 29793]"
      ]
     },
     "execution_count": 22,
     "metadata": {},
     "output_type": "execute_result"
    }
   ],
   "source": [
    "find_max_product(b)"
   ]
  },
  {
   "cell_type": "code",
   "execution_count": 23,
   "metadata": {},
   "outputs": [
    {
     "data": {
      "text/plain": [
       "[-15, -14]"
      ]
     },
     "execution_count": 23,
     "metadata": {},
     "output_type": "execute_result"
    }
   ],
   "source": [
    "find_max_product(a)"
   ]
  },
  {
   "cell_type": "markdown",
   "metadata": {},
   "source": [
    "Что нужно изменить, чтобы переформулировать задачу на поиск наименьшего?"
   ]
  },
  {
   "cell_type": "markdown",
   "metadata": {},
   "source": [
    "# Разворот списка inplace"
   ]
  },
  {
   "cell_type": "markdown",
   "metadata": {},
   "source": [
    "Вам дан список с элементами. Разверните его, не создавая новый"
   ]
  },
  {
   "cell_type": "code",
   "execution_count": 60,
   "metadata": {},
   "outputs": [],
   "source": [
    "import copy\n",
    "\n",
    "for num in range(1000):\n",
    "    \n",
    "    a = list(range(num))\n",
    "    b = copy.copy(a)[::-1]\n",
    "    \n",
    "    for i in range(len(a) // 2):\n",
    "        a[i], a[len(a) - 1 - i] = a[len(a) - 1 - i], a[i]\n",
    "    \n",
    "    assert a == b"
   ]
  },
  {
   "cell_type": "code",
   "execution_count": 61,
   "metadata": {},
   "outputs": [],
   "source": [
    "def do_reverse(a: list):\n",
    "    for i in range(len(a) // 2):\n",
    "        a[i], a[len(a) - 1 - i] = a[len(a) - 1 - i], a[i]"
   ]
  },
  {
   "cell_type": "markdown",
   "metadata": {},
   "source": [
    "Пользуясь функцией выше, сделайте разворот строки по буквам, игнорируя спецсимволы"
   ]
  },
  {
   "cell_type": "code",
   "execution_count": 62,
   "metadata": {},
   "outputs": [],
   "source": [
    "str_example_one = 'Are we not pure? “No, sir!” Panama’s moody Noriega brags. “It is garbage!” Irony dooms a man—a prisoner up to new era.'"
   ]
  },
  {
   "cell_type": "code",
   "execution_count": 63,
   "metadata": {},
   "outputs": [],
   "source": [
    "clear_str = [elem.lower() for elem in str_example_one if elem.isalpha()]\n",
    "bkp_clear = copy.copy(clear_str)"
   ]
  },
  {
   "cell_type": "code",
   "execution_count": 64,
   "metadata": {},
   "outputs": [],
   "source": [
    "do_reverse(clear_str)"
   ]
  },
  {
   "cell_type": "code",
   "execution_count": 65,
   "metadata": {},
   "outputs": [
    {
     "data": {
      "text/plain": [
       "True"
      ]
     },
     "execution_count": 65,
     "metadata": {},
     "output_type": "execute_result"
    }
   ],
   "source": [
    "clear_str == bkp_clear"
   ]
  },
  {
   "cell_type": "markdown",
   "metadata": {},
   "source": [
    "И по словам (игнорируя спецсимволы)"
   ]
  },
  {
   "cell_type": "code",
   "execution_count": 66,
   "metadata": {},
   "outputs": [],
   "source": [
    "str_example_two = 'King, are you glad you are king?'"
   ]
  },
  {
   "cell_type": "code",
   "execution_count": 67,
   "metadata": {},
   "outputs": [],
   "source": [
    "def process_word(word: str):\n",
    "    return \"\".join([s.lower() for s in word if s.isalpha()])\n",
    "\n",
    "clear_str = [process_word(word) for word in str_example_two.split()]"
   ]
  },
  {
   "cell_type": "code",
   "execution_count": 68,
   "metadata": {},
   "outputs": [
    {
     "data": {
      "text/plain": [
       "['king', 'are', 'you', 'glad', 'you', 'are', 'king']"
      ]
     },
     "execution_count": 68,
     "metadata": {},
     "output_type": "execute_result"
    }
   ],
   "source": [
    "clear_str"
   ]
  },
  {
   "cell_type": "code",
   "execution_count": 69,
   "metadata": {},
   "outputs": [],
   "source": [
    "bkp_clear = copy.copy(clear_str)"
   ]
  },
  {
   "cell_type": "code",
   "execution_count": 70,
   "metadata": {},
   "outputs": [],
   "source": [
    "do_reverse(clear_str)"
   ]
  },
  {
   "cell_type": "code",
   "execution_count": 71,
   "metadata": {},
   "outputs": [
    {
     "data": {
      "text/plain": [
       "True"
      ]
     },
     "execution_count": 71,
     "metadata": {},
     "output_type": "execute_result"
    }
   ],
   "source": [
    "clear_str == bkp_clear"
   ]
  },
  {
   "cell_type": "markdown",
   "metadata": {},
   "source": [
    "# Сортировка inplace"
   ]
  },
  {
   "cell_type": "markdown",
   "metadata": {},
   "source": [
    "Реализуйте функцию сортировки и отсортируйте *inplace* передаваемый список. У функции должен быть опциональный параметр *reverse*, который означает, что нужно отсорировать по невозрастанию элементов. Постарайтесь сделать +- эффективно"
   ]
  },
  {
   "cell_type": "code",
   "execution_count": 85,
   "metadata": {},
   "outputs": [],
   "source": [
    "def sort_list(a: list, reverse: bool = False):\n",
    "    \n",
    "    multiplier = 1 if not reverse else -1\n",
    "    def diff_ok(val_one, val_two):\n",
    "        return multiplier * (val_two - val_one) >= 0\n",
    "    \n",
    "    \n",
    "    for i in range(len(a)):\n",
    "        curr_val = a[i]\n",
    "        j = i - 1\n",
    "        while j >= 0 and not diff_ok(a[j], curr_val):\n",
    "            a[j + 1] = a[j]\n",
    "            j -= 1\n",
    "            \n",
    "        a[j + 1] = curr_val"
   ]
  },
  {
   "cell_type": "code",
   "execution_count": 86,
   "metadata": {},
   "outputs": [],
   "source": [
    "a = [i for i in range(10)][::-1]"
   ]
  },
  {
   "cell_type": "code",
   "execution_count": 87,
   "metadata": {},
   "outputs": [],
   "source": [
    "sort_list(a)"
   ]
  },
  {
   "cell_type": "code",
   "execution_count": 88,
   "metadata": {},
   "outputs": [
    {
     "data": {
      "text/plain": [
       "[0, 1, 2, 3, 4, 5, 6, 7, 8, 9]"
      ]
     },
     "execution_count": 88,
     "metadata": {},
     "output_type": "execute_result"
    }
   ],
   "source": [
    "a"
   ]
  },
  {
   "cell_type": "code",
   "execution_count": 89,
   "metadata": {},
   "outputs": [],
   "source": [
    "b = [0, 4, -124, 24, -24, 54, 3]"
   ]
  },
  {
   "cell_type": "code",
   "execution_count": 90,
   "metadata": {},
   "outputs": [],
   "source": [
    "sort_list(b, reverse=True)"
   ]
  },
  {
   "cell_type": "code",
   "execution_count": 91,
   "metadata": {},
   "outputs": [
    {
     "data": {
      "text/plain": [
       "[54, 24, 4, 3, 0, -24, -124]"
      ]
     },
     "execution_count": 91,
     "metadata": {},
     "output_type": "execute_result"
    }
   ],
   "source": [
    "b"
   ]
  },
  {
   "cell_type": "markdown",
   "metadata": {},
   "source": [
    "# Найти элемент"
   ]
  },
  {
   "cell_type": "markdown",
   "metadata": {},
   "source": [
    "Дан список, найдите индекс заданного элемента в нем. Изменится ли ваше решение, если будет известно, что исходный список отсортирован?"
   ]
  },
  {
   "cell_type": "code",
   "execution_count": 92,
   "metadata": {},
   "outputs": [],
   "source": [
    "def find_index(a: list, elem):\n",
    "    if len(a) == 1 and a[0] != elem:\n",
    "        return -1\n",
    "    \n",
    "    middle_index = len(a) // 2\n",
    "    if a[middle_index] == elem:\n",
    "        return middle_index\n",
    "    elif elem > a[middle_index]:\n",
    "        return middle_index + find_index(a[middle_index:], elem)\n",
    "    else:\n",
    "        return find_index(a[:middle_index], elem)"
   ]
  },
  {
   "cell_type": "code",
   "execution_count": 93,
   "metadata": {},
   "outputs": [],
   "source": [
    "for num in range(100):\n",
    "    a = list(range(num))\n",
    "    for i, elem in enumerate(a, start=0):\n",
    "        assert find_index(a, elem) == i"
   ]
  },
  {
   "cell_type": "code",
   "execution_count": 21,
   "metadata": {},
   "outputs": [],
   "source": [
    "large_num = 5 * 10**7\n",
    "large_list = list(range(large_num))"
   ]
  },
  {
   "cell_type": "code",
   "execution_count": 26,
   "metadata": {},
   "outputs": [
    {
     "name": "stdout",
     "output_type": "stream",
     "text": [
      "623 ms ± 17.2 ms per loop (mean ± std. dev. of 7 runs, 20 loops each)\n"
     ]
    }
   ],
   "source": [
    "%%timeit -n 20\n",
    "large_list.index(large_num - 1)"
   ]
  },
  {
   "cell_type": "code",
   "execution_count": 27,
   "metadata": {},
   "outputs": [
    {
     "name": "stdout",
     "output_type": "stream",
     "text": [
      "524 ms ± 50.2 ms per loop (mean ± std. dev. of 7 runs, 20 loops each)\n"
     ]
    }
   ],
   "source": [
    "%%timeit -n 20\n",
    "find_index(large_list, large_num - 1)"
   ]
  },
  {
   "cell_type": "code",
   "execution_count": 28,
   "metadata": {},
   "outputs": [
    {
     "name": "stdout",
     "output_type": "stream",
     "text": [
      "557 ms ± 25.4 ms per loop (mean ± std. dev. of 7 runs, 20 loops each)\n"
     ]
    }
   ],
   "source": [
    "%%timeit -n 20\n",
    "\n",
    "-10 in large_list"
   ]
  },
  {
   "cell_type": "code",
   "execution_count": 29,
   "metadata": {},
   "outputs": [
    {
     "name": "stdout",
     "output_type": "stream",
     "text": [
      "427 ms ± 16.4 ms per loop (mean ± std. dev. of 7 runs, 20 loops each)\n"
     ]
    }
   ],
   "source": [
    "%%timeit -n 20\n",
    "\n",
    "find_index(large_list, -10)"
   ]
  },
  {
   "cell_type": "markdown",
   "metadata": {},
   "source": [
    "# Вывести все пары элементов с заданной суммой"
   ]
  },
  {
   "cell_type": "markdown",
   "metadata": {},
   "source": [
    "Вам дан произвольный список. Нужно вывести все уникальные пары чисел, сумма которых равна N"
   ]
  },
  {
   "cell_type": "code",
   "execution_count": 100,
   "metadata": {},
   "outputs": [],
   "source": [
    "def return_pairs(a: list, n: int):\n",
    "    a = sorted(a)\n",
    "    \n",
    "    i = 0\n",
    "    j = len(a) - 1\n",
    "    \n",
    "    good_pairs = set()\n",
    "    \n",
    "    while i < j:\n",
    "        while j > i:\n",
    "            if a[i] > n:\n",
    "                return good_pairs\n",
    "            if a[i] + a[j] > n:\n",
    "                j -= 1\n",
    "            elif a[i] + a[j] < n:\n",
    "                i += 1\n",
    "            else:\n",
    "                good_pairs.add((a[i], a[j]))\n",
    "                i += 1\n",
    "    \n",
    "    return good_pairs"
   ]
  },
  {
   "cell_type": "code",
   "execution_count": 101,
   "metadata": {},
   "outputs": [],
   "source": [
    "a = list(range(10))"
   ]
  },
  {
   "cell_type": "code",
   "execution_count": 102,
   "metadata": {},
   "outputs": [
    {
     "data": {
      "text/plain": [
       "{(0, 8), (1, 7), (2, 6), (3, 5)}"
      ]
     },
     "execution_count": 102,
     "metadata": {},
     "output_type": "execute_result"
    }
   ],
   "source": [
    "return_pairs(a, 8)"
   ]
  },
  {
   "cell_type": "code",
   "execution_count": 103,
   "metadata": {},
   "outputs": [],
   "source": [
    "b = [-1, 8, 15, 22, 2, 1, 89, 124, -6, -9, 16]"
   ]
  },
  {
   "cell_type": "code",
   "execution_count": 104,
   "metadata": {},
   "outputs": [
    {
     "data": {
      "text/plain": [
       "{(-6, 16), (2, 8)}"
      ]
     },
     "execution_count": 104,
     "metadata": {},
     "output_type": "execute_result"
    }
   ],
   "source": [
    "return_pairs(b, 10)"
   ]
  },
  {
   "cell_type": "code",
   "execution_count": 105,
   "metadata": {},
   "outputs": [
    {
     "data": {
      "text/plain": [
       "set()"
      ]
     },
     "execution_count": 105,
     "metadata": {},
     "output_type": "execute_result"
    }
   ],
   "source": [
    "return_pairs(b, -100)"
   ]
  },
  {
   "cell_type": "markdown",
   "metadata": {},
   "source": [
    "# *Крестики и нолики"
   ]
  },
  {
   "cell_type": "markdown",
   "metadata": {},
   "source": [
    "Дана последовательность символов X и O. Нужно сделать следующее:\n",
    "1. Выведите подпоследовательность наибольшей длины, в которой одинаковое количество крестиков и ноликов.\n",
    "\n",
    "Например, для последовательности `XOXXOOOOXOXOOOXX` это будет `OXOX`\n",
    "\n",
    "2. Скажите, есть ли в строке такая последовательность длины N?"
   ]
  },
  {
   "cell_type": "code",
   "execution_count": null,
   "metadata": {},
   "outputs": [],
   "source": []
  }
 ],
 "metadata": {
  "kernelspec": {
   "display_name": "Python 3 (ipykernel)",
   "language": "python",
   "name": "python3"
  },
  "language_info": {
   "codemirror_mode": {
    "name": "ipython",
    "version": 3
   },
   "file_extension": ".py",
   "mimetype": "text/x-python",
   "name": "python",
   "nbconvert_exporter": "python",
   "pygments_lexer": "ipython3",
   "version": "3.9.7"
  },
  "latex_envs": {
   "LaTeX_envs_menu_present": true,
   "autoclose": false,
   "autocomplete": true,
   "bibliofile": "biblio.bib",
   "cite_by": "apalike",
   "current_citInitial": 1,
   "eqLabelWithNumbers": true,
   "eqNumInitial": 1,
   "hotkeys": {
    "equation": "Ctrl-E",
    "itemize": "Ctrl-I"
   },
   "labels_anchors": false,
   "latex_user_defs": false,
   "report_style_numbering": false,
   "user_envs_cfg": false
  },
  "toc": {
   "base_numbering": 1,
   "nav_menu": {},
   "number_sections": true,
   "sideBar": true,
   "skip_h1_title": false,
   "title_cell": "Table of Contents",
   "title_sidebar": "Contents",
   "toc_cell": false,
   "toc_position": {},
   "toc_section_display": true,
   "toc_window_display": true
  }
 },
 "nbformat": 4,
 "nbformat_minor": 4
}
