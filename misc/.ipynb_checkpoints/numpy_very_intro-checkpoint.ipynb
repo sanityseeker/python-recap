{
 "cells": [
  {
   "cell_type": "markdown",
   "id": "faea8644",
   "metadata": {},
   "source": [
    "https://numpy.org/devdocs/dev/internals.html"
   ]
  },
  {
   "cell_type": "code",
   "execution_count": 103,
   "id": "14c8856b",
   "metadata": {
    "ExecuteTime": {
     "end_time": "2021-12-08T09:07:39.571415Z",
     "start_time": "2021-12-08T09:07:39.568131Z"
    }
   },
   "outputs": [],
   "source": [
    "import numpy as np\n",
    "from matplotlib import pyplot as plt"
   ]
  },
  {
   "cell_type": "markdown",
   "id": "ddfc7603",
   "metadata": {},
   "source": [
    "**Внутри numpy массива все объекты имеют один тип**"
   ]
  },
  {
   "cell_type": "code",
   "execution_count": 104,
   "id": "f779d8e8",
   "metadata": {
    "ExecuteTime": {
     "end_time": "2021-12-08T09:07:55.484526Z",
     "start_time": "2021-12-08T09:07:55.478839Z"
    }
   },
   "outputs": [
    {
     "data": {
      "text/plain": [
       "numpy.ndarray"
      ]
     },
     "execution_count": 104,
     "metadata": {},
     "output_type": "execute_result"
    }
   ],
   "source": [
    "a = np.array([1, 2])\n",
    "type(a)"
   ]
  },
  {
   "cell_type": "code",
   "execution_count": 105,
   "id": "c0018a23",
   "metadata": {
    "ExecuteTime": {
     "end_time": "2021-12-08T09:07:57.970906Z",
     "start_time": "2021-12-08T09:07:57.966307Z"
    }
   },
   "outputs": [
    {
     "data": {
      "text/plain": [
       "dtype('int64')"
      ]
     },
     "execution_count": 105,
     "metadata": {},
     "output_type": "execute_result"
    }
   ],
   "source": [
    "a.dtype"
   ]
  },
  {
   "cell_type": "code",
   "execution_count": 106,
   "id": "97057d93",
   "metadata": {
    "ExecuteTime": {
     "end_time": "2021-12-08T09:08:17.283510Z",
     "start_time": "2021-12-08T09:08:17.279304Z"
    }
   },
   "outputs": [
    {
     "data": {
      "text/plain": [
       "8"
      ]
     },
     "execution_count": 106,
     "metadata": {},
     "output_type": "execute_result"
    }
   ],
   "source": [
    "a.dtype.itemsize"
   ]
  },
  {
   "cell_type": "code",
   "execution_count": 107,
   "id": "42364725",
   "metadata": {
    "ExecuteTime": {
     "end_time": "2021-12-08T09:08:34.357630Z",
     "start_time": "2021-12-08T09:08:34.353830Z"
    }
   },
   "outputs": [],
   "source": [
    "a = np.array([1, '23'])"
   ]
  },
  {
   "cell_type": "code",
   "execution_count": 108,
   "id": "047eda29",
   "metadata": {
    "ExecuteTime": {
     "end_time": "2021-12-08T09:08:44.008628Z",
     "start_time": "2021-12-08T09:08:44.003190Z"
    }
   },
   "outputs": [
    {
     "data": {
      "text/plain": [
       "array(['1', '23'], dtype='<U21')"
      ]
     },
     "execution_count": 108,
     "metadata": {},
     "output_type": "execute_result"
    }
   ],
   "source": [
    "a"
   ]
  },
  {
   "cell_type": "code",
   "execution_count": 109,
   "id": "69f4388c",
   "metadata": {
    "ExecuteTime": {
     "end_time": "2021-12-08T09:09:00.813124Z",
     "start_time": "2021-12-08T09:09:00.808065Z"
    }
   },
   "outputs": [
    {
     "data": {
      "text/plain": [
       "dtype('<U21')"
      ]
     },
     "execution_count": 109,
     "metadata": {},
     "output_type": "execute_result"
    }
   ],
   "source": [
    "a.dtype"
   ]
  },
  {
   "cell_type": "code",
   "execution_count": 110,
   "id": "154cb23a",
   "metadata": {
    "ExecuteTime": {
     "end_time": "2021-12-08T09:09:13.496649Z",
     "start_time": "2021-12-08T09:09:13.491677Z"
    }
   },
   "outputs": [
    {
     "data": {
      "text/plain": [
       "84"
      ]
     },
     "execution_count": 110,
     "metadata": {},
     "output_type": "execute_result"
    }
   ],
   "source": [
    "a.dtype.itemsize"
   ]
  },
  {
   "cell_type": "code",
   "execution_count": 111,
   "id": "0f627e34",
   "metadata": {
    "ExecuteTime": {
     "end_time": "2021-12-08T09:09:46.007776Z",
     "start_time": "2021-12-08T09:09:46.003474Z"
    }
   },
   "outputs": [],
   "source": [
    "a = np.array(['1', '1111112'])"
   ]
  },
  {
   "cell_type": "code",
   "execution_count": 112,
   "id": "343de0b5",
   "metadata": {
    "ExecuteTime": {
     "end_time": "2021-12-08T09:10:12.146491Z",
     "start_time": "2021-12-08T09:10:12.141413Z"
    }
   },
   "outputs": [
    {
     "data": {
      "text/plain": [
       "dtype('<U7')"
      ]
     },
     "execution_count": 112,
     "metadata": {},
     "output_type": "execute_result"
    }
   ],
   "source": [
    "a.dtype"
   ]
  },
  {
   "cell_type": "code",
   "execution_count": 113,
   "id": "42677433",
   "metadata": {
    "ExecuteTime": {
     "end_time": "2021-12-08T09:10:29.844658Z",
     "start_time": "2021-12-08T09:10:29.840619Z"
    }
   },
   "outputs": [
    {
     "data": {
      "text/plain": [
       "28"
      ]
     },
     "execution_count": 113,
     "metadata": {},
     "output_type": "execute_result"
    }
   ],
   "source": [
    "a.dtype.itemsize"
   ]
  },
  {
   "cell_type": "code",
   "execution_count": 114,
   "id": "567d5517",
   "metadata": {
    "ExecuteTime": {
     "end_time": "2021-12-08T09:10:50.119135Z",
     "start_time": "2021-12-08T09:10:50.116014Z"
    }
   },
   "outputs": [],
   "source": [
    "a[0] = '11111111111111111'"
   ]
  },
  {
   "cell_type": "code",
   "execution_count": 115,
   "id": "0d4707c1",
   "metadata": {
    "ExecuteTime": {
     "end_time": "2021-12-08T09:10:54.244605Z",
     "start_time": "2021-12-08T09:10:54.239845Z"
    }
   },
   "outputs": [
    {
     "data": {
      "text/plain": [
       "dtype('<U7')"
      ]
     },
     "execution_count": 115,
     "metadata": {},
     "output_type": "execute_result"
    }
   ],
   "source": [
    "a.dtype"
   ]
  },
  {
   "cell_type": "code",
   "execution_count": 116,
   "id": "95f86cae",
   "metadata": {
    "ExecuteTime": {
     "end_time": "2021-12-08T09:10:58.470794Z",
     "start_time": "2021-12-08T09:10:58.466140Z"
    }
   },
   "outputs": [
    {
     "data": {
      "text/plain": [
       "array(['1111111', '1111112'], dtype='<U7')"
      ]
     },
     "execution_count": 116,
     "metadata": {},
     "output_type": "execute_result"
    }
   ],
   "source": [
    "a"
   ]
  },
  {
   "cell_type": "code",
   "execution_count": 117,
   "id": "d4b6020b",
   "metadata": {
    "ExecuteTime": {
     "end_time": "2021-12-08T09:12:34.555216Z",
     "start_time": "2021-12-08T09:12:34.551379Z"
    }
   },
   "outputs": [],
   "source": [
    "a = np.array(['1', '1111112'], dtype=str)"
   ]
  },
  {
   "cell_type": "code",
   "execution_count": 118,
   "id": "5437022c",
   "metadata": {
    "ExecuteTime": {
     "end_time": "2021-12-08T09:12:38.844839Z",
     "start_time": "2021-12-08T09:12:38.841050Z"
    }
   },
   "outputs": [
    {
     "data": {
      "text/plain": [
       "dtype('<U7')"
      ]
     },
     "execution_count": 118,
     "metadata": {},
     "output_type": "execute_result"
    }
   ],
   "source": [
    "a.dtype"
   ]
  },
  {
   "cell_type": "code",
   "execution_count": 119,
   "id": "64acb58a",
   "metadata": {
    "ExecuteTime": {
     "end_time": "2021-12-08T09:12:51.993003Z",
     "start_time": "2021-12-08T09:12:51.989099Z"
    }
   },
   "outputs": [
    {
     "data": {
      "text/plain": [
       "array(['1111111', '1111112'], dtype='<U7')"
      ]
     },
     "execution_count": 119,
     "metadata": {},
     "output_type": "execute_result"
    }
   ],
   "source": [
    "a[0] = '11111111111111111111111111111'\n",
    "a"
   ]
  },
  {
   "cell_type": "markdown",
   "id": "689d05ac",
   "metadata": {},
   "source": [
    "**Можно на лету менять форму массива**"
   ]
  },
  {
   "cell_type": "code",
   "execution_count": 120,
   "id": "11748d4e",
   "metadata": {
    "ExecuteTime": {
     "end_time": "2021-12-08T09:13:07.571052Z",
     "start_time": "2021-12-08T09:13:07.566563Z"
    }
   },
   "outputs": [
    {
     "data": {
      "text/plain": [
       "array([1, 2, 3])"
      ]
     },
     "execution_count": 120,
     "metadata": {},
     "output_type": "execute_result"
    }
   ],
   "source": [
    "a = np.array([1, 2, 3])\n",
    "a"
   ]
  },
  {
   "cell_type": "code",
   "execution_count": 122,
   "id": "63bd8947",
   "metadata": {
    "ExecuteTime": {
     "end_time": "2021-12-08T09:13:30.756570Z",
     "start_time": "2021-12-08T09:13:30.751350Z"
    }
   },
   "outputs": [
    {
     "data": {
      "text/plain": [
       "(3, (3,))"
      ]
     },
     "execution_count": 122,
     "metadata": {},
     "output_type": "execute_result"
    }
   ],
   "source": [
    "len(a), a.shape"
   ]
  },
  {
   "cell_type": "code",
   "execution_count": 123,
   "id": "65c7c0a3",
   "metadata": {
    "ExecuteTime": {
     "end_time": "2021-12-08T09:13:34.331574Z",
     "start_time": "2021-12-08T09:13:34.326709Z"
    }
   },
   "outputs": [
    {
     "data": {
      "text/plain": [
       "array([[1, 2, 3],\n",
       "       [1, 2, 5],\n",
       "       [1, 5, 8]])"
      ]
     },
     "execution_count": 123,
     "metadata": {},
     "output_type": "execute_result"
    }
   ],
   "source": [
    "a = np.array([[1, 2, 3], [1, 2, 5], [1, 5, 8]])\n",
    "a"
   ]
  },
  {
   "cell_type": "code",
   "execution_count": 124,
   "id": "9e5cc5ec",
   "metadata": {
    "ExecuteTime": {
     "end_time": "2021-12-08T09:13:35.255994Z",
     "start_time": "2021-12-08T09:13:35.251552Z"
    }
   },
   "outputs": [
    {
     "data": {
      "text/plain": [
       "(3, (3, 3))"
      ]
     },
     "execution_count": 124,
     "metadata": {},
     "output_type": "execute_result"
    }
   ],
   "source": [
    "len(a), a.shape"
   ]
  },
  {
   "cell_type": "code",
   "execution_count": 125,
   "id": "ef7265fd",
   "metadata": {
    "ExecuteTime": {
     "end_time": "2021-12-08T09:14:05.180362Z",
     "start_time": "2021-12-08T09:14:05.176715Z"
    }
   },
   "outputs": [
    {
     "data": {
      "text/plain": [
       "array([[1, 2, 3, 1, 2, 5, 1, 5, 8]])"
      ]
     },
     "execution_count": 125,
     "metadata": {},
     "output_type": "execute_result"
    }
   ],
   "source": [
    "a.reshape(1, 9)"
   ]
  },
  {
   "cell_type": "code",
   "execution_count": 126,
   "id": "c87f95ea",
   "metadata": {
    "ExecuteTime": {
     "end_time": "2021-12-08T09:14:23.007974Z",
     "start_time": "2021-12-08T09:14:23.003529Z"
    }
   },
   "outputs": [
    {
     "data": {
      "text/plain": [
       "array([[1, 2, 3, 1, 2, 5, 1, 5, 8]])"
      ]
     },
     "execution_count": 126,
     "metadata": {},
     "output_type": "execute_result"
    }
   ],
   "source": [
    "a.reshape(1, -1)"
   ]
  },
  {
   "cell_type": "code",
   "execution_count": 128,
   "id": "eb164bd4",
   "metadata": {
    "ExecuteTime": {
     "end_time": "2021-12-08T09:14:50.942663Z",
     "start_time": "2021-12-08T09:14:50.938191Z"
    }
   },
   "outputs": [
    {
     "data": {
      "text/plain": [
       "array([[1],\n",
       "       [2],\n",
       "       [3],\n",
       "       [1],\n",
       "       [2],\n",
       "       [5],\n",
       "       [1],\n",
       "       [5],\n",
       "       [8]])"
      ]
     },
     "execution_count": 128,
     "metadata": {},
     "output_type": "execute_result"
    }
   ],
   "source": [
    "a.reshape(9, -1)"
   ]
  },
  {
   "cell_type": "markdown",
   "id": "45c05e70",
   "metadata": {},
   "source": [
    "**Можно индексироваться исходя из формы массива**"
   ]
  },
  {
   "cell_type": "code",
   "execution_count": 129,
   "id": "c162402e",
   "metadata": {
    "ExecuteTime": {
     "end_time": "2021-12-08T09:15:03.281980Z",
     "start_time": "2021-12-08T09:15:03.276505Z"
    }
   },
   "outputs": [
    {
     "data": {
      "text/plain": [
       "array([[1, 2, 3],\n",
       "       [1, 2, 5],\n",
       "       [1, 5, 8],\n",
       "       [8, 8, 8]])"
      ]
     },
     "execution_count": 129,
     "metadata": {},
     "output_type": "execute_result"
    }
   ],
   "source": [
    "a = np.array([[1, 2, 3], [1, 2, 5], [1, 5, 8], [8, 8, 8]])\n",
    "a"
   ]
  },
  {
   "cell_type": "code",
   "execution_count": 130,
   "id": "7f512741",
   "metadata": {
    "ExecuteTime": {
     "end_time": "2021-12-08T09:15:08.195200Z",
     "start_time": "2021-12-08T09:15:08.189950Z"
    }
   },
   "outputs": [
    {
     "data": {
      "text/plain": [
       "(4, 3)"
      ]
     },
     "execution_count": 130,
     "metadata": {},
     "output_type": "execute_result"
    }
   ],
   "source": [
    "a.shape"
   ]
  },
  {
   "cell_type": "code",
   "execution_count": 131,
   "id": "8c959526",
   "metadata": {
    "ExecuteTime": {
     "end_time": "2021-12-08T09:15:14.767922Z",
     "start_time": "2021-12-08T09:15:14.763144Z"
    }
   },
   "outputs": [
    {
     "data": {
      "text/plain": [
       "array([1, 2, 3])"
      ]
     },
     "execution_count": 131,
     "metadata": {},
     "output_type": "execute_result"
    }
   ],
   "source": [
    "a[0]"
   ]
  },
  {
   "cell_type": "code",
   "execution_count": 137,
   "id": "7d69c361",
   "metadata": {
    "ExecuteTime": {
     "end_time": "2021-12-08T09:16:19.972256Z",
     "start_time": "2021-12-08T09:16:19.966364Z"
    }
   },
   "outputs": [
    {
     "data": {
      "text/plain": [
       "array([1, 1, 1, 8])"
      ]
     },
     "execution_count": 137,
     "metadata": {},
     "output_type": "execute_result"
    }
   ],
   "source": [
    "a[:, 0]"
   ]
  },
  {
   "cell_type": "code",
   "execution_count": 138,
   "id": "5012a063",
   "metadata": {
    "ExecuteTime": {
     "end_time": "2021-12-08T09:16:40.531123Z",
     "start_time": "2021-12-08T09:16:40.525921Z"
    }
   },
   "outputs": [
    {
     "data": {
      "text/plain": [
       "array([1, 1, 1, 8])"
      ]
     },
     "execution_count": 138,
     "metadata": {},
     "output_type": "execute_result"
    }
   ],
   "source": [
    "a[..., 0]"
   ]
  },
  {
   "cell_type": "markdown",
   "id": "e5524ea4",
   "metadata": {
    "ExecuteTime": {
     "end_time": "2021-12-08T02:12:22.875683Z",
     "start_time": "2021-12-08T02:12:22.872370Z"
    }
   },
   "source": [
    "**Массивы могут быть многомерными**"
   ]
  },
  {
   "cell_type": "code",
   "execution_count": 139,
   "id": "7599cc3f",
   "metadata": {
    "ExecuteTime": {
     "end_time": "2021-12-08T09:17:19.716967Z",
     "start_time": "2021-12-08T09:17:19.713431Z"
    }
   },
   "outputs": [],
   "source": [
    "a = np.random.rand(1, 1, 1, 5, 6)"
   ]
  },
  {
   "cell_type": "code",
   "execution_count": 140,
   "id": "f7dab50b",
   "metadata": {
    "ExecuteTime": {
     "end_time": "2021-12-08T09:17:20.093063Z",
     "start_time": "2021-12-08T09:17:20.087746Z"
    }
   },
   "outputs": [
    {
     "data": {
      "text/plain": [
       "(1, 1, 1, 5, 6)"
      ]
     },
     "execution_count": 140,
     "metadata": {},
     "output_type": "execute_result"
    }
   ],
   "source": [
    "a.shape"
   ]
  },
  {
   "cell_type": "markdown",
   "id": "09893020",
   "metadata": {},
   "source": [
    "**Некоторые способы создавать массивы**"
   ]
  },
  {
   "cell_type": "code",
   "execution_count": 143,
   "id": "fe0827bd",
   "metadata": {
    "ExecuteTime": {
     "end_time": "2021-12-08T09:18:14.054385Z",
     "start_time": "2021-12-08T09:18:14.050055Z"
    }
   },
   "outputs": [
    {
     "data": {
      "text/plain": [
       "array([[0, 0, 0, 0, 0, 0, 0, 0, 0, 0],\n",
       "       [0, 0, 0, 0, 0, 0, 0, 0, 0, 0],\n",
       "       [0, 0, 0, 0, 0, 0, 0, 0, 0, 0],\n",
       "       [0, 0, 0, 0, 0, 0, 0, 0, 0, 0],\n",
       "       [0, 0, 0, 0, 0, 0, 0, 0, 0, 0],\n",
       "       [0, 0, 0, 0, 0, 0, 0, 0, 0, 0],\n",
       "       [0, 0, 0, 0, 0, 0, 0, 0, 0, 0],\n",
       "       [0, 0, 0, 0, 0, 0, 0, 0, 0, 0],\n",
       "       [0, 0, 0, 0, 0, 0, 0, 0, 0, 0],\n",
       "       [0, 0, 0, 0, 0, 0, 0, 0, 0, 0]])"
      ]
     },
     "execution_count": 143,
     "metadata": {},
     "output_type": "execute_result"
    }
   ],
   "source": [
    "a = np.zeros((10, 10), dtype=int)\n",
    "a"
   ]
  },
  {
   "cell_type": "code",
   "execution_count": 144,
   "id": "ac3416d5",
   "metadata": {
    "ExecuteTime": {
     "end_time": "2021-12-08T09:18:14.990869Z",
     "start_time": "2021-12-08T09:18:14.987144Z"
    }
   },
   "outputs": [
    {
     "data": {
      "text/plain": [
       "dtype('int64')"
      ]
     },
     "execution_count": 144,
     "metadata": {},
     "output_type": "execute_result"
    }
   ],
   "source": [
    "a.dtype"
   ]
  },
  {
   "cell_type": "code",
   "execution_count": 145,
   "id": "8fa42d1f",
   "metadata": {
    "ExecuteTime": {
     "end_time": "2021-12-08T09:18:25.242149Z",
     "start_time": "2021-12-08T09:18:25.237043Z"
    }
   },
   "outputs": [],
   "source": [
    "a = np.ones((1, 10, 15), dtype=float)"
   ]
  },
  {
   "cell_type": "code",
   "execution_count": 146,
   "id": "fdcc85b4",
   "metadata": {
    "ExecuteTime": {
     "end_time": "2021-12-08T09:18:28.755807Z",
     "start_time": "2021-12-08T09:18:28.749872Z"
    }
   },
   "outputs": [
    {
     "data": {
      "text/plain": [
       "array([[[1., 1., 1., 1., 1., 1., 1., 1., 1., 1., 1., 1., 1., 1., 1.],\n",
       "        [1., 1., 1., 1., 1., 1., 1., 1., 1., 1., 1., 1., 1., 1., 1.],\n",
       "        [1., 1., 1., 1., 1., 1., 1., 1., 1., 1., 1., 1., 1., 1., 1.],\n",
       "        [1., 1., 1., 1., 1., 1., 1., 1., 1., 1., 1., 1., 1., 1., 1.],\n",
       "        [1., 1., 1., 1., 1., 1., 1., 1., 1., 1., 1., 1., 1., 1., 1.],\n",
       "        [1., 1., 1., 1., 1., 1., 1., 1., 1., 1., 1., 1., 1., 1., 1.],\n",
       "        [1., 1., 1., 1., 1., 1., 1., 1., 1., 1., 1., 1., 1., 1., 1.],\n",
       "        [1., 1., 1., 1., 1., 1., 1., 1., 1., 1., 1., 1., 1., 1., 1.],\n",
       "        [1., 1., 1., 1., 1., 1., 1., 1., 1., 1., 1., 1., 1., 1., 1.],\n",
       "        [1., 1., 1., 1., 1., 1., 1., 1., 1., 1., 1., 1., 1., 1., 1.]]])"
      ]
     },
     "execution_count": 146,
     "metadata": {},
     "output_type": "execute_result"
    }
   ],
   "source": [
    "a"
   ]
  },
  {
   "cell_type": "code",
   "execution_count": 147,
   "id": "02aa7069",
   "metadata": {
    "ExecuteTime": {
     "end_time": "2021-12-08T09:18:37.803195Z",
     "start_time": "2021-12-08T09:18:37.799256Z"
    }
   },
   "outputs": [
    {
     "data": {
      "text/plain": [
       "dtype('float64')"
      ]
     },
     "execution_count": 147,
     "metadata": {},
     "output_type": "execute_result"
    }
   ],
   "source": [
    "a.dtype"
   ]
  },
  {
   "cell_type": "code",
   "execution_count": 54,
   "id": "75c2dcc7",
   "metadata": {
    "ExecuteTime": {
     "end_time": "2021-12-08T02:16:32.273869Z",
     "start_time": "2021-12-08T02:16:32.270696Z"
    }
   },
   "outputs": [],
   "source": [
    "?np.arange"
   ]
  },
  {
   "cell_type": "code",
   "execution_count": 148,
   "id": "51a8adac",
   "metadata": {
    "ExecuteTime": {
     "end_time": "2021-12-08T09:18:55.077772Z",
     "start_time": "2021-12-08T09:18:55.074131Z"
    }
   },
   "outputs": [
    {
     "data": {
      "text/plain": [
       "array([0, 1, 2, 3, 4, 5, 6, 7, 8, 9])"
      ]
     },
     "execution_count": 148,
     "metadata": {},
     "output_type": "execute_result"
    }
   ],
   "source": [
    "a = np.arange(10)\n",
    "a"
   ]
  },
  {
   "cell_type": "code",
   "execution_count": 56,
   "id": "8af63d39",
   "metadata": {
    "ExecuteTime": {
     "end_time": "2021-12-08T02:16:45.509972Z",
     "start_time": "2021-12-08T02:16:45.470983Z"
    }
   },
   "outputs": [],
   "source": [
    "?np.linspace"
   ]
  },
  {
   "cell_type": "code",
   "execution_count": 149,
   "id": "634f6b1b",
   "metadata": {
    "ExecuteTime": {
     "end_time": "2021-12-08T09:19:26.267353Z",
     "start_time": "2021-12-08T09:19:26.263130Z"
    }
   },
   "outputs": [
    {
     "data": {
      "text/plain": [
       "array([  1.,  12.,  23.,  34.,  45.,  56.,  67.,  78.,  89., 100.])"
      ]
     },
     "execution_count": 149,
     "metadata": {},
     "output_type": "execute_result"
    }
   ],
   "source": [
    "a = np.linspace(1, 100, 10)\n",
    "a"
   ]
  },
  {
   "cell_type": "code",
   "execution_count": 150,
   "id": "6cba2fe1",
   "metadata": {
    "ExecuteTime": {
     "end_time": "2021-12-08T09:19:34.414822Z",
     "start_time": "2021-12-08T09:19:34.315155Z"
    }
   },
   "outputs": [
    {
     "data": {
      "text/plain": [
       "[<matplotlib.lines.Line2D at 0x7f5246c63370>]"
      ]
     },
     "execution_count": 150,
     "metadata": {},
     "output_type": "execute_result"
    },
    {
     "data": {
      "image/png": "[encoded data removed]",
      "text/plain": [
       "<Figure size 432x288 with 1 Axes>"
      ]
     },
     "metadata": {
      "needs_background": "light"
     },
     "output_type": "display_data"
    }
   ],
   "source": [
    "plt.plot(a)"
   ]
  },
  {
   "cell_type": "code",
   "execution_count": 151,
   "id": "b64a12cd",
   "metadata": {
    "ExecuteTime": {
     "end_time": "2021-12-08T09:19:52.055408Z",
     "start_time": "2021-12-08T09:19:52.049738Z"
    }
   },
   "outputs": [
    {
     "data": {
      "text/plain": [
       "array([1.00000000e+005, 3.59381366e+015, 1.29154967e+026, 4.64158883e+036,\n",
       "       1.66810054e+047, 5.99484250e+057, 2.15443469e+068, 7.74263683e+078,\n",
       "       2.78255940e+089, 1.00000000e+100])"
      ]
     },
     "execution_count": 151,
     "metadata": {},
     "output_type": "execute_result"
    }
   ],
   "source": [
    "a = np.logspace(5, 100, 10)\n",
    "a"
   ]
  },
  {
   "cell_type": "code",
   "execution_count": 152,
   "id": "b2185bff",
   "metadata": {
    "ExecuteTime": {
     "end_time": "2021-12-08T09:19:53.292140Z",
     "start_time": "2021-12-08T09:19:53.174197Z"
    }
   },
   "outputs": [
    {
     "data": {
      "text/plain": [
       "[<matplotlib.lines.Line2D at 0x7f5246c2ed30>]"
      ]
     },
     "execution_count": 152,
     "metadata": {},
     "output_type": "execute_result"
    },
    {
     "data": {
      "image/png": "[encoded data removed]",
      "text/plain": [
       "<Figure size 432x288 with 1 Axes>"
      ]
     },
     "metadata": {
      "needs_background": "light"
     },
     "output_type": "display_data"
    }
   ],
   "source": [
    "plt.plot(a)"
   ]
  },
  {
   "cell_type": "markdown",
   "id": "0a781b4e",
   "metadata": {},
   "source": [
    "**Базовые операции**"
   ]
  },
  {
   "cell_type": "code",
   "execution_count": 153,
   "id": "e5ef4c8f",
   "metadata": {
    "ExecuteTime": {
     "end_time": "2021-12-08T09:20:06.861669Z",
     "start_time": "2021-12-08T09:20:06.848900Z"
    }
   },
   "outputs": [],
   "source": [
    "a = np.random.randint(0, 10, size=(3, 4))"
   ]
  },
  {
   "cell_type": "code",
   "execution_count": 155,
   "id": "5a019956",
   "metadata": {
    "ExecuteTime": {
     "end_time": "2021-12-08T09:20:26.177552Z",
     "start_time": "2021-12-08T09:20:26.173479Z"
    }
   },
   "outputs": [
    {
     "data": {
      "text/plain": [
       "array([[1, 4, 7, 3],\n",
       "       [1, 8, 2, 0],\n",
       "       [6, 6, 4, 0]])"
      ]
     },
     "execution_count": 155,
     "metadata": {},
     "output_type": "execute_result"
    }
   ],
   "source": [
    "a"
   ]
  },
  {
   "cell_type": "code",
   "execution_count": 156,
   "id": "087e26b9",
   "metadata": {
    "ExecuteTime": {
     "end_time": "2021-12-08T09:20:34.828238Z",
     "start_time": "2021-12-08T09:20:34.823509Z"
    }
   },
   "outputs": [
    {
     "data": {
      "text/plain": [
       "array([[101, 104, 107, 103],\n",
       "       [101, 108, 102, 100],\n",
       "       [106, 106, 104, 100]])"
      ]
     },
     "execution_count": 156,
     "metadata": {},
     "output_type": "execute_result"
    }
   ],
   "source": [
    "a + 100"
   ]
  },
  {
   "cell_type": "code",
   "execution_count": 157,
   "id": "0c991edb",
   "metadata": {
    "ExecuteTime": {
     "end_time": "2021-12-08T09:20:52.166405Z",
     "start_time": "2021-12-08T09:20:52.161158Z"
    }
   },
   "outputs": [
    {
     "data": {
      "text/plain": [
       "array([[0.01, 0.04, 0.07, 0.03],\n",
       "       [0.01, 0.08, 0.02, 0.  ],\n",
       "       [0.06, 0.06, 0.04, 0.  ]])"
      ]
     },
     "execution_count": 157,
     "metadata": {},
     "output_type": "execute_result"
    }
   ],
   "source": [
    "a / 100"
   ]
  },
  {
   "cell_type": "code",
   "execution_count": 158,
   "id": "8c796ec7",
   "metadata": {
    "ExecuteTime": {
     "end_time": "2021-12-08T09:20:57.828909Z",
     "start_time": "2021-12-08T09:20:57.824662Z"
    }
   },
   "outputs": [
    {
     "data": {
      "text/plain": [
       "array([[100, 400, 700, 300],\n",
       "       [100, 800, 200,   0],\n",
       "       [600, 600, 400,   0]])"
      ]
     },
     "execution_count": 158,
     "metadata": {},
     "output_type": "execute_result"
    }
   ],
   "source": [
    "a * 100"
   ]
  },
  {
   "cell_type": "code",
   "execution_count": 159,
   "id": "a3775061",
   "metadata": {
    "ExecuteTime": {
     "end_time": "2021-12-08T09:21:00.065078Z",
     "start_time": "2021-12-08T09:21:00.061409Z"
    }
   },
   "outputs": [
    {
     "data": {
      "text/plain": [
       "array([[ 1, 16, 49,  9],\n",
       "       [ 1, 64,  4,  0],\n",
       "       [36, 36, 16,  0]])"
      ]
     },
     "execution_count": 159,
     "metadata": {},
     "output_type": "execute_result"
    }
   ],
   "source": [
    "a ** 2"
   ]
  },
  {
   "cell_type": "code",
   "execution_count": 161,
   "id": "db4e2063",
   "metadata": {
    "ExecuteTime": {
     "end_time": "2021-12-08T09:21:14.729789Z",
     "start_time": "2021-12-08T09:21:14.723831Z"
    }
   },
   "outputs": [
    {
     "data": {
      "text/plain": [
       "array([[ 1, 16, 49,  9],\n",
       "       [ 1, 64,  4,  0],\n",
       "       [36, 36, 16,  0]])"
      ]
     },
     "execution_count": 161,
     "metadata": {},
     "output_type": "execute_result"
    }
   ],
   "source": [
    "a * a"
   ]
  },
  {
   "cell_type": "code",
   "execution_count": 164,
   "id": "252d063b",
   "metadata": {
    "ExecuteTime": {
     "end_time": "2021-12-08T09:21:33.241512Z",
     "start_time": "2021-12-08T09:21:33.236520Z"
    }
   },
   "outputs": [
    {
     "data": {
      "text/plain": [
       "(3, 4)"
      ]
     },
     "execution_count": 164,
     "metadata": {},
     "output_type": "execute_result"
    }
   ],
   "source": [
    "a.shape"
   ]
  },
  {
   "cell_type": "code",
   "execution_count": 165,
   "id": "6cfba25c",
   "metadata": {
    "ExecuteTime": {
     "end_time": "2021-12-08T09:21:35.914534Z",
     "start_time": "2021-12-08T09:21:35.910888Z"
    }
   },
   "outputs": [
    {
     "data": {
      "text/plain": [
       "array([[1, 1, 6],\n",
       "       [4, 8, 6],\n",
       "       [7, 2, 4],\n",
       "       [3, 0, 0]])"
      ]
     },
     "execution_count": 165,
     "metadata": {},
     "output_type": "execute_result"
    }
   ],
   "source": [
    "a.T"
   ]
  },
  {
   "cell_type": "code",
   "execution_count": 166,
   "id": "19162aaf",
   "metadata": {
    "ExecuteTime": {
     "end_time": "2021-12-08T09:21:40.066558Z",
     "start_time": "2021-12-08T09:21:40.062242Z"
    }
   },
   "outputs": [
    {
     "data": {
      "text/plain": [
       "(4, 3)"
      ]
     },
     "execution_count": 166,
     "metadata": {},
     "output_type": "execute_result"
    }
   ],
   "source": [
    "a.T.shape"
   ]
  },
  {
   "cell_type": "code",
   "execution_count": 167,
   "id": "ada5a385",
   "metadata": {
    "ExecuteTime": {
     "end_time": "2021-12-08T09:21:52.816371Z",
     "start_time": "2021-12-08T09:21:52.812438Z"
    }
   },
   "outputs": [
    {
     "data": {
      "text/plain": [
       "array([[75, 47, 58],\n",
       "       [47, 69, 62],\n",
       "       [58, 62, 88]])"
      ]
     },
     "execution_count": 167,
     "metadata": {},
     "output_type": "execute_result"
    }
   ],
   "source": [
    "a @ a.T"
   ]
  },
  {
   "cell_type": "code",
   "execution_count": 169,
   "id": "a5f2f79d",
   "metadata": {
    "ExecuteTime": {
     "end_time": "2021-12-08T09:22:40.076856Z",
     "start_time": "2021-12-08T09:22:40.072610Z"
    }
   },
   "outputs": [
    {
     "data": {
      "text/plain": [
       "array([[1, 4, 7, 3],\n",
       "       [1, 8, 2, 0],\n",
       "       [6, 6, 4, 0]])"
      ]
     },
     "execution_count": 169,
     "metadata": {},
     "output_type": "execute_result"
    }
   ],
   "source": [
    "a"
   ]
  },
  {
   "cell_type": "code",
   "execution_count": 173,
   "id": "aa812dd8",
   "metadata": {
    "ExecuteTime": {
     "end_time": "2021-12-08T09:23:52.465404Z",
     "start_time": "2021-12-08T09:23:52.460967Z"
    }
   },
   "outputs": [
    {
     "data": {
      "text/plain": [
       "0"
      ]
     },
     "execution_count": 173,
     "metadata": {},
     "output_type": "execute_result"
    }
   ],
   "source": [
    "np.min(a)"
   ]
  },
  {
   "cell_type": "code",
   "execution_count": 168,
   "id": "f76a00ea",
   "metadata": {
    "ExecuteTime": {
     "end_time": "2021-12-08T09:22:06.445230Z",
     "start_time": "2021-12-08T09:22:06.437175Z"
    }
   },
   "outputs": [
    {
     "name": "stdout",
     "output_type": "stream",
     "text": [
      "0\n",
      "8\n",
      "[[0.69314718 1.60943791 2.07944154 1.38629436]\n",
      " [0.69314718 2.19722458 1.09861229 0.        ]\n",
      " [1.94591015 1.94591015 1.60943791 0.        ]]\n",
      "2.661453237111885\n",
      "7.083333333333333\n",
      "[[ 0.84147098 -0.7568025   0.6569866   0.14112001]\n",
      " [ 0.84147098  0.98935825  0.90929743  0.        ]\n",
      " [-0.2794155  -0.2794155  -0.7568025   0.        ]]\n",
      "[[ 0.54030231 -0.65364362  0.75390225 -0.9899925 ]\n",
      " [ 0.54030231 -0.14550003 -0.41614684  1.        ]\n",
      " [ 0.96017029  0.96017029 -0.65364362  1.        ]]\n",
      "7\n",
      "5\n"
     ]
    }
   ],
   "source": [
    "print(np.min(a))\n",
    "print(np.max(a))\n",
    "print(np.log(a + 1))\n",
    "print(np.std(a))\n",
    "print(np.var(a))\n",
    "print(np.sin(a))\n",
    "print(np.cos(a))\n",
    "print(np.argmin(a))\n",
    "print(np.argmax(a))\n",
    "# и прочие"
   ]
  },
  {
   "cell_type": "code",
   "execution_count": 174,
   "id": "f3dd6d2f",
   "metadata": {
    "ExecuteTime": {
     "end_time": "2021-12-08T09:24:02.902583Z",
     "start_time": "2021-12-08T09:24:02.897597Z"
    }
   },
   "outputs": [
    {
     "data": {
      "text/plain": [
       "array([0, 1, 2, 3, 4, 5, 6, 7, 8, 9])"
      ]
     },
     "execution_count": 174,
     "metadata": {},
     "output_type": "execute_result"
    }
   ],
   "source": [
    "a = np.arange(10)\n",
    "a"
   ]
  },
  {
   "cell_type": "code",
   "execution_count": 175,
   "id": "dde8f2f8",
   "metadata": {
    "ExecuteTime": {
     "end_time": "2021-12-08T09:24:06.863199Z",
     "start_time": "2021-12-08T09:24:06.860036Z"
    }
   },
   "outputs": [
    {
     "data": {
      "text/plain": [
       "285"
      ]
     },
     "execution_count": 175,
     "metadata": {},
     "output_type": "execute_result"
    }
   ],
   "source": [
    "a @ a"
   ]
  },
  {
   "cell_type": "code",
   "execution_count": 122,
   "id": "fc42bf3e",
   "metadata": {
    "ExecuteTime": {
     "end_time": "2021-12-08T02:25:43.884334Z",
     "start_time": "2021-12-08T02:25:43.879823Z"
    }
   },
   "outputs": [
    {
     "data": {
      "text/plain": [
       "array([[ 0,  0,  0,  0,  0,  0,  0,  0,  0,  0],\n",
       "       [ 0,  1,  2,  3,  4,  5,  6,  7,  8,  9],\n",
       "       [ 0,  2,  4,  6,  8, 10, 12, 14, 16, 18],\n",
       "       [ 0,  3,  6,  9, 12, 15, 18, 21, 24, 27],\n",
       "       [ 0,  4,  8, 12, 16, 20, 24, 28, 32, 36],\n",
       "       [ 0,  5, 10, 15, 20, 25, 30, 35, 40, 45],\n",
       "       [ 0,  6, 12, 18, 24, 30, 36, 42, 48, 54],\n",
       "       [ 0,  7, 14, 21, 28, 35, 42, 49, 56, 63],\n",
       "       [ 0,  8, 16, 24, 32, 40, 48, 56, 64, 72],\n",
       "       [ 0,  9, 18, 27, 36, 45, 54, 63, 72, 81]])"
      ]
     },
     "execution_count": 122,
     "metadata": {},
     "output_type": "execute_result"
    }
   ],
   "source": [
    "np.outer(a, a)"
   ]
  },
  {
   "cell_type": "markdown",
   "id": "729f3ba6",
   "metadata": {},
   "source": [
    "**Индексация**"
   ]
  },
  {
   "cell_type": "code",
   "execution_count": 176,
   "id": "99a68ff8",
   "metadata": {
    "ExecuteTime": {
     "end_time": "2021-12-08T09:24:39.975070Z",
     "start_time": "2021-12-08T09:24:39.972115Z"
    }
   },
   "outputs": [],
   "source": [
    "a = np.random.randint(0, 100, size=(3, 3, 8))"
   ]
  },
  {
   "cell_type": "code",
   "execution_count": 177,
   "id": "3ae51373",
   "metadata": {
    "ExecuteTime": {
     "end_time": "2021-12-08T09:24:48.217038Z",
     "start_time": "2021-12-08T09:24:48.213166Z"
    }
   },
   "outputs": [
    {
     "data": {
      "text/plain": [
       "array([[[61, 36, 22, 14, 37, 76, 80, 33],\n",
       "        [93,  4, 31, 96, 64, 20, 93, 57],\n",
       "        [11,  6, 94, 25, 74, 78, 51, 55]],\n",
       "\n",
       "       [[93,  1, 98, 12, 75,  5, 67, 84],\n",
       "        [72, 44,  6, 86, 81, 10, 67, 49],\n",
       "        [52, 77, 92, 31, 82, 65,  0, 86]],\n",
       "\n",
       "       [[ 6, 53, 82, 22, 10, 45, 65, 22],\n",
       "        [95, 79, 45, 95, 95, 60, 66, 60],\n",
       "        [98, 19, 19, 30, 40, 98, 14, 39]]])"
      ]
     },
     "execution_count": 177,
     "metadata": {},
     "output_type": "execute_result"
    }
   ],
   "source": [
    "a"
   ]
  },
  {
   "cell_type": "code",
   "execution_count": 179,
   "id": "6620a781",
   "metadata": {
    "ExecuteTime": {
     "end_time": "2021-12-08T09:25:07.365930Z",
     "start_time": "2021-12-08T09:25:07.360006Z"
    }
   },
   "outputs": [
    {
     "data": {
      "text/plain": [
       "array([[[61, 36, 22],\n",
       "        [93,  4, 31],\n",
       "        [11,  6, 94]],\n",
       "\n",
       "       [[93,  1, 98],\n",
       "        [72, 44,  6],\n",
       "        [52, 77, 92]],\n",
       "\n",
       "       [[ 6, 53, 82],\n",
       "        [95, 79, 45],\n",
       "        [98, 19, 19]]])"
      ]
     },
     "execution_count": 179,
     "metadata": {},
     "output_type": "execute_result"
    }
   ],
   "source": [
    "a[:,:,:3]"
   ]
  },
  {
   "cell_type": "code",
   "execution_count": 181,
   "id": "b05335f9",
   "metadata": {
    "ExecuteTime": {
     "end_time": "2021-12-08T09:25:19.376352Z",
     "start_time": "2021-12-08T09:25:19.372085Z"
    }
   },
   "outputs": [
    {
     "data": {
      "text/plain": [
       "array([[[61, 36, 22],\n",
       "        [93,  4, 31],\n",
       "        [11,  6, 94]],\n",
       "\n",
       "       [[93,  1, 98],\n",
       "        [72, 44,  6],\n",
       "        [52, 77, 92]],\n",
       "\n",
       "       [[ 6, 53, 82],\n",
       "        [95, 79, 45],\n",
       "        [98, 19, 19]]])"
      ]
     },
     "execution_count": 181,
     "metadata": {},
     "output_type": "execute_result"
    }
   ],
   "source": [
    "a[..., :3]"
   ]
  },
  {
   "cell_type": "code",
   "execution_count": 183,
   "id": "1722d3e3",
   "metadata": {
    "ExecuteTime": {
     "end_time": "2021-12-08T09:25:58.677212Z",
     "start_time": "2021-12-08T09:25:58.671667Z"
    }
   },
   "outputs": [
    {
     "data": {
      "text/plain": [
       "array([[[93,  4, 31, 96, 64, 20, 93, 57],\n",
       "        [11,  6, 94, 25, 74, 78, 51, 55]],\n",
       "\n",
       "       [[72, 44,  6, 86, 81, 10, 67, 49],\n",
       "        [52, 77, 92, 31, 82, 65,  0, 86]],\n",
       "\n",
       "       [[95, 79, 45, 95, 95, 60, 66, 60],\n",
       "        [98, 19, 19, 30, 40, 98, 14, 39]]])"
      ]
     },
     "execution_count": 183,
     "metadata": {},
     "output_type": "execute_result"
    }
   ],
   "source": [
    "a[:,1:3,:]"
   ]
  },
  {
   "cell_type": "code",
   "execution_count": 185,
   "id": "00181e5c",
   "metadata": {
    "ExecuteTime": {
     "end_time": "2021-12-08T09:26:12.666056Z",
     "start_time": "2021-12-08T09:26:12.659059Z"
    }
   },
   "outputs": [
    {
     "data": {
      "text/plain": [
       "array([[[36, 14, 76, 33],\n",
       "        [ 4, 96, 20, 57],\n",
       "        [ 6, 25, 78, 55]],\n",
       "\n",
       "       [[ 1, 12,  5, 84],\n",
       "        [44, 86, 10, 49],\n",
       "        [77, 31, 65, 86]],\n",
       "\n",
       "       [[53, 22, 45, 22],\n",
       "        [79, 95, 60, 60],\n",
       "        [19, 30, 98, 39]]])"
      ]
     },
     "execution_count": 185,
     "metadata": {},
     "output_type": "execute_result"
    }
   ],
   "source": [
    "a[..., 1:10:2]"
   ]
  },
  {
   "cell_type": "markdown",
   "id": "c023c7dd",
   "metadata": {},
   "source": [
    "Для каждого измерения можно указать слайс"
   ]
  },
  {
   "cell_type": "markdown",
   "id": "70fcde56",
   "metadata": {},
   "source": [
    "**Операции векторизованы и выполняются быстро**"
   ]
  },
  {
   "cell_type": "code",
   "execution_count": 187,
   "id": "39a17c8a",
   "metadata": {
    "ExecuteTime": {
     "end_time": "2021-12-08T09:27:08.599883Z",
     "start_time": "2021-12-08T09:27:08.596926Z"
    }
   },
   "outputs": [],
   "source": [
    "a = np.arange(100000)"
   ]
  },
  {
   "cell_type": "code",
   "execution_count": 188,
   "id": "9f7718b0",
   "metadata": {
    "ExecuteTime": {
     "end_time": "2021-12-08T09:27:08.902365Z",
     "start_time": "2021-12-08T09:27:08.897540Z"
    }
   },
   "outputs": [
    {
     "name": "stdout",
     "output_type": "stream",
     "text": [
      "CPU times: user 407 µs, sys: 137 µs, total: 544 µs\n",
      "Wall time: 232 µs\n"
     ]
    },
    {
     "data": {
      "text/plain": [
       "array([      0,     100,     200, ..., 9999700, 9999800, 9999900])"
      ]
     },
     "execution_count": 188,
     "metadata": {},
     "output_type": "execute_result"
    }
   ],
   "source": [
    "%%time\n",
    "a *= 100\n",
    "a"
   ]
  },
  {
   "cell_type": "code",
   "execution_count": 189,
   "id": "4497d0e2",
   "metadata": {
    "ExecuteTime": {
     "end_time": "2021-12-08T09:27:16.786591Z",
     "start_time": "2021-12-08T09:27:16.760200Z"
    }
   },
   "outputs": [
    {
     "name": "stdout",
     "output_type": "stream",
     "text": [
      "CPU times: user 6.76 ms, sys: 9.15 ms, total: 15.9 ms\n",
      "Wall time: 15 ms\n"
     ]
    },
    {
     "data": {
      "text/plain": [
       "[0,\n",
       " 10000,\n",
       " 20000,\n",
       " 30000,\n",
       " 40000,\n",
       " 50000,\n",
       " 60000,\n",
       " 70000,\n",
       " 80000,\n",
       " 90000,\n",
       " 100000,\n",
       " 110000,\n",
       " 120000,\n",
       " 130000,\n",
       " 140000,\n",
       " 150000,\n",
       " 160000,\n",
       " 170000,\n",
       " 180000,\n",
       " 190000,\n",
       " 200000,\n",
       " 210000,\n",
       " 220000,\n",
       " 230000,\n",
       " 240000,\n",
       " 250000,\n",
       " 260000,\n",
       " 270000,\n",
       " 280000,\n",
       " 290000,\n",
       " 300000,\n",
       " 310000,\n",
       " 320000,\n",
       " 330000,\n",
       " 340000,\n",
       " 350000,\n",
       " 360000,\n",
       " 370000,\n",
       " 380000,\n",
       " 390000,\n",
       " 400000,\n",
       " 410000,\n",
       " 420000,\n",
       " 430000,\n",
       " 440000,\n",
       " 450000,\n",
       " 460000,\n",
       " 470000,\n",
       " 480000,\n",
       " 490000,\n",
       " 500000,\n",
       " 510000,\n",
       " 520000,\n",
       " 530000,\n",
       " 540000,\n",
       " 550000,\n",
       " 560000,\n",
       " 570000,\n",
       " 580000,\n",
       " 590000,\n",
       " 600000,\n",
       " 610000,\n",
       " 620000,\n",
       " 630000,\n",
       " 640000,\n",
       " 650000,\n",
       " 660000,\n",
       " 670000,\n",
       " 680000,\n",
       " 690000,\n",
       " 700000,\n",
       " 710000,\n",
       " 720000,\n",
       " 730000,\n",
       " 740000,\n",
       " 750000,\n",
       " 760000,\n",
       " 770000,\n",
       " 780000,\n",
       " 790000,\n",
       " 800000,\n",
       " 810000,\n",
       " 820000,\n",
       " 830000,\n",
       " 840000,\n",
       " 850000,\n",
       " 860000,\n",
       " 870000,\n",
       " 880000,\n",
       " 890000,\n",
       " 900000,\n",
       " 910000,\n",
       " 920000,\n",
       " 930000,\n",
       " 940000,\n",
       " 950000,\n",
       " 960000,\n",
       " 970000,\n",
       " 980000,\n",
       " 990000,\n",
       " 1000000,\n",
       " 1010000,\n",
       " 1020000,\n",
       " 1030000,\n",
       " 1040000,\n",
       " 1050000,\n",
       " 1060000,\n",
       " 1070000,\n",
       " 1080000,\n",
       " 1090000,\n",
       " 1100000,\n",
       " 1110000,\n",
       " 1120000,\n",
       " 1130000,\n",
       " 1140000,\n",
       " 1150000,\n",
       " 1160000,\n",
       " 1170000,\n",
       " 1180000,\n",
       " 1190000,\n",
       " 1200000,\n",
       " 1210000,\n",
       " 1220000,\n",
       " 1230000,\n",
       " 1240000,\n",
       " 1250000,\n",
       " 1260000,\n",
       " 1270000,\n",
       " 1280000,\n",
       " 1290000,\n",
       " 1300000,\n",
       " 1310000,\n",
       " 1320000,\n",
       " 1330000,\n",
       " 1340000,\n",
       " 1350000,\n",
       " 1360000,\n",
       " 1370000,\n",
       " 1380000,\n",
       " 1390000,\n",
       " 1400000,\n",
       " 1410000,\n",
       " 1420000,\n",
       " 1430000,\n",
       " 1440000,\n",
       " 1450000,\n",
       " 1460000,\n",
       " 1470000,\n",
       " 1480000,\n",
       " 1490000,\n",
       " 1500000,\n",
       " 1510000,\n",
       " 1520000,\n",
       " 1530000,\n",
       " 1540000,\n",
       " 1550000,\n",
       " 1560000,\n",
       " 1570000,\n",
       " 1580000,\n",
       " 1590000,\n",
       " 1600000,\n",
       " 1610000,\n",
       " 1620000,\n",
       " 1630000,\n",
       " 1640000,\n",
       " 1650000,\n",
       " 1660000,\n",
       " 1670000,\n",
       " 1680000,\n",
       " 1690000,\n",
       " 1700000,\n",
       " 1710000,\n",
       " 1720000,\n",
       " 1730000,\n",
       " 1740000,\n",
       " 1750000,\n",
       " 1760000,\n",
       " 1770000,\n",
       " 1780000,\n",
       " 1790000,\n",
       " 1800000,\n",
       " 1810000,\n",
       " 1820000,\n",
       " 1830000,\n",
       " 1840000,\n",
       " 1850000,\n",
       " 1860000,\n",
       " 1870000,\n",
       " 1880000,\n",
       " 1890000,\n",
       " 1900000,\n",
       " 1910000,\n",
       " 1920000,\n",
       " 1930000,\n",
       " 1940000,\n",
       " 1950000,\n",
       " 1960000,\n",
       " 1970000,\n",
       " 1980000,\n",
       " 1990000,\n",
       " 2000000,\n",
       " 2010000,\n",
       " 2020000,\n",
       " 2030000,\n",
       " 2040000,\n",
       " 2050000,\n",
       " 2060000,\n",
       " 2070000,\n",
       " 2080000,\n",
       " 2090000,\n",
       " 2100000,\n",
       " 2110000,\n",
       " 2120000,\n",
       " 2130000,\n",
       " 2140000,\n",
       " 2150000,\n",
       " 2160000,\n",
       " 2170000,\n",
       " 2180000,\n",
       " 2190000,\n",
       " 2200000,\n",
       " 2210000,\n",
       " 2220000,\n",
       " 2230000,\n",
       " 2240000,\n",
       " 2250000,\n",
       " 2260000,\n",
       " 2270000,\n",
       " 2280000,\n",
       " 2290000,\n",
       " 2300000,\n",
       " 2310000,\n",
       " 2320000,\n",
       " 2330000,\n",
       " 2340000,\n",
       " 2350000,\n",
       " 2360000,\n",
       " 2370000,\n",
       " 2380000,\n",
       " 2390000,\n",
       " 2400000,\n",
       " 2410000,\n",
       " 2420000,\n",
       " 2430000,\n",
       " 2440000,\n",
       " 2450000,\n",
       " 2460000,\n",
       " 2470000,\n",
       " 2480000,\n",
       " 2490000,\n",
       " 2500000,\n",
       " 2510000,\n",
       " 2520000,\n",
       " 2530000,\n",
       " 2540000,\n",
       " 2550000,\n",
       " 2560000,\n",
       " 2570000,\n",
       " 2580000,\n",
       " 2590000,\n",
       " 2600000,\n",
       " 2610000,\n",
       " 2620000,\n",
       " 2630000,\n",
       " 2640000,\n",
       " 2650000,\n",
       " 2660000,\n",
       " 2670000,\n",
       " 2680000,\n",
       " 2690000,\n",
       " 2700000,\n",
       " 2710000,\n",
       " 2720000,\n",
       " 2730000,\n",
       " 2740000,\n",
       " 2750000,\n",
       " 2760000,\n",
       " 2770000,\n",
       " 2780000,\n",
       " 2790000,\n",
       " 2800000,\n",
       " 2810000,\n",
       " 2820000,\n",
       " 2830000,\n",
       " 2840000,\n",
       " 2850000,\n",
       " 2860000,\n",
       " 2870000,\n",
       " 2880000,\n",
       " 2890000,\n",
       " 2900000,\n",
       " 2910000,\n",
       " 2920000,\n",
       " 2930000,\n",
       " 2940000,\n",
       " 2950000,\n",
       " 2960000,\n",
       " 2970000,\n",
       " 2980000,\n",
       " 2990000,\n",
       " 3000000,\n",
       " 3010000,\n",
       " 3020000,\n",
       " 3030000,\n",
       " 3040000,\n",
       " 3050000,\n",
       " 3060000,\n",
       " 3070000,\n",
       " 3080000,\n",
       " 3090000,\n",
       " 3100000,\n",
       " 3110000,\n",
       " 3120000,\n",
       " 3130000,\n",
       " 3140000,\n",
       " 3150000,\n",
       " 3160000,\n",
       " 3170000,\n",
       " 3180000,\n",
       " 3190000,\n",
       " 3200000,\n",
       " 3210000,\n",
       " 3220000,\n",
       " 3230000,\n",
       " 3240000,\n",
       " 3250000,\n",
       " 3260000,\n",
       " 3270000,\n",
       " 3280000,\n",
       " 3290000,\n",
       " 3300000,\n",
       " 3310000,\n",
       " 3320000,\n",
       " 3330000,\n",
       " 3340000,\n",
       " 3350000,\n",
       " 3360000,\n",
       " 3370000,\n",
       " 3380000,\n",
       " 3390000,\n",
       " 3400000,\n",
       " 3410000,\n",
       " 3420000,\n",
       " 3430000,\n",
       " 3440000,\n",
       " 3450000,\n",
       " 3460000,\n",
       " 3470000,\n",
       " 3480000,\n",
       " 3490000,\n",
       " 3500000,\n",
       " 3510000,\n",
       " 3520000,\n",
       " 3530000,\n",
       " 3540000,\n",
       " 3550000,\n",
       " 3560000,\n",
       " 3570000,\n",
       " 3580000,\n",
       " 3590000,\n",
       " 3600000,\n",
       " 3610000,\n",
       " 3620000,\n",
       " 3630000,\n",
       " 3640000,\n",
       " 3650000,\n",
       " 3660000,\n",
       " 3670000,\n",
       " 3680000,\n",
       " 3690000,\n",
       " 3700000,\n",
       " 3710000,\n",
       " 3720000,\n",
       " 3730000,\n",
       " 3740000,\n",
       " 3750000,\n",
       " 3760000,\n",
       " 3770000,\n",
       " 3780000,\n",
       " 3790000,\n",
       " 3800000,\n",
       " 3810000,\n",
       " 3820000,\n",
       " 3830000,\n",
       " 3840000,\n",
       " 3850000,\n",
       " 3860000,\n",
       " 3870000,\n",
       " 3880000,\n",
       " 3890000,\n",
       " 3900000,\n",
       " 3910000,\n",
       " 3920000,\n",
       " 3930000,\n",
       " 3940000,\n",
       " 3950000,\n",
       " 3960000,\n",
       " 3970000,\n",
       " 3980000,\n",
       " 3990000,\n",
       " 4000000,\n",
       " 4010000,\n",
       " 4020000,\n",
       " 4030000,\n",
       " 4040000,\n",
       " 4050000,\n",
       " 4060000,\n",
       " 4070000,\n",
       " 4080000,\n",
       " 4090000,\n",
       " 4100000,\n",
       " 4110000,\n",
       " 4120000,\n",
       " 4130000,\n",
       " 4140000,\n",
       " 4150000,\n",
       " 4160000,\n",
       " 4170000,\n",
       " 4180000,\n",
       " 4190000,\n",
       " 4200000,\n",
       " 4210000,\n",
       " 4220000,\n",
       " 4230000,\n",
       " 4240000,\n",
       " 4250000,\n",
       " 4260000,\n",
       " 4270000,\n",
       " 4280000,\n",
       " 4290000,\n",
       " 4300000,\n",
       " 4310000,\n",
       " 4320000,\n",
       " 4330000,\n",
       " 4340000,\n",
       " 4350000,\n",
       " 4360000,\n",
       " 4370000,\n",
       " 4380000,\n",
       " 4390000,\n",
       " 4400000,\n",
       " 4410000,\n",
       " 4420000,\n",
       " 4430000,\n",
       " 4440000,\n",
       " 4450000,\n",
       " 4460000,\n",
       " 4470000,\n",
       " 4480000,\n",
       " 4490000,\n",
       " 4500000,\n",
       " 4510000,\n",
       " 4520000,\n",
       " 4530000,\n",
       " 4540000,\n",
       " 4550000,\n",
       " 4560000,\n",
       " 4570000,\n",
       " 4580000,\n",
       " 4590000,\n",
       " 4600000,\n",
       " 4610000,\n",
       " 4620000,\n",
       " 4630000,\n",
       " 4640000,\n",
       " 4650000,\n",
       " 4660000,\n",
       " 4670000,\n",
       " 4680000,\n",
       " 4690000,\n",
       " 4700000,\n",
       " 4710000,\n",
       " 4720000,\n",
       " 4730000,\n",
       " 4740000,\n",
       " 4750000,\n",
       " 4760000,\n",
       " 4770000,\n",
       " 4780000,\n",
       " 4790000,\n",
       " 4800000,\n",
       " 4810000,\n",
       " 4820000,\n",
       " 4830000,\n",
       " 4840000,\n",
       " 4850000,\n",
       " 4860000,\n",
       " 4870000,\n",
       " 4880000,\n",
       " 4890000,\n",
       " 4900000,\n",
       " 4910000,\n",
       " 4920000,\n",
       " 4930000,\n",
       " 4940000,\n",
       " 4950000,\n",
       " 4960000,\n",
       " 4970000,\n",
       " 4980000,\n",
       " 4990000,\n",
       " 5000000,\n",
       " 5010000,\n",
       " 5020000,\n",
       " 5030000,\n",
       " 5040000,\n",
       " 5050000,\n",
       " 5060000,\n",
       " 5070000,\n",
       " 5080000,\n",
       " 5090000,\n",
       " 5100000,\n",
       " 5110000,\n",
       " 5120000,\n",
       " 5130000,\n",
       " 5140000,\n",
       " 5150000,\n",
       " 5160000,\n",
       " 5170000,\n",
       " 5180000,\n",
       " 5190000,\n",
       " 5200000,\n",
       " 5210000,\n",
       " 5220000,\n",
       " 5230000,\n",
       " 5240000,\n",
       " 5250000,\n",
       " 5260000,\n",
       " 5270000,\n",
       " 5280000,\n",
       " 5290000,\n",
       " 5300000,\n",
       " 5310000,\n",
       " 5320000,\n",
       " 5330000,\n",
       " 5340000,\n",
       " 5350000,\n",
       " 5360000,\n",
       " 5370000,\n",
       " 5380000,\n",
       " 5390000,\n",
       " 5400000,\n",
       " 5410000,\n",
       " 5420000,\n",
       " 5430000,\n",
       " 5440000,\n",
       " 5450000,\n",
       " 5460000,\n",
       " 5470000,\n",
       " 5480000,\n",
       " 5490000,\n",
       " 5500000,\n",
       " 5510000,\n",
       " 5520000,\n",
       " 5530000,\n",
       " 5540000,\n",
       " 5550000,\n",
       " 5560000,\n",
       " 5570000,\n",
       " 5580000,\n",
       " 5590000,\n",
       " 5600000,\n",
       " 5610000,\n",
       " 5620000,\n",
       " 5630000,\n",
       " 5640000,\n",
       " 5650000,\n",
       " 5660000,\n",
       " 5670000,\n",
       " 5680000,\n",
       " 5690000,\n",
       " 5700000,\n",
       " 5710000,\n",
       " 5720000,\n",
       " 5730000,\n",
       " 5740000,\n",
       " 5750000,\n",
       " 5760000,\n",
       " 5770000,\n",
       " 5780000,\n",
       " 5790000,\n",
       " 5800000,\n",
       " 5810000,\n",
       " 5820000,\n",
       " 5830000,\n",
       " 5840000,\n",
       " 5850000,\n",
       " 5860000,\n",
       " 5870000,\n",
       " 5880000,\n",
       " 5890000,\n",
       " 5900000,\n",
       " 5910000,\n",
       " 5920000,\n",
       " 5930000,\n",
       " 5940000,\n",
       " 5950000,\n",
       " 5960000,\n",
       " 5970000,\n",
       " 5980000,\n",
       " 5990000,\n",
       " 6000000,\n",
       " 6010000,\n",
       " 6020000,\n",
       " 6030000,\n",
       " 6040000,\n",
       " 6050000,\n",
       " 6060000,\n",
       " 6070000,\n",
       " 6080000,\n",
       " 6090000,\n",
       " 6100000,\n",
       " 6110000,\n",
       " 6120000,\n",
       " 6130000,\n",
       " 6140000,\n",
       " 6150000,\n",
       " 6160000,\n",
       " 6170000,\n",
       " 6180000,\n",
       " 6190000,\n",
       " 6200000,\n",
       " 6210000,\n",
       " 6220000,\n",
       " 6230000,\n",
       " 6240000,\n",
       " 6250000,\n",
       " 6260000,\n",
       " 6270000,\n",
       " 6280000,\n",
       " 6290000,\n",
       " 6300000,\n",
       " 6310000,\n",
       " 6320000,\n",
       " 6330000,\n",
       " 6340000,\n",
       " 6350000,\n",
       " 6360000,\n",
       " 6370000,\n",
       " 6380000,\n",
       " 6390000,\n",
       " 6400000,\n",
       " 6410000,\n",
       " 6420000,\n",
       " 6430000,\n",
       " 6440000,\n",
       " 6450000,\n",
       " 6460000,\n",
       " 6470000,\n",
       " 6480000,\n",
       " 6490000,\n",
       " 6500000,\n",
       " 6510000,\n",
       " 6520000,\n",
       " 6530000,\n",
       " 6540000,\n",
       " 6550000,\n",
       " 6560000,\n",
       " 6570000,\n",
       " 6580000,\n",
       " 6590000,\n",
       " 6600000,\n",
       " 6610000,\n",
       " 6620000,\n",
       " 6630000,\n",
       " 6640000,\n",
       " 6650000,\n",
       " 6660000,\n",
       " 6670000,\n",
       " 6680000,\n",
       " 6690000,\n",
       " 6700000,\n",
       " 6710000,\n",
       " 6720000,\n",
       " 6730000,\n",
       " 6740000,\n",
       " 6750000,\n",
       " 6760000,\n",
       " 6770000,\n",
       " 6780000,\n",
       " 6790000,\n",
       " 6800000,\n",
       " 6810000,\n",
       " 6820000,\n",
       " 6830000,\n",
       " 6840000,\n",
       " 6850000,\n",
       " 6860000,\n",
       " 6870000,\n",
       " 6880000,\n",
       " 6890000,\n",
       " 6900000,\n",
       " 6910000,\n",
       " 6920000,\n",
       " 6930000,\n",
       " 6940000,\n",
       " 6950000,\n",
       " 6960000,\n",
       " 6970000,\n",
       " 6980000,\n",
       " 6990000,\n",
       " 7000000,\n",
       " 7010000,\n",
       " 7020000,\n",
       " 7030000,\n",
       " 7040000,\n",
       " 7050000,\n",
       " 7060000,\n",
       " 7070000,\n",
       " 7080000,\n",
       " 7090000,\n",
       " 7100000,\n",
       " 7110000,\n",
       " 7120000,\n",
       " 7130000,\n",
       " 7140000,\n",
       " 7150000,\n",
       " 7160000,\n",
       " 7170000,\n",
       " 7180000,\n",
       " 7190000,\n",
       " 7200000,\n",
       " 7210000,\n",
       " 7220000,\n",
       " 7230000,\n",
       " 7240000,\n",
       " 7250000,\n",
       " 7260000,\n",
       " 7270000,\n",
       " 7280000,\n",
       " 7290000,\n",
       " 7300000,\n",
       " 7310000,\n",
       " 7320000,\n",
       " 7330000,\n",
       " 7340000,\n",
       " 7350000,\n",
       " 7360000,\n",
       " 7370000,\n",
       " 7380000,\n",
       " 7390000,\n",
       " 7400000,\n",
       " 7410000,\n",
       " 7420000,\n",
       " 7430000,\n",
       " 7440000,\n",
       " 7450000,\n",
       " 7460000,\n",
       " 7470000,\n",
       " 7480000,\n",
       " 7490000,\n",
       " 7500000,\n",
       " 7510000,\n",
       " 7520000,\n",
       " 7530000,\n",
       " 7540000,\n",
       " 7550000,\n",
       " 7560000,\n",
       " 7570000,\n",
       " 7580000,\n",
       " 7590000,\n",
       " 7600000,\n",
       " 7610000,\n",
       " 7620000,\n",
       " 7630000,\n",
       " 7640000,\n",
       " 7650000,\n",
       " 7660000,\n",
       " 7670000,\n",
       " 7680000,\n",
       " 7690000,\n",
       " 7700000,\n",
       " 7710000,\n",
       " 7720000,\n",
       " 7730000,\n",
       " 7740000,\n",
       " 7750000,\n",
       " 7760000,\n",
       " 7770000,\n",
       " 7780000,\n",
       " 7790000,\n",
       " 7800000,\n",
       " 7810000,\n",
       " 7820000,\n",
       " 7830000,\n",
       " 7840000,\n",
       " 7850000,\n",
       " 7860000,\n",
       " 7870000,\n",
       " 7880000,\n",
       " 7890000,\n",
       " 7900000,\n",
       " 7910000,\n",
       " 7920000,\n",
       " 7930000,\n",
       " 7940000,\n",
       " 7950000,\n",
       " 7960000,\n",
       " 7970000,\n",
       " 7980000,\n",
       " 7990000,\n",
       " 8000000,\n",
       " 8010000,\n",
       " 8020000,\n",
       " 8030000,\n",
       " 8040000,\n",
       " 8050000,\n",
       " 8060000,\n",
       " 8070000,\n",
       " 8080000,\n",
       " 8090000,\n",
       " 8100000,\n",
       " 8110000,\n",
       " 8120000,\n",
       " 8130000,\n",
       " 8140000,\n",
       " 8150000,\n",
       " 8160000,\n",
       " 8170000,\n",
       " 8180000,\n",
       " 8190000,\n",
       " 8200000,\n",
       " 8210000,\n",
       " 8220000,\n",
       " 8230000,\n",
       " 8240000,\n",
       " 8250000,\n",
       " 8260000,\n",
       " 8270000,\n",
       " 8280000,\n",
       " 8290000,\n",
       " 8300000,\n",
       " 8310000,\n",
       " 8320000,\n",
       " 8330000,\n",
       " 8340000,\n",
       " 8350000,\n",
       " 8360000,\n",
       " 8370000,\n",
       " 8380000,\n",
       " 8390000,\n",
       " 8400000,\n",
       " 8410000,\n",
       " 8420000,\n",
       " 8430000,\n",
       " 8440000,\n",
       " 8450000,\n",
       " 8460000,\n",
       " 8470000,\n",
       " 8480000,\n",
       " 8490000,\n",
       " 8500000,\n",
       " 8510000,\n",
       " 8520000,\n",
       " 8530000,\n",
       " 8540000,\n",
       " 8550000,\n",
       " 8560000,\n",
       " 8570000,\n",
       " 8580000,\n",
       " 8590000,\n",
       " 8600000,\n",
       " 8610000,\n",
       " 8620000,\n",
       " 8630000,\n",
       " 8640000,\n",
       " 8650000,\n",
       " 8660000,\n",
       " 8670000,\n",
       " 8680000,\n",
       " 8690000,\n",
       " 8700000,\n",
       " 8710000,\n",
       " 8720000,\n",
       " 8730000,\n",
       " 8740000,\n",
       " 8750000,\n",
       " 8760000,\n",
       " 8770000,\n",
       " 8780000,\n",
       " 8790000,\n",
       " 8800000,\n",
       " 8810000,\n",
       " 8820000,\n",
       " 8830000,\n",
       " 8840000,\n",
       " 8850000,\n",
       " 8860000,\n",
       " 8870000,\n",
       " 8880000,\n",
       " 8890000,\n",
       " 8900000,\n",
       " 8910000,\n",
       " 8920000,\n",
       " 8930000,\n",
       " 8940000,\n",
       " 8950000,\n",
       " 8960000,\n",
       " 8970000,\n",
       " 8980000,\n",
       " 8990000,\n",
       " 9000000,\n",
       " 9010000,\n",
       " 9020000,\n",
       " 9030000,\n",
       " 9040000,\n",
       " 9050000,\n",
       " 9060000,\n",
       " 9070000,\n",
       " 9080000,\n",
       " 9090000,\n",
       " 9100000,\n",
       " 9110000,\n",
       " 9120000,\n",
       " 9130000,\n",
       " 9140000,\n",
       " 9150000,\n",
       " 9160000,\n",
       " 9170000,\n",
       " 9180000,\n",
       " 9190000,\n",
       " 9200000,\n",
       " 9210000,\n",
       " 9220000,\n",
       " 9230000,\n",
       " 9240000,\n",
       " 9250000,\n",
       " 9260000,\n",
       " 9270000,\n",
       " 9280000,\n",
       " 9290000,\n",
       " 9300000,\n",
       " 9310000,\n",
       " 9320000,\n",
       " 9330000,\n",
       " 9340000,\n",
       " 9350000,\n",
       " 9360000,\n",
       " 9370000,\n",
       " 9380000,\n",
       " 9390000,\n",
       " 9400000,\n",
       " 9410000,\n",
       " 9420000,\n",
       " 9430000,\n",
       " 9440000,\n",
       " 9450000,\n",
       " 9460000,\n",
       " 9470000,\n",
       " 9480000,\n",
       " 9490000,\n",
       " 9500000,\n",
       " 9510000,\n",
       " 9520000,\n",
       " 9530000,\n",
       " 9540000,\n",
       " 9550000,\n",
       " 9560000,\n",
       " 9570000,\n",
       " 9580000,\n",
       " 9590000,\n",
       " 9600000,\n",
       " 9610000,\n",
       " 9620000,\n",
       " 9630000,\n",
       " 9640000,\n",
       " 9650000,\n",
       " 9660000,\n",
       " 9670000,\n",
       " 9680000,\n",
       " 9690000,\n",
       " 9700000,\n",
       " 9710000,\n",
       " 9720000,\n",
       " 9730000,\n",
       " 9740000,\n",
       " 9750000,\n",
       " 9760000,\n",
       " 9770000,\n",
       " 9780000,\n",
       " 9790000,\n",
       " 9800000,\n",
       " 9810000,\n",
       " 9820000,\n",
       " 9830000,\n",
       " 9840000,\n",
       " 9850000,\n",
       " 9860000,\n",
       " 9870000,\n",
       " 9880000,\n",
       " 9890000,\n",
       " 9900000,\n",
       " 9910000,\n",
       " 9920000,\n",
       " 9930000,\n",
       " 9940000,\n",
       " 9950000,\n",
       " 9960000,\n",
       " 9970000,\n",
       " 9980000,\n",
       " 9990000,\n",
       " ...]"
      ]
     },
     "execution_count": 189,
     "metadata": {},
     "output_type": "execute_result"
    }
   ],
   "source": [
    "%%time\n",
    "[elem * 100 for elem in a]"
   ]
  },
  {
   "cell_type": "markdown",
   "id": "38166fdd",
   "metadata": {},
   "source": [
    "Можно оперировать булевыми масками"
   ]
  },
  {
   "cell_type": "code",
   "execution_count": 191,
   "id": "f6e35442",
   "metadata": {
    "ExecuteTime": {
     "end_time": "2021-12-08T09:27:49.675333Z",
     "start_time": "2021-12-08T09:27:49.670753Z"
    }
   },
   "outputs": [
    {
     "data": {
      "text/plain": [
       "array([ True,  True,  True, ..., False, False, False])"
      ]
     },
     "execution_count": 191,
     "metadata": {},
     "output_type": "execute_result"
    }
   ],
   "source": [
    "a < 10000"
   ]
  },
  {
   "cell_type": "code",
   "execution_count": 192,
   "id": "e83326bc",
   "metadata": {
    "ExecuteTime": {
     "end_time": "2021-12-08T09:27:58.288185Z",
     "start_time": "2021-12-08T09:27:58.284286Z"
    }
   },
   "outputs": [
    {
     "data": {
      "text/plain": [
       "(100000,)"
      ]
     },
     "execution_count": 192,
     "metadata": {},
     "output_type": "execute_result"
    }
   ],
   "source": [
    "(a < 10000).shape"
   ]
  },
  {
   "cell_type": "code",
   "execution_count": 194,
   "id": "2a8d9d73",
   "metadata": {
    "ExecuteTime": {
     "end_time": "2021-12-08T09:28:36.415107Z",
     "start_time": "2021-12-08T09:28:36.410332Z"
    }
   },
   "outputs": [
    {
     "name": "stdout",
     "output_type": "stream",
     "text": [
      "CPU times: user 0 ns, sys: 3.15 ms, total: 3.15 ms\n",
      "Wall time: 1.21 ms\n"
     ]
    },
    {
     "data": {
      "text/plain": [
       "array([  0, 100, 200, 300, 400, 500, 600, 700, 800, 900])"
      ]
     },
     "execution_count": 194,
     "metadata": {},
     "output_type": "execute_result"
    }
   ],
   "source": [
    "%%time\n",
    "a[a < 1000]"
   ]
  },
  {
   "cell_type": "code",
   "execution_count": 195,
   "id": "02487ecc",
   "metadata": {
    "ExecuteTime": {
     "end_time": "2021-12-08T09:28:41.398164Z",
     "start_time": "2021-12-08T09:28:41.382744Z"
    }
   },
   "outputs": [
    {
     "name": "stdout",
     "output_type": "stream",
     "text": [
      "CPU times: user 11.5 ms, sys: 373 µs, total: 11.8 ms\n",
      "Wall time: 11.1 ms\n"
     ]
    },
    {
     "data": {
      "text/plain": [
       "[0, 100, 200, 300, 400, 500, 600, 700, 800, 900]"
      ]
     },
     "execution_count": 195,
     "metadata": {},
     "output_type": "execute_result"
    }
   ],
   "source": [
    "%%time\n",
    "[elem for elem in a if elem < 1000]"
   ]
  },
  {
   "cell_type": "code",
   "execution_count": 196,
   "id": "6f719de0",
   "metadata": {
    "ExecuteTime": {
     "end_time": "2021-12-08T09:29:09.673055Z",
     "start_time": "2021-12-08T09:29:09.670082Z"
    }
   },
   "outputs": [],
   "source": [
    "a = np.arange(100)\n",
    "b = np.arange(100) * 10"
   ]
  },
  {
   "cell_type": "markdown",
   "id": "e5f2670b",
   "metadata": {},
   "source": [
    "Операции выполняются поэлементно, если позволяет размерность"
   ]
  },
  {
   "cell_type": "code",
   "execution_count": 197,
   "id": "28dfcdb8",
   "metadata": {
    "ExecuteTime": {
     "end_time": "2021-12-08T09:29:15.488726Z",
     "start_time": "2021-12-08T09:29:15.484878Z"
    }
   },
   "outputs": [
    {
     "data": {
      "text/plain": [
       "array([   0,   11,   22,   33,   44,   55,   66,   77,   88,   99,  110,\n",
       "        121,  132,  143,  154,  165,  176,  187,  198,  209,  220,  231,\n",
       "        242,  253,  264,  275,  286,  297,  308,  319,  330,  341,  352,\n",
       "        363,  374,  385,  396,  407,  418,  429,  440,  451,  462,  473,\n",
       "        484,  495,  506,  517,  528,  539,  550,  561,  572,  583,  594,\n",
       "        605,  616,  627,  638,  649,  660,  671,  682,  693,  704,  715,\n",
       "        726,  737,  748,  759,  770,  781,  792,  803,  814,  825,  836,\n",
       "        847,  858,  869,  880,  891,  902,  913,  924,  935,  946,  957,\n",
       "        968,  979,  990, 1001, 1012, 1023, 1034, 1045, 1056, 1067, 1078,\n",
       "       1089])"
      ]
     },
     "execution_count": 197,
     "metadata": {},
     "output_type": "execute_result"
    }
   ],
   "source": [
    "a + b"
   ]
  },
  {
   "cell_type": "code",
   "execution_count": 199,
   "id": "2fa447c4",
   "metadata": {
    "ExecuteTime": {
     "end_time": "2021-12-08T09:30:07.690439Z",
     "start_time": "2021-12-08T09:30:07.682311Z"
    }
   },
   "outputs": [
    {
     "data": {
      "text/plain": [
       "array([    0,    10,    40,    90,   160,   250,   360,   490,   640,\n",
       "         810,  1000,  1210,  1440,  1690,  1960,  2250,  2560,  2890,\n",
       "        3240,  3610,  4000,  4410,  4840,  5290,  5760,  6250,  6760,\n",
       "        7290,  7840,  8410,  9000,  9610, 10240, 10890, 11560, 12250,\n",
       "       12960, 13690, 14440, 15210, 16000, 16810, 17640, 18490, 19360,\n",
       "       20250, 21160, 22090, 23040, 24010, 25000, 26010, 27040, 28090,\n",
       "       29160, 30250, 31360, 32490, 33640, 34810, 36000, 37210, 38440,\n",
       "       39690, 40960, 42250, 43560, 44890, 46240, 47610, 49000, 50410,\n",
       "       51840, 53290, 54760, 56250, 57760, 59290, 60840, 62410, 64000,\n",
       "       65610, 67240, 68890, 70560, 72250, 73960, 75690, 77440, 79210,\n",
       "       81000, 82810, 84640, 86490, 88360, 90250, 92160, 94090, 96040,\n",
       "       98010])"
      ]
     },
     "execution_count": 199,
     "metadata": {},
     "output_type": "execute_result"
    }
   ],
   "source": [
    "a * b"
   ]
  },
  {
   "cell_type": "code",
   "execution_count": 202,
   "id": "d1959e58",
   "metadata": {
    "ExecuteTime": {
     "end_time": "2021-12-08T09:31:32.427458Z",
     "start_time": "2021-12-08T09:31:32.422752Z"
    }
   },
   "outputs": [
    {
     "data": {
      "text/plain": [
       "array([[ 0],\n",
       "       [ 1],\n",
       "       [ 2],\n",
       "       [ 3],\n",
       "       [ 4],\n",
       "       [ 5],\n",
       "       [ 6],\n",
       "       [ 7],\n",
       "       [ 8],\n",
       "       [ 9],\n",
       "       [10],\n",
       "       [11],\n",
       "       [12],\n",
       "       [13],\n",
       "       [14],\n",
       "       [15],\n",
       "       [16],\n",
       "       [17],\n",
       "       [18],\n",
       "       [19],\n",
       "       [20],\n",
       "       [21],\n",
       "       [22],\n",
       "       [23],\n",
       "       [24],\n",
       "       [25],\n",
       "       [26],\n",
       "       [27],\n",
       "       [28],\n",
       "       [29],\n",
       "       [30],\n",
       "       [31],\n",
       "       [32],\n",
       "       [33],\n",
       "       [34],\n",
       "       [35],\n",
       "       [36],\n",
       "       [37],\n",
       "       [38],\n",
       "       [39],\n",
       "       [40],\n",
       "       [41],\n",
       "       [42],\n",
       "       [43],\n",
       "       [44],\n",
       "       [45],\n",
       "       [46],\n",
       "       [47],\n",
       "       [48],\n",
       "       [49],\n",
       "       [50],\n",
       "       [51],\n",
       "       [52],\n",
       "       [53],\n",
       "       [54],\n",
       "       [55],\n",
       "       [56],\n",
       "       [57],\n",
       "       [58],\n",
       "       [59],\n",
       "       [60],\n",
       "       [61],\n",
       "       [62],\n",
       "       [63],\n",
       "       [64],\n",
       "       [65],\n",
       "       [66],\n",
       "       [67],\n",
       "       [68],\n",
       "       [69],\n",
       "       [70],\n",
       "       [71],\n",
       "       [72],\n",
       "       [73],\n",
       "       [74],\n",
       "       [75],\n",
       "       [76],\n",
       "       [77],\n",
       "       [78],\n",
       "       [79],\n",
       "       [80],\n",
       "       [81],\n",
       "       [82],\n",
       "       [83],\n",
       "       [84],\n",
       "       [85],\n",
       "       [86],\n",
       "       [87],\n",
       "       [88],\n",
       "       [89],\n",
       "       [90],\n",
       "       [91],\n",
       "       [92],\n",
       "       [93],\n",
       "       [94],\n",
       "       [95],\n",
       "       [96],\n",
       "       [97],\n",
       "       [98],\n",
       "       [99]])"
      ]
     },
     "execution_count": 202,
     "metadata": {},
     "output_type": "execute_result"
    }
   ],
   "source": [
    "a.reshape(-1, 1)"
   ]
  },
  {
   "cell_type": "code",
   "execution_count": 204,
   "id": "e9c292bc",
   "metadata": {
    "ExecuteTime": {
     "end_time": "2021-12-08T09:31:42.098828Z",
     "start_time": "2021-12-08T09:31:42.094584Z"
    }
   },
   "outputs": [
    {
     "data": {
      "text/plain": [
       "(100,)"
      ]
     },
     "execution_count": 204,
     "metadata": {},
     "output_type": "execute_result"
    }
   ],
   "source": [
    "b.shape"
   ]
  },
  {
   "cell_type": "code",
   "execution_count": 208,
   "id": "8e9538f4",
   "metadata": {
    "ExecuteTime": {
     "end_time": "2021-12-08T09:32:34.262826Z",
     "start_time": "2021-12-08T09:32:34.257198Z"
    }
   },
   "outputs": [
    {
     "data": {
      "text/plain": [
       "array([[    0,     0,     0, ...,     0,     0,     0],\n",
       "       [    0,    10,    20, ...,   970,   980,   990],\n",
       "       [    0,    20,    40, ...,  1940,  1960,  1980],\n",
       "       ...,\n",
       "       [    0,   970,  1940, ..., 94090, 95060, 96030],\n",
       "       [    0,   980,  1960, ..., 95060, 96040, 97020],\n",
       "       [    0,   990,  1980, ..., 96030, 97020, 98010]])"
      ]
     },
     "execution_count": 208,
     "metadata": {},
     "output_type": "execute_result"
    }
   ],
   "source": [
    "a.reshape(-1, 1) * b"
   ]
  },
  {
   "cell_type": "markdown",
   "id": "3582d23a",
   "metadata": {},
   "source": [
    "**Еще пример разницы в скорости**"
   ]
  },
  {
   "cell_type": "code",
   "execution_count": 2,
   "id": "ba91e3a2",
   "metadata": {
    "ExecuteTime": {
     "end_time": "2021-12-08T09:34:37.235756Z",
     "start_time": "2021-12-08T09:34:35.943401Z"
    }
   },
   "outputs": [],
   "source": [
    "import numpy as np"
   ]
  },
  {
   "cell_type": "code",
   "execution_count": 3,
   "id": "21952ac2",
   "metadata": {
    "ExecuteTime": {
     "end_time": "2021-12-08T09:34:42.759157Z",
     "start_time": "2021-12-08T09:34:38.419657Z"
    }
   },
   "outputs": [],
   "source": [
    "a = np.random.rand(int(5e7))\n",
    "b = np.random.rand(int(5e7))\n",
    "\n",
    "list_a = list(a)\n",
    "list_b = list(b)"
   ]
  },
  {
   "cell_type": "markdown",
   "id": "1dc7bd51",
   "metadata": {},
   "source": [
    "Посчитаем скалярное произведение"
   ]
  },
  {
   "cell_type": "code",
   "execution_count": 4,
   "id": "63e83a65",
   "metadata": {
    "ExecuteTime": {
     "end_time": "2021-12-08T09:34:53.765013Z",
     "start_time": "2021-12-08T09:34:47.706769Z"
    }
   },
   "outputs": [
    {
     "name": "stdout",
     "output_type": "stream",
     "text": [
      "CPU times: user 5.45 s, sys: 0 ns, total: 5.45 s\n",
      "Wall time: 5.45 s\n"
     ]
    },
    {
     "data": {
      "text/plain": [
       "12500613.645896778"
      ]
     },
     "execution_count": 4,
     "metadata": {},
     "output_type": "execute_result"
    }
   ],
   "source": [
    "%%time\n",
    "prod = 0\n",
    "for elem_one, elem_two in zip(list_a, list_b):\n",
    "    prod += elem_one * elem_two\n",
    "\n",
    "prod"
   ]
  },
  {
   "cell_type": "code",
   "execution_count": 5,
   "id": "c72ec966",
   "metadata": {
    "ExecuteTime": {
     "end_time": "2021-12-08T09:35:01.245712Z",
     "start_time": "2021-12-08T09:34:55.919697Z"
    }
   },
   "outputs": [
    {
     "name": "stdout",
     "output_type": "stream",
     "text": [
      "CPU times: user 5.04 s, sys: 288 ms, total: 5.33 s\n",
      "Wall time: 5.32 s\n"
     ]
    },
    {
     "data": {
      "text/plain": [
       "12500613.645896778"
      ]
     },
     "execution_count": 5,
     "metadata": {},
     "output_type": "execute_result"
    }
   ],
   "source": [
    "%%time\n",
    "prod = sum([list_a[i] * list_b[i] for i in range(len(list_a))])\n",
    "prod"
   ]
  },
  {
   "cell_type": "code",
   "execution_count": 7,
   "id": "fbfc4be3",
   "metadata": {
    "ExecuteTime": {
     "end_time": "2021-12-08T09:35:28.727358Z",
     "start_time": "2021-12-08T09:35:28.569339Z"
    }
   },
   "outputs": [
    {
     "name": "stdout",
     "output_type": "stream",
     "text": [
      "CPU times: user 76.2 ms, sys: 81.1 ms, total: 157 ms\n",
      "Wall time: 154 ms\n"
     ]
    },
    {
     "data": {
      "text/plain": [
       "12500613.645901963"
      ]
     },
     "execution_count": 7,
     "metadata": {},
     "output_type": "execute_result"
    }
   ],
   "source": [
    "%%time\n",
    "prod = np.sum(a * b)\n",
    "prod"
   ]
  },
  {
   "cell_type": "code",
   "execution_count": 8,
   "id": "c8fccde4",
   "metadata": {
    "ExecuteTime": {
     "end_time": "2021-12-08T09:35:30.711551Z",
     "start_time": "2021-12-08T09:35:30.668563Z"
    }
   },
   "outputs": [
    {
     "name": "stdout",
     "output_type": "stream",
     "text": [
      "CPU times: user 584 ms, sys: 17.7 ms, total: 601 ms\n",
      "Wall time: 38.7 ms\n"
     ]
    },
    {
     "data": {
      "text/plain": [
       "12500613.645902004"
      ]
     },
     "execution_count": 8,
     "metadata": {},
     "output_type": "execute_result"
    }
   ],
   "source": [
    "%%time\n",
    "a.dot(b)"
   ]
  },
  {
   "cell_type": "code",
   "execution_count": 9,
   "id": "7bea0a37",
   "metadata": {
    "ExecuteTime": {
     "end_time": "2021-12-08T09:35:57.626450Z",
     "start_time": "2021-12-08T09:35:57.568408Z"
    }
   },
   "outputs": [
    {
     "name": "stdout",
     "output_type": "stream",
     "text": [
      "CPU times: user 574 ms, sys: 154 ms, total: 728 ms\n",
      "Wall time: 48.4 ms\n"
     ]
    },
    {
     "data": {
      "text/plain": [
       "12500613.645902004"
      ]
     },
     "execution_count": 9,
     "metadata": {},
     "output_type": "execute_result"
    }
   ],
   "source": [
    "%%time\n",
    "a @ b"
   ]
  },
  {
   "cell_type": "markdown",
   "id": "e41f58e5",
   "metadata": {},
   "source": [
    "**посмотрим на примере картинки**"
   ]
  },
  {
   "cell_type": "code",
   "execution_count": 1,
   "id": "3f5e9635",
   "metadata": {
    "ExecuteTime": {
     "end_time": "2021-12-08T09:36:19.643464Z",
     "start_time": "2021-12-08T09:36:16.330696Z"
    }
   },
   "outputs": [],
   "source": [
    "from matplotlib import pyplot as plt\n",
    "from matplotlib import image"
   ]
  },
  {
   "cell_type": "code",
   "execution_count": 3,
   "id": "aa2f5451",
   "metadata": {
    "ExecuteTime": {
     "end_time": "2021-12-08T09:36:24.251113Z",
     "start_time": "2021-12-08T09:36:24.069308Z"
    }
   },
   "outputs": [
    {
     "name": "stdout",
     "output_type": "stream",
     "text": [
      "what.jpg\n"
     ]
    }
   ],
   "source": [
    "! ls img"
   ]
  },
  {
   "cell_type": "code",
   "execution_count": 4,
   "id": "8f7501bf",
   "metadata": {
    "ExecuteTime": {
     "end_time": "2021-12-08T09:36:28.367769Z",
     "start_time": "2021-12-08T09:36:28.280294Z"
    }
   },
   "outputs": [],
   "source": [
    "img = image.imread('img/what.jpg')"
   ]
  },
  {
   "cell_type": "code",
   "execution_count": 5,
   "id": "f27df824",
   "metadata": {
    "ExecuteTime": {
     "end_time": "2021-12-08T09:36:39.327664Z",
     "start_time": "2021-12-08T09:36:39.318389Z"
    }
   },
   "outputs": [
    {
     "data": {
      "text/plain": [
       "array([[[112,  81,  52],\n",
       "        [111,  80,  51],\n",
       "        [111,  80,  51],\n",
       "        ...,\n",
       "        [ 93,  57,  33],\n",
       "        [ 93,  57,  33],\n",
       "        [ 95,  59,  35]],\n",
       "\n",
       "       [[113,  82,  53],\n",
       "        [113,  82,  53],\n",
       "        [113,  82,  53],\n",
       "        ...,\n",
       "        [ 94,  58,  34],\n",
       "        [ 95,  59,  35],\n",
       "        [ 95,  59,  35]],\n",
       "\n",
       "       [[114,  83,  54],\n",
       "        [114,  83,  54],\n",
       "        [114,  83,  54],\n",
       "        ...,\n",
       "        [ 96,  60,  36],\n",
       "        [ 95,  59,  35],\n",
       "        [ 95,  59,  35]],\n",
       "\n",
       "       ...,\n",
       "\n",
       "       [[ 92,  62,  34],\n",
       "        [ 92,  62,  34],\n",
       "        [ 92,  62,  34],\n",
       "        ...,\n",
       "        [ 74,  43,  22],\n",
       "        [ 74,  43,  22],\n",
       "        [ 74,  43,  22]],\n",
       "\n",
       "       [[ 92,  62,  34],\n",
       "        [ 91,  61,  33],\n",
       "        [ 91,  61,  33],\n",
       "        ...,\n",
       "        [ 75,  44,  23],\n",
       "        [ 75,  44,  23],\n",
       "        [ 75,  44,  23]],\n",
       "\n",
       "       [[ 91,  61,  33],\n",
       "        [ 91,  61,  33],\n",
       "        [ 91,  61,  33],\n",
       "        ...,\n",
       "        [ 75,  44,  23],\n",
       "        [ 75,  44,  23],\n",
       "        [ 75,  44,  23]]], dtype=uint8)"
      ]
     },
     "execution_count": 5,
     "metadata": {},
     "output_type": "execute_result"
    }
   ],
   "source": [
    "img"
   ]
  },
  {
   "cell_type": "code",
   "execution_count": 14,
   "id": "0ecf059d",
   "metadata": {
    "ExecuteTime": {
     "end_time": "2021-12-08T09:37:05.000860Z",
     "start_time": "2021-12-08T09:37:04.995889Z"
    }
   },
   "outputs": [
    {
     "data": {
      "text/plain": [
       "(0, 255, (525, 731, 3))"
      ]
     },
     "execution_count": 14,
     "metadata": {},
     "output_type": "execute_result"
    }
   ],
   "source": [
    "np.min(img), np.max(img), np.shape(img)"
   ]
  },
  {
   "cell_type": "markdown",
   "id": "d48a2213",
   "metadata": {},
   "source": [
    "**покрутим и визуализируем numpy массив**"
   ]
  },
  {
   "cell_type": "code",
   "execution_count": 15,
   "id": "522ae0e8",
   "metadata": {
    "ExecuteTime": {
     "end_time": "2021-12-08T09:37:36.679210Z",
     "start_time": "2021-12-08T09:37:36.432279Z"
    }
   },
   "outputs": [
    {
     "data": {
      "text/plain": [
       "<matplotlib.image.AxesImage at 0x7f0b30ae3b20>"
      ]
     },
     "execution_count": 15,
     "metadata": {},
     "output_type": "execute_result"
    },
    {
     "data": {
      "image/png": "[encoded data removed]",
      "text/plain": [
       "<Figure size 432x288 with 1 Axes>"
      ]
     },
     "metadata": {
      "needs_background": "light"
     },
     "output_type": "display_data"
    }
   ],
   "source": [
    "plt.imshow(img)"
   ]
  },
  {
   "cell_type": "markdown",
   "id": "3f025267",
   "metadata": {
    "ExecuteTime": {
     "end_time": "2021-12-08T07:59:55.219205Z",
     "start_time": "2021-12-08T07:59:55.215548Z"
    }
   },
   "source": [
    "0. добавим *кхм* инклюзивности"
   ]
  },
  {
   "cell_type": "code",
   "execution_count": 17,
   "id": "27b1e097",
   "metadata": {
    "ExecuteTime": {
     "end_time": "2021-12-08T09:38:24.511922Z",
     "start_time": "2021-12-08T09:38:24.507415Z"
    }
   },
   "outputs": [
    {
     "data": {
      "text/plain": [
       "array([[[143, 174, 203],\n",
       "        [144, 175, 204],\n",
       "        [144, 175, 204],\n",
       "        ...,\n",
       "        [162, 198, 222],\n",
       "        [162, 198, 222],\n",
       "        [160, 196, 220]],\n",
       "\n",
       "       [[142, 173, 202],\n",
       "        [142, 173, 202],\n",
       "        [142, 173, 202],\n",
       "        ...,\n",
       "        [161, 197, 221],\n",
       "        [160, 196, 220],\n",
       "        [160, 196, 220]],\n",
       "\n",
       "       [[141, 172, 201],\n",
       "        [141, 172, 201],\n",
       "        [141, 172, 201],\n",
       "        ...,\n",
       "        [159, 195, 219],\n",
       "        [160, 196, 220],\n",
       "        [160, 196, 220]],\n",
       "\n",
       "       ...,\n",
       "\n",
       "       [[163, 193, 221],\n",
       "        [163, 193, 221],\n",
       "        [163, 193, 221],\n",
       "        ...,\n",
       "        [181, 212, 233],\n",
       "        [181, 212, 233],\n",
       "        [181, 212, 233]],\n",
       "\n",
       "       [[163, 193, 221],\n",
       "        [164, 194, 222],\n",
       "        [164, 194, 222],\n",
       "        ...,\n",
       "        [180, 211, 232],\n",
       "        [180, 211, 232],\n",
       "        [180, 211, 232]],\n",
       "\n",
       "       [[164, 194, 222],\n",
       "        [164, 194, 222],\n",
       "        [164, 194, 222],\n",
       "        ...,\n",
       "        [180, 211, 232],\n",
       "        [180, 211, 232],\n",
       "        [180, 211, 232]]], dtype=uint8)"
      ]
     },
     "execution_count": 17,
     "metadata": {},
     "output_type": "execute_result"
    }
   ],
   "source": [
    "255 - img"
   ]
  },
  {
   "cell_type": "code",
   "execution_count": 16,
   "id": "c2b4a45f",
   "metadata": {
    "ExecuteTime": {
     "end_time": "2021-12-08T09:38:00.530263Z",
     "start_time": "2021-12-08T09:38:00.355297Z"
    }
   },
   "outputs": [
    {
     "data": {
      "text/plain": [
       "<matplotlib.image.AxesImage at 0x7f0b30a12fd0>"
      ]
     },
     "execution_count": 16,
     "metadata": {},
     "output_type": "execute_result"
    },
    {
     "data": {
      "image/png": "[encoded data removed]",
      "text/plain": [
       "<Figure size 432x288 with 1 Axes>"
      ]
     },
     "metadata": {
      "needs_background": "light"
     },
     "output_type": "display_data"
    }
   ],
   "source": [
    "plt.imshow(255 - img)"
   ]
  },
  {
   "cell_type": "markdown",
   "id": "b152f4bb",
   "metadata": {
    "ExecuteTime": {
     "end_time": "2021-12-08T07:33:55.641851Z",
     "start_time": "2021-12-08T07:33:55.638006Z"
    }
   },
   "source": [
    "1. сделаем зум"
   ]
  },
  {
   "cell_type": "code",
   "execution_count": 18,
   "id": "d71eef73",
   "metadata": {
    "ExecuteTime": {
     "end_time": "2021-12-08T09:38:56.271464Z",
     "start_time": "2021-12-08T09:38:56.141686Z"
    }
   },
   "outputs": [
    {
     "data": {
      "text/plain": [
       "<matplotlib.image.AxesImage at 0x7f0b3098b4f0>"
      ]
     },
     "execution_count": 18,
     "metadata": {},
     "output_type": "execute_result"
    },
    {
     "data": {
      "image/png": "[encoded data removed]",
      "text/plain": [
       "<Figure size 432x288 with 1 Axes>"
      ]
     },
     "metadata": {
      "needs_background": "light"
     },
     "output_type": "display_data"
    }
   ],
   "source": [
    "plt.imshow(img[200:300, 200:500])"
   ]
  },
  {
   "cell_type": "markdown",
   "id": "6894a1d0",
   "metadata": {},
   "source": [
    "2. зум с пропуском"
   ]
  },
  {
   "cell_type": "code",
   "execution_count": 19,
   "id": "bcffcd6d",
   "metadata": {
    "ExecuteTime": {
     "end_time": "2021-12-08T09:40:06.658403Z",
     "start_time": "2021-12-08T09:40:06.542605Z"
    }
   },
   "outputs": [
    {
     "data": {
      "text/plain": [
       "<matplotlib.image.AxesImage at 0x7f0b30968130>"
      ]
     },
     "execution_count": 19,
     "metadata": {},
     "output_type": "execute_result"
    },
    {
     "data": {
      "image/png": "[encoded data removed]",
      "text/plain": [
       "<Figure size 432x288 with 1 Axes>"
      ]
     },
     "metadata": {
      "needs_background": "light"
     },
     "output_type": "display_data"
    }
   ],
   "source": [
    "plt.imshow(img[0:500:5])"
   ]
  },
  {
   "cell_type": "markdown",
   "id": "57bd7a0c",
   "metadata": {},
   "source": [
    "3. уменьшим картинку в три раза"
   ]
  },
  {
   "cell_type": "code",
   "execution_count": 20,
   "id": "7266261e",
   "metadata": {
    "ExecuteTime": {
     "end_time": "2021-12-08T09:40:23.250115Z",
     "start_time": "2021-12-08T09:40:22.403566Z"
    }
   },
   "outputs": [
    {
     "data": {
      "text/plain": [
       "<matplotlib.image.AxesImage at 0x7f0b308cc490>"
      ]
     },
     "execution_count": 20,
     "metadata": {},
     "output_type": "execute_result"
    },
    {
     "data": {
      "image/png": "[encoded data removed]",
      "text/plain": [
       "<Figure size 432x288 with 1 Axes>"
      ]
     },
     "metadata": {
      "needs_background": "light"
     },
     "output_type": "display_data"
    }
   ],
   "source": [
    "plt.imshow(img[::3, ::3])"
   ]
  },
  {
   "cell_type": "markdown",
   "id": "1d7e61e4",
   "metadata": {},
   "source": [
    "4. отфильтруем все значения, где значение сигнала меньше n"
   ]
  },
  {
   "cell_type": "code",
   "execution_count": 22,
   "id": "dda860c3",
   "metadata": {
    "ExecuteTime": {
     "end_time": "2021-12-08T09:41:13.087554Z",
     "start_time": "2021-12-08T09:41:13.082303Z"
    }
   },
   "outputs": [],
   "source": [
    "img_masked = np.where(img > 100, 255, 0)  # для тех, где True, меняем значение на 255, где False -- на 0"
   ]
  },
  {
   "cell_type": "code",
   "execution_count": 23,
   "id": "37d92605",
   "metadata": {
    "ExecuteTime": {
     "end_time": "2021-12-08T09:41:13.513046Z",
     "start_time": "2021-12-08T09:41:13.330580Z"
    }
   },
   "outputs": [
    {
     "data": {
      "text/plain": [
       "<matplotlib.image.AxesImage at 0x7f0b308a9f10>"
      ]
     },
     "execution_count": 23,
     "metadata": {},
     "output_type": "execute_result"
    },
    {
     "data": {
      "image/png": "[encoded data removed]",
      "text/plain": [
       "<Figure size 432x288 with 1 Axes>"
      ]
     },
     "metadata": {
      "needs_background": "light"
     },
     "output_type": "display_data"
    }
   ],
   "source": [
    "plt.imshow(img_masked)"
   ]
  },
  {
   "cell_type": "code",
   "execution_count": 25,
   "id": "3cb4fab7",
   "metadata": {
    "ExecuteTime": {
     "end_time": "2021-12-08T09:42:37.376581Z",
     "start_time": "2021-12-08T09:42:37.229167Z"
    }
   },
   "outputs": [
    {
     "data": {
      "text/plain": [
       "<matplotlib.image.AxesImage at 0x7f0b3078f3d0>"
      ]
     },
     "execution_count": 25,
     "metadata": {},
     "output_type": "execute_result"
    },
    {
     "data": {
      "image/png": "[encoded data removed]",
      "text/plain": [
       "<Figure size 432x288 with 1 Axes>"
      ]
     },
     "metadata": {
      "needs_background": "light"
     },
     "output_type": "display_data"
    }
   ],
   "source": [
    "plt.imshow(img[..., 0].T)"
   ]
  },
  {
   "cell_type": "code",
   "execution_count": 27,
   "id": "907fa2be",
   "metadata": {
    "ExecuteTime": {
     "end_time": "2021-12-08T09:42:53.943740Z",
     "start_time": "2021-12-08T09:42:53.768457Z"
    }
   },
   "outputs": [
    {
     "data": {
      "text/plain": [
       "<matplotlib.image.AxesImage at 0x7f0b3069c1f0>"
      ]
     },
     "execution_count": 27,
     "metadata": {},
     "output_type": "execute_result"
    },
    {
     "data": {
      "image/png": "[encoded data removed]",
      "text/plain": [
       "<Figure size 432x288 with 1 Axes>"
      ]
     },
     "metadata": {
      "needs_background": "light"
     },
     "output_type": "display_data"
    }
   ],
   "source": [
    "plt.imshow(img[..., 2])"
   ]
  },
  {
   "cell_type": "markdown",
   "id": "9f856775",
   "metadata": {},
   "source": [
    "Нарисуем какой-нибудь простой график"
   ]
  },
  {
   "cell_type": "code",
   "execution_count": 30,
   "id": "64a4555b",
   "metadata": {
    "ExecuteTime": {
     "end_time": "2021-12-08T09:43:24.319387Z",
     "start_time": "2021-12-08T09:43:24.315164Z"
    }
   },
   "outputs": [
    {
     "data": {
      "text/plain": [
       "(525, 731, 3)"
      ]
     },
     "execution_count": 30,
     "metadata": {},
     "output_type": "execute_result"
    }
   ],
   "source": [
    "img.shape"
   ]
  },
  {
   "cell_type": "code",
   "execution_count": 32,
   "id": "3422de42",
   "metadata": {
    "ExecuteTime": {
     "end_time": "2021-12-08T09:43:35.870400Z",
     "start_time": "2021-12-08T09:43:35.865960Z"
    }
   },
   "outputs": [
    {
     "data": {
      "text/plain": [
       "(1151325,)"
      ]
     },
     "execution_count": 32,
     "metadata": {},
     "output_type": "execute_result"
    }
   ],
   "source": [
    "img.ravel().shape"
   ]
  },
  {
   "cell_type": "code",
   "execution_count": 33,
   "id": "64ea966b",
   "metadata": {
    "ExecuteTime": {
     "end_time": "2021-12-08T09:43:47.282795Z",
     "start_time": "2021-12-08T09:43:47.065416Z"
    }
   },
   "outputs": [
    {
     "data": {
      "image/png": "[encoded data removed]",
      "text/plain": [
       "<Figure size 1440x720 with 1 Axes>"
      ]
     },
     "metadata": {
      "needs_background": "light"
     },
     "output_type": "display_data"
    }
   ],
   "source": [
    "plt.figure(figsize=(20, 10))\n",
    "plt.hist(img.ravel())\n",
    "plt.title('Image signal values distribution')\n",
    "plt.grid()\n",
    "plt.xlabel('signal value, [0;255]')\n",
    "plt.ylabel('number of pixels')\n",
    "\n",
    "plt.show()"
   ]
  },
  {
   "cell_type": "code",
   "execution_count": null,
   "id": "a6e29b71",
   "metadata": {},
   "outputs": [],
   "source": []
  }
 ],
 "metadata": {
  "kernelspec": {
   "display_name": "Python 3 (ipykernel)",
   "language": "python",
   "name": "python3"
  },
  "language_info": {
   "codemirror_mode": {
    "name": "ipython",
    "version": 3
   },
   "file_extension": ".py",
   "mimetype": "text/x-python",
   "name": "python",
   "nbconvert_exporter": "python",
   "pygments_lexer": "ipython3",
   "version": "3.9.7"
  },
  "toc": {
   "base_numbering": 1,
   "nav_menu": {},
   "number_sections": true,
   "sideBar": true,
   "skip_h1_title": false,
   "title_cell": "Table of Contents",
   "title_sidebar": "Contents",
   "toc_cell": false,
   "toc_position": {},
   "toc_section_display": true,
   "toc_window_display": false
  }
 },
 "nbformat": 4,
 "nbformat_minor": 5
}
