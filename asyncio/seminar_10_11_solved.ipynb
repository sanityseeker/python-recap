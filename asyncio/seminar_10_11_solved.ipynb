{
 "cells": [
  {
   "cell_type": "markdown",
   "id": "fbf172d6",
   "metadata": {},
   "source": [
    "Материалы:\n",
    "\n",
    "- https://www.youtube.com/watch?v=maMReTuUOWA\n",
    "\n",
    "- http://uneex.org/LecturesCMC/PythonIntro2020/14_Async\n",
    "\n",
    "- https://www.youtube.com/watch?v=5SyA3lsO_hQ\n",
    "\n",
    "- https://docs.python.org/3/library/asyncio.html\n",
    "\n",
    "- https://realpython.com/async-io-python/#the-asyncio-package-and-asyncawait\n",
    "\n",
    "- https://realpython.com/python-concurrency/#how-to-speed-up-an-io-bound-program\n",
    "\n",
    "- Fluent Python 2021 pre-release, Luciano Ramalho главы 19-21"
   ]
  },
  {
   "cell_type": "markdown",
   "id": "b8662053",
   "metadata": {},
   "source": [
    "# Speeding up"
   ]
  },
  {
   "cell_type": "markdown",
   "id": "d4b65bd1",
   "metadata": {},
   "source": [
    "Перед обсуждением более сложных концептов, вспомним необходимые термины и зайдем чуть издалека"
   ]
  },
  {
   "cell_type": "markdown",
   "id": "23065cb1",
   "metadata": {},
   "source": [
    "## Generators and coroutines"
   ]
  },
  {
   "cell_type": "markdown",
   "id": "23734901",
   "metadata": {},
   "source": [
    "### Gen. functions with yield"
   ]
  },
  {
   "cell_type": "markdown",
   "id": "7d40250e",
   "metadata": {},
   "source": [
    "#### Функция-генератор"
   ]
  },
  {
   "cell_type": "code",
   "execution_count": 1,
   "id": "a4238697",
   "metadata": {
    "ExecuteTime": {
     "end_time": "2021-11-24T19:44:14.720878Z",
     "start_time": "2021-11-24T19:44:14.717753Z"
    }
   },
   "outputs": [],
   "source": [
    "def gen_fun():\n",
    "    yield 42\n",
    "    yield 43\n",
    "    yield 44"
   ]
  },
  {
   "cell_type": "code",
   "execution_count": 2,
   "id": "2b59f001",
   "metadata": {
    "ExecuteTime": {
     "end_time": "2021-11-24T19:44:16.046256Z",
     "start_time": "2021-11-24T19:44:16.043090Z"
    }
   },
   "outputs": [
    {
     "name": "stdout",
     "output_type": "stream",
     "text": [
      "42\n",
      "43\n",
      "44\n"
     ]
    }
   ],
   "source": [
    "for v in gen_fun():\n",
    "    print(v)"
   ]
  },
  {
   "cell_type": "markdown",
   "id": "e2ab8e8b",
   "metadata": {},
   "source": [
    "#### Объект-генератор"
   ]
  },
  {
   "cell_type": "code",
   "execution_count": 3,
   "id": "1e62f90f",
   "metadata": {
    "ExecuteTime": {
     "end_time": "2021-11-24T19:44:19.261641Z",
     "start_time": "2021-11-24T19:44:19.258889Z"
    }
   },
   "outputs": [],
   "source": [
    "obj_fun = gen_fun()"
   ]
  },
  {
   "cell_type": "code",
   "execution_count": 4,
   "id": "e48504b1",
   "metadata": {
    "ExecuteTime": {
     "end_time": "2021-11-24T19:44:20.985399Z",
     "start_time": "2021-11-24T19:44:20.978446Z"
    }
   },
   "outputs": [
    {
     "data": {
      "text/plain": [
       "42"
      ]
     },
     "execution_count": 4,
     "metadata": {},
     "output_type": "execute_result"
    }
   ],
   "source": [
    "next(obj_fun)"
   ]
  },
  {
   "cell_type": "code",
   "execution_count": 5,
   "id": "8b2315fa",
   "metadata": {
    "ExecuteTime": {
     "end_time": "2021-11-24T19:44:27.285541Z",
     "start_time": "2021-11-24T19:44:27.282031Z"
    }
   },
   "outputs": [
    {
     "data": {
      "text/plain": [
       "43"
      ]
     },
     "execution_count": 5,
     "metadata": {},
     "output_type": "execute_result"
    }
   ],
   "source": [
    "obj_fun.__next__()"
   ]
  },
  {
   "cell_type": "code",
   "execution_count": 6,
   "id": "8b275c3f",
   "metadata": {
    "ExecuteTime": {
     "end_time": "2021-11-24T19:44:28.863566Z",
     "start_time": "2021-11-24T19:44:28.859430Z"
    }
   },
   "outputs": [
    {
     "data": {
      "text/plain": [
       "44"
      ]
     },
     "execution_count": 6,
     "metadata": {},
     "output_type": "execute_result"
    }
   ],
   "source": [
    "obj_fun.send(None)"
   ]
  },
  {
   "cell_type": "code",
   "execution_count": 7,
   "id": "3557ca96",
   "metadata": {
    "ExecuteTime": {
     "end_time": "2021-11-24T19:44:55.772914Z",
     "start_time": "2021-11-24T19:44:53.922052Z"
    }
   },
   "outputs": [
    {
     "ename": "StopIteration",
     "evalue": "",
     "output_type": "error",
     "traceback": [
      "\u001b[0;31m---------------------------------------------------------------------------\u001b[0m",
      "\u001b[0;31mStopIteration\u001b[0m                             Traceback (most recent call last)",
      "\u001b[0;32m/tmp/ipykernel_15724/1424421179.py\u001b[0m in \u001b[0;36m<module>\u001b[0;34m\u001b[0m\n\u001b[0;32m----> 1\u001b[0;31m \u001b[0mnext\u001b[0m\u001b[0;34m(\u001b[0m\u001b[0mobj_fun\u001b[0m\u001b[0;34m)\u001b[0m\u001b[0;34m\u001b[0m\u001b[0;34m\u001b[0m\u001b[0m\n\u001b[0m",
      "\u001b[0;31mStopIteration\u001b[0m: "
     ]
    }
   ],
   "source": [
    "next(obj_fun)"
   ]
  },
  {
   "cell_type": "markdown",
   "id": "541149c5",
   "metadata": {},
   "source": [
    "#### Пример стрима"
   ]
  },
  {
   "cell_type": "markdown",
   "id": "0d9123a4",
   "metadata": {},
   "source": [
    "Генераторы могут быть полезны, когда вы хотите сделать некоторую бесконечную последовательность и работать с ней \"на лету\".\n",
    "Можно делать стримы. Например, нагенерировать последовательно Фибоначчи в виде генератора, постепенно читать из больших файлов и т.д."
   ]
  },
  {
   "cell_type": "markdown",
   "id": "f7c1ffdb",
   "metadata": {},
   "source": [
    "Давайте попробуем написать такую последовательность"
   ]
  },
  {
   "cell_type": "code",
   "execution_count": 3,
   "id": "64df17da",
   "metadata": {
    "ExecuteTime": {
     "end_time": "2021-11-30T21:01:34.480409Z",
     "start_time": "2021-11-30T21:01:34.476735Z"
    }
   },
   "outputs": [],
   "source": [
    "from math import sqrt, ceil\n",
    "\n",
    "def is_prime(value: int) -> bool:\n",
    "    if value == 2:\n",
    "        return True\n",
    "    for divider in range(2, ceil(sqrt(value)) + 1):\n",
    "        if value % divider == 0:\n",
    "            return False\n",
    "    return True\n",
    "\n",
    "# def create_prime_stream(upper_bound: int) -> int:\n",
    "#     for val in range(2, upper_bound):\n",
    "#         if is_prime(val):\n",
    "#             yield val\n",
    "            \n",
    "def create_prime_stream() -> int:\n",
    "    val = 2\n",
    "    while val > 0:\n",
    "        if is_prime(val):\n",
    "            yield val\n",
    "        val += 1"
   ]
  },
  {
   "cell_type": "code",
   "execution_count": 4,
   "id": "bb22ba0f",
   "metadata": {
    "ExecuteTime": {
     "end_time": "2021-12-01T10:23:59.802028Z",
     "start_time": "2021-12-01T10:23:59.799283Z"
    }
   },
   "outputs": [],
   "source": [
    "prime_stream = create_prime_stream()"
   ]
  },
  {
   "cell_type": "code",
   "execution_count": null,
   "id": "98052e81",
   "metadata": {
    "ExecuteTime": {
     "end_time": "2021-12-01T10:24:04.558261Z",
     "start_time": "2021-12-01T10:24:00.935406Z"
    }
   },
   "outputs": [],
   "source": [
    "for prime_value in prime_stream:\n",
    "    print(prime_value)"
   ]
  },
  {
   "cell_type": "markdown",
   "id": "5447cbdd",
   "metadata": {},
   "source": [
    "#### Можно делать и return"
   ]
  },
  {
   "cell_type": "code",
   "execution_count": 33,
   "id": "4f45fb96",
   "metadata": {
    "ExecuteTime": {
     "end_time": "2021-11-24T19:54:54.796034Z",
     "start_time": "2021-11-24T19:54:54.792931Z"
    }
   },
   "outputs": [],
   "source": [
    "def gen_fun():\n",
    "    yield 42\n",
    "    yield 43\n",
    "    yield 44\n",
    "    return 'string'"
   ]
  },
  {
   "cell_type": "code",
   "execution_count": 34,
   "id": "9a72e1ce",
   "metadata": {
    "ExecuteTime": {
     "end_time": "2021-11-24T19:54:54.981318Z",
     "start_time": "2021-11-24T19:54:54.978764Z"
    }
   },
   "outputs": [],
   "source": [
    "obj_fun = gen_fun()"
   ]
  },
  {
   "cell_type": "code",
   "execution_count": 35,
   "id": "d95dc199",
   "metadata": {
    "ExecuteTime": {
     "end_time": "2021-11-24T19:54:55.141305Z",
     "start_time": "2021-11-24T19:54:55.136927Z"
    }
   },
   "outputs": [
    {
     "data": {
      "text/plain": [
       "42"
      ]
     },
     "execution_count": 35,
     "metadata": {},
     "output_type": "execute_result"
    }
   ],
   "source": [
    "next(obj_fun)"
   ]
  },
  {
   "cell_type": "code",
   "execution_count": 36,
   "id": "da450763",
   "metadata": {
    "ExecuteTime": {
     "end_time": "2021-11-24T19:54:55.310036Z",
     "start_time": "2021-11-24T19:54:55.305975Z"
    }
   },
   "outputs": [
    {
     "data": {
      "text/plain": [
       "43"
      ]
     },
     "execution_count": 36,
     "metadata": {},
     "output_type": "execute_result"
    }
   ],
   "source": [
    "next(obj_fun)"
   ]
  },
  {
   "cell_type": "code",
   "execution_count": 37,
   "id": "a47f8462",
   "metadata": {
    "ExecuteTime": {
     "end_time": "2021-11-24T19:54:55.615756Z",
     "start_time": "2021-11-24T19:54:55.612742Z"
    }
   },
   "outputs": [
    {
     "data": {
      "text/plain": [
       "44"
      ]
     },
     "execution_count": 37,
     "metadata": {},
     "output_type": "execute_result"
    }
   ],
   "source": [
    "next(obj_fun)"
   ]
  },
  {
   "cell_type": "code",
   "execution_count": 38,
   "id": "c497707f",
   "metadata": {
    "ExecuteTime": {
     "end_time": "2021-11-24T19:54:57.197120Z",
     "start_time": "2021-11-24T19:54:57.184733Z"
    }
   },
   "outputs": [
    {
     "name": "stdout",
     "output_type": "stream",
     "text": [
      "string\n"
     ]
    },
    {
     "ename": "StopIteration",
     "evalue": "string",
     "output_type": "error",
     "traceback": [
      "\u001b[0;31m---------------------------------------------------------------------------\u001b[0m",
      "\u001b[0;31mStopIteration\u001b[0m                             Traceback (most recent call last)",
      "\u001b[0;32m/tmp/ipykernel_15724/2096793329.py\u001b[0m in \u001b[0;36m<module>\u001b[0;34m\u001b[0m\n\u001b[1;32m      3\u001b[0m \u001b[0;32mexcept\u001b[0m \u001b[0mStopIteration\u001b[0m \u001b[0;32mas\u001b[0m \u001b[0me\u001b[0m\u001b[0;34m:\u001b[0m\u001b[0;34m\u001b[0m\u001b[0;34m\u001b[0m\u001b[0m\n\u001b[1;32m      4\u001b[0m     \u001b[0mprint\u001b[0m\u001b[0;34m(\u001b[0m\u001b[0me\u001b[0m\u001b[0;34m.\u001b[0m\u001b[0mvalue\u001b[0m\u001b[0;34m)\u001b[0m\u001b[0;34m\u001b[0m\u001b[0;34m\u001b[0m\u001b[0m\n\u001b[0;32m----> 5\u001b[0;31m     \u001b[0;32mraise\u001b[0m\u001b[0;34m(\u001b[0m\u001b[0me\u001b[0m\u001b[0;34m)\u001b[0m\u001b[0;34m\u001b[0m\u001b[0;34m\u001b[0m\u001b[0m\n\u001b[0m",
      "\u001b[0;32m/tmp/ipykernel_15724/2096793329.py\u001b[0m in \u001b[0;36m<module>\u001b[0;34m\u001b[0m\n\u001b[1;32m      1\u001b[0m \u001b[0;32mtry\u001b[0m\u001b[0;34m:\u001b[0m\u001b[0;34m\u001b[0m\u001b[0;34m\u001b[0m\u001b[0m\n\u001b[0;32m----> 2\u001b[0;31m     \u001b[0mnext\u001b[0m\u001b[0;34m(\u001b[0m\u001b[0mobj_fun\u001b[0m\u001b[0;34m)\u001b[0m\u001b[0;34m\u001b[0m\u001b[0;34m\u001b[0m\u001b[0m\n\u001b[0m\u001b[1;32m      3\u001b[0m \u001b[0;32mexcept\u001b[0m \u001b[0mStopIteration\u001b[0m \u001b[0;32mas\u001b[0m \u001b[0me\u001b[0m\u001b[0;34m:\u001b[0m\u001b[0;34m\u001b[0m\u001b[0;34m\u001b[0m\u001b[0m\n\u001b[1;32m      4\u001b[0m     \u001b[0mprint\u001b[0m\u001b[0;34m(\u001b[0m\u001b[0me\u001b[0m\u001b[0;34m.\u001b[0m\u001b[0mvalue\u001b[0m\u001b[0;34m)\u001b[0m\u001b[0;34m\u001b[0m\u001b[0;34m\u001b[0m\u001b[0m\n\u001b[1;32m      5\u001b[0m     \u001b[0;32mraise\u001b[0m\u001b[0;34m(\u001b[0m\u001b[0me\u001b[0m\u001b[0;34m)\u001b[0m\u001b[0;34m\u001b[0m\u001b[0;34m\u001b[0m\u001b[0m\n",
      "\u001b[0;31mStopIteration\u001b[0m: string"
     ]
    }
   ],
   "source": [
    "try:\n",
    "    next(obj_fun)\n",
    "except StopIteration as e:\n",
    "    print(e.value)\n",
    "    raise(e)"
   ]
  },
  {
   "cell_type": "markdown",
   "id": "a2b36345",
   "metadata": {},
   "source": [
    "### Coroutines"
   ]
  },
  {
   "cell_type": "markdown",
   "id": "b967cf39",
   "metadata": {},
   "source": [
    "#### Пример работы yield \"на вход\""
   ]
  },
  {
   "cell_type": "code",
   "execution_count": 15,
   "id": "a182b90b",
   "metadata": {
    "ExecuteTime": {
     "end_time": "2021-11-24T19:45:59.493707Z",
     "start_time": "2021-11-24T19:45:59.490606Z"
    }
   },
   "outputs": [],
   "source": [
    "from collections.abc import Generator"
   ]
  },
  {
   "cell_type": "code",
   "execution_count": 16,
   "id": "2d666b9b",
   "metadata": {
    "ExecuteTime": {
     "end_time": "2021-11-24T19:47:36.181188Z",
     "start_time": "2021-11-24T19:47:36.178003Z"
    }
   },
   "outputs": [],
   "source": [
    "def averager() -> Generator:\n",
    "    total = 0.\n",
    "    count = 0\n",
    "    avg = 0.\n",
    "    while True:\n",
    "        curr = yield avg\n",
    "        total += curr\n",
    "        count += 1\n",
    "        avg = total / count"
   ]
  },
  {
   "cell_type": "code",
   "execution_count": 17,
   "id": "743a7205",
   "metadata": {
    "ExecuteTime": {
     "end_time": "2021-11-24T19:47:39.966729Z",
     "start_time": "2021-11-24T19:47:39.962354Z"
    }
   },
   "outputs": [
    {
     "data": {
      "text/plain": [
       "0.0"
      ]
     },
     "execution_count": 17,
     "metadata": {},
     "output_type": "execute_result"
    }
   ],
   "source": [
    "coro_avg = averager()\n",
    "next(coro_avg)"
   ]
  },
  {
   "cell_type": "code",
   "execution_count": 18,
   "id": "b3ce9397",
   "metadata": {
    "ExecuteTime": {
     "end_time": "2021-11-24T19:47:40.663892Z",
     "start_time": "2021-11-24T19:47:40.659866Z"
    }
   },
   "outputs": [
    {
     "data": {
      "text/plain": [
       "10.0"
      ]
     },
     "execution_count": 18,
     "metadata": {},
     "output_type": "execute_result"
    }
   ],
   "source": [
    "coro_avg.send(10)"
   ]
  },
  {
   "cell_type": "code",
   "execution_count": 19,
   "id": "48ee825b",
   "metadata": {
    "ExecuteTime": {
     "end_time": "2021-11-24T19:47:41.439431Z",
     "start_time": "2021-11-24T19:47:41.435718Z"
    }
   },
   "outputs": [
    {
     "data": {
      "text/plain": [
       "12.5"
      ]
     },
     "execution_count": 19,
     "metadata": {},
     "output_type": "execute_result"
    }
   ],
   "source": [
    "coro_avg.send(15)"
   ]
  },
  {
   "cell_type": "markdown",
   "id": "8bbc7341",
   "metadata": {},
   "source": [
    "Очень похоже на рассмотренный ранее на курсе пример с замыканием. Корутина хранит состояние.\n",
    "\n",
    "В Python корутины -- это по сути те же генераторы, только мы еще помимо считывания данных, их туда дописываем"
   ]
  },
  {
   "cell_type": "code",
   "execution_count": 20,
   "id": "667d6079",
   "metadata": {
    "ExecuteTime": {
     "end_time": "2021-11-24T19:48:06.552138Z",
     "start_time": "2021-11-24T19:48:06.548132Z"
    }
   },
   "outputs": [
    {
     "data": {
      "text/plain": [
       "15.0"
      ]
     },
     "execution_count": 20,
     "metadata": {},
     "output_type": "execute_result"
    }
   ],
   "source": [
    "coro_avg.send(20)"
   ]
  },
  {
   "cell_type": "code",
   "execution_count": 21,
   "id": "36a0cf35",
   "metadata": {
    "ExecuteTime": {
     "end_time": "2021-11-24T19:48:07.900966Z",
     "start_time": "2021-11-24T19:48:07.898628Z"
    }
   },
   "outputs": [],
   "source": [
    "coro_avg.close()"
   ]
  },
  {
   "cell_type": "code",
   "execution_count": 22,
   "id": "42085795",
   "metadata": {
    "ExecuteTime": {
     "end_time": "2021-11-24T19:48:08.990182Z",
     "start_time": "2021-11-24T19:48:08.978537Z"
    }
   },
   "outputs": [
    {
     "ename": "StopIteration",
     "evalue": "",
     "output_type": "error",
     "traceback": [
      "\u001b[0;31m---------------------------------------------------------------------------\u001b[0m",
      "\u001b[0;31mStopIteration\u001b[0m                             Traceback (most recent call last)",
      "\u001b[0;32m/tmp/ipykernel_15724/445105584.py\u001b[0m in \u001b[0;36m<module>\u001b[0;34m\u001b[0m\n\u001b[0;32m----> 1\u001b[0;31m \u001b[0mcoro_avg\u001b[0m\u001b[0;34m.\u001b[0m\u001b[0msend\u001b[0m\u001b[0;34m(\u001b[0m\u001b[0;36m20\u001b[0m\u001b[0;34m)\u001b[0m\u001b[0;34m\u001b[0m\u001b[0;34m\u001b[0m\u001b[0m\n\u001b[0m",
      "\u001b[0;31mStopIteration\u001b[0m: "
     ]
    }
   ],
   "source": [
    "coro_avg.send(20)"
   ]
  },
  {
   "cell_type": "markdown",
   "id": "201dd145",
   "metadata": {},
   "source": [
    "Неформально, **корутина** (или сопрограмма в старой терминологии) -- это такая функция, в которую можно входить много раз и каждый раз попадать именно в то место, из которого в прошлый раз выходил. А также при очеденом входе в такую функцию можно добавлять новые данные. После частичного выхода из сопрограммы, ее код перестает выполняться.\n",
    "\n",
    "Когда выполнение **корутины** приостанавливается, может происходить переключение на другие задачи.\n",
    "\n",
    "Итого, в python **корутина** -- это функция, которая может приостановить свое выполение до своего формального завеешения, и на некоторое время передавать ресурсы программы на выполнение другой **корутины**"
   ]
  },
  {
   "cell_type": "markdown",
   "id": "d6c40071",
   "metadata": {},
   "source": [
    "#### yield from"
   ]
  },
  {
   "cell_type": "markdown",
   "id": "998cc0f6",
   "metadata": {},
   "source": [
    "Также обратим внимание на конструкцию **yield from**"
   ]
  },
  {
   "cell_type": "code",
   "execution_count": 23,
   "id": "0ba1553f",
   "metadata": {
    "ExecuteTime": {
     "end_time": "2021-11-24T19:50:30.486335Z",
     "start_time": "2021-11-24T19:50:30.482854Z"
    }
   },
   "outputs": [],
   "source": [
    "from time import sleep\n",
    "def secondary():\n",
    "    for i in range(10):\n",
    "        yield f\"SEC {i}\"\n",
    "\n",
    "def primary(name=\"Prim\"):\n",
    "    while True:\n",
    "        yield from secondary()\n",
    "        yield name"
   ]
  },
  {
   "cell_type": "code",
   "execution_count": 24,
   "id": "68dbf395",
   "metadata": {
    "ExecuteTime": {
     "end_time": "2021-11-24T19:50:44.419844Z",
     "start_time": "2021-11-24T19:50:32.402018Z"
    }
   },
   "outputs": [
    {
     "name": "stdout",
     "output_type": "stream",
     "text": [
      "0 SEC 0\n",
      "1 SEC 1\n",
      "2 SEC 2\n",
      "3 SEC 3\n",
      "4 SEC 4\n",
      "5 SEC 5\n",
      "6 SEC 6\n",
      "7 SEC 7\n",
      "8 SEC 8\n",
      "9 SEC 9\n",
      "10 Prim\n",
      "11 SEC 0\n"
     ]
    }
   ],
   "source": [
    "core = primary()\n",
    "\n",
    "n = 12\n",
    "for i in range(n):\n",
    "    sleep(1)\n",
    "    print(f'{i} {next(core)}')"
   ]
  },
  {
   "cell_type": "markdown",
   "id": "0e11ad27",
   "metadata": {},
   "source": [
    "Что если сделать два таких primary исполнителя?"
   ]
  },
  {
   "cell_type": "code",
   "execution_count": 26,
   "id": "f1fa5146",
   "metadata": {
    "ExecuteTime": {
     "end_time": "2021-11-24T19:54:00.602122Z",
     "start_time": "2021-11-24T19:53:30.560813Z"
    }
   },
   "outputs": [
    {
     "name": "stdout",
     "output_type": "stream",
     "text": [
      "0| SEC 1 from second prim\n",
      "1| SEC 2 from second prim\n",
      "2| second prim-0\n",
      "3| SEC 1 from second prim\n",
      "4| SEC 2 from second prim\n",
      "5| second prim-1\n",
      "6| SEC 1 from second prim\n",
      "7| SEC 2 from second prim\n",
      "8| SEC 1 from first prim\n",
      "9| SEC 2 from first prim\n",
      "10| second prim-2\n",
      "11| SEC 1 from second prim\n",
      "12| SEC 2 from second prim\n",
      "13| first prim-0\n",
      "14| second prim-3\n",
      "15| SEC 1 from second prim\n",
      "16| SEC 2 from second prim\n",
      "17| second prim-4\n",
      "18| SEC 1 from second prim\n",
      "19| SEC 2 from second prim\n",
      "20| SEC 1 from first prim\n",
      "21| second prim-5\n",
      "22| SEC 1 from second prim\n",
      "23| SEC 2 from second prim\n",
      "24| second prim-6\n",
      "25| SEC 1 from second prim\n",
      "26| SEC 2 from second prim\n",
      "27| second prim-7\n",
      "28| SEC 1 from second prim\n",
      "29| SEC 2 from first prim\n"
     ]
    }
   ],
   "source": [
    "from random import random\n",
    "\n",
    "def secondary(src_name):\n",
    "    yield f'SEC 1 from {src_name}'\n",
    "    yield f'SEC 2 from {src_name}'\n",
    "\n",
    "def primary(name='prim'):\n",
    "    for i in range(1000):\n",
    "        yield from secondary(name)\n",
    "        yield f'{name}-{i}'\n",
    "\n",
    "\n",
    "core_one = primary('first prim')\n",
    "core_two = primary('second prim')\n",
    "\n",
    "n = 30\n",
    "threshold = 0.8\n",
    "\n",
    "for i in range(n):\n",
    "    sleep(1)\n",
    "    if random() > threshold:\n",
    "        res = next(core_one)\n",
    "    else:\n",
    "        res = next(core_two)\n",
    "    print(f'{i}| {res}')"
   ]
  },
  {
   "cell_type": "markdown",
   "id": "9f5ce36f",
   "metadata": {},
   "source": [
    "Обратите внимание на глобальный счетчик. В каждом такте цикла мы возвращаемся к выполнению либо *core_one*, либо *core_2* в зависимости от выбранной вероятности. Один такт цикла -- один отрабатываемый yield"
   ]
  },
  {
   "cell_type": "markdown",
   "id": "2aa124fc",
   "metadata": {},
   "source": [
    "#### Добавляем return"
   ]
  },
  {
   "cell_type": "markdown",
   "id": "ee3689b5",
   "metadata": {
    "ExecuteTime": {
     "end_time": "2021-11-24T07:09:30.897812Z",
     "start_time": "2021-11-24T07:09:30.894392Z"
    }
   },
   "source": [
    "А что если было возвращаемое значение?"
   ]
  },
  {
   "cell_type": "code",
   "execution_count": 42,
   "id": "4ae0b446",
   "metadata": {
    "ExecuteTime": {
     "end_time": "2021-11-24T19:58:12.936815Z",
     "start_time": "2021-11-24T19:58:02.921209Z"
    }
   },
   "outputs": [
    {
     "name": "stdout",
     "output_type": "stream",
     "text": [
      "0 | SEC 1 from prim #0\n",
      "1 | SEC 2 from prim #0\n",
      "secondary-0: \n",
      "2 | SEC 1 from prim #1\n",
      "3 | SEC 2 from prim #1\n",
      "secondary-1: prim\n",
      "4 | SEC 1 from prim #2\n",
      "5 | SEC 2 from prim #2\n",
      "secondary-2: primprim\n",
      "6 | SEC 1 from prim #3\n",
      "7 | SEC 2 from prim #3\n",
      "secondary-3: primprimprim\n",
      "8 | SEC 1 from prim #4\n",
      "9 | SEC 2 from prim #4\n"
     ]
    }
   ],
   "source": [
    "def secondary(src_name, i):\n",
    "    yield f'SEC 1 from {src_name} #{i}'\n",
    "    yield f'SEC 2 from {src_name} #{i}'\n",
    "    return src_name * i\n",
    "    \n",
    "def primary(name='prim'):\n",
    "    for i in range(1000):\n",
    "        res = yield from secondary(name, i)\n",
    "        print(f'secondary-{i}: {res}')\n",
    "        \n",
    "core = primary()\n",
    "\n",
    "n = 10\n",
    "for i in range(n):\n",
    "    sleep(1)\n",
    "    print(f'{i} | {next(core)}')"
   ]
  },
  {
   "cell_type": "markdown",
   "id": "800f0b37",
   "metadata": {},
   "source": [
    "#### \"Общение\" генераторов с попощью send"
   ]
  },
  {
   "cell_type": "markdown",
   "id": "3fbe82d6",
   "metadata": {},
   "source": [
    "Также генераторы могут друг другу пересылать данные через **.send**"
   ]
  },
  {
   "cell_type": "code",
   "execution_count": 214,
   "id": "38b1a54d",
   "metadata": {
    "ExecuteTime": {
     "end_time": "2021-11-24T09:03:38.966660Z",
     "start_time": "2021-11-24T09:03:09.590993Z"
    }
   },
   "outputs": [
    {
     "name": "stdout",
     "output_type": "stream",
     "text": [
      "computer: get val x 1\n",
      "computer: get val y 2\n",
      "provider: got 3 from computer\n",
      "computer: get val x 3\n",
      "computer: get val y 4\n",
      "provider: got 13 from computer\n"
     ]
    },
    {
     "ename": "StopIteration",
     "evalue": "116",
     "output_type": "error",
     "traceback": [
      "\u001b[0;31m---------------------------------------------------------------------------\u001b[0m",
      "\u001b[0;31mStopIteration\u001b[0m                             Traceback (most recent call last)",
      "\u001b[0;32m/tmp/ipykernel_239/1069228804.py\u001b[0m in \u001b[0;36m<module>\u001b[0;34m\u001b[0m\n\u001b[1;32m     17\u001b[0m \u001b[0;32mfor\u001b[0m \u001b[0mi\u001b[0m \u001b[0;32min\u001b[0m \u001b[0mrange\u001b[0m\u001b[0;34m(\u001b[0m\u001b[0;36m4\u001b[0m\u001b[0;34m)\u001b[0m\u001b[0;34m:\u001b[0m\u001b[0;34m\u001b[0m\u001b[0;34m\u001b[0m\u001b[0m\n\u001b[1;32m     18\u001b[0m     \u001b[0mdata\u001b[0m \u001b[0;34m=\u001b[0m \u001b[0meval\u001b[0m\u001b[0;34m(\u001b[0m\u001b[0minput\u001b[0m\u001b[0;34m(\u001b[0m\u001b[0mreq\u001b[0m\u001b[0;34m)\u001b[0m\u001b[0;34m)\u001b[0m\u001b[0;34m\u001b[0m\u001b[0;34m\u001b[0m\u001b[0m\n\u001b[0;32m---> 19\u001b[0;31m     \u001b[0mreq\u001b[0m \u001b[0;34m=\u001b[0m \u001b[0mcommand\u001b[0m\u001b[0;34m.\u001b[0m\u001b[0msend\u001b[0m\u001b[0;34m(\u001b[0m\u001b[0mdata\u001b[0m\u001b[0;34m)\u001b[0m  \u001b[0;31m# send в computer, у которого больше нет yield\u001b[0m\u001b[0;34m\u001b[0m\u001b[0;34m\u001b[0m\u001b[0m\n\u001b[0m",
      "\u001b[0;31mStopIteration\u001b[0m: 116"
     ]
    }
   ],
   "source": [
    "def value_computer(val):\n",
    "    x = yield f'computer: get val x '\n",
    "    y = yield f'computer: get val y '\n",
    "    return x ** 2 + y\n",
    "\n",
    "def value_provider():\n",
    "    res_one = yield from value_computer(1)\n",
    "    print(f'provider: got {res_one} from computer')\n",
    "    res_two = yield from value_computer(2)\n",
    "    print(f'provider: got {res_two} from computer')\n",
    "    \n",
    "    return res_one + res_two + 100\n",
    "\n",
    "command = value_provider()\n",
    "req = next(command)\n",
    "\n",
    "for i in range(4):\n",
    "    data = eval(input(req))\n",
    "    req = command.send(data)  # send в computer, у которого больше нет yield"
   ]
  },
  {
   "cell_type": "markdown",
   "id": "645ed440",
   "metadata": {},
   "source": [
    "#### Подходим к async своими руками"
   ]
  },
  {
   "cell_type": "markdown",
   "id": "2213b752",
   "metadata": {},
   "source": [
    "Теперь значения будем не руками передавать, а делать это из цикла. Например, если у нас сгенерирован int, будем засылать рандомную цифру, str -- букву"
   ]
  },
  {
   "cell_type": "markdown",
   "id": "b3aa786e",
   "metadata": {},
   "source": [
    "Делаем асинхронность своими руками"
   ]
  },
  {
   "cell_type": "code",
   "execution_count": 238,
   "id": "3928f7d7",
   "metadata": {
    "ExecuteTime": {
     "end_time": "2021-11-24T09:32:37.982747Z",
     "start_time": "2021-11-24T09:32:37.977025Z"
    }
   },
   "outputs": [],
   "source": [
    "import random\n",
    "from collections import deque\n",
    "\n",
    "\n",
    "def computer():\n",
    "    '''\n",
    "    умножаем строчку на число\n",
    "    '''\n",
    "    return (yield int) * (yield str)\n",
    "\n",
    "def repeater(n):\n",
    "    '''\n",
    "    склеиваем n строчек\n",
    "    '''\n",
    "    res = ''\n",
    "    for i in range(n):\n",
    "#         print(f'repeater before iteration {i}: {res}')\n",
    "        res += yield from computer()\n",
    "#         print(f'repeater after iteration {i}: {res}')\n",
    "    \n",
    "    return res\n",
    "\n",
    "def runner(*commands):\n",
    "    curr_queue = deque((command, None) for command in reversed(commands))\n",
    "    res = []\n",
    "    \n",
    "    while curr_queue:\n",
    "#         print(curr_queue, res)\n",
    "        cmd, req_type = curr_queue.pop()\n",
    "#         print(cmd, req_type)\n",
    "        try:\n",
    "            if req_type is str:\n",
    "                random_char = random.choice('ABCDRTYUWETDGH')\n",
    "#                 print(f'computer got STR -> send {random_char}')\n",
    "                req_type = cmd.send(random_char)\n",
    "            elif req_type is int:\n",
    "                random_int = random.randint(1, 7)\n",
    "#                 print(f'computer got INT -> send {random_int}')\n",
    "                req_type = cmd.send(random_int)\n",
    "            elif req_type is None:\n",
    "                req_type = next(cmd)\n",
    "            else:\n",
    "                raise ValueError(req_type)\n",
    "        except StopIteration as e:\n",
    "            res.append(e.value)\n",
    "            cmd.close()\n",
    "            # когда получили StopIteration, генератор еще существует\n",
    "            # закрытие как защита от непредвиденного поведения\n",
    "        else:\n",
    "            curr_queue.appendleft((cmd, req_type))\n",
    "    return res"
   ]
  },
  {
   "cell_type": "code",
   "execution_count": 236,
   "id": "b887310e",
   "metadata": {
    "ExecuteTime": {
     "end_time": "2021-11-24T09:25:16.197659Z",
     "start_time": "2021-11-24T09:25:16.187853Z"
    }
   },
   "outputs": [
    {
     "name": "stdout",
     "output_type": "stream",
     "text": [
      "deque([(<generator object repeater at 0x7f37d11c4900>, None)]) []\n",
      "<generator object repeater at 0x7f37d11c4900> None\n",
      "repeater before iteration 0: \n",
      "deque([(<generator object repeater at 0x7f37d11c4900>, <class 'int'>)]) []\n",
      "<generator object repeater at 0x7f37d11c4900> <class 'int'>\n",
      "computer got INT -> send 6\n",
      "deque([(<generator object repeater at 0x7f37d11c4900>, <class 'str'>)]) []\n",
      "<generator object repeater at 0x7f37d11c4900> <class 'str'>\n",
      "computer got STR -> send A\n",
      "repeater after iteration 0: AAAAAA\n",
      "repeater before iteration 1: AAAAAA\n",
      "deque([(<generator object repeater at 0x7f37d11c4900>, <class 'int'>)]) []\n",
      "<generator object repeater at 0x7f37d11c4900> <class 'int'>\n",
      "computer got INT -> send 2\n",
      "deque([(<generator object repeater at 0x7f37d11c4900>, <class 'str'>)]) []\n",
      "<generator object repeater at 0x7f37d11c4900> <class 'str'>\n",
      "computer got STR -> send H\n",
      "repeater after iteration 1: AAAAAAHH\n",
      "repeater before iteration 2: AAAAAAHH\n",
      "deque([(<generator object repeater at 0x7f37d11c4900>, <class 'int'>)]) []\n",
      "<generator object repeater at 0x7f37d11c4900> <class 'int'>\n",
      "computer got INT -> send 1\n",
      "deque([(<generator object repeater at 0x7f37d11c4900>, <class 'str'>)]) []\n",
      "<generator object repeater at 0x7f37d11c4900> <class 'str'>\n",
      "computer got STR -> send B\n",
      "repeater after iteration 2: AAAAAAHHB\n"
     ]
    },
    {
     "data": {
      "text/plain": [
       "['AAAAAAHHB']"
      ]
     },
     "execution_count": 236,
     "metadata": {},
     "output_type": "execute_result"
    }
   ],
   "source": [
    "runner(repeater(3))"
   ]
  },
  {
   "cell_type": "code",
   "execution_count": 239,
   "id": "a075464c",
   "metadata": {
    "ExecuteTime": {
     "end_time": "2021-11-24T09:32:40.365322Z",
     "start_time": "2021-11-24T09:32:40.362384Z"
    }
   },
   "outputs": [
    {
     "name": "stdout",
     "output_type": "stream",
     "text": [
      "['ECCCCCCC', 'EEEEECCCCCCCGGGGGBBUUUUUUUDDDDDDD', 'AAAAAATTTTTTTTTTTEWWWWWWWHHWWWWWUDDRRRRR']\n"
     ]
    }
   ],
   "source": [
    "print(runner(repeater(10), repeater(2), repeater(6)))"
   ]
  },
  {
   "cell_type": "markdown",
   "id": "77655f13",
   "metadata": {},
   "source": [
    "Код выполняется в произвольном порядке (но все еще контролируемым программистом!)"
   ]
  },
  {
   "cell_type": "markdown",
   "id": "2a38b4f3",
   "metadata": {
    "ExecuteTime": {
     "end_time": "2021-11-24T07:44:12.051377Z",
     "start_time": "2021-11-24T07:44:12.047725Z"
    }
   },
   "source": [
    "*А теперь следите за руками*"
   ]
  },
  {
   "cell_type": "code",
   "execution_count": 240,
   "id": "51300811",
   "metadata": {
    "ExecuteTime": {
     "end_time": "2021-11-24T09:35:23.835804Z",
     "start_time": "2021-11-24T09:35:23.832943Z"
    }
   },
   "outputs": [],
   "source": [
    "import asyncio\n",
    "import types"
   ]
  },
  {
   "cell_type": "code",
   "execution_count": 241,
   "id": "626834e1",
   "metadata": {
    "ExecuteTime": {
     "end_time": "2021-11-24T09:36:13.014219Z",
     "start_time": "2021-11-24T09:36:13.008988Z"
    }
   },
   "outputs": [],
   "source": [
    "import random\n",
    "from collections import deque\n",
    "\n",
    "@types.coroutine\n",
    "def computer():\n",
    "    '''\n",
    "    умножаем строчку на число\n",
    "    '''\n",
    "    return (yield int) * (yield str)\n",
    "\n",
    "async def repeater(n):\n",
    "    '''\n",
    "    склеиваем n строчек\n",
    "    '''\n",
    "    res = ''\n",
    "    for i in range(n):\n",
    "        res += await computer()\n",
    "    \n",
    "    return res\n",
    "\n",
    "def runner(*commands):\n",
    "    curr_queue = deque((command, None) for command in reversed(commands))\n",
    "    res = []\n",
    "    \n",
    "    while curr_queue:\n",
    "        cmd, req_type = curr_queue.pop()\n",
    "        try:\n",
    "            if req_type is str:\n",
    "                req_type = cmd.send(random.choice('ABCDRTYUWETDGH'))\n",
    "            elif req_type is int:\n",
    "                req_type = cmd.send(random.randint(1, 7))\n",
    "            elif req_type is None:\n",
    "                req_type = cmd.send(None)\n",
    "            else:\n",
    "                raise ValueError(req_type)\n",
    "        except StopIteration as e:\n",
    "            res.append(e.value)\n",
    "            cmd.close()\n",
    "            # когда получили StopIteration, генератор еще существует\n",
    "            # закрытие как защита от непредвиденного поведения\n",
    "        else:\n",
    "            curr_queue.appendleft((cmd, req_type))\n",
    "    return res"
   ]
  },
  {
   "cell_type": "code",
   "execution_count": 242,
   "id": "9a056e6c",
   "metadata": {
    "ExecuteTime": {
     "end_time": "2021-11-24T09:36:14.188628Z",
     "start_time": "2021-11-24T09:36:14.185227Z"
    }
   },
   "outputs": [
    {
     "name": "stdout",
     "output_type": "stream",
     "text": [
      "['WWWWWWWDDDDD', 'HHHHYRRRRREEEEEEDDDDDDDUU', 'UUUUHHHHHHABBBBBCCCCCCGGGGGHHHHHHHRRRRDDDDDD']\n"
     ]
    }
   ],
   "source": [
    "print(runner(repeater(10), repeater(2), repeater(6)))"
   ]
  },
  {
   "cell_type": "markdown",
   "id": "db582e83",
   "metadata": {},
   "source": [
    "Мы сейчас практически из кода на чистом питоне перешли к использованию **asyncio**!  "
   ]
  },
  {
   "cell_type": "markdown",
   "id": "27bd3c3b",
   "metadata": {},
   "source": [
    "## Concurrency, processes, threads кто такие"
   ]
  },
  {
   "cell_type": "markdown",
   "id": "c36a7a92",
   "metadata": {},
   "source": [
    "**concurrency**\n",
    "\n",
    "The ability to handle multiple pending tasks, making progress one at a time or in parallel (if possible) so that each of them eventually succeeds or fails. A single-core CPU is capable of concurrency if it runs an OS scheduler that interleaves the execution of the pending tasks. Also known as multitasking"
   ]
  },
  {
   "cell_type": "markdown",
   "id": "6f390792",
   "metadata": {},
   "source": [
    "**parallelism**\n",
    "\n",
    "The ability to execute multiple computations at the same time. This requires a multi-core CPU, a GPU, or multiple computers in cluster."
   ]
  },
  {
   "cell_type": "markdown",
   "id": "7d942966",
   "metadata": {},
   "source": [
    "**process**\n",
    "\n",
    "An instance of a computer program while it is running, using memory and a slice of the CPU time. Modern operating systems are able to manage many processes concurrently, with each process isolated in its own private memory space. Processes communicate via pipes, sockets, or memory mapped files—all of which can only carry raw bytes, not live Python objects. A process can spawn sub-processes, each called achild process. These are also isolated from each other and from the parent."
   ]
  },
  {
   "cell_type": "markdown",
   "id": "a1eb8a85",
   "metadata": {},
   "source": [
    "Каждый инстанс интерпретатора Python -- это процесс. Для создания процессов в своей программе можно использовать модуль *multiprocessing*"
   ]
  },
  {
   "cell_type": "markdown",
   "id": "fd73cc93",
   "metadata": {},
   "source": [
    "**thread**\n",
    "\n",
    "An execution path within a single process. When a process starts, it uses a single thread: the main thread. Using operating system APIs, a process can create more threads that operate concurrently thanks to the operating system scheduler. Threads share the memory space of the process, which holds live Python objects. This allows easy communication between threads, but can also lead to corrupted data when more than one thread updates the same object concurrently."
   ]
  },
  {
   "cell_type": "markdown",
   "id": "4dbc9c6a",
   "metadata": {},
   "source": [
    "Python (CPython) использует один тред. Можно добавлять новые треды в программу с помощью модуля *threading*"
   ]
  },
  {
   "cell_type": "markdown",
   "id": "f8497d28",
   "metadata": {},
   "source": [
    "**contention**\n",
    "\n",
    "Dispute over a limited asset. Resource contention happens when multiple processes or threads try to access a shared resource—such as a lock or storage. There’s also CPU contention, when compute-intensive processes or threads must wait for their share of CPU time."
   ]
  },
  {
   "cell_type": "markdown",
   "id": "8b6f0602",
   "metadata": {},
   "source": [
    "**lock**\n",
    "\n",
    "An object that threads can use to coordinate and synchronize their actions and avoid corrupting data. While updating a shared data structure, a thread should hold an associated lock. This makes other well-behaved threads wait until the lock is released before accessing the same data structure. The simplest type of lock is also known as a mutex (for mutual exclusion)."
   ]
  },
  {
   "cell_type": "markdown",
   "id": "8a41c1ff",
   "metadata": {},
   "source": [
    "В Python есть такая вещь как GIL (Global Interpreter Lock). В один момент времени только один тред может держать данный лок\n",
    "\n",
    "- Интерпретатор каждые несколько мс делает паузы, освобождая лок и позволяя другому ожидающему треду (при наличии такового) продолжить работу\n",
    "\n",
    "- Мы не управляем GIL явно и в полной мере\n",
    "\n",
    "- GIL освобождается во время функций, производящих disk и network I/O, а также time.sleep()\n",
    "\n",
    "- Библиотеки, написанные на C/C++  могут обходить ограничения GIL и улучшать производительность (e.g. numpy)"
   ]
  },
  {
   "cell_type": "markdown",
   "id": "d20ea1ba",
   "metadata": {},
   "source": [
    "---"
   ]
  },
  {
   "cell_type": "markdown",
   "id": "e4ebb33a",
   "metadata": {},
   "source": [
    "В качестве упражнения подумайте, как соотносятся между собой термины *Parallelism*, *Asynchronous programming*, *Threading*, *Multiprocessing*, *Concurrency*"
   ]
  },
  {
   "cell_type": "markdown",
   "id": "b0812226",
   "metadata": {},
   "source": [
    "## AsyncIO введение"
   ]
  },
  {
   "cell_type": "markdown",
   "id": "147023ef",
   "metadata": {},
   "source": [
    "Выше мы с вами увидели, что от асинхронного кода, реализованного на генераторах, можно перейти к использованию стандратного модуля **AsyncIO**\n",
    "\n",
    "Все потому, что в основе **asyncio** стоит понятие *корутины*. А выше мы с вами уже увидели, что корутины можно реализовать с помощью обычных генераторов. Данный модуль позволяет сильно упростить реализацию асинхронного кода и \"отделить\" для пользователя понятие корутин от классических генераторов.  \n",
    "\n"
   ]
  },
  {
   "cell_type": "markdown",
   "id": "aee7e2d4",
   "metadata": {},
   "source": [
    "### К примерам"
   ]
  },
  {
   "cell_type": "markdown",
   "id": "689c0092",
   "metadata": {},
   "source": [
    "#### Первая программа с async"
   ]
  },
  {
   "cell_type": "code",
   "execution_count": 67,
   "id": "c6f796cb",
   "metadata": {
    "ExecuteTime": {
     "end_time": "2021-11-30T21:51:39.368523Z",
     "start_time": "2021-11-30T21:51:39.365469Z"
    }
   },
   "outputs": [],
   "source": [
    "from time import sleep\n",
    "\n",
    "def printer(text: str):\n",
    "    print(text)\n",
    "\n",
    "def sleeper(duration: int):\n",
    "    sleep(duration)\n",
    "    \n",
    "def main():\n",
    "    sleeper(5)\n",
    "    printer('Woke up')"
   ]
  },
  {
   "cell_type": "markdown",
   "id": "52d61dc5",
   "metadata": {
    "ExecuteTime": {
     "end_time": "2021-11-30T21:49:03.200766Z",
     "start_time": "2021-11-30T21:49:03.197172Z"
    }
   },
   "source": [
    "Запустим синхронно (последовательно)"
   ]
  },
  {
   "cell_type": "code",
   "execution_count": 68,
   "id": "3e1505cb",
   "metadata": {
    "ExecuteTime": {
     "end_time": "2021-11-30T21:51:44.988046Z",
     "start_time": "2021-11-30T21:51:39.980620Z"
    }
   },
   "outputs": [
    {
     "name": "stdout",
     "output_type": "stream",
     "text": [
      "Woke up\n",
      "CPU times: user 2.11 ms, sys: 0 ns, total: 2.11 ms\n",
      "Wall time: 5.01 s\n"
     ]
    }
   ],
   "source": [
    "%%time\n",
    "\n",
    "main()"
   ]
  },
  {
   "cell_type": "markdown",
   "id": "95a8e0a0",
   "metadata": {},
   "source": [
    "Заиспользуем **asyncio**"
   ]
  },
  {
   "cell_type": "code",
   "execution_count": 130,
   "id": "3889a574",
   "metadata": {
    "ExecuteTime": {
     "end_time": "2021-12-01T00:35:25.350245Z",
     "start_time": "2021-12-01T00:35:25.347321Z"
    }
   },
   "outputs": [],
   "source": [
    "import asyncio\n",
    "\n",
    "async def printer(text: str):\n",
    "    print(text)\n",
    "    \n",
    "async def sleeper(duration: int):\n",
    "    print(f'sleeping for {duration} seconds')\n",
    "    await asyncio.sleep(duration)\n",
    "\n",
    "def main():\n",
    "    sleeper(5)\n",
    "    printer('Woke up')"
   ]
  },
  {
   "cell_type": "code",
   "execution_count": 131,
   "id": "ed079c30",
   "metadata": {
    "ExecuteTime": {
     "end_time": "2021-12-01T00:35:25.844916Z",
     "start_time": "2021-12-01T00:35:25.841331Z"
    }
   },
   "outputs": [
    {
     "name": "stdout",
     "output_type": "stream",
     "text": [
      "CPU times: user 279 µs, sys: 163 µs, total: 442 µs\n",
      "Wall time: 247 µs\n"
     ]
    },
    {
     "name": "stderr",
     "output_type": "stream",
     "text": [
      "/tmp/ipykernel_131/2387693841.py:11: RuntimeWarning: coroutine 'sleeper' was never awaited\n",
      "  sleeper(5)\n",
      "RuntimeWarning: Enable tracemalloc to get the object allocation traceback\n",
      "/tmp/ipykernel_131/2387693841.py:12: RuntimeWarning: coroutine 'printer' was never awaited\n",
      "  printer('Woke up')\n",
      "RuntimeWarning: Enable tracemalloc to get the object allocation traceback\n"
     ]
    }
   ],
   "source": [
    "%%time\n",
    "main()"
   ]
  },
  {
   "cell_type": "markdown",
   "id": "b9ecf800",
   "metadata": {},
   "source": [
    "Что произошло? (ничего)"
   ]
  },
  {
   "cell_type": "code",
   "execution_count": 132,
   "id": "e996f057",
   "metadata": {
    "ExecuteTime": {
     "end_time": "2021-12-01T00:35:27.173454Z",
     "start_time": "2021-12-01T00:35:27.169300Z"
    }
   },
   "outputs": [
    {
     "name": "stderr",
     "output_type": "stream",
     "text": [
      "/tmp/ipykernel_131/2353443482.py:1: RuntimeWarning: coroutine 'printer' was never awaited\n",
      "  type(printer('smth'))\n",
      "RuntimeWarning: Enable tracemalloc to get the object allocation traceback\n"
     ]
    },
    {
     "data": {
      "text/plain": [
       "coroutine"
      ]
     },
     "execution_count": 132,
     "metadata": {},
     "output_type": "execute_result"
    }
   ],
   "source": [
    "type(printer('smth'))"
   ]
  },
  {
   "cell_type": "markdown",
   "id": "4cd33d3a",
   "metadata": {},
   "source": [
    "Мы получили объект корутины, но не запустили его. Для этого нам нужно использовать ключевое слово **await** "
   ]
  },
  {
   "cell_type": "code",
   "execution_count": 133,
   "id": "46d421e9",
   "metadata": {
    "ExecuteTime": {
     "end_time": "2021-12-01T00:35:27.607502Z",
     "start_time": "2021-12-01T00:35:27.604010Z"
    }
   },
   "outputs": [
    {
     "ename": "SyntaxError",
     "evalue": "'await' outside async function (2947588344.py, line 2)",
     "output_type": "error",
     "traceback": [
      "\u001b[0;36m  File \u001b[0;32m\"/tmp/ipykernel_131/2947588344.py\"\u001b[0;36m, line \u001b[0;32m2\u001b[0m\n\u001b[0;31m    await sleeper(5)\u001b[0m\n\u001b[0m    ^\u001b[0m\n\u001b[0;31mSyntaxError\u001b[0m\u001b[0;31m:\u001b[0m 'await' outside async function\n"
     ]
    }
   ],
   "source": [
    "def main():\n",
    "    await sleeper(5)\n",
    "    await printer('Woke up')"
   ]
  },
  {
   "cell_type": "markdown",
   "id": "24721391",
   "metadata": {},
   "source": [
    "**await** можно определять только в async функциях"
   ]
  },
  {
   "cell_type": "code",
   "execution_count": 134,
   "id": "2f9d5a03",
   "metadata": {
    "ExecuteTime": {
     "end_time": "2021-12-01T00:35:29.243551Z",
     "start_time": "2021-12-01T00:35:29.240640Z"
    }
   },
   "outputs": [],
   "source": [
    "async def main():\n",
    "    await sleeper(5)\n",
    "    await printer('Woke up')"
   ]
  },
  {
   "cell_type": "code",
   "execution_count": 135,
   "id": "aba37e85",
   "metadata": {
    "ExecuteTime": {
     "end_time": "2021-12-01T00:35:29.718263Z",
     "start_time": "2021-12-01T00:35:29.714415Z"
    }
   },
   "outputs": [
    {
     "data": {
      "text/plain": [
       "<coroutine object main at 0x7f4caf122f40>"
      ]
     },
     "execution_count": 135,
     "metadata": {},
     "output_type": "execute_result"
    }
   ],
   "source": [
    "main()"
   ]
  },
  {
   "cell_type": "markdown",
   "id": "e477bff1",
   "metadata": {},
   "source": [
    "Логично, получили еще одну корутину :)\n",
    "\n",
    "Все потому, что мы не разобрали еще один концепт -- **event loop**\n",
    "\n",
    "**Event loop** можно представлять в виде долгого цикла, внутри которого программа мониторит состояние разных корутин и решает, какую из них выполнять в конкретный момент.\n",
    "\n",
    "Можно сказать, что это самая сложная логика программы, и круто, что модуль прячем ее реализацию \"под капот\""
   ]
  },
  {
   "cell_type": "code",
   "execution_count": 136,
   "id": "a5b319d4",
   "metadata": {
    "ExecuteTime": {
     "end_time": "2021-12-01T00:35:30.438239Z",
     "start_time": "2021-12-01T00:35:30.428448Z"
    }
   },
   "outputs": [
    {
     "ename": "RuntimeError",
     "evalue": "asyncio.run() cannot be called from a running event loop",
     "output_type": "error",
     "traceback": [
      "\u001b[0;31m---------------------------------------------------------------------------\u001b[0m",
      "\u001b[0;31mRuntimeError\u001b[0m                              Traceback (most recent call last)",
      "\u001b[0;32m/tmp/ipykernel_131/149163935.py\u001b[0m in \u001b[0;36m<module>\u001b[0;34m\u001b[0m\n\u001b[0;32m----> 1\u001b[0;31m \u001b[0masyncio\u001b[0m\u001b[0;34m.\u001b[0m\u001b[0mrun\u001b[0m\u001b[0;34m(\u001b[0m\u001b[0mmain\u001b[0m\u001b[0;34m(\u001b[0m\u001b[0;34m)\u001b[0m\u001b[0;34m)\u001b[0m\u001b[0;34m\u001b[0m\u001b[0;34m\u001b[0m\u001b[0m\n\u001b[0m",
      "\u001b[0;32m/usr/lib/python3.8/asyncio/runners.py\u001b[0m in \u001b[0;36mrun\u001b[0;34m(main, debug)\u001b[0m\n\u001b[1;32m     31\u001b[0m     \"\"\"\n\u001b[1;32m     32\u001b[0m     \u001b[0;32mif\u001b[0m \u001b[0mevents\u001b[0m\u001b[0;34m.\u001b[0m\u001b[0m_get_running_loop\u001b[0m\u001b[0;34m(\u001b[0m\u001b[0;34m)\u001b[0m \u001b[0;32mis\u001b[0m \u001b[0;32mnot\u001b[0m \u001b[0;32mNone\u001b[0m\u001b[0;34m:\u001b[0m\u001b[0;34m\u001b[0m\u001b[0;34m\u001b[0m\u001b[0m\n\u001b[0;32m---> 33\u001b[0;31m         raise RuntimeError(\n\u001b[0m\u001b[1;32m     34\u001b[0m             \"asyncio.run() cannot be called from a running event loop\")\n\u001b[1;32m     35\u001b[0m \u001b[0;34m\u001b[0m\u001b[0m\n",
      "\u001b[0;31mRuntimeError\u001b[0m: asyncio.run() cannot be called from a running event loop"
     ]
    }
   ],
   "source": [
    "asyncio.run(main())"
   ]
  },
  {
   "cell_type": "markdown",
   "id": "1b2a3439",
   "metadata": {},
   "source": [
    "Почему мы получили такое сообщение?"
   ]
  },
  {
   "cell_type": "code",
   "execution_count": 137,
   "id": "8de02ba5",
   "metadata": {
    "ExecuteTime": {
     "end_time": "2021-12-01T00:35:37.119806Z",
     "start_time": "2021-12-01T00:35:32.112333Z"
    }
   },
   "outputs": [
    {
     "name": "stdout",
     "output_type": "stream",
     "text": [
      "sleeping for 5 seconds\n",
      "Woke up\n"
     ]
    }
   ],
   "source": [
    "await main()"
   ]
  },
  {
   "cell_type": "markdown",
   "id": "c2363b96-b7dc-4e56-ab13-80ed77067c6e",
   "metadata": {},
   "source": [
    "##### 1"
   ]
  },
  {
   "cell_type": "code",
   "execution_count": 138,
   "id": "e24467f4",
   "metadata": {
    "ExecuteTime": {
     "end_time": "2021-12-01T00:35:38.799253Z",
     "start_time": "2021-12-01T00:35:38.793436Z"
    }
   },
   "outputs": [
    {
     "name": "stdout",
     "output_type": "stream",
     "text": [
      "Overwriting async_intro_1.py\n"
     ]
    }
   ],
   "source": [
    "%%writefile async_intro_1.py\n",
    "\n",
    "import asyncio\n",
    "\n",
    "async def printer(text: str):\n",
    "    print(text)\n",
    "    \n",
    "async def sleeper(duration: int):\n",
    "    await asyncio.sleep(duration)\n",
    "\n",
    "async def main():\n",
    "    await sleeper(5)\n",
    "    await printer('Woke up')\n",
    "    \n",
    "asyncio.run(main())"
   ]
  },
  {
   "cell_type": "code",
   "execution_count": 139,
   "id": "4eaa5258",
   "metadata": {
    "ExecuteTime": {
     "end_time": "2021-12-01T00:35:45.294061Z",
     "start_time": "2021-12-01T00:35:40.113242Z"
    }
   },
   "outputs": [
    {
     "name": "stdout",
     "output_type": "stream",
     "text": [
      "Woke up\n"
     ]
    }
   ],
   "source": [
    "! python3 async_intro_1.py"
   ]
  },
  {
   "cell_type": "markdown",
   "id": "350058ea",
   "metadata": {},
   "source": [
    "Выполнять **asyncio.run()** можно начиная с python3.7\n",
    "\n",
    "Также мы можем явно определять *event_loop*"
   ]
  },
  {
   "cell_type": "code",
   "execution_count": 140,
   "id": "448cfb1d",
   "metadata": {
    "ExecuteTime": {
     "end_time": "2021-12-01T00:35:45.297991Z",
     "start_time": "2021-12-01T00:35:45.295433Z"
    }
   },
   "outputs": [],
   "source": [
    "loop = asyncio.get_event_loop()"
   ]
  },
  {
   "cell_type": "code",
   "execution_count": 141,
   "id": "dd7eec8d",
   "metadata": {
    "ExecuteTime": {
     "end_time": "2021-12-01T00:35:45.316976Z",
     "start_time": "2021-12-01T00:35:45.299473Z"
    }
   },
   "outputs": [
    {
     "data": {
      "text/plain": [
       "<_UnixSelectorEventLoop running=True closed=False debug=False>"
      ]
     },
     "execution_count": 141,
     "metadata": {},
     "output_type": "execute_result"
    }
   ],
   "source": [
    "loop"
   ]
  },
  {
   "cell_type": "code",
   "execution_count": 142,
   "id": "a92e7654",
   "metadata": {
    "ExecuteTime": {
     "end_time": "2021-12-01T00:35:45.322881Z",
     "start_time": "2021-12-01T00:35:45.319076Z"
    }
   },
   "outputs": [
    {
     "name": "stdout",
     "output_type": "stream",
     "text": [
      "Help on method run_until_complete in module asyncio.base_events:\n",
      "\n",
      "run_until_complete(future) method of asyncio.unix_events._UnixSelectorEventLoop instance\n",
      "    Run until the Future is done.\n",
      "    \n",
      "    If the argument is a coroutine, it is wrapped in a Task.\n",
      "    \n",
      "    WARNING: It would be disastrous to call run_until_complete()\n",
      "    with the same coroutine twice -- it would wrap it in two\n",
      "    different Tasks and that can't be good.\n",
      "    \n",
      "    Return the Future's result, or raise its exception.\n",
      "\n"
     ]
    }
   ],
   "source": [
    "help(loop.run_until_complete)"
   ]
  },
  {
   "cell_type": "markdown",
   "id": "6f884926-577c-4aa1-b3e2-f72373d90fdc",
   "metadata": {},
   "source": [
    "##### 2"
   ]
  },
  {
   "cell_type": "markdown",
   "id": "91d0ba13",
   "metadata": {},
   "source": [
    "Заметим, что здесь мы оперируем Future. Можно считать, что futures -- это запланированные к выполнению корутины. Название довольно логичное: мы передаем на вход объект, результат выполнения которого будет вычислен в будущем"
   ]
  },
  {
   "cell_type": "code",
   "execution_count": 147,
   "id": "6d97961f",
   "metadata": {
    "ExecuteTime": {
     "end_time": "2021-12-01T00:37:01.703975Z",
     "start_time": "2021-12-01T00:37:01.697700Z"
    }
   },
   "outputs": [
    {
     "name": "stdout",
     "output_type": "stream",
     "text": [
      "Overwriting async_intro_2.py\n"
     ]
    }
   ],
   "source": [
    "%%writefile async_intro_2.py\n",
    "\n",
    "import asyncio\n",
    "\n",
    "async def printer(text: str):\n",
    "    print(text)\n",
    "    \n",
    "async def sleeper(duration: int):\n",
    "    print(f'sleeping for {duration} seconds')\n",
    "    await asyncio.sleep(duration)\n",
    "\n",
    "async def main():\n",
    "    await sleeper(5)\n",
    "    await printer('Woke up')\n",
    "    \n",
    "loop = asyncio.get_event_loop()\n",
    "loop.run_until_complete(main())\n",
    "loop.close()"
   ]
  },
  {
   "cell_type": "code",
   "execution_count": 148,
   "id": "06f83ceb",
   "metadata": {
    "ExecuteTime": {
     "end_time": "2021-12-01T00:37:07.238536Z",
     "start_time": "2021-12-01T00:37:02.057177Z"
    }
   },
   "outputs": [
    {
     "name": "stdout",
     "output_type": "stream",
     "text": [
      "sleeping for 5 seconds\n",
      "Woke up\n"
     ]
    }
   ],
   "source": [
    "! python3 async_intro_2.py"
   ]
  },
  {
   "cell_type": "markdown",
   "id": "09eff85d",
   "metadata": {},
   "source": [
    "Немного модифицируем программу. Мы увидели, что тяжелая функция все равно выполнилась последовательно, и в чем тогда, спрашивается, смымл. Нужно более четко сформулировать, какие *задачи* должны быть решены в рамках нашего кода и должны ли они решаться concurrently. В противном случае await будет тормозить программу"
   ]
  },
  {
   "cell_type": "code",
   "execution_count": 151,
   "id": "009cf29a",
   "metadata": {
    "ExecuteTime": {
     "end_time": "2021-12-01T00:40:24.403984Z",
     "start_time": "2021-12-01T00:40:24.400698Z"
    }
   },
   "outputs": [],
   "source": [
    "async def main():\n",
    "    print('Running main')\n",
    "    task_sleep = asyncio.create_task(sleeper(5))\n",
    "    print('Slept')\n",
    "    task_print = asyncio.create_task(printer('Woke up'))\n",
    "    print('Finished main')\n",
    "    "
   ]
  },
  {
   "cell_type": "code",
   "execution_count": 158,
   "id": "64d2b913",
   "metadata": {
    "ExecuteTime": {
     "end_time": "2021-12-01T00:40:42.037165Z",
     "start_time": "2021-12-01T00:40:42.032420Z"
    }
   },
   "outputs": [
    {
     "name": "stdout",
     "output_type": "stream",
     "text": [
      "Running main\n",
      "Slept\n",
      "Finished main\n",
      "sleeping for 5 seconds\n",
      "Woke up\n"
     ]
    }
   ],
   "source": [
    "await main()"
   ]
  },
  {
   "cell_type": "markdown",
   "id": "3c1d8ffb",
   "metadata": {},
   "source": [
    "Интересно, мы просто не стали спать!"
   ]
  },
  {
   "cell_type": "code",
   "execution_count": 161,
   "id": "aeec1672",
   "metadata": {
    "ExecuteTime": {
     "end_time": "2021-12-01T00:41:35.715331Z",
     "start_time": "2021-12-01T00:41:35.712297Z"
    }
   },
   "outputs": [],
   "source": [
    "async def main():\n",
    "    print('Running main')\n",
    "    task_sleep = asyncio.create_task(sleeper(5))\n",
    "    print('Slept')\n",
    "    task_print = asyncio.create_task(printer('Woke up'))\n",
    "    await task_sleep\n",
    "    await task_print\n",
    "    print('Finished main')"
   ]
  },
  {
   "cell_type": "code",
   "execution_count": 162,
   "id": "cd3ea5d1",
   "metadata": {
    "ExecuteTime": {
     "end_time": "2021-12-01T00:41:41.161876Z",
     "start_time": "2021-12-01T00:41:36.153110Z"
    }
   },
   "outputs": [
    {
     "name": "stdout",
     "output_type": "stream",
     "text": [
      "Running main\n",
      "Slept\n",
      "sleeping for 5 seconds\n",
      "Woke up\n",
      "Finished main\n"
     ]
    }
   ],
   "source": [
    "await main()"
   ]
  },
  {
   "cell_type": "code",
   "execution_count": 165,
   "id": "9df0efa2",
   "metadata": {
    "ExecuteTime": {
     "end_time": "2021-12-01T00:42:11.091448Z",
     "start_time": "2021-12-01T00:42:11.088300Z"
    }
   },
   "outputs": [],
   "source": [
    "async def main():\n",
    "    print('Running main')\n",
    "    task_sleep = asyncio.create_task(sleeper(5))\n",
    "    print('Slept')\n",
    "    task_print = asyncio.create_task(printer('Woke up'))\n",
    "    await task_print\n",
    "    await task_sleep\n",
    "    print('Finished main')"
   ]
  },
  {
   "cell_type": "code",
   "execution_count": 166,
   "id": "a952cc14",
   "metadata": {
    "ExecuteTime": {
     "end_time": "2021-12-01T00:42:16.353422Z",
     "start_time": "2021-12-01T00:42:11.345270Z"
    }
   },
   "outputs": [
    {
     "name": "stdout",
     "output_type": "stream",
     "text": [
      "Running main\n",
      "Slept\n",
      "sleeping for 5 seconds\n",
      "Woke up\n",
      "Finished main\n"
     ]
    }
   ],
   "source": [
    "await main()"
   ]
  },
  {
   "cell_type": "markdown",
   "id": "7a314f71-e7da-4976-8238-58e3f9344f95",
   "metadata": {},
   "source": [
    "##### 3"
   ]
  },
  {
   "cell_type": "code",
   "execution_count": 175,
   "id": "3e4d9561",
   "metadata": {
    "ExecuteTime": {
     "end_time": "2021-12-01T00:47:30.277361Z",
     "start_time": "2021-12-01T00:47:30.271471Z"
    }
   },
   "outputs": [
    {
     "name": "stdout",
     "output_type": "stream",
     "text": [
      "Overwriting async_intro_3.py\n"
     ]
    }
   ],
   "source": [
    "%%writefile async_intro_3.py\n",
    "\n",
    "import asyncio\n",
    "\n",
    "async def printer(text: str):\n",
    "    print(text)\n",
    "    \n",
    "async def sleeper(duration: int):\n",
    "    print(f'sleeping for {duration} seconds')\n",
    "    await asyncio.sleep(duration)\n",
    "\n",
    "async def main():\n",
    "    \n",
    "    print('Running main')\n",
    "    task_sleep = asyncio.create_task(sleeper(5))\n",
    "    print('Slept')\n",
    "    task_print = asyncio.create_task(printer('Woke up'))\n",
    "    await task_print\n",
    "    await task_sleep\n",
    "    print('Finished main')\n",
    "    \n",
    "loop = asyncio.get_event_loop()\n",
    "loop.run_until_complete(main())\n",
    "loop.close()"
   ]
  },
  {
   "cell_type": "code",
   "execution_count": 176,
   "id": "b554658a",
   "metadata": {
    "ExecuteTime": {
     "end_time": "2021-12-01T00:47:36.707989Z",
     "start_time": "2021-12-01T00:47:31.527545Z"
    }
   },
   "outputs": [
    {
     "name": "stdout",
     "output_type": "stream",
     "text": [
      "Running main\n",
      "Slept\n",
      "sleeping for 5 seconds\n",
      "Woke up\n",
      "Finished main\n"
     ]
    }
   ],
   "source": [
    "! python3 async_intro_3.py"
   ]
  },
  {
   "cell_type": "markdown",
   "id": "35943b61-2d7c-4211-a5aa-87f59d60f4ad",
   "metadata": {},
   "source": [
    "##### 4"
   ]
  },
  {
   "cell_type": "markdown",
   "id": "19c2386d",
   "metadata": {},
   "source": [
    "**Расмотрим работу с return**"
   ]
  },
  {
   "cell_type": "code",
   "execution_count": 192,
   "id": "a3d97232",
   "metadata": {
    "ExecuteTime": {
     "end_time": "2021-12-01T00:53:19.318201Z",
     "start_time": "2021-12-01T00:53:19.311784Z"
    }
   },
   "outputs": [
    {
     "name": "stdout",
     "output_type": "stream",
     "text": [
      "Overwriting async_intro_4.py\n"
     ]
    }
   ],
   "source": [
    "%%writefile async_intro_4.py\n",
    "\n",
    "import asyncio\n",
    "\n",
    "async def get_data():\n",
    "    print('getting data from somewhere')\n",
    "    await asyncio.sleep(1.5)\n",
    "    print('got data')\n",
    "    return {'data': 'yay!'}\n",
    "    \n",
    "    \n",
    "async def sleeper_numbers(length: int, duration: float):\n",
    "    for i in range(length):\n",
    "        print(i)\n",
    "        await asyncio.sleep(duration)\n",
    "\n",
    "async def main():\n",
    "    print('Running main')\n",
    "    task_sleep = asyncio.create_task(sleeper_numbers(15, 0.25))\n",
    "    print('Slept')\n",
    "    task_data = asyncio.create_task(get_data())\n",
    "    data = await task_data\n",
    "    print('Got data', data)\n",
    "    print('Finished main')\n",
    "    \n",
    "asyncio.run(main())"
   ]
  },
  {
   "cell_type": "code",
   "execution_count": 193,
   "id": "b4f7c034",
   "metadata": {
    "ExecuteTime": {
     "end_time": "2021-12-01T00:53:21.563831Z",
     "start_time": "2021-12-01T00:53:19.886911Z"
    }
   },
   "outputs": [
    {
     "name": "stdout",
     "output_type": "stream",
     "text": [
      "Running main\n",
      "Slept\n",
      "0\n",
      "getting data from somewhere\n",
      "1\n",
      "2\n",
      "3\n",
      "4\n",
      "5\n",
      "got data\n",
      "Got data {'data': 'yay!'}\n",
      "Finished main\n"
     ]
    }
   ],
   "source": [
    "! python3 async_intro_4.py"
   ]
  },
  {
   "cell_type": "markdown",
   "id": "bde844ea",
   "metadata": {},
   "source": [
    "Круто, но почему не довели до конца счетчик?"
   ]
  },
  {
   "cell_type": "code",
   "execution_count": 196,
   "id": "f5c131e6",
   "metadata": {
    "ExecuteTime": {
     "end_time": "2021-12-01T00:54:21.674714Z",
     "start_time": "2021-12-01T00:54:21.671144Z"
    }
   },
   "outputs": [],
   "source": [
    "async def get_data():\n",
    "    print('getting data from somewhere')\n",
    "    await asyncio.sleep(1.5)\n",
    "    print('got data')\n",
    "    return {'data': 'yay!'}\n",
    "    \n",
    "    \n",
    "async def sleeper_numbers(length: int, duration: float):\n",
    "    for i in range(length):\n",
    "        print(i)\n",
    "        await asyncio.sleep(duration)\n",
    "\n",
    "async def main():\n",
    "    print('Running main')\n",
    "    task_sleep = asyncio.create_task(sleeper_numbers(15, 0.25))\n",
    "    print('Slept')\n",
    "    task_data = asyncio.create_task(get_data())\n",
    "    data = await task_data\n",
    "    await task_sleep\n",
    "    print('Got data', data)\n",
    "    print('Finished main')"
   ]
  },
  {
   "cell_type": "code",
   "execution_count": 197,
   "id": "b084d6be",
   "metadata": {
    "ExecuteTime": {
     "end_time": "2021-12-01T00:54:26.472926Z",
     "start_time": "2021-12-01T00:54:22.711194Z"
    }
   },
   "outputs": [
    {
     "name": "stdout",
     "output_type": "stream",
     "text": [
      "Running main\n",
      "Slept\n",
      "0\n",
      "getting data from somewhere\n",
      "1\n",
      "2\n",
      "3\n",
      "4\n",
      "5\n",
      "got data\n",
      "6\n",
      "7\n",
      "8\n",
      "9\n",
      "10\n",
      "11\n",
      "12\n",
      "13\n",
      "14\n",
      "Got data {'data': 'yay!'}\n",
      "Finished main\n"
     ]
    }
   ],
   "source": [
    "await main()"
   ]
  },
  {
   "cell_type": "markdown",
   "id": "4c82e235",
   "metadata": {},
   "source": [
    "## AsyncIO пример работы с сетью"
   ]
  },
  {
   "cell_type": "code",
   "execution_count": 199,
   "id": "ec836055",
   "metadata": {
    "ExecuteTime": {
     "end_time": "2021-12-01T00:58:09.395751Z",
     "start_time": "2021-12-01T00:58:09.393467Z"
    }
   },
   "outputs": [],
   "source": [
    "# ! pip install requests, aiohttp"
   ]
  },
  {
   "cell_type": "markdown",
   "id": "5093504a",
   "metadata": {
    "ExecuteTime": {
     "end_time": "2021-12-01T01:13:11.231090Z",
     "start_time": "2021-12-01T01:13:11.228197Z"
    }
   },
   "source": [
    "Выгрузим с гитхаба в отдельную папку примеры репозиториев, в которых встречаются заданные кейворды"
   ]
  },
  {
   "cell_type": "code",
   "execution_count": null,
   "id": "7df931a8",
   "metadata": {},
   "outputs": [],
   "source": [
    "import time\n",
    "from typing import Callable\n",
    "import requests\n",
    "\n",
    "import os\n",
    "\n",
    "BASE_DIR = 'github_downloads'\n",
    "URL = 'https://api.github.com/search/repositories'\n",
    "KEYWORDS = ['search', 'torch', 'tensorflow',\n",
    "            'requests', 'alice', 'data', 'deep', 'ML']\n",
    "\n",
    "def get_repos_data(query: str) -> dict:\n",
    "    response = requests.get(\n",
    "        URL,\n",
    "        params={'q': f'{query}+language:python'},\n",
    "    )\n",
    "    if response.ok:\n",
    "        return response.json()\n",
    "    else:\n",
    "        return {}\n",
    "\n",
    "\n",
    "def get_owners_ids(resp: dict) -> list:\n",
    "    owners = []\n",
    "    for item in resp.get('items', []):\n",
    "        owners.append(item['owner']['id'])\n",
    "    return owners\n",
    "\n",
    "\n",
    "def save_stats(ids: list, query_name: str):\n",
    "    os.makedirs(BASE_DIR, exist_ok=True)\n",
    "    with open(os.path.join(BASE_DIR, query_name), 'w') as f:\n",
    "        f.write(str(ids))\n",
    "\n",
    "\n",
    "def get_many_stats(queries: list) -> int:\n",
    "    for query in queries:\n",
    "        data = get_repos_data(query)\n",
    "        repo_owners = get_owners_ids(data)\n",
    "        save_stats(repo_owners, query)\n",
    "    return len(queries)\n",
    "\n",
    "def main(downloader: Callable[[list], dict]):\n",
    "    t_start = time.perf_counter()\n",
    "    count = downloader(KEYWORDS)\n",
    "    elapsed = time.perf_counter() - t_start\n",
    "    print(f'\\n{count} searches done in {elapsed:.2f}s')\n",
    "\n",
    "if __name__ == '__main__':\n",
    "    main(get_many_stats)"
   ]
  },
  {
   "cell_type": "markdown",
   "id": "f58f9ae2",
   "metadata": {},
   "source": [
    "Как сделать код эффективнее?"
   ]
  },
  {
   "cell_type": "markdown",
   "id": "50c59d76",
   "metadata": {},
   "source": [
    "## AsyncIO progress-bar"
   ]
  },
  {
   "cell_type": "markdown",
   "id": "a6662e14",
   "metadata": {},
   "source": [
    "Разберем забавный пример на показ загрузки по время выполнения программы"
   ]
  },
  {
   "cell_type": "code",
   "execution_count": 14,
   "id": "fc102487",
   "metadata": {
    "ExecuteTime": {
     "end_time": "2021-12-01T10:31:49.476634Z",
     "start_time": "2021-12-01T10:31:49.470006Z"
    }
   },
   "outputs": [
    {
     "name": "stdout",
     "output_type": "stream",
     "text": [
      "Overwriting task_loading_async_solved.py\n"
     ]
    }
   ],
   "source": [
    "%%writefile task_loading_async_solved.py\n",
    "\n",
    "import asyncio\n",
    "import itertools\n",
    "import time\n",
    "\n",
    "FPS = 5\n",
    "\n",
    "async def print_load(msg: str) -> None:\n",
    "    for smile in itertools.cycle(['(⊙﹏⊙)', '(Ф﹏Ф)']):  # infinite loop\n",
    "        status = f'\\r{smile} {msg}'\n",
    "        print(status, flush=True, end='')\n",
    "\n",
    "        try:\n",
    "            await asyncio.sleep(1 / FPS)\n",
    "        except asyncio.CancelledError:\n",
    "            print('Task is cancelled')\n",
    "            break\n",
    "\n",
    "    blanks = ' ' * 50\n",
    "    print(f'\\r{blanks}\\r', end='')\n",
    "\n",
    "async def do_smth_slow() -> int:\n",
    "    await asyncio.sleep(30)\n",
    "    # time.sleep(30)\n",
    "    return 1337\n",
    "\n",
    "async def supervisor() -> int:\n",
    "    loading_icon_displayer = asyncio.create_task(print_load('loading...'))\n",
    "    slow_result_task = asyncio.create_task(do_smth_slow())\n",
    "    slow_result = await slow_result_task\n",
    "    loading_icon_displayer.cancel()\n",
    "    return slow_result\n",
    "\n",
    "def main() -> None:\n",
    "    res = asyncio.run(supervisor())\n",
    "    print(f'Result is {res}')\n",
    "\n",
    "if __name__ == '__main__':\n",
    "    main()"
   ]
  },
  {
   "cell_type": "code",
   "execution_count": 16,
   "id": "15f769fa",
   "metadata": {
    "ExecuteTime": {
     "end_time": "2021-12-01T10:33:58.588818Z",
     "start_time": "2021-12-01T10:33:28.405670Z"
    }
   },
   "outputs": [
    {
     "name": "stdout",
     "output_type": "stream",
     "text": [
      "(Ф﹏Ф) loading...Task is cancelled\n",
      "Result is 1337                                    \n"
     ]
    }
   ],
   "source": [
    "! python3 task_loading_async_solved.py"
   ]
  },
  {
   "cell_type": "markdown",
   "id": "41971ea1",
   "metadata": {},
   "source": [
    "## Примеры на использование тредов и процессов"
   ]
  },
  {
   "cell_type": "markdown",
   "id": "2c59fa61",
   "metadata": {},
   "source": [
    "Модуль [concurrent.futures](https://docs.python.org/3/library/concurrent.futures.html)\n",
    "\n",
    "Модуль [threading](https://docs.python.org/3/library/threading.html?highlight=threading#module-threading)\n",
    "\n",
    "Модуль [multiprocessing](https://docs.python.org/3/library/multiprocessing.html?highlight=multiprocessing#module-multiprocessing)"
   ]
  },
  {
   "cell_type": "markdown",
   "id": "5937b184",
   "metadata": {},
   "source": [
    "`Часто для выполнение функций на больших массисивах встречал использование multiprocessing.Pool.map и библиотеки joblib`"
   ]
  },
  {
   "cell_type": "code",
   "execution_count": 209,
   "id": "c4300533",
   "metadata": {
    "ExecuteTime": {
     "end_time": "2021-12-01T01:31:13.367828Z",
     "start_time": "2021-12-01T01:31:13.289135Z"
    }
   },
   "outputs": [
    {
     "name": "stdout",
     "output_type": "stream",
     "text": [
      "hello bob\n"
     ]
    }
   ],
   "source": [
    "from multiprocessing import Process\n",
    "\n",
    "def f(name):\n",
    "    print('hello', name)\n",
    "\n",
    "if __name__ == '__main__':\n",
    "    p = Process(target=f, args=('bob',))\n",
    "    p.start()\n",
    "    p.join()"
   ]
  },
  {
   "cell_type": "code",
   "execution_count": 210,
   "id": "c96497e2",
   "metadata": {
    "ExecuteTime": {
     "end_time": "2021-12-01T01:31:23.779353Z",
     "start_time": "2021-12-01T01:31:23.776293Z"
    }
   },
   "outputs": [
    {
     "name": "stdout",
     "output_type": "stream",
     "text": [
      "Help on function start in module multiprocessing.process:\n",
      "\n",
      "start(self)\n",
      "    Start child process\n",
      "\n"
     ]
    }
   ],
   "source": [
    "help(Process.start)"
   ]
  },
  {
   "cell_type": "code",
   "execution_count": 213,
   "id": "550ef7d5",
   "metadata": {
    "ExecuteTime": {
     "end_time": "2021-12-01T01:31:39.243452Z",
     "start_time": "2021-12-01T01:31:39.239470Z"
    }
   },
   "outputs": [
    {
     "name": "stdout",
     "output_type": "stream",
     "text": [
      "Help on function join in module multiprocessing.process:\n",
      "\n",
      "join(self, timeout=None)\n",
      "    Wait until child process terminates\n",
      "\n"
     ]
    }
   ],
   "source": [
    "help(Process.join)"
   ]
  },
  {
   "cell_type": "code",
   "execution_count": 208,
   "id": "19a83633",
   "metadata": {
    "ExecuteTime": {
     "end_time": "2021-12-01T01:30:41.989746Z",
     "start_time": "2021-12-01T01:30:41.984573Z"
    }
   },
   "outputs": [
    {
     "name": "stdout",
     "output_type": "stream",
     "text": [
      "hello bob\n"
     ]
    }
   ],
   "source": [
    "from threading import Thread\n",
    "\n",
    "def f(name):\n",
    "    print('hello', name)\n",
    "\n",
    "if __name__ == '__main__':\n",
    "    p = Thread(target=f, args=('bob',))\n",
    "    p.start()\n",
    "    p.join()"
   ]
  },
  {
   "cell_type": "markdown",
   "id": "de1c08a0",
   "metadata": {},
   "source": [
    "Чтобы закрыть тред, нужно явно передать ему команду. Можно создать объект Event, и делать это через него"
   ]
  },
  {
   "cell_type": "markdown",
   "id": "a49441ce",
   "metadata": {},
   "source": [
    "    The threading.Event class is Python’s simplest signalling mechanism to coordinate threads. An Event instance has an internal boolean flag which starts as False. Calling Event.set() sets the flag to True. While the flag is false, if a thread calls Event.wait(), it is blocked until another thread calls Event.set(), at which time Event.wait() returns True. If a timeout in seconds is given to Event.wait(s), this call returns False when the timeout elapses"
   ]
  },
  {
   "cell_type": "markdown",
   "id": "f001f064",
   "metadata": {},
   "source": [
    "### Разберем примеры **loading** с использованием тредов и процессов"
   ]
  },
  {
   "cell_type": "markdown",
   "id": "caf40df8",
   "metadata": {},
   "source": [
    "- Заметим, что в threading.Thread по своей логике похож на asyncio.Task\n",
    "- Чтобы остановить тред, нужно явно передать ему сигнал. Например, done через Event. В asyncio есть Task.Cancell"
   ]
  },
  {
   "cell_type": "markdown",
   "id": "e09ccce8",
   "metadata": {},
   "source": [
    "Как могут сказаться отличия работы с памятью в программах на треды и процессы, если добавить туда относительно тяжелый список? Попробуйте сделать предположение без запуска кода\n",
    "\n",
    "#### **Bonus**. \n",
    "\n",
    "Модифицируйте код примеров на использование тредов и процессов, чтобы продемонстрировать отличие в работе с памятью. Проверьте в помощью htop, какой будет суммарный расход памяти памяти "
   ]
  },
  {
   "cell_type": "markdown",
   "id": "5a444372",
   "metadata": {},
   "source": [
    "#### Другая медленная функция\n",
    "\n",
    "Что будет, если в серии программ **loading_.** заменить медленную функцию на такую?"
   ]
  },
  {
   "cell_type": "code",
   "execution_count": 153,
   "id": "d3442047",
   "metadata": {
    "ExecuteTime": {
     "end_time": "2021-11-24T08:12:47.088810Z",
     "start_time": "2021-11-24T08:12:47.084715Z"
    }
   },
   "outputs": [],
   "source": [
    "def is_prime(n: int) -> bool:\n",
    "    if n < 2:\n",
    "        return False\n",
    "    if n == 2:\n",
    "        return True\n",
    "    if n % 2 == 0:\n",
    "        return False\n",
    "    root = math.isqrt(n)\n",
    "    for i in range(3, root + 1, 2):\n",
    "        if n % i == 0:\n",
    "            return False\n",
    "    return True"
   ]
  },
  {
   "cell_type": "markdown",
   "id": "0b540bd4",
   "metadata": {},
   "source": [
    "Как это повлияет на работу в версии с разными процессами, тредами или async? Почему? Попробуйте догадаться без запуска кода"
   ]
  }
 ],
 "metadata": {
  "kernelspec": {
   "display_name": "Python 3 (ipykernel)",
   "language": "python",
   "name": "python3"
  },
  "language_info": {
   "codemirror_mode": {
    "name": "ipython",
    "version": 3
   },
   "file_extension": ".py",
   "mimetype": "text/x-python",
   "name": "python",
   "nbconvert_exporter": "python",
   "pygments_lexer": "ipython3",
   "version": "3.9.7"
  },
  "toc": {
   "base_numbering": 1,
   "nav_menu": {},
   "number_sections": true,
   "sideBar": true,
   "skip_h1_title": false,
   "title_cell": "Table of Contents",
   "title_sidebar": "Contents",
   "toc_cell": false,
   "toc_position": {
    "height": "calc(100% - 180px)",
    "left": "10px",
    "top": "150px",
    "width": "383.991px"
   },
   "toc_section_display": true,
   "toc_window_display": true
  }
 },
 "nbformat": 4,
 "nbformat_minor": 5
}
